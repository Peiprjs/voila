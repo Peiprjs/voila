{
  "nbformat": 4,
  "nbformat_minor": 0,
  "metadata": {
    "colab": {
      "provenance": [],
      "toc_visible": true,
      "collapsed_sections": [
        "kIC51T5WCpiT"
      ],
      "authorship_tag": "ABX9TyMhnI1jY9Uq477b6Nx2YS6S",
      "include_colab_link": true
    },
    "kernelspec": {
      "name": "python3",
      "display_name": "Python 3"
    },
    "language_info": {
      "name": "python"
    },
    "widgets": {
      "application/vnd.jupyter.widget-state+json": {
        "b5a22911f7ce476ca031f2da3427be4a": {
          "model_module": "@jupyter-widgets/controls",
          "model_name": "HBoxModel",
          "model_module_version": "1.5.0",
          "state": {
            "_dom_classes": [],
            "_model_module": "@jupyter-widgets/controls",
            "_model_module_version": "1.5.0",
            "_model_name": "HBoxModel",
            "_view_count": null,
            "_view_module": "@jupyter-widgets/controls",
            "_view_module_version": "1.5.0",
            "_view_name": "HBoxView",
            "box_style": "",
            "children": [
              "IPY_MODEL_5ece8df4902448d4a0b0d8f53ab093c4",
              "IPY_MODEL_220ed422571e49e6a096f96086f80291",
              "IPY_MODEL_cf4f26b2b49b4d70b959d7cf3502a45d"
            ],
            "layout": "IPY_MODEL_8e67cd9c8d9842b796577a77516815b3"
          }
        },
        "5ece8df4902448d4a0b0d8f53ab093c4": {
          "model_module": "@jupyter-widgets/output",
          "model_name": "OutputModel",
          "model_module_version": "1.0.0",
          "state": {
            "_dom_classes": [],
            "_model_module": "@jupyter-widgets/output",
            "_model_module_version": "1.0.0",
            "_model_name": "OutputModel",
            "_view_count": null,
            "_view_module": "@jupyter-widgets/output",
            "_view_module_version": "1.0.0",
            "_view_name": "OutputView",
            "layout": "IPY_MODEL_6f6cdb235ae44f949a53c2efd81cdc1f",
            "msg_id": "",
            "outputs": [
              {
                "output_type": "display_data",
                "data": {
                  "text/html": "\n<div id=\"altair-viz-6dc488a101c54ca9aa4bcd14a6e9f3df\"></div>\n<script type=\"text/javascript\">\n  var VEGA_DEBUG = (typeof VEGA_DEBUG == \"undefined\") ? {} : VEGA_DEBUG;\n  (function(spec, embedOpt){\n    let outputDiv = document.currentScript.previousElementSibling;\n    if (outputDiv.id !== \"altair-viz-6dc488a101c54ca9aa4bcd14a6e9f3df\") {\n      outputDiv = document.getElementById(\"altair-viz-6dc488a101c54ca9aa4bcd14a6e9f3df\");\n    }\n    const paths = {\n      \"vega\": \"https://cdn.jsdelivr.net/npm//vega@5?noext\",\n      \"vega-lib\": \"https://cdn.jsdelivr.net/npm//vega-lib?noext\",\n      \"vega-lite\": \"https://cdn.jsdelivr.net/npm//vega-lite@4.17.0?noext\",\n      \"vega-embed\": \"https://cdn.jsdelivr.net/npm//vega-embed@6?noext\",\n    };\n\n    function maybeLoadScript(lib, version) {\n      var key = `${lib.replace(\"-\", \"\")}_version`;\n      return (VEGA_DEBUG[key] == version) ?\n        Promise.resolve(paths[lib]) :\n        new Promise(function(resolve, reject) {\n          var s = document.createElement('script');\n          document.getElementsByTagName(\"head\")[0].appendChild(s);\n          s.async = true;\n          s.onload = () => {\n            VEGA_DEBUG[key] = version;\n            return resolve(paths[lib]);\n          };\n          s.onerror = () => reject(`Error loading script: ${paths[lib]}`);\n          s.src = paths[lib];\n        });\n    }\n\n    function showError(err) {\n      outputDiv.innerHTML = `<div class=\"error\" style=\"color:red;\">${err}</div>`;\n      throw err;\n    }\n\n    function displayChart(vegaEmbed) {\n      vegaEmbed(outputDiv, spec, embedOpt)\n        .catch(err => showError(`Javascript Error: ${err.message}<br>This usually means there's a typo in your chart specification. See the javascript console for the full traceback.`));\n    }\n\n    if(typeof define === \"function\" && define.amd) {\n      requirejs.config({paths});\n      require([\"vega-embed\"], displayChart, err => showError(`Error loading script: ${err.message}`));\n    } else {\n      maybeLoadScript(\"vega\", \"5\")\n        .then(() => maybeLoadScript(\"vega-lite\", \"4.17.0\"))\n        .then(() => maybeLoadScript(\"vega-embed\", \"6\"))\n        .catch(showError)\n        .then(() => displayChart(vegaEmbed));\n    }\n  })({\"config\": {\"view\": {\"continuousWidth\": 400, \"continuousHeight\": 300}}, \"layer\": [{\"mark\": {\"type\": \"circle\", \"opacity\": 0.5}, \"encoding\": {\"x\": {\"field\": \"Year\", \"scale\": {\"zero\": false}, \"type\": \"temporal\"}, \"y\": {\"field\": \"Percentage Expenditure Outlierless\", \"type\": \"quantitative\"}}}, {\"mark\": \"line\", \"encoding\": {\"x\": {\"field\": \"Year\", \"scale\": {\"zero\": false}, \"type\": \"temporal\"}, \"y\": {\"field\": \"Percentage Expenditure Outlierless\", \"type\": \"quantitative\"}}, \"transform\": [{\"loess\": \"Percentage Expenditure Outlierless\", \"on\": \"Year\"}]}], \"data\": {\"name\": \"data-6cdad27d8207f63389d7672c0b068fc2\"}, \"$schema\": \"https://vega.github.io/schema/vega-lite/v4.17.0.json\", \"datasets\": {\"data-6cdad27d8207f63389d7672c0b068fc2\": [{\"Year\": \"2015\", \"Percentage Expenditure\": \"0.0\", \"HIV/AIDS\": 3.6, \"Hepatitis B\": 75.0, \"Percentage Expenditure Outlierless\": null, \"Hepatitis B Outlierless\": 75.0}, {\"Year\": \"2014\", \"Percentage Expenditure\": \"922.0507313\", \"HIV/AIDS\": 3.7, \"Hepatitis B\": 8.0, \"Percentage Expenditure Outlierless\": \"922.0507313\", \"Hepatitis B Outlierless\": null}, {\"Year\": \"2013\", \"Percentage Expenditure\": \"978.5905287\", \"HIV/AIDS\": 4.5, \"Hepatitis B\": 7.0, \"Percentage Expenditure Outlierless\": \"978.5905287\", \"Hepatitis B Outlierless\": null}, {\"Year\": \"2012\", \"Percentage Expenditure\": \"1089.954838\", \"HIV/AIDS\": 7.6, \"Hepatitis B\": 68.0, \"Percentage Expenditure Outlierless\": \"1089.954838\", \"Hepatitis B Outlierless\": 68.0}, {\"Year\": \"2011\", \"Percentage Expenditure\": \"123.753335\", \"HIV/AIDS\": 8.5, \"Hepatitis B\": 76.0, \"Percentage Expenditure Outlierless\": null, \"Hepatitis B Outlierless\": 76.0}, {\"Year\": \"2010\", \"Percentage Expenditure\": \"1038.885632\", \"HIV/AIDS\": 11.0, \"Hepatitis B\": 71.0, \"Percentage Expenditure Outlierless\": \"1038.885632\", \"Hepatitis B Outlierless\": 71.0}, {\"Year\": \"2009\", \"Percentage Expenditure\": \"782.5987144\", \"HIV/AIDS\": 19.0, \"Hepatitis B\": 74.0, \"Percentage Expenditure Outlierless\": \"782.5987144\", \"Hepatitis B Outlierless\": 74.0}, {\"Year\": \"2008\", \"Percentage Expenditure\": \"780.0336423\", \"HIV/AIDS\": 23.5, \"Hepatitis B\": 76.0, \"Percentage Expenditure Outlierless\": \"780.0336423\", \"Hepatitis B Outlierless\": 76.0}, {\"Year\": \"2007\", \"Percentage Expenditure\": \"805.490079\", \"HIV/AIDS\": 26.4, \"Hepatitis B\": 83.0, \"Percentage Expenditure Outlierless\": \"805.490079\", \"Hepatitis B Outlierless\": 83.0}, {\"Year\": \"2006\", \"Percentage Expenditure\": \"732.1255305\", \"HIV/AIDS\": 28.1, \"Hepatitis B\": 83.0, \"Percentage Expenditure Outlierless\": \"732.1255305\", \"Hepatitis B Outlierless\": 83.0}, {\"Year\": \"2005\", \"Percentage Expenditure\": \"709.3170967\", \"HIV/AIDS\": 29.5, \"Hepatitis B\": 79.0, \"Percentage Expenditure Outlierless\": \"709.3170967\", \"Hepatitis B Outlierless\": 79.0}, {\"Year\": \"2004\", \"Percentage Expenditure\": \"622.043809\", \"HIV/AIDS\": 29.7, \"Hepatitis B\": 76.0, \"Percentage Expenditure Outlierless\": \"622.043809\", \"Hepatitis B Outlierless\": 76.0}, {\"Year\": \"2003\", \"Percentage Expenditure\": \"519.1563781\", \"HIV/AIDS\": 28.9, \"Hepatitis B\": 71.0, \"Percentage Expenditure Outlierless\": \"519.1563781\", \"Hepatitis B Outlierless\": 71.0}, {\"Year\": \"2002\", \"Percentage Expenditure\": \"346.5316007\", \"HIV/AIDS\": 26.6, \"Hepatitis B\": 72.0, \"Percentage Expenditure Outlierless\": \"346.5316007\", \"Hepatitis B Outlierless\": 72.0}, {\"Year\": \"2001\", \"Percentage Expenditure\": \"365.2585722\", \"HIV/AIDS\": 24.0, \"Hepatitis B\": 72.0, \"Percentage Expenditure Outlierless\": \"365.2585722\", \"Hepatitis B Outlierless\": 72.0}, {\"Year\": \"2000\", \"Percentage Expenditure\": \"45.96380839\", \"HIV/AIDS\": 21.3, \"Hepatitis B\": 73.0, \"Percentage Expenditure Outlierless\": \"45.96380839\", \"Hepatitis B Outlierless\": 73.0}]}}, {\"mode\": \"vega-lite\"});\n</script>",
                  "text/plain": "alt.LayerChart(...)"
                },
                "metadata": {}
              }
            ]
          }
        },
        "220ed422571e49e6a096f96086f80291": {
          "model_module": "@jupyter-widgets/output",
          "model_name": "OutputModel",
          "model_module_version": "1.0.0",
          "state": {
            "_dom_classes": [],
            "_model_module": "@jupyter-widgets/output",
            "_model_module_version": "1.0.0",
            "_model_name": "OutputModel",
            "_view_count": null,
            "_view_module": "@jupyter-widgets/output",
            "_view_module_version": "1.0.0",
            "_view_name": "OutputView",
            "layout": "IPY_MODEL_54cf014591904fb2afd2bd9d5695d158",
            "msg_id": "",
            "outputs": [
              {
                "output_type": "display_data",
                "data": {
                  "text/html": "\n<div id=\"altair-viz-e1310f892b3e418f9389d8c2ae1467cf\"></div>\n<script type=\"text/javascript\">\n  var VEGA_DEBUG = (typeof VEGA_DEBUG == \"undefined\") ? {} : VEGA_DEBUG;\n  (function(spec, embedOpt){\n    let outputDiv = document.currentScript.previousElementSibling;\n    if (outputDiv.id !== \"altair-viz-e1310f892b3e418f9389d8c2ae1467cf\") {\n      outputDiv = document.getElementById(\"altair-viz-e1310f892b3e418f9389d8c2ae1467cf\");\n    }\n    const paths = {\n      \"vega\": \"https://cdn.jsdelivr.net/npm//vega@5?noext\",\n      \"vega-lib\": \"https://cdn.jsdelivr.net/npm//vega-lib?noext\",\n      \"vega-lite\": \"https://cdn.jsdelivr.net/npm//vega-lite@4.17.0?noext\",\n      \"vega-embed\": \"https://cdn.jsdelivr.net/npm//vega-embed@6?noext\",\n    };\n\n    function maybeLoadScript(lib, version) {\n      var key = `${lib.replace(\"-\", \"\")}_version`;\n      return (VEGA_DEBUG[key] == version) ?\n        Promise.resolve(paths[lib]) :\n        new Promise(function(resolve, reject) {\n          var s = document.createElement('script');\n          document.getElementsByTagName(\"head\")[0].appendChild(s);\n          s.async = true;\n          s.onload = () => {\n            VEGA_DEBUG[key] = version;\n            return resolve(paths[lib]);\n          };\n          s.onerror = () => reject(`Error loading script: ${paths[lib]}`);\n          s.src = paths[lib];\n        });\n    }\n\n    function showError(err) {\n      outputDiv.innerHTML = `<div class=\"error\" style=\"color:red;\">${err}</div>`;\n      throw err;\n    }\n\n    function displayChart(vegaEmbed) {\n      vegaEmbed(outputDiv, spec, embedOpt)\n        .catch(err => showError(`Javascript Error: ${err.message}<br>This usually means there's a typo in your chart specification. See the javascript console for the full traceback.`));\n    }\n\n    if(typeof define === \"function\" && define.amd) {\n      requirejs.config({paths});\n      require([\"vega-embed\"], displayChart, err => showError(`Error loading script: ${err.message}`));\n    } else {\n      maybeLoadScript(\"vega\", \"5\")\n        .then(() => maybeLoadScript(\"vega-lite\", \"4.17.0\"))\n        .then(() => maybeLoadScript(\"vega-embed\", \"6\"))\n        .catch(showError)\n        .then(() => displayChart(vegaEmbed));\n    }\n  })({\"config\": {\"view\": {\"continuousWidth\": 400, \"continuousHeight\": 300}}, \"layer\": [{\"mark\": {\"type\": \"circle\", \"opacity\": 0.5}, \"encoding\": {\"x\": {\"field\": \"Percentage Expenditure Outlierless\", \"scale\": {\"zero\": false}, \"type\": \"quantitative\"}, \"y\": {\"field\": \"HIV/AIDS\", \"type\": \"quantitative\"}}}, {\"mark\": \"line\", \"encoding\": {\"x\": {\"field\": \"Percentage Expenditure Outlierless\", \"scale\": {\"zero\": false}, \"type\": \"quantitative\"}, \"y\": {\"field\": \"HIV/AIDS\", \"type\": \"quantitative\"}}, \"transform\": [{\"loess\": \"HIV/AIDS\", \"on\": \"Percentage Expenditure Outlierless\"}]}], \"data\": {\"name\": \"data-8c0851ab282bf2a49090d65e8b821a49\"}, \"$schema\": \"https://vega.github.io/schema/vega-lite/v4.17.0.json\", \"datasets\": {\"data-8c0851ab282bf2a49090d65e8b821a49\": [{\"Year\": \"2015\", \"Percentage Expenditure\": \"0.0\", \"HIV/AIDS\": 3.6, \"Hepatitis B\": 75.0, \"Percentage Expenditure Outlierless\": \"nan\", \"Hepatitis B Outlierless\": 75.0}, {\"Year\": \"2014\", \"Percentage Expenditure\": \"922.0507313\", \"HIV/AIDS\": 3.7, \"Hepatitis B\": 8.0, \"Percentage Expenditure Outlierless\": \"922.0507313\", \"Hepatitis B Outlierless\": null}, {\"Year\": \"2013\", \"Percentage Expenditure\": \"978.5905287\", \"HIV/AIDS\": 4.5, \"Hepatitis B\": 7.0, \"Percentage Expenditure Outlierless\": \"978.5905287\", \"Hepatitis B Outlierless\": null}, {\"Year\": \"2012\", \"Percentage Expenditure\": \"1089.954838\", \"HIV/AIDS\": 7.6, \"Hepatitis B\": 68.0, \"Percentage Expenditure Outlierless\": \"1089.954838\", \"Hepatitis B Outlierless\": 68.0}, {\"Year\": \"2011\", \"Percentage Expenditure\": \"123.753335\", \"HIV/AIDS\": 8.5, \"Hepatitis B\": 76.0, \"Percentage Expenditure Outlierless\": \"nan\", \"Hepatitis B Outlierless\": 76.0}, {\"Year\": \"2010\", \"Percentage Expenditure\": \"1038.885632\", \"HIV/AIDS\": 11.0, \"Hepatitis B\": 71.0, \"Percentage Expenditure Outlierless\": \"1038.885632\", \"Hepatitis B Outlierless\": 71.0}, {\"Year\": \"2009\", \"Percentage Expenditure\": \"782.5987144\", \"HIV/AIDS\": 19.0, \"Hepatitis B\": 74.0, \"Percentage Expenditure Outlierless\": \"782.5987144\", \"Hepatitis B Outlierless\": 74.0}, {\"Year\": \"2008\", \"Percentage Expenditure\": \"780.0336423\", \"HIV/AIDS\": 23.5, \"Hepatitis B\": 76.0, \"Percentage Expenditure Outlierless\": \"780.0336423\", \"Hepatitis B Outlierless\": 76.0}, {\"Year\": \"2007\", \"Percentage Expenditure\": \"805.490079\", \"HIV/AIDS\": 26.4, \"Hepatitis B\": 83.0, \"Percentage Expenditure Outlierless\": \"805.490079\", \"Hepatitis B Outlierless\": 83.0}, {\"Year\": \"2006\", \"Percentage Expenditure\": \"732.1255305\", \"HIV/AIDS\": 28.1, \"Hepatitis B\": 83.0, \"Percentage Expenditure Outlierless\": \"732.1255305\", \"Hepatitis B Outlierless\": 83.0}, {\"Year\": \"2005\", \"Percentage Expenditure\": \"709.3170967\", \"HIV/AIDS\": 29.5, \"Hepatitis B\": 79.0, \"Percentage Expenditure Outlierless\": \"709.3170967\", \"Hepatitis B Outlierless\": 79.0}, {\"Year\": \"2004\", \"Percentage Expenditure\": \"622.043809\", \"HIV/AIDS\": 29.7, \"Hepatitis B\": 76.0, \"Percentage Expenditure Outlierless\": \"622.043809\", \"Hepatitis B Outlierless\": 76.0}, {\"Year\": \"2003\", \"Percentage Expenditure\": \"519.1563781\", \"HIV/AIDS\": 28.9, \"Hepatitis B\": 71.0, \"Percentage Expenditure Outlierless\": \"519.1563781\", \"Hepatitis B Outlierless\": 71.0}, {\"Year\": \"2002\", \"Percentage Expenditure\": \"346.5316007\", \"HIV/AIDS\": 26.6, \"Hepatitis B\": 72.0, \"Percentage Expenditure Outlierless\": \"346.5316007\", \"Hepatitis B Outlierless\": 72.0}, {\"Year\": \"2001\", \"Percentage Expenditure\": \"365.2585722\", \"HIV/AIDS\": 24.0, \"Hepatitis B\": 72.0, \"Percentage Expenditure Outlierless\": \"365.2585722\", \"Hepatitis B Outlierless\": 72.0}, {\"Year\": \"2000\", \"Percentage Expenditure\": \"45.96380839\", \"HIV/AIDS\": 21.3, \"Hepatitis B\": 73.0, \"Percentage Expenditure Outlierless\": \"45.96380839\", \"Hepatitis B Outlierless\": 73.0}]}}, {\"mode\": \"vega-lite\"});\n</script>",
                  "text/plain": "alt.LayerChart(...)"
                },
                "metadata": {}
              }
            ]
          }
        },
        "cf4f26b2b49b4d70b959d7cf3502a45d": {
          "model_module": "@jupyter-widgets/output",
          "model_name": "OutputModel",
          "model_module_version": "1.0.0",
          "state": {
            "_dom_classes": [],
            "_model_module": "@jupyter-widgets/output",
            "_model_module_version": "1.0.0",
            "_model_name": "OutputModel",
            "_view_count": null,
            "_view_module": "@jupyter-widgets/output",
            "_view_module_version": "1.0.0",
            "_view_name": "OutputView",
            "layout": "IPY_MODEL_82d0effdeb2a49f4ac26970d86baeacd",
            "msg_id": "",
            "outputs": [
              {
                "output_type": "display_data",
                "data": {
                  "text/html": "\n<div id=\"altair-viz-4806b350956146e7930141162e995343\"></div>\n<script type=\"text/javascript\">\n  var VEGA_DEBUG = (typeof VEGA_DEBUG == \"undefined\") ? {} : VEGA_DEBUG;\n  (function(spec, embedOpt){\n    let outputDiv = document.currentScript.previousElementSibling;\n    if (outputDiv.id !== \"altair-viz-4806b350956146e7930141162e995343\") {\n      outputDiv = document.getElementById(\"altair-viz-4806b350956146e7930141162e995343\");\n    }\n    const paths = {\n      \"vega\": \"https://cdn.jsdelivr.net/npm//vega@5?noext\",\n      \"vega-lib\": \"https://cdn.jsdelivr.net/npm//vega-lib?noext\",\n      \"vega-lite\": \"https://cdn.jsdelivr.net/npm//vega-lite@4.17.0?noext\",\n      \"vega-embed\": \"https://cdn.jsdelivr.net/npm//vega-embed@6?noext\",\n    };\n\n    function maybeLoadScript(lib, version) {\n      var key = `${lib.replace(\"-\", \"\")}_version`;\n      return (VEGA_DEBUG[key] == version) ?\n        Promise.resolve(paths[lib]) :\n        new Promise(function(resolve, reject) {\n          var s = document.createElement('script');\n          document.getElementsByTagName(\"head\")[0].appendChild(s);\n          s.async = true;\n          s.onload = () => {\n            VEGA_DEBUG[key] = version;\n            return resolve(paths[lib]);\n          };\n          s.onerror = () => reject(`Error loading script: ${paths[lib]}`);\n          s.src = paths[lib];\n        });\n    }\n\n    function showError(err) {\n      outputDiv.innerHTML = `<div class=\"error\" style=\"color:red;\">${err}</div>`;\n      throw err;\n    }\n\n    function displayChart(vegaEmbed) {\n      vegaEmbed(outputDiv, spec, embedOpt)\n        .catch(err => showError(`Javascript Error: ${err.message}<br>This usually means there's a typo in your chart specification. See the javascript console for the full traceback.`));\n    }\n\n    if(typeof define === \"function\" && define.amd) {\n      requirejs.config({paths});\n      require([\"vega-embed\"], displayChart, err => showError(`Error loading script: ${err.message}`));\n    } else {\n      maybeLoadScript(\"vega\", \"5\")\n        .then(() => maybeLoadScript(\"vega-lite\", \"4.17.0\"))\n        .then(() => maybeLoadScript(\"vega-embed\", \"6\"))\n        .catch(showError)\n        .then(() => displayChart(vegaEmbed));\n    }\n  })({\"config\": {\"view\": {\"continuousWidth\": 400, \"continuousHeight\": 300}}, \"layer\": [{\"mark\": {\"type\": \"circle\", \"opacity\": 0.5}, \"encoding\": {\"x\": {\"field\": \"Percentage Expenditure Outlierless\", \"scale\": {\"zero\": false}, \"type\": \"quantitative\"}, \"y\": {\"field\": \"Hepatitis B Outlierless\", \"type\": \"quantitative\"}}}, {\"mark\": \"line\", \"encoding\": {\"x\": {\"field\": \"Percentage Expenditure Outlierless\", \"scale\": {\"zero\": false}, \"type\": \"quantitative\"}, \"y\": {\"field\": \"Hepatitis B Outlierless\", \"type\": \"quantitative\"}}, \"transform\": [{\"loess\": \"Hepatitis B Outlierless\", \"on\": \"Percentage Expenditure Outlierless\"}]}], \"data\": {\"name\": \"data-8c0851ab282bf2a49090d65e8b821a49\"}, \"$schema\": \"https://vega.github.io/schema/vega-lite/v4.17.0.json\", \"datasets\": {\"data-8c0851ab282bf2a49090d65e8b821a49\": [{\"Year\": \"2015\", \"Percentage Expenditure\": \"0.0\", \"HIV/AIDS\": 3.6, \"Hepatitis B\": 75.0, \"Percentage Expenditure Outlierless\": \"nan\", \"Hepatitis B Outlierless\": 75.0}, {\"Year\": \"2014\", \"Percentage Expenditure\": \"922.0507313\", \"HIV/AIDS\": 3.7, \"Hepatitis B\": 8.0, \"Percentage Expenditure Outlierless\": \"922.0507313\", \"Hepatitis B Outlierless\": null}, {\"Year\": \"2013\", \"Percentage Expenditure\": \"978.5905287\", \"HIV/AIDS\": 4.5, \"Hepatitis B\": 7.0, \"Percentage Expenditure Outlierless\": \"978.5905287\", \"Hepatitis B Outlierless\": null}, {\"Year\": \"2012\", \"Percentage Expenditure\": \"1089.954838\", \"HIV/AIDS\": 7.6, \"Hepatitis B\": 68.0, \"Percentage Expenditure Outlierless\": \"1089.954838\", \"Hepatitis B Outlierless\": 68.0}, {\"Year\": \"2011\", \"Percentage Expenditure\": \"123.753335\", \"HIV/AIDS\": 8.5, \"Hepatitis B\": 76.0, \"Percentage Expenditure Outlierless\": \"nan\", \"Hepatitis B Outlierless\": 76.0}, {\"Year\": \"2010\", \"Percentage Expenditure\": \"1038.885632\", \"HIV/AIDS\": 11.0, \"Hepatitis B\": 71.0, \"Percentage Expenditure Outlierless\": \"1038.885632\", \"Hepatitis B Outlierless\": 71.0}, {\"Year\": \"2009\", \"Percentage Expenditure\": \"782.5987144\", \"HIV/AIDS\": 19.0, \"Hepatitis B\": 74.0, \"Percentage Expenditure Outlierless\": \"782.5987144\", \"Hepatitis B Outlierless\": 74.0}, {\"Year\": \"2008\", \"Percentage Expenditure\": \"780.0336423\", \"HIV/AIDS\": 23.5, \"Hepatitis B\": 76.0, \"Percentage Expenditure Outlierless\": \"780.0336423\", \"Hepatitis B Outlierless\": 76.0}, {\"Year\": \"2007\", \"Percentage Expenditure\": \"805.490079\", \"HIV/AIDS\": 26.4, \"Hepatitis B\": 83.0, \"Percentage Expenditure Outlierless\": \"805.490079\", \"Hepatitis B Outlierless\": 83.0}, {\"Year\": \"2006\", \"Percentage Expenditure\": \"732.1255305\", \"HIV/AIDS\": 28.1, \"Hepatitis B\": 83.0, \"Percentage Expenditure Outlierless\": \"732.1255305\", \"Hepatitis B Outlierless\": 83.0}, {\"Year\": \"2005\", \"Percentage Expenditure\": \"709.3170967\", \"HIV/AIDS\": 29.5, \"Hepatitis B\": 79.0, \"Percentage Expenditure Outlierless\": \"709.3170967\", \"Hepatitis B Outlierless\": 79.0}, {\"Year\": \"2004\", \"Percentage Expenditure\": \"622.043809\", \"HIV/AIDS\": 29.7, \"Hepatitis B\": 76.0, \"Percentage Expenditure Outlierless\": \"622.043809\", \"Hepatitis B Outlierless\": 76.0}, {\"Year\": \"2003\", \"Percentage Expenditure\": \"519.1563781\", \"HIV/AIDS\": 28.9, \"Hepatitis B\": 71.0, \"Percentage Expenditure Outlierless\": \"519.1563781\", \"Hepatitis B Outlierless\": 71.0}, {\"Year\": \"2002\", \"Percentage Expenditure\": \"346.5316007\", \"HIV/AIDS\": 26.6, \"Hepatitis B\": 72.0, \"Percentage Expenditure Outlierless\": \"346.5316007\", \"Hepatitis B Outlierless\": 72.0}, {\"Year\": \"2001\", \"Percentage Expenditure\": \"365.2585722\", \"HIV/AIDS\": 24.0, \"Hepatitis B\": 72.0, \"Percentage Expenditure Outlierless\": \"365.2585722\", \"Hepatitis B Outlierless\": 72.0}, {\"Year\": \"2000\", \"Percentage Expenditure\": \"45.96380839\", \"HIV/AIDS\": 21.3, \"Hepatitis B\": 73.0, \"Percentage Expenditure Outlierless\": \"45.96380839\", \"Hepatitis B Outlierless\": 73.0}]}}, {\"mode\": \"vega-lite\"});\n</script>",
                  "text/plain": "alt.LayerChart(...)"
                },
                "metadata": {}
              }
            ]
          }
        },
        "8e67cd9c8d9842b796577a77516815b3": {
          "model_module": "@jupyter-widgets/base",
          "model_name": "LayoutModel",
          "model_module_version": "1.2.0",
          "state": {
            "_model_module": "@jupyter-widgets/base",
            "_model_module_version": "1.2.0",
            "_model_name": "LayoutModel",
            "_view_count": null,
            "_view_module": "@jupyter-widgets/base",
            "_view_module_version": "1.2.0",
            "_view_name": "LayoutView",
            "align_content": null,
            "align_items": null,
            "align_self": null,
            "border": null,
            "bottom": null,
            "display": null,
            "flex": null,
            "flex_flow": null,
            "grid_area": null,
            "grid_auto_columns": null,
            "grid_auto_flow": null,
            "grid_auto_rows": null,
            "grid_column": null,
            "grid_gap": null,
            "grid_row": null,
            "grid_template_areas": null,
            "grid_template_columns": null,
            "grid_template_rows": null,
            "height": null,
            "justify_content": null,
            "justify_items": null,
            "left": null,
            "margin": null,
            "max_height": null,
            "max_width": null,
            "min_height": null,
            "min_width": null,
            "object_fit": null,
            "object_position": null,
            "order": null,
            "overflow": null,
            "overflow_x": null,
            "overflow_y": null,
            "padding": null,
            "right": null,
            "top": null,
            "visibility": null,
            "width": null
          }
        },
        "6f6cdb235ae44f949a53c2efd81cdc1f": {
          "model_module": "@jupyter-widgets/base",
          "model_name": "LayoutModel",
          "model_module_version": "1.2.0",
          "state": {
            "_model_module": "@jupyter-widgets/base",
            "_model_module_version": "1.2.0",
            "_model_name": "LayoutModel",
            "_view_count": null,
            "_view_module": "@jupyter-widgets/base",
            "_view_module_version": "1.2.0",
            "_view_name": "LayoutView",
            "align_content": null,
            "align_items": null,
            "align_self": null,
            "border": null,
            "bottom": null,
            "display": null,
            "flex": null,
            "flex_flow": null,
            "grid_area": null,
            "grid_auto_columns": null,
            "grid_auto_flow": null,
            "grid_auto_rows": null,
            "grid_column": null,
            "grid_gap": null,
            "grid_row": null,
            "grid_template_areas": null,
            "grid_template_columns": null,
            "grid_template_rows": null,
            "height": null,
            "justify_content": null,
            "justify_items": null,
            "left": null,
            "margin": null,
            "max_height": null,
            "max_width": null,
            "min_height": null,
            "min_width": null,
            "object_fit": null,
            "object_position": null,
            "order": null,
            "overflow": null,
            "overflow_x": null,
            "overflow_y": null,
            "padding": null,
            "right": null,
            "top": null,
            "visibility": null,
            "width": null
          }
        },
        "54cf014591904fb2afd2bd9d5695d158": {
          "model_module": "@jupyter-widgets/base",
          "model_name": "LayoutModel",
          "model_module_version": "1.2.0",
          "state": {
            "_model_module": "@jupyter-widgets/base",
            "_model_module_version": "1.2.0",
            "_model_name": "LayoutModel",
            "_view_count": null,
            "_view_module": "@jupyter-widgets/base",
            "_view_module_version": "1.2.0",
            "_view_name": "LayoutView",
            "align_content": null,
            "align_items": null,
            "align_self": null,
            "border": null,
            "bottom": null,
            "display": null,
            "flex": null,
            "flex_flow": null,
            "grid_area": null,
            "grid_auto_columns": null,
            "grid_auto_flow": null,
            "grid_auto_rows": null,
            "grid_column": null,
            "grid_gap": null,
            "grid_row": null,
            "grid_template_areas": null,
            "grid_template_columns": null,
            "grid_template_rows": null,
            "height": null,
            "justify_content": null,
            "justify_items": null,
            "left": null,
            "margin": null,
            "max_height": null,
            "max_width": null,
            "min_height": null,
            "min_width": null,
            "object_fit": null,
            "object_position": null,
            "order": null,
            "overflow": null,
            "overflow_x": null,
            "overflow_y": null,
            "padding": null,
            "right": null,
            "top": null,
            "visibility": null,
            "width": null
          }
        },
        "82d0effdeb2a49f4ac26970d86baeacd": {
          "model_module": "@jupyter-widgets/base",
          "model_name": "LayoutModel",
          "model_module_version": "1.2.0",
          "state": {
            "_model_module": "@jupyter-widgets/base",
            "_model_module_version": "1.2.0",
            "_model_name": "LayoutModel",
            "_view_count": null,
            "_view_module": "@jupyter-widgets/base",
            "_view_module_version": "1.2.0",
            "_view_name": "LayoutView",
            "align_content": null,
            "align_items": null,
            "align_self": null,
            "border": null,
            "bottom": null,
            "display": null,
            "flex": null,
            "flex_flow": null,
            "grid_area": null,
            "grid_auto_columns": null,
            "grid_auto_flow": null,
            "grid_auto_rows": null,
            "grid_column": null,
            "grid_gap": null,
            "grid_row": null,
            "grid_template_areas": null,
            "grid_template_columns": null,
            "grid_template_rows": null,
            "height": null,
            "justify_content": null,
            "justify_items": null,
            "left": null,
            "margin": null,
            "max_height": null,
            "max_width": null,
            "min_height": null,
            "min_width": null,
            "object_fit": null,
            "object_position": null,
            "order": null,
            "overflow": null,
            "overflow_x": null,
            "overflow_y": null,
            "padding": null,
            "right": null,
            "top": null,
            "visibility": null,
            "width": null
          }
        },
        "cc9700759e4a4945afaee3ffd2e96f05": {
          "model_module": "@jupyter-widgets/controls",
          "model_name": "GridBoxModel",
          "model_module_version": "1.5.0",
          "state": {
            "_dom_classes": [],
            "_model_module": "@jupyter-widgets/controls",
            "_model_module_version": "1.5.0",
            "_model_name": "GridBoxModel",
            "_view_count": null,
            "_view_module": "@jupyter-widgets/controls",
            "_view_module_version": "1.5.0",
            "_view_name": "GridBoxView",
            "box_style": "",
            "children": [
              "IPY_MODEL_d22cea0f16454df9a2e32bf27d53e8c3",
              "IPY_MODEL_e4150cc4b151463abc336434f8ca3d9c",
              "IPY_MODEL_a18a2771732e4beca56338190c8e5fe9",
              "IPY_MODEL_aab828111f0f4ab79b99cfdb2b012cc7"
            ],
            "layout": "IPY_MODEL_4bb2459845ee44a882c47eb2d4f2ef35"
          }
        },
        "d22cea0f16454df9a2e32bf27d53e8c3": {
          "model_module": "@jupyter-widgets/output",
          "model_name": "OutputModel",
          "model_module_version": "1.0.0",
          "state": {
            "_dom_classes": [],
            "_model_module": "@jupyter-widgets/output",
            "_model_module_version": "1.0.0",
            "_model_name": "OutputModel",
            "_view_count": null,
            "_view_module": "@jupyter-widgets/output",
            "_view_module_version": "1.0.0",
            "_view_name": "OutputView",
            "layout": "IPY_MODEL_1cb11ffccdec4db780866105a5fb2cd4",
            "msg_id": "",
            "outputs": [
              {
                "output_type": "display_data",
                "data": {
                  "text/html": "\n<div id=\"altair-viz-9ae008b429d54d21a090c6722faa84d4\"></div>\n<script type=\"text/javascript\">\n  var VEGA_DEBUG = (typeof VEGA_DEBUG == \"undefined\") ? {} : VEGA_DEBUG;\n  (function(spec, embedOpt){\n    let outputDiv = document.currentScript.previousElementSibling;\n    if (outputDiv.id !== \"altair-viz-9ae008b429d54d21a090c6722faa84d4\") {\n      outputDiv = document.getElementById(\"altair-viz-9ae008b429d54d21a090c6722faa84d4\");\n    }\n    const paths = {\n      \"vega\": \"https://cdn.jsdelivr.net/npm//vega@5?noext\",\n      \"vega-lib\": \"https://cdn.jsdelivr.net/npm//vega-lib?noext\",\n      \"vega-lite\": \"https://cdn.jsdelivr.net/npm//vega-lite@4.17.0?noext\",\n      \"vega-embed\": \"https://cdn.jsdelivr.net/npm//vega-embed@6?noext\",\n    };\n\n    function maybeLoadScript(lib, version) {\n      var key = `${lib.replace(\"-\", \"\")}_version`;\n      return (VEGA_DEBUG[key] == version) ?\n        Promise.resolve(paths[lib]) :\n        new Promise(function(resolve, reject) {\n          var s = document.createElement('script');\n          document.getElementsByTagName(\"head\")[0].appendChild(s);\n          s.async = true;\n          s.onload = () => {\n            VEGA_DEBUG[key] = version;\n            return resolve(paths[lib]);\n          };\n          s.onerror = () => reject(`Error loading script: ${paths[lib]}`);\n          s.src = paths[lib];\n        });\n    }\n\n    function showError(err) {\n      outputDiv.innerHTML = `<div class=\"error\" style=\"color:red;\">${err}</div>`;\n      throw err;\n    }\n\n    function displayChart(vegaEmbed) {\n      vegaEmbed(outputDiv, spec, embedOpt)\n        .catch(err => showError(`Javascript Error: ${err.message}<br>This usually means there's a typo in your chart specification. See the javascript console for the full traceback.`));\n    }\n\n    if(typeof define === \"function\" && define.amd) {\n      requirejs.config({paths});\n      require([\"vega-embed\"], displayChart, err => showError(`Error loading script: ${err.message}`));\n    } else {\n      maybeLoadScript(\"vega\", \"5\")\n        .then(() => maybeLoadScript(\"vega-lite\", \"4.17.0\"))\n        .then(() => maybeLoadScript(\"vega-embed\", \"6\"))\n        .catch(showError)\n        .then(() => displayChart(vegaEmbed));\n    }\n  })({\"config\": {\"view\": {\"continuousWidth\": 400, \"continuousHeight\": 300}}, \"layer\": [{\"mark\": {\"type\": \"circle\", \"opacity\": 0.5}, \"encoding\": {\"x\": {\"field\": \"Year\", \"scale\": {\"zero\": false}, \"type\": \"temporal\"}, \"y\": {\"field\": \"HIV/AIDS\", \"type\": \"quantitative\"}}}, {\"mark\": \"line\", \"encoding\": {\"x\": {\"field\": \"Year\", \"scale\": {\"zero\": false}, \"type\": \"temporal\"}, \"y\": {\"field\": \"HIV/AIDS\", \"type\": \"quantitative\"}}, \"transform\": [{\"loess\": \"HIV/AIDS\", \"on\": \"Year\"}]}], \"data\": {\"name\": \"data-ac152665bc0a3ee9112034a5407903e2\"}, \"$schema\": \"https://vega.github.io/schema/vega-lite/v4.17.0.json\", \"datasets\": {\"data-ac152665bc0a3ee9112034a5407903e2\": [{\"Year\": \"2015\", \"Percentage Expenditure\": \"0.0\", \"HIV/AIDS\": 3.6, \"Hepatitis B\": 75.0, \"Percentage Expenditure Outlierless\": null, \"Hepatitis B Outlierless\": 75.0}, {\"Year\": \"2014\", \"Percentage Expenditure\": \"922.0507313\", \"HIV/AIDS\": 3.7, \"Hepatitis B\": 8.0, \"Percentage Expenditure Outlierless\": 922.0507313, \"Hepatitis B Outlierless\": null}, {\"Year\": \"2013\", \"Percentage Expenditure\": \"978.5905287\", \"HIV/AIDS\": 4.5, \"Hepatitis B\": 7.0, \"Percentage Expenditure Outlierless\": 978.5905287, \"Hepatitis B Outlierless\": null}, {\"Year\": \"2012\", \"Percentage Expenditure\": \"1089.954838\", \"HIV/AIDS\": 7.6, \"Hepatitis B\": 68.0, \"Percentage Expenditure Outlierless\": 1089.954838, \"Hepatitis B Outlierless\": 68.0}, {\"Year\": \"2011\", \"Percentage Expenditure\": \"123.753335\", \"HIV/AIDS\": 8.5, \"Hepatitis B\": 76.0, \"Percentage Expenditure Outlierless\": null, \"Hepatitis B Outlierless\": 76.0}, {\"Year\": \"2010\", \"Percentage Expenditure\": \"1038.885632\", \"HIV/AIDS\": 11.0, \"Hepatitis B\": 71.0, \"Percentage Expenditure Outlierless\": 1038.885632, \"Hepatitis B Outlierless\": 71.0}, {\"Year\": \"2009\", \"Percentage Expenditure\": \"782.5987144\", \"HIV/AIDS\": 19.0, \"Hepatitis B\": 74.0, \"Percentage Expenditure Outlierless\": 782.5987144, \"Hepatitis B Outlierless\": 74.0}, {\"Year\": \"2008\", \"Percentage Expenditure\": \"780.0336423\", \"HIV/AIDS\": 23.5, \"Hepatitis B\": 76.0, \"Percentage Expenditure Outlierless\": 780.0336423, \"Hepatitis B Outlierless\": 76.0}, {\"Year\": \"2007\", \"Percentage Expenditure\": \"805.490079\", \"HIV/AIDS\": 26.4, \"Hepatitis B\": 83.0, \"Percentage Expenditure Outlierless\": 805.490079, \"Hepatitis B Outlierless\": 83.0}, {\"Year\": \"2006\", \"Percentage Expenditure\": \"732.1255305\", \"HIV/AIDS\": 28.1, \"Hepatitis B\": 83.0, \"Percentage Expenditure Outlierless\": 732.1255305, \"Hepatitis B Outlierless\": 83.0}, {\"Year\": \"2005\", \"Percentage Expenditure\": \"709.3170967\", \"HIV/AIDS\": 29.5, \"Hepatitis B\": 79.0, \"Percentage Expenditure Outlierless\": 709.3170967, \"Hepatitis B Outlierless\": 79.0}, {\"Year\": \"2004\", \"Percentage Expenditure\": \"622.043809\", \"HIV/AIDS\": 29.7, \"Hepatitis B\": 76.0, \"Percentage Expenditure Outlierless\": 622.043809, \"Hepatitis B Outlierless\": 76.0}, {\"Year\": \"2003\", \"Percentage Expenditure\": \"519.1563781\", \"HIV/AIDS\": 28.9, \"Hepatitis B\": 71.0, \"Percentage Expenditure Outlierless\": 519.1563781, \"Hepatitis B Outlierless\": 71.0}, {\"Year\": \"2002\", \"Percentage Expenditure\": \"346.5316007\", \"HIV/AIDS\": 26.6, \"Hepatitis B\": 72.0, \"Percentage Expenditure Outlierless\": 346.5316007, \"Hepatitis B Outlierless\": 72.0}, {\"Year\": \"2001\", \"Percentage Expenditure\": \"365.2585722\", \"HIV/AIDS\": 24.0, \"Hepatitis B\": 72.0, \"Percentage Expenditure Outlierless\": 365.2585722, \"Hepatitis B Outlierless\": 72.0}, {\"Year\": \"2000\", \"Percentage Expenditure\": \"45.96380839\", \"HIV/AIDS\": 21.3, \"Hepatitis B\": 73.0, \"Percentage Expenditure Outlierless\": 45.96380839, \"Hepatitis B Outlierless\": 73.0}]}}, {\"mode\": \"vega-lite\"});\n</script>",
                  "text/plain": "alt.LayerChart(...)"
                },
                "metadata": {}
              }
            ]
          }
        },
        "e4150cc4b151463abc336434f8ca3d9c": {
          "model_module": "@jupyter-widgets/controls",
          "model_name": "HBoxModel",
          "model_module_version": "1.5.0",
          "state": {
            "_dom_classes": [],
            "_model_module": "@jupyter-widgets/controls",
            "_model_module_version": "1.5.0",
            "_model_name": "HBoxModel",
            "_view_count": null,
            "_view_module": "@jupyter-widgets/controls",
            "_view_module_version": "1.5.0",
            "_view_name": "HBoxView",
            "box_style": "",
            "children": [
              "IPY_MODEL_40e782092bd142039483d6912f34a5f5",
              "IPY_MODEL_015e2ac16b0f45ab95516723ad92e178"
            ],
            "layout": "IPY_MODEL_f36052ce343c4d95baffa4af5321436c"
          }
        },
        "a18a2771732e4beca56338190c8e5fe9": {
          "model_module": "@jupyter-widgets/output",
          "model_name": "OutputModel",
          "model_module_version": "1.0.0",
          "state": {
            "_dom_classes": [],
            "_model_module": "@jupyter-widgets/output",
            "_model_module_version": "1.0.0",
            "_model_name": "OutputModel",
            "_view_count": null,
            "_view_module": "@jupyter-widgets/output",
            "_view_module_version": "1.0.0",
            "_view_name": "OutputView",
            "layout": "IPY_MODEL_04d40b9eb7bf46d7863d359a5d2a0320",
            "msg_id": "",
            "outputs": [
              {
                "output_type": "display_data",
                "data": {
                  "text/html": "\n<div id=\"altair-viz-d5d382e3955b44cba584ed2a3a939998\"></div>\n<script type=\"text/javascript\">\n  var VEGA_DEBUG = (typeof VEGA_DEBUG == \"undefined\") ? {} : VEGA_DEBUG;\n  (function(spec, embedOpt){\n    let outputDiv = document.currentScript.previousElementSibling;\n    if (outputDiv.id !== \"altair-viz-d5d382e3955b44cba584ed2a3a939998\") {\n      outputDiv = document.getElementById(\"altair-viz-d5d382e3955b44cba584ed2a3a939998\");\n    }\n    const paths = {\n      \"vega\": \"https://cdn.jsdelivr.net/npm//vega@5?noext\",\n      \"vega-lib\": \"https://cdn.jsdelivr.net/npm//vega-lib?noext\",\n      \"vega-lite\": \"https://cdn.jsdelivr.net/npm//vega-lite@4.17.0?noext\",\n      \"vega-embed\": \"https://cdn.jsdelivr.net/npm//vega-embed@6?noext\",\n    };\n\n    function maybeLoadScript(lib, version) {\n      var key = `${lib.replace(\"-\", \"\")}_version`;\n      return (VEGA_DEBUG[key] == version) ?\n        Promise.resolve(paths[lib]) :\n        new Promise(function(resolve, reject) {\n          var s = document.createElement('script');\n          document.getElementsByTagName(\"head\")[0].appendChild(s);\n          s.async = true;\n          s.onload = () => {\n            VEGA_DEBUG[key] = version;\n            return resolve(paths[lib]);\n          };\n          s.onerror = () => reject(`Error loading script: ${paths[lib]}`);\n          s.src = paths[lib];\n        });\n    }\n\n    function showError(err) {\n      outputDiv.innerHTML = `<div class=\"error\" style=\"color:red;\">${err}</div>`;\n      throw err;\n    }\n\n    function displayChart(vegaEmbed) {\n      vegaEmbed(outputDiv, spec, embedOpt)\n        .catch(err => showError(`Javascript Error: ${err.message}<br>This usually means there's a typo in your chart specification. See the javascript console for the full traceback.`));\n    }\n\n    if(typeof define === \"function\" && define.amd) {\n      requirejs.config({paths});\n      require([\"vega-embed\"], displayChart, err => showError(`Error loading script: ${err.message}`));\n    } else {\n      maybeLoadScript(\"vega\", \"5\")\n        .then(() => maybeLoadScript(\"vega-lite\", \"4.17.0\"))\n        .then(() => maybeLoadScript(\"vega-embed\", \"6\"))\n        .catch(showError)\n        .then(() => displayChart(vegaEmbed));\n    }\n  })({\"config\": {\"view\": {\"continuousWidth\": 400, \"continuousHeight\": 300}}, \"layer\": [{\"mark\": {\"type\": \"circle\", \"opacity\": 0.5}, \"encoding\": {\"x\": {\"field\": \"Percentage Expenditure\", \"scale\": {\"zero\": false}, \"type\": \"quantitative\"}, \"y\": {\"field\": \"HIV/AIDS\", \"type\": \"quantitative\"}}}, {\"mark\": \"line\", \"encoding\": {\"x\": {\"field\": \"Percentage Expenditure\", \"scale\": {\"zero\": false}, \"type\": \"quantitative\"}, \"y\": {\"field\": \"HIV/AIDS\", \"type\": \"quantitative\"}}, \"transform\": [{\"loess\": \"HIV/AIDS\", \"on\": \"Percentage Expenditure\"}]}], \"data\": {\"name\": \"data-ac152665bc0a3ee9112034a5407903e2\"}, \"$schema\": \"https://vega.github.io/schema/vega-lite/v4.17.0.json\", \"datasets\": {\"data-ac152665bc0a3ee9112034a5407903e2\": [{\"Year\": \"2015\", \"Percentage Expenditure\": \"0.0\", \"HIV/AIDS\": 3.6, \"Hepatitis B\": 75.0, \"Percentage Expenditure Outlierless\": null, \"Hepatitis B Outlierless\": 75.0}, {\"Year\": \"2014\", \"Percentage Expenditure\": \"922.0507313\", \"HIV/AIDS\": 3.7, \"Hepatitis B\": 8.0, \"Percentage Expenditure Outlierless\": 922.0507313, \"Hepatitis B Outlierless\": null}, {\"Year\": \"2013\", \"Percentage Expenditure\": \"978.5905287\", \"HIV/AIDS\": 4.5, \"Hepatitis B\": 7.0, \"Percentage Expenditure Outlierless\": 978.5905287, \"Hepatitis B Outlierless\": null}, {\"Year\": \"2012\", \"Percentage Expenditure\": \"1089.954838\", \"HIV/AIDS\": 7.6, \"Hepatitis B\": 68.0, \"Percentage Expenditure Outlierless\": 1089.954838, \"Hepatitis B Outlierless\": 68.0}, {\"Year\": \"2011\", \"Percentage Expenditure\": \"123.753335\", \"HIV/AIDS\": 8.5, \"Hepatitis B\": 76.0, \"Percentage Expenditure Outlierless\": null, \"Hepatitis B Outlierless\": 76.0}, {\"Year\": \"2010\", \"Percentage Expenditure\": \"1038.885632\", \"HIV/AIDS\": 11.0, \"Hepatitis B\": 71.0, \"Percentage Expenditure Outlierless\": 1038.885632, \"Hepatitis B Outlierless\": 71.0}, {\"Year\": \"2009\", \"Percentage Expenditure\": \"782.5987144\", \"HIV/AIDS\": 19.0, \"Hepatitis B\": 74.0, \"Percentage Expenditure Outlierless\": 782.5987144, \"Hepatitis B Outlierless\": 74.0}, {\"Year\": \"2008\", \"Percentage Expenditure\": \"780.0336423\", \"HIV/AIDS\": 23.5, \"Hepatitis B\": 76.0, \"Percentage Expenditure Outlierless\": 780.0336423, \"Hepatitis B Outlierless\": 76.0}, {\"Year\": \"2007\", \"Percentage Expenditure\": \"805.490079\", \"HIV/AIDS\": 26.4, \"Hepatitis B\": 83.0, \"Percentage Expenditure Outlierless\": 805.490079, \"Hepatitis B Outlierless\": 83.0}, {\"Year\": \"2006\", \"Percentage Expenditure\": \"732.1255305\", \"HIV/AIDS\": 28.1, \"Hepatitis B\": 83.0, \"Percentage Expenditure Outlierless\": 732.1255305, \"Hepatitis B Outlierless\": 83.0}, {\"Year\": \"2005\", \"Percentage Expenditure\": \"709.3170967\", \"HIV/AIDS\": 29.5, \"Hepatitis B\": 79.0, \"Percentage Expenditure Outlierless\": 709.3170967, \"Hepatitis B Outlierless\": 79.0}, {\"Year\": \"2004\", \"Percentage Expenditure\": \"622.043809\", \"HIV/AIDS\": 29.7, \"Hepatitis B\": 76.0, \"Percentage Expenditure Outlierless\": 622.043809, \"Hepatitis B Outlierless\": 76.0}, {\"Year\": \"2003\", \"Percentage Expenditure\": \"519.1563781\", \"HIV/AIDS\": 28.9, \"Hepatitis B\": 71.0, \"Percentage Expenditure Outlierless\": 519.1563781, \"Hepatitis B Outlierless\": 71.0}, {\"Year\": \"2002\", \"Percentage Expenditure\": \"346.5316007\", \"HIV/AIDS\": 26.6, \"Hepatitis B\": 72.0, \"Percentage Expenditure Outlierless\": 346.5316007, \"Hepatitis B Outlierless\": 72.0}, {\"Year\": \"2001\", \"Percentage Expenditure\": \"365.2585722\", \"HIV/AIDS\": 24.0, \"Hepatitis B\": 72.0, \"Percentage Expenditure Outlierless\": 365.2585722, \"Hepatitis B Outlierless\": 72.0}, {\"Year\": \"2000\", \"Percentage Expenditure\": \"45.96380839\", \"HIV/AIDS\": 21.3, \"Hepatitis B\": 73.0, \"Percentage Expenditure Outlierless\": 45.96380839, \"Hepatitis B Outlierless\": 73.0}]}}, {\"mode\": \"vega-lite\"});\n</script>",
                  "text/plain": "alt.LayerChart(...)"
                },
                "metadata": {}
              }
            ]
          }
        },
        "aab828111f0f4ab79b99cfdb2b012cc7": {
          "model_module": "@jupyter-widgets/output",
          "model_name": "OutputModel",
          "model_module_version": "1.0.0",
          "state": {
            "_dom_classes": [],
            "_model_module": "@jupyter-widgets/output",
            "_model_module_version": "1.0.0",
            "_model_name": "OutputModel",
            "_view_count": null,
            "_view_module": "@jupyter-widgets/output",
            "_view_module_version": "1.0.0",
            "_view_name": "OutputView",
            "layout": "IPY_MODEL_14c4a90df1954e6f82c3a6532485c61e",
            "msg_id": "",
            "outputs": [
              {
                "output_type": "display_data",
                "data": {
                  "text/html": "\n<div id=\"altair-viz-5ecb220a2d4f44e4a667134619714774\"></div>\n<script type=\"text/javascript\">\n  var VEGA_DEBUG = (typeof VEGA_DEBUG == \"undefined\") ? {} : VEGA_DEBUG;\n  (function(spec, embedOpt){\n    let outputDiv = document.currentScript.previousElementSibling;\n    if (outputDiv.id !== \"altair-viz-5ecb220a2d4f44e4a667134619714774\") {\n      outputDiv = document.getElementById(\"altair-viz-5ecb220a2d4f44e4a667134619714774\");\n    }\n    const paths = {\n      \"vega\": \"https://cdn.jsdelivr.net/npm//vega@5?noext\",\n      \"vega-lib\": \"https://cdn.jsdelivr.net/npm//vega-lib?noext\",\n      \"vega-lite\": \"https://cdn.jsdelivr.net/npm//vega-lite@4.17.0?noext\",\n      \"vega-embed\": \"https://cdn.jsdelivr.net/npm//vega-embed@6?noext\",\n    };\n\n    function maybeLoadScript(lib, version) {\n      var key = `${lib.replace(\"-\", \"\")}_version`;\n      return (VEGA_DEBUG[key] == version) ?\n        Promise.resolve(paths[lib]) :\n        new Promise(function(resolve, reject) {\n          var s = document.createElement('script');\n          document.getElementsByTagName(\"head\")[0].appendChild(s);\n          s.async = true;\n          s.onload = () => {\n            VEGA_DEBUG[key] = version;\n            return resolve(paths[lib]);\n          };\n          s.onerror = () => reject(`Error loading script: ${paths[lib]}`);\n          s.src = paths[lib];\n        });\n    }\n\n    function showError(err) {\n      outputDiv.innerHTML = `<div class=\"error\" style=\"color:red;\">${err}</div>`;\n      throw err;\n    }\n\n    function displayChart(vegaEmbed) {\n      vegaEmbed(outputDiv, spec, embedOpt)\n        .catch(err => showError(`Javascript Error: ${err.message}<br>This usually means there's a typo in your chart specification. See the javascript console for the full traceback.`));\n    }\n\n    if(typeof define === \"function\" && define.amd) {\n      requirejs.config({paths});\n      require([\"vega-embed\"], displayChart, err => showError(`Error loading script: ${err.message}`));\n    } else {\n      maybeLoadScript(\"vega\", \"5\")\n        .then(() => maybeLoadScript(\"vega-lite\", \"4.17.0\"))\n        .then(() => maybeLoadScript(\"vega-embed\", \"6\"))\n        .catch(showError)\n        .then(() => displayChart(vegaEmbed));\n    }\n  })({\"config\": {\"view\": {\"continuousWidth\": 400, \"continuousHeight\": 300}}, \"layer\": [{\"mark\": {\"type\": \"circle\", \"opacity\": 0.5}, \"encoding\": {\"x\": {\"field\": \"Percentage Expenditure\", \"scale\": {\"zero\": false}, \"type\": \"quantitative\"}, \"y\": {\"field\": \"Hepatitis B\", \"type\": \"quantitative\"}}}, {\"mark\": \"line\", \"encoding\": {\"x\": {\"field\": \"Percentage Expenditure\", \"scale\": {\"zero\": false}, \"type\": \"quantitative\"}, \"y\": {\"field\": \"Hepatitis B\", \"type\": \"quantitative\"}}, \"transform\": [{\"loess\": \"Hepatitis B\", \"on\": \"Percentage Expenditure\"}]}], \"data\": {\"name\": \"data-ac152665bc0a3ee9112034a5407903e2\"}, \"$schema\": \"https://vega.github.io/schema/vega-lite/v4.17.0.json\", \"datasets\": {\"data-ac152665bc0a3ee9112034a5407903e2\": [{\"Year\": \"2015\", \"Percentage Expenditure\": \"0.0\", \"HIV/AIDS\": 3.6, \"Hepatitis B\": 75.0, \"Percentage Expenditure Outlierless\": null, \"Hepatitis B Outlierless\": 75.0}, {\"Year\": \"2014\", \"Percentage Expenditure\": \"922.0507313\", \"HIV/AIDS\": 3.7, \"Hepatitis B\": 8.0, \"Percentage Expenditure Outlierless\": 922.0507313, \"Hepatitis B Outlierless\": null}, {\"Year\": \"2013\", \"Percentage Expenditure\": \"978.5905287\", \"HIV/AIDS\": 4.5, \"Hepatitis B\": 7.0, \"Percentage Expenditure Outlierless\": 978.5905287, \"Hepatitis B Outlierless\": null}, {\"Year\": \"2012\", \"Percentage Expenditure\": \"1089.954838\", \"HIV/AIDS\": 7.6, \"Hepatitis B\": 68.0, \"Percentage Expenditure Outlierless\": 1089.954838, \"Hepatitis B Outlierless\": 68.0}, {\"Year\": \"2011\", \"Percentage Expenditure\": \"123.753335\", \"HIV/AIDS\": 8.5, \"Hepatitis B\": 76.0, \"Percentage Expenditure Outlierless\": null, \"Hepatitis B Outlierless\": 76.0}, {\"Year\": \"2010\", \"Percentage Expenditure\": \"1038.885632\", \"HIV/AIDS\": 11.0, \"Hepatitis B\": 71.0, \"Percentage Expenditure Outlierless\": 1038.885632, \"Hepatitis B Outlierless\": 71.0}, {\"Year\": \"2009\", \"Percentage Expenditure\": \"782.5987144\", \"HIV/AIDS\": 19.0, \"Hepatitis B\": 74.0, \"Percentage Expenditure Outlierless\": 782.5987144, \"Hepatitis B Outlierless\": 74.0}, {\"Year\": \"2008\", \"Percentage Expenditure\": \"780.0336423\", \"HIV/AIDS\": 23.5, \"Hepatitis B\": 76.0, \"Percentage Expenditure Outlierless\": 780.0336423, \"Hepatitis B Outlierless\": 76.0}, {\"Year\": \"2007\", \"Percentage Expenditure\": \"805.490079\", \"HIV/AIDS\": 26.4, \"Hepatitis B\": 83.0, \"Percentage Expenditure Outlierless\": 805.490079, \"Hepatitis B Outlierless\": 83.0}, {\"Year\": \"2006\", \"Percentage Expenditure\": \"732.1255305\", \"HIV/AIDS\": 28.1, \"Hepatitis B\": 83.0, \"Percentage Expenditure Outlierless\": 732.1255305, \"Hepatitis B Outlierless\": 83.0}, {\"Year\": \"2005\", \"Percentage Expenditure\": \"709.3170967\", \"HIV/AIDS\": 29.5, \"Hepatitis B\": 79.0, \"Percentage Expenditure Outlierless\": 709.3170967, \"Hepatitis B Outlierless\": 79.0}, {\"Year\": \"2004\", \"Percentage Expenditure\": \"622.043809\", \"HIV/AIDS\": 29.7, \"Hepatitis B\": 76.0, \"Percentage Expenditure Outlierless\": 622.043809, \"Hepatitis B Outlierless\": 76.0}, {\"Year\": \"2003\", \"Percentage Expenditure\": \"519.1563781\", \"HIV/AIDS\": 28.9, \"Hepatitis B\": 71.0, \"Percentage Expenditure Outlierless\": 519.1563781, \"Hepatitis B Outlierless\": 71.0}, {\"Year\": \"2002\", \"Percentage Expenditure\": \"346.5316007\", \"HIV/AIDS\": 26.6, \"Hepatitis B\": 72.0, \"Percentage Expenditure Outlierless\": 346.5316007, \"Hepatitis B Outlierless\": 72.0}, {\"Year\": \"2001\", \"Percentage Expenditure\": \"365.2585722\", \"HIV/AIDS\": 24.0, \"Hepatitis B\": 72.0, \"Percentage Expenditure Outlierless\": 365.2585722, \"Hepatitis B Outlierless\": 72.0}, {\"Year\": \"2000\", \"Percentage Expenditure\": \"45.96380839\", \"HIV/AIDS\": 21.3, \"Hepatitis B\": 73.0, \"Percentage Expenditure Outlierless\": 45.96380839, \"Hepatitis B Outlierless\": 73.0}]}}, {\"mode\": \"vega-lite\"});\n</script>",
                  "text/plain": "alt.LayerChart(...)"
                },
                "metadata": {}
              }
            ]
          }
        },
        "4bb2459845ee44a882c47eb2d4f2ef35": {
          "model_module": "@jupyter-widgets/base",
          "model_name": "LayoutModel",
          "model_module_version": "1.2.0",
          "state": {
            "_model_module": "@jupyter-widgets/base",
            "_model_module_version": "1.2.0",
            "_model_name": "LayoutModel",
            "_view_count": null,
            "_view_module": "@jupyter-widgets/base",
            "_view_module_version": "1.2.0",
            "_view_name": "LayoutView",
            "align_content": null,
            "align_items": null,
            "align_self": null,
            "border": null,
            "bottom": null,
            "display": null,
            "flex": null,
            "flex_flow": null,
            "grid_area": null,
            "grid_auto_columns": null,
            "grid_auto_flow": null,
            "grid_auto_rows": null,
            "grid_column": null,
            "grid_gap": null,
            "grid_row": null,
            "grid_template_areas": "\"top-left top-right\"\n\"bottom-left bottom-right\"",
            "grid_template_columns": "1fr 1fr",
            "grid_template_rows": "1fr 1fr",
            "height": null,
            "justify_content": null,
            "justify_items": null,
            "left": null,
            "margin": null,
            "max_height": null,
            "max_width": null,
            "min_height": null,
            "min_width": null,
            "object_fit": null,
            "object_position": null,
            "order": null,
            "overflow": null,
            "overflow_x": null,
            "overflow_y": null,
            "padding": null,
            "right": null,
            "top": null,
            "visibility": null,
            "width": null
          }
        },
        "40e782092bd142039483d6912f34a5f5": {
          "model_module": "@jupyter-widgets/output",
          "model_name": "OutputModel",
          "model_module_version": "1.0.0",
          "state": {
            "_dom_classes": [],
            "_model_module": "@jupyter-widgets/output",
            "_model_module_version": "1.0.0",
            "_model_name": "OutputModel",
            "_view_count": null,
            "_view_module": "@jupyter-widgets/output",
            "_view_module_version": "1.0.0",
            "_view_name": "OutputView",
            "layout": "IPY_MODEL_52e4608d0e1a46d48562ec5bddf59fe3",
            "msg_id": "",
            "outputs": [
              {
                "output_type": "display_data",
                "data": {
                  "text/html": "\n<div id=\"altair-viz-3a1d98e25ec6497494da852368473127\"></div>\n<script type=\"text/javascript\">\n  var VEGA_DEBUG = (typeof VEGA_DEBUG == \"undefined\") ? {} : VEGA_DEBUG;\n  (function(spec, embedOpt){\n    let outputDiv = document.currentScript.previousElementSibling;\n    if (outputDiv.id !== \"altair-viz-3a1d98e25ec6497494da852368473127\") {\n      outputDiv = document.getElementById(\"altair-viz-3a1d98e25ec6497494da852368473127\");\n    }\n    const paths = {\n      \"vega\": \"https://cdn.jsdelivr.net/npm//vega@5?noext\",\n      \"vega-lib\": \"https://cdn.jsdelivr.net/npm//vega-lib?noext\",\n      \"vega-lite\": \"https://cdn.jsdelivr.net/npm//vega-lite@4.17.0?noext\",\n      \"vega-embed\": \"https://cdn.jsdelivr.net/npm//vega-embed@6?noext\",\n    };\n\n    function maybeLoadScript(lib, version) {\n      var key = `${lib.replace(\"-\", \"\")}_version`;\n      return (VEGA_DEBUG[key] == version) ?\n        Promise.resolve(paths[lib]) :\n        new Promise(function(resolve, reject) {\n          var s = document.createElement('script');\n          document.getElementsByTagName(\"head\")[0].appendChild(s);\n          s.async = true;\n          s.onload = () => {\n            VEGA_DEBUG[key] = version;\n            return resolve(paths[lib]);\n          };\n          s.onerror = () => reject(`Error loading script: ${paths[lib]}`);\n          s.src = paths[lib];\n        });\n    }\n\n    function showError(err) {\n      outputDiv.innerHTML = `<div class=\"error\" style=\"color:red;\">${err}</div>`;\n      throw err;\n    }\n\n    function displayChart(vegaEmbed) {\n      vegaEmbed(outputDiv, spec, embedOpt)\n        .catch(err => showError(`Javascript Error: ${err.message}<br>This usually means there's a typo in your chart specification. See the javascript console for the full traceback.`));\n    }\n\n    if(typeof define === \"function\" && define.amd) {\n      requirejs.config({paths});\n      require([\"vega-embed\"], displayChart, err => showError(`Error loading script: ${err.message}`));\n    } else {\n      maybeLoadScript(\"vega\", \"5\")\n        .then(() => maybeLoadScript(\"vega-lite\", \"4.17.0\"))\n        .then(() => maybeLoadScript(\"vega-embed\", \"6\"))\n        .catch(showError)\n        .then(() => displayChart(vegaEmbed));\n    }\n  })({\"config\": {\"view\": {\"continuousWidth\": 400, \"continuousHeight\": 300}}, \"layer\": [{\"mark\": {\"type\": \"circle\", \"opacity\": 0.5}, \"encoding\": {\"x\": {\"field\": \"Year\", \"scale\": {\"zero\": false}, \"type\": \"temporal\"}, \"y\": {\"field\": \"Hepatitis B\", \"type\": \"quantitative\"}}}, {\"mark\": \"line\", \"encoding\": {\"x\": {\"field\": \"Year\", \"scale\": {\"zero\": false}, \"type\": \"temporal\"}, \"y\": {\"field\": \"Hepatitis B\", \"type\": \"quantitative\"}}, \"transform\": [{\"loess\": \"Hepatitis B\", \"on\": \"Year\"}]}], \"data\": {\"name\": \"data-ac152665bc0a3ee9112034a5407903e2\"}, \"$schema\": \"https://vega.github.io/schema/vega-lite/v4.17.0.json\", \"datasets\": {\"data-ac152665bc0a3ee9112034a5407903e2\": [{\"Year\": \"2015\", \"Percentage Expenditure\": \"0.0\", \"HIV/AIDS\": 3.6, \"Hepatitis B\": 75.0, \"Percentage Expenditure Outlierless\": null, \"Hepatitis B Outlierless\": 75.0}, {\"Year\": \"2014\", \"Percentage Expenditure\": \"922.0507313\", \"HIV/AIDS\": 3.7, \"Hepatitis B\": 8.0, \"Percentage Expenditure Outlierless\": 922.0507313, \"Hepatitis B Outlierless\": null}, {\"Year\": \"2013\", \"Percentage Expenditure\": \"978.5905287\", \"HIV/AIDS\": 4.5, \"Hepatitis B\": 7.0, \"Percentage Expenditure Outlierless\": 978.5905287, \"Hepatitis B Outlierless\": null}, {\"Year\": \"2012\", \"Percentage Expenditure\": \"1089.954838\", \"HIV/AIDS\": 7.6, \"Hepatitis B\": 68.0, \"Percentage Expenditure Outlierless\": 1089.954838, \"Hepatitis B Outlierless\": 68.0}, {\"Year\": \"2011\", \"Percentage Expenditure\": \"123.753335\", \"HIV/AIDS\": 8.5, \"Hepatitis B\": 76.0, \"Percentage Expenditure Outlierless\": null, \"Hepatitis B Outlierless\": 76.0}, {\"Year\": \"2010\", \"Percentage Expenditure\": \"1038.885632\", \"HIV/AIDS\": 11.0, \"Hepatitis B\": 71.0, \"Percentage Expenditure Outlierless\": 1038.885632, \"Hepatitis B Outlierless\": 71.0}, {\"Year\": \"2009\", \"Percentage Expenditure\": \"782.5987144\", \"HIV/AIDS\": 19.0, \"Hepatitis B\": 74.0, \"Percentage Expenditure Outlierless\": 782.5987144, \"Hepatitis B Outlierless\": 74.0}, {\"Year\": \"2008\", \"Percentage Expenditure\": \"780.0336423\", \"HIV/AIDS\": 23.5, \"Hepatitis B\": 76.0, \"Percentage Expenditure Outlierless\": 780.0336423, \"Hepatitis B Outlierless\": 76.0}, {\"Year\": \"2007\", \"Percentage Expenditure\": \"805.490079\", \"HIV/AIDS\": 26.4, \"Hepatitis B\": 83.0, \"Percentage Expenditure Outlierless\": 805.490079, \"Hepatitis B Outlierless\": 83.0}, {\"Year\": \"2006\", \"Percentage Expenditure\": \"732.1255305\", \"HIV/AIDS\": 28.1, \"Hepatitis B\": 83.0, \"Percentage Expenditure Outlierless\": 732.1255305, \"Hepatitis B Outlierless\": 83.0}, {\"Year\": \"2005\", \"Percentage Expenditure\": \"709.3170967\", \"HIV/AIDS\": 29.5, \"Hepatitis B\": 79.0, \"Percentage Expenditure Outlierless\": 709.3170967, \"Hepatitis B Outlierless\": 79.0}, {\"Year\": \"2004\", \"Percentage Expenditure\": \"622.043809\", \"HIV/AIDS\": 29.7, \"Hepatitis B\": 76.0, \"Percentage Expenditure Outlierless\": 622.043809, \"Hepatitis B Outlierless\": 76.0}, {\"Year\": \"2003\", \"Percentage Expenditure\": \"519.1563781\", \"HIV/AIDS\": 28.9, \"Hepatitis B\": 71.0, \"Percentage Expenditure Outlierless\": 519.1563781, \"Hepatitis B Outlierless\": 71.0}, {\"Year\": \"2002\", \"Percentage Expenditure\": \"346.5316007\", \"HIV/AIDS\": 26.6, \"Hepatitis B\": 72.0, \"Percentage Expenditure Outlierless\": 346.5316007, \"Hepatitis B Outlierless\": 72.0}, {\"Year\": \"2001\", \"Percentage Expenditure\": \"365.2585722\", \"HIV/AIDS\": 24.0, \"Hepatitis B\": 72.0, \"Percentage Expenditure Outlierless\": 365.2585722, \"Hepatitis B Outlierless\": 72.0}, {\"Year\": \"2000\", \"Percentage Expenditure\": \"45.96380839\", \"HIV/AIDS\": 21.3, \"Hepatitis B\": 73.0, \"Percentage Expenditure Outlierless\": 45.96380839, \"Hepatitis B Outlierless\": 73.0}]}}, {\"mode\": \"vega-lite\"});\n</script>",
                  "text/plain": "alt.LayerChart(...)"
                },
                "metadata": {}
              }
            ]
          }
        },
        "015e2ac16b0f45ab95516723ad92e178": {
          "model_module": "@jupyter-widgets/output",
          "model_name": "OutputModel",
          "model_module_version": "1.0.0",
          "state": {
            "_dom_classes": [],
            "_model_module": "@jupyter-widgets/output",
            "_model_module_version": "1.0.0",
            "_model_name": "OutputModel",
            "_view_count": null,
            "_view_module": "@jupyter-widgets/output",
            "_view_module_version": "1.0.0",
            "_view_name": "OutputView",
            "layout": "IPY_MODEL_dcc45d217cd847f3a86a1db6b476e972",
            "msg_id": "",
            "outputs": [
              {
                "output_type": "display_data",
                "data": {
                  "text/html": "\n<div id=\"altair-viz-ca4218f4aaaa46fc82fd7234b81d900b\"></div>\n<script type=\"text/javascript\">\n  var VEGA_DEBUG = (typeof VEGA_DEBUG == \"undefined\") ? {} : VEGA_DEBUG;\n  (function(spec, embedOpt){\n    let outputDiv = document.currentScript.previousElementSibling;\n    if (outputDiv.id !== \"altair-viz-ca4218f4aaaa46fc82fd7234b81d900b\") {\n      outputDiv = document.getElementById(\"altair-viz-ca4218f4aaaa46fc82fd7234b81d900b\");\n    }\n    const paths = {\n      \"vega\": \"https://cdn.jsdelivr.net/npm//vega@5?noext\",\n      \"vega-lib\": \"https://cdn.jsdelivr.net/npm//vega-lib?noext\",\n      \"vega-lite\": \"https://cdn.jsdelivr.net/npm//vega-lite@4.17.0?noext\",\n      \"vega-embed\": \"https://cdn.jsdelivr.net/npm//vega-embed@6?noext\",\n    };\n\n    function maybeLoadScript(lib, version) {\n      var key = `${lib.replace(\"-\", \"\")}_version`;\n      return (VEGA_DEBUG[key] == version) ?\n        Promise.resolve(paths[lib]) :\n        new Promise(function(resolve, reject) {\n          var s = document.createElement('script');\n          document.getElementsByTagName(\"head\")[0].appendChild(s);\n          s.async = true;\n          s.onload = () => {\n            VEGA_DEBUG[key] = version;\n            return resolve(paths[lib]);\n          };\n          s.onerror = () => reject(`Error loading script: ${paths[lib]}`);\n          s.src = paths[lib];\n        });\n    }\n\n    function showError(err) {\n      outputDiv.innerHTML = `<div class=\"error\" style=\"color:red;\">${err}</div>`;\n      throw err;\n    }\n\n    function displayChart(vegaEmbed) {\n      vegaEmbed(outputDiv, spec, embedOpt)\n        .catch(err => showError(`Javascript Error: ${err.message}<br>This usually means there's a typo in your chart specification. See the javascript console for the full traceback.`));\n    }\n\n    if(typeof define === \"function\" && define.amd) {\n      requirejs.config({paths});\n      require([\"vega-embed\"], displayChart, err => showError(`Error loading script: ${err.message}`));\n    } else {\n      maybeLoadScript(\"vega\", \"5\")\n        .then(() => maybeLoadScript(\"vega-lite\", \"4.17.0\"))\n        .then(() => maybeLoadScript(\"vega-embed\", \"6\"))\n        .catch(showError)\n        .then(() => displayChart(vegaEmbed));\n    }\n  })({\"config\": {\"view\": {\"continuousWidth\": 400, \"continuousHeight\": 300}}, \"layer\": [{\"mark\": {\"type\": \"circle\", \"opacity\": 0.5}, \"encoding\": {\"x\": {\"field\": \"Year\", \"scale\": {\"zero\": false}, \"type\": \"temporal\"}, \"y\": {\"field\": \"Percentage Expenditure\", \"type\": \"quantitative\"}}}, {\"mark\": \"line\", \"encoding\": {\"x\": {\"field\": \"Year\", \"scale\": {\"zero\": false}, \"type\": \"temporal\"}, \"y\": {\"field\": \"Percentage Expenditure\", \"type\": \"quantitative\"}}, \"transform\": [{\"loess\": \"Percentage Expenditure\", \"on\": \"Year\"}]}], \"data\": {\"name\": \"data-ac152665bc0a3ee9112034a5407903e2\"}, \"$schema\": \"https://vega.github.io/schema/vega-lite/v4.17.0.json\", \"datasets\": {\"data-ac152665bc0a3ee9112034a5407903e2\": [{\"Year\": \"2015\", \"Percentage Expenditure\": \"0.0\", \"HIV/AIDS\": 3.6, \"Hepatitis B\": 75.0, \"Percentage Expenditure Outlierless\": null, \"Hepatitis B Outlierless\": 75.0}, {\"Year\": \"2014\", \"Percentage Expenditure\": \"922.0507313\", \"HIV/AIDS\": 3.7, \"Hepatitis B\": 8.0, \"Percentage Expenditure Outlierless\": 922.0507313, \"Hepatitis B Outlierless\": null}, {\"Year\": \"2013\", \"Percentage Expenditure\": \"978.5905287\", \"HIV/AIDS\": 4.5, \"Hepatitis B\": 7.0, \"Percentage Expenditure Outlierless\": 978.5905287, \"Hepatitis B Outlierless\": null}, {\"Year\": \"2012\", \"Percentage Expenditure\": \"1089.954838\", \"HIV/AIDS\": 7.6, \"Hepatitis B\": 68.0, \"Percentage Expenditure Outlierless\": 1089.954838, \"Hepatitis B Outlierless\": 68.0}, {\"Year\": \"2011\", \"Percentage Expenditure\": \"123.753335\", \"HIV/AIDS\": 8.5, \"Hepatitis B\": 76.0, \"Percentage Expenditure Outlierless\": null, \"Hepatitis B Outlierless\": 76.0}, {\"Year\": \"2010\", \"Percentage Expenditure\": \"1038.885632\", \"HIV/AIDS\": 11.0, \"Hepatitis B\": 71.0, \"Percentage Expenditure Outlierless\": 1038.885632, \"Hepatitis B Outlierless\": 71.0}, {\"Year\": \"2009\", \"Percentage Expenditure\": \"782.5987144\", \"HIV/AIDS\": 19.0, \"Hepatitis B\": 74.0, \"Percentage Expenditure Outlierless\": 782.5987144, \"Hepatitis B Outlierless\": 74.0}, {\"Year\": \"2008\", \"Percentage Expenditure\": \"780.0336423\", \"HIV/AIDS\": 23.5, \"Hepatitis B\": 76.0, \"Percentage Expenditure Outlierless\": 780.0336423, \"Hepatitis B Outlierless\": 76.0}, {\"Year\": \"2007\", \"Percentage Expenditure\": \"805.490079\", \"HIV/AIDS\": 26.4, \"Hepatitis B\": 83.0, \"Percentage Expenditure Outlierless\": 805.490079, \"Hepatitis B Outlierless\": 83.0}, {\"Year\": \"2006\", \"Percentage Expenditure\": \"732.1255305\", \"HIV/AIDS\": 28.1, \"Hepatitis B\": 83.0, \"Percentage Expenditure Outlierless\": 732.1255305, \"Hepatitis B Outlierless\": 83.0}, {\"Year\": \"2005\", \"Percentage Expenditure\": \"709.3170967\", \"HIV/AIDS\": 29.5, \"Hepatitis B\": 79.0, \"Percentage Expenditure Outlierless\": 709.3170967, \"Hepatitis B Outlierless\": 79.0}, {\"Year\": \"2004\", \"Percentage Expenditure\": \"622.043809\", \"HIV/AIDS\": 29.7, \"Hepatitis B\": 76.0, \"Percentage Expenditure Outlierless\": 622.043809, \"Hepatitis B Outlierless\": 76.0}, {\"Year\": \"2003\", \"Percentage Expenditure\": \"519.1563781\", \"HIV/AIDS\": 28.9, \"Hepatitis B\": 71.0, \"Percentage Expenditure Outlierless\": 519.1563781, \"Hepatitis B Outlierless\": 71.0}, {\"Year\": \"2002\", \"Percentage Expenditure\": \"346.5316007\", \"HIV/AIDS\": 26.6, \"Hepatitis B\": 72.0, \"Percentage Expenditure Outlierless\": 346.5316007, \"Hepatitis B Outlierless\": 72.0}, {\"Year\": \"2001\", \"Percentage Expenditure\": \"365.2585722\", \"HIV/AIDS\": 24.0, \"Hepatitis B\": 72.0, \"Percentage Expenditure Outlierless\": 365.2585722, \"Hepatitis B Outlierless\": 72.0}, {\"Year\": \"2000\", \"Percentage Expenditure\": \"45.96380839\", \"HIV/AIDS\": 21.3, \"Hepatitis B\": 73.0, \"Percentage Expenditure Outlierless\": 45.96380839, \"Hepatitis B Outlierless\": 73.0}]}}, {\"mode\": \"vega-lite\"});\n</script>",
                  "text/plain": "alt.LayerChart(...)"
                },
                "metadata": {}
              }
            ]
          }
        },
        "f36052ce343c4d95baffa4af5321436c": {
          "model_module": "@jupyter-widgets/base",
          "model_name": "LayoutModel",
          "model_module_version": "1.2.0",
          "state": {
            "_model_module": "@jupyter-widgets/base",
            "_model_module_version": "1.2.0",
            "_model_name": "LayoutModel",
            "_view_count": null,
            "_view_module": "@jupyter-widgets/base",
            "_view_module_version": "1.2.0",
            "_view_name": "LayoutView",
            "align_content": null,
            "align_items": null,
            "align_self": null,
            "border": null,
            "bottom": null,
            "display": null,
            "flex": null,
            "flex_flow": null,
            "grid_area": "top-right",
            "grid_auto_columns": null,
            "grid_auto_flow": null,
            "grid_auto_rows": null,
            "grid_column": null,
            "grid_gap": null,
            "grid_row": null,
            "grid_template_areas": null,
            "grid_template_columns": null,
            "grid_template_rows": null,
            "height": null,
            "justify_content": null,
            "justify_items": null,
            "left": null,
            "margin": null,
            "max_height": null,
            "max_width": null,
            "min_height": null,
            "min_width": null,
            "object_fit": null,
            "object_position": null,
            "order": null,
            "overflow": null,
            "overflow_x": null,
            "overflow_y": null,
            "padding": null,
            "right": null,
            "top": null,
            "visibility": null,
            "width": null
          }
        },
        "1cb11ffccdec4db780866105a5fb2cd4": {
          "model_module": "@jupyter-widgets/base",
          "model_name": "LayoutModel",
          "model_module_version": "1.2.0",
          "state": {
            "_model_module": "@jupyter-widgets/base",
            "_model_module_version": "1.2.0",
            "_model_name": "LayoutModel",
            "_view_count": null,
            "_view_module": "@jupyter-widgets/base",
            "_view_module_version": "1.2.0",
            "_view_name": "LayoutView",
            "align_content": null,
            "align_items": null,
            "align_self": null,
            "border": null,
            "bottom": null,
            "display": null,
            "flex": null,
            "flex_flow": null,
            "grid_area": "top-left",
            "grid_auto_columns": null,
            "grid_auto_flow": null,
            "grid_auto_rows": null,
            "grid_column": null,
            "grid_gap": null,
            "grid_row": null,
            "grid_template_areas": null,
            "grid_template_columns": null,
            "grid_template_rows": null,
            "height": null,
            "justify_content": null,
            "justify_items": null,
            "left": null,
            "margin": null,
            "max_height": null,
            "max_width": null,
            "min_height": null,
            "min_width": null,
            "object_fit": null,
            "object_position": null,
            "order": null,
            "overflow": null,
            "overflow_x": null,
            "overflow_y": null,
            "padding": null,
            "right": null,
            "top": null,
            "visibility": null,
            "width": null
          }
        },
        "04d40b9eb7bf46d7863d359a5d2a0320": {
          "model_module": "@jupyter-widgets/base",
          "model_name": "LayoutModel",
          "model_module_version": "1.2.0",
          "state": {
            "_model_module": "@jupyter-widgets/base",
            "_model_module_version": "1.2.0",
            "_model_name": "LayoutModel",
            "_view_count": null,
            "_view_module": "@jupyter-widgets/base",
            "_view_module_version": "1.2.0",
            "_view_name": "LayoutView",
            "align_content": null,
            "align_items": null,
            "align_self": null,
            "border": null,
            "bottom": null,
            "display": null,
            "flex": null,
            "flex_flow": null,
            "grid_area": "bottom-left",
            "grid_auto_columns": null,
            "grid_auto_flow": null,
            "grid_auto_rows": null,
            "grid_column": null,
            "grid_gap": null,
            "grid_row": null,
            "grid_template_areas": null,
            "grid_template_columns": null,
            "grid_template_rows": null,
            "height": null,
            "justify_content": null,
            "justify_items": null,
            "left": null,
            "margin": null,
            "max_height": null,
            "max_width": null,
            "min_height": null,
            "min_width": null,
            "object_fit": null,
            "object_position": null,
            "order": null,
            "overflow": null,
            "overflow_x": null,
            "overflow_y": null,
            "padding": null,
            "right": null,
            "top": null,
            "visibility": null,
            "width": null
          }
        },
        "14c4a90df1954e6f82c3a6532485c61e": {
          "model_module": "@jupyter-widgets/base",
          "model_name": "LayoutModel",
          "model_module_version": "1.2.0",
          "state": {
            "_model_module": "@jupyter-widgets/base",
            "_model_module_version": "1.2.0",
            "_model_name": "LayoutModel",
            "_view_count": null,
            "_view_module": "@jupyter-widgets/base",
            "_view_module_version": "1.2.0",
            "_view_name": "LayoutView",
            "align_content": null,
            "align_items": null,
            "align_self": null,
            "border": null,
            "bottom": null,
            "display": null,
            "flex": null,
            "flex_flow": null,
            "grid_area": "bottom-right",
            "grid_auto_columns": null,
            "grid_auto_flow": null,
            "grid_auto_rows": null,
            "grid_column": null,
            "grid_gap": null,
            "grid_row": null,
            "grid_template_areas": null,
            "grid_template_columns": null,
            "grid_template_rows": null,
            "height": null,
            "justify_content": null,
            "justify_items": null,
            "left": null,
            "margin": null,
            "max_height": null,
            "max_width": null,
            "min_height": null,
            "min_width": null,
            "object_fit": null,
            "object_position": null,
            "order": null,
            "overflow": null,
            "overflow_x": null,
            "overflow_y": null,
            "padding": null,
            "right": null,
            "top": null,
            "visibility": null,
            "width": null
          }
        },
        "52e4608d0e1a46d48562ec5bddf59fe3": {
          "model_module": "@jupyter-widgets/base",
          "model_name": "LayoutModel",
          "model_module_version": "1.2.0",
          "state": {
            "_model_module": "@jupyter-widgets/base",
            "_model_module_version": "1.2.0",
            "_model_name": "LayoutModel",
            "_view_count": null,
            "_view_module": "@jupyter-widgets/base",
            "_view_module_version": "1.2.0",
            "_view_name": "LayoutView",
            "align_content": null,
            "align_items": null,
            "align_self": null,
            "border": null,
            "bottom": null,
            "display": null,
            "flex": null,
            "flex_flow": null,
            "grid_area": null,
            "grid_auto_columns": null,
            "grid_auto_flow": null,
            "grid_auto_rows": null,
            "grid_column": null,
            "grid_gap": null,
            "grid_row": null,
            "grid_template_areas": null,
            "grid_template_columns": null,
            "grid_template_rows": null,
            "height": null,
            "justify_content": null,
            "justify_items": null,
            "left": null,
            "margin": null,
            "max_height": null,
            "max_width": null,
            "min_height": null,
            "min_width": null,
            "object_fit": null,
            "object_position": null,
            "order": null,
            "overflow": null,
            "overflow_x": null,
            "overflow_y": null,
            "padding": null,
            "right": null,
            "top": null,
            "visibility": null,
            "width": null
          }
        },
        "dcc45d217cd847f3a86a1db6b476e972": {
          "model_module": "@jupyter-widgets/base",
          "model_name": "LayoutModel",
          "model_module_version": "1.2.0",
          "state": {
            "_model_module": "@jupyter-widgets/base",
            "_model_module_version": "1.2.0",
            "_model_name": "LayoutModel",
            "_view_count": null,
            "_view_module": "@jupyter-widgets/base",
            "_view_module_version": "1.2.0",
            "_view_name": "LayoutView",
            "align_content": null,
            "align_items": null,
            "align_self": null,
            "border": null,
            "bottom": null,
            "display": null,
            "flex": null,
            "flex_flow": null,
            "grid_area": null,
            "grid_auto_columns": null,
            "grid_auto_flow": null,
            "grid_auto_rows": null,
            "grid_column": null,
            "grid_gap": null,
            "grid_row": null,
            "grid_template_areas": null,
            "grid_template_columns": null,
            "grid_template_rows": null,
            "height": null,
            "justify_content": null,
            "justify_items": null,
            "left": null,
            "margin": null,
            "max_height": null,
            "max_width": null,
            "min_height": null,
            "min_width": null,
            "object_fit": null,
            "object_position": null,
            "order": null,
            "overflow": null,
            "overflow_x": null,
            "overflow_y": null,
            "padding": null,
            "right": null,
            "top": null,
            "visibility": null,
            "width": null
          }
        },
        "97925609b7114895a468ed56050aa1fd": {
          "model_module": "@jupyter-widgets/controls",
          "model_name": "GridBoxModel",
          "model_module_version": "1.5.0",
          "state": {
            "_dom_classes": [],
            "_model_module": "@jupyter-widgets/controls",
            "_model_module_version": "1.5.0",
            "_model_name": "GridBoxModel",
            "_view_count": null,
            "_view_module": "@jupyter-widgets/controls",
            "_view_module_version": "1.5.0",
            "_view_name": "GridBoxView",
            "box_style": "",
            "children": [
              "IPY_MODEL_30b23d05bcce4ba5b03349735c23b8ba",
              "IPY_MODEL_c4c3a010d3344334954b0f270df16cc0"
            ],
            "layout": "IPY_MODEL_a34b1f2f8fd447929791e82e689cde5b"
          }
        },
        "30b23d05bcce4ba5b03349735c23b8ba": {
          "model_module": "@jupyter-widgets/output",
          "model_name": "OutputModel",
          "model_module_version": "1.0.0",
          "state": {
            "_dom_classes": [],
            "_model_module": "@jupyter-widgets/output",
            "_model_module_version": "1.0.0",
            "_model_name": "OutputModel",
            "_view_count": null,
            "_view_module": "@jupyter-widgets/output",
            "_view_module_version": "1.0.0",
            "_view_name": "OutputView",
            "layout": "IPY_MODEL_e9186dbfe52043288f85edae7e70b1f9",
            "msg_id": "",
            "outputs": [
              {
                "output_type": "display_data",
                "data": {
                  "text/plain": "        HIV/AIDS  Hepatitis B  Percentage Expenditure Outlierless  \\\ncount  16.000000    16.000000                           14.000000   \nmean   18.493750    66.500000                          695.571497   \nstd    10.166053    23.392306                          293.855603   \nmin     3.600000     7.000000                           45.963808   \n25%     8.275000    71.000000                          544.878236   \n50%    22.400000    73.500000                          756.079586   \n75%    26.975000    76.000000                          892.910568   \nmax    29.700000    83.000000                         1089.954838   \n\n       Hepatitis B Outlierless  \ncount                14.000000  \nmean                 74.928571  \nstd                   4.393427  \nmin                  68.000000  \n25%                  72.000000  \n50%                  74.500000  \n75%                  76.000000  \nmax                  83.000000  ",
                  "text/html": "\n  <div id=\"df-ed92eec1-db2b-484a-a53c-85c4ec01ee93\" class=\"colab-df-container\">\n    <div>\n<style scoped>\n    .dataframe tbody tr th:only-of-type {\n        vertical-align: middle;\n    }\n\n    .dataframe tbody tr th {\n        vertical-align: top;\n    }\n\n    .dataframe thead th {\n        text-align: right;\n    }\n</style>\n<table border=\"1\" class=\"dataframe\">\n  <thead>\n    <tr style=\"text-align: right;\">\n      <th></th>\n      <th>HIV/AIDS</th>\n      <th>Hepatitis B</th>\n      <th>Percentage Expenditure Outlierless</th>\n      <th>Hepatitis B Outlierless</th>\n    </tr>\n  </thead>\n  <tbody>\n    <tr>\n      <th>count</th>\n      <td>16.000000</td>\n      <td>16.000000</td>\n      <td>14.000000</td>\n      <td>14.000000</td>\n    </tr>\n    <tr>\n      <th>mean</th>\n      <td>18.493750</td>\n      <td>66.500000</td>\n      <td>695.571497</td>\n      <td>74.928571</td>\n    </tr>\n    <tr>\n      <th>std</th>\n      <td>10.166053</td>\n      <td>23.392306</td>\n      <td>293.855603</td>\n      <td>4.393427</td>\n    </tr>\n    <tr>\n      <th>min</th>\n      <td>3.600000</td>\n      <td>7.000000</td>\n      <td>45.963808</td>\n      <td>68.000000</td>\n    </tr>\n    <tr>\n      <th>25%</th>\n      <td>8.275000</td>\n      <td>71.000000</td>\n      <td>544.878236</td>\n      <td>72.000000</td>\n    </tr>\n    <tr>\n      <th>50%</th>\n      <td>22.400000</td>\n      <td>73.500000</td>\n      <td>756.079586</td>\n      <td>74.500000</td>\n    </tr>\n    <tr>\n      <th>75%</th>\n      <td>26.975000</td>\n      <td>76.000000</td>\n      <td>892.910568</td>\n      <td>76.000000</td>\n    </tr>\n    <tr>\n      <th>max</th>\n      <td>29.700000</td>\n      <td>83.000000</td>\n      <td>1089.954838</td>\n      <td>83.000000</td>\n    </tr>\n  </tbody>\n</table>\n</div>\n    <div class=\"colab-df-buttons\">\n\n  <div class=\"colab-df-container\">\n    <button class=\"colab-df-convert\" onclick=\"convertToInteractive('df-ed92eec1-db2b-484a-a53c-85c4ec01ee93')\"\n            title=\"Convert this dataframe to an interactive table.\"\n            style=\"display:none;\">\n\n  <svg xmlns=\"http://www.w3.org/2000/svg\" height=\"24px\" viewBox=\"0 -960 960 960\">\n    <path d=\"M120-120v-720h720v720H120Zm60-500h600v-160H180v160Zm220 220h160v-160H400v160Zm0 220h160v-160H400v160ZM180-400h160v-160H180v160Zm440 0h160v-160H620v160ZM180-180h160v-160H180v160Zm440 0h160v-160H620v160Z\"/>\n  </svg>\n    </button>\n\n  <style>\n    .colab-df-container {\n      display:flex;\n      gap: 12px;\n    }\n\n    .colab-df-convert {\n      background-color: #E8F0FE;\n      border: none;\n      border-radius: 50%;\n      cursor: pointer;\n      display: none;\n      fill: #1967D2;\n      height: 32px;\n      padding: 0 0 0 0;\n      width: 32px;\n    }\n\n    .colab-df-convert:hover {\n      background-color: #E2EBFA;\n      box-shadow: 0px 1px 2px rgba(60, 64, 67, 0.3), 0px 1px 3px 1px rgba(60, 64, 67, 0.15);\n      fill: #174EA6;\n    }\n\n    .colab-df-buttons div {\n      margin-bottom: 4px;\n    }\n\n    [theme=dark] .colab-df-convert {\n      background-color: #3B4455;\n      fill: #D2E3FC;\n    }\n\n    [theme=dark] .colab-df-convert:hover {\n      background-color: #434B5C;\n      box-shadow: 0px 1px 3px 1px rgba(0, 0, 0, 0.15);\n      filter: drop-shadow(0px 1px 2px rgba(0, 0, 0, 0.3));\n      fill: #FFFFFF;\n    }\n  </style>\n\n    <script>\n      const buttonEl =\n        document.querySelector('#df-ed92eec1-db2b-484a-a53c-85c4ec01ee93 button.colab-df-convert');\n      buttonEl.style.display =\n        google.colab.kernel.accessAllowed ? 'block' : 'none';\n\n      async function convertToInteractive(key) {\n        const element = document.querySelector('#df-ed92eec1-db2b-484a-a53c-85c4ec01ee93');\n        const dataTable =\n          await google.colab.kernel.invokeFunction('convertToInteractive',\n                                                    [key], {});\n        if (!dataTable) return;\n\n        const docLinkHtml = 'Like what you see? Visit the ' +\n          '<a target=\"_blank\" href=https://colab.research.google.com/notebooks/data_table.ipynb>data table notebook</a>'\n          + ' to learn more about interactive tables.';\n        element.innerHTML = '';\n        dataTable['output_type'] = 'display_data';\n        await google.colab.output.renderOutput(dataTable, element);\n        const docLink = document.createElement('div');\n        docLink.innerHTML = docLinkHtml;\n        element.appendChild(docLink);\n      }\n    </script>\n  </div>\n\n\n<div id=\"df-9254f966-e7e5-4343-b329-81bea26f8683\">\n  <button class=\"colab-df-quickchart\" onclick=\"quickchart('df-9254f966-e7e5-4343-b329-81bea26f8683')\"\n            title=\"Suggest charts\"\n            style=\"display:none;\">\n\n<svg xmlns=\"http://www.w3.org/2000/svg\" height=\"24px\"viewBox=\"0 0 24 24\"\n     width=\"24px\">\n    <g>\n        <path d=\"M19 3H5c-1.1 0-2 .9-2 2v14c0 1.1.9 2 2 2h14c1.1 0 2-.9 2-2V5c0-1.1-.9-2-2-2zM9 17H7v-7h2v7zm4 0h-2V7h2v10zm4 0h-2v-4h2v4z\"/>\n    </g>\n</svg>\n  </button>\n\n<style>\n  .colab-df-quickchart {\n      --bg-color: #E8F0FE;\n      --fill-color: #1967D2;\n      --hover-bg-color: #E2EBFA;\n      --hover-fill-color: #174EA6;\n      --disabled-fill-color: #AAA;\n      --disabled-bg-color: #DDD;\n  }\n\n  [theme=dark] .colab-df-quickchart {\n      --bg-color: #3B4455;\n      --fill-color: #D2E3FC;\n      --hover-bg-color: #434B5C;\n      --hover-fill-color: #FFFFFF;\n      --disabled-bg-color: #3B4455;\n      --disabled-fill-color: #666;\n  }\n\n  .colab-df-quickchart {\n    background-color: var(--bg-color);\n    border: none;\n    border-radius: 50%;\n    cursor: pointer;\n    display: none;\n    fill: var(--fill-color);\n    height: 32px;\n    padding: 0;\n    width: 32px;\n  }\n\n  .colab-df-quickchart:hover {\n    background-color: var(--hover-bg-color);\n    box-shadow: 0 1px 2px rgba(60, 64, 67, 0.3), 0 1px 3px 1px rgba(60, 64, 67, 0.15);\n    fill: var(--button-hover-fill-color);\n  }\n\n  .colab-df-quickchart-complete:disabled,\n  .colab-df-quickchart-complete:disabled:hover {\n    background-color: var(--disabled-bg-color);\n    fill: var(--disabled-fill-color);\n    box-shadow: none;\n  }\n\n  .colab-df-spinner {\n    border: 2px solid var(--fill-color);\n    border-color: transparent;\n    border-bottom-color: var(--fill-color);\n    animation:\n      spin 1s steps(1) infinite;\n  }\n\n  @keyframes spin {\n    0% {\n      border-color: transparent;\n      border-bottom-color: var(--fill-color);\n      border-left-color: var(--fill-color);\n    }\n    20% {\n      border-color: transparent;\n      border-left-color: var(--fill-color);\n      border-top-color: var(--fill-color);\n    }\n    30% {\n      border-color: transparent;\n      border-left-color: var(--fill-color);\n      border-top-color: var(--fill-color);\n      border-right-color: var(--fill-color);\n    }\n    40% {\n      border-color: transparent;\n      border-right-color: var(--fill-color);\n      border-top-color: var(--fill-color);\n    }\n    60% {\n      border-color: transparent;\n      border-right-color: var(--fill-color);\n    }\n    80% {\n      border-color: transparent;\n      border-right-color: var(--fill-color);\n      border-bottom-color: var(--fill-color);\n    }\n    90% {\n      border-color: transparent;\n      border-bottom-color: var(--fill-color);\n    }\n  }\n</style>\n\n  <script>\n    async function quickchart(key) {\n      const quickchartButtonEl =\n        document.querySelector('#' + key + ' button');\n      quickchartButtonEl.disabled = true;  // To prevent multiple clicks.\n      quickchartButtonEl.classList.add('colab-df-spinner');\n      try {\n        const charts = await google.colab.kernel.invokeFunction(\n            'suggestCharts', [key], {});\n      } catch (error) {\n        console.error('Error during call to suggestCharts:', error);\n      }\n      quickchartButtonEl.classList.remove('colab-df-spinner');\n      quickchartButtonEl.classList.add('colab-df-quickchart-complete');\n    }\n    (() => {\n      let quickchartButtonEl =\n        document.querySelector('#df-9254f966-e7e5-4343-b329-81bea26f8683 button');\n      quickchartButtonEl.style.display =\n        google.colab.kernel.accessAllowed ? 'block' : 'none';\n    })();\n  </script>\n</div>\n    </div>\n  </div>\n",
                  "application/vnd.google.colaboratory.intrinsic+json": {
                    "type": "dataframe",
                    "summary": "{\n  \"name\": \"AppLayout(header=table, footer=widgets\",\n  \"rows\": 8,\n  \"fields\": [\n    {\n      \"column\": \"HIV/AIDS\",\n      \"properties\": {\n        \"dtype\": \"number\",\n        \"std\": 9.223815020200218,\n        \"min\": 3.6,\n        \"max\": 29.7,\n        \"num_unique_values\": 8,\n        \"samples\": [\n          18.49375,\n          22.4,\n          16.0\n        ],\n        \"semantic_type\": \"\",\n        \"description\": \"\"\n      }\n    },\n    {\n      \"column\": \"Hepatitis B\",\n      \"properties\": {\n        \"dtype\": \"number\",\n        \"std\": 30.96052992692942,\n        \"min\": 7.0,\n        \"max\": 83.0,\n        \"num_unique_values\": 8,\n        \"samples\": [\n          66.5,\n          73.5,\n          16.0\n        ],\n        \"semantic_type\": \"\",\n        \"description\": \"\"\n      }\n    },\n    {\n      \"column\": \"Percentage Expenditure Outlierless\",\n      \"properties\": {\n        \"dtype\": \"number\",\n        \"std\": 392.6514020937183,\n        \"min\": 14.0,\n        \"max\": 1089.954838,\n        \"num_unique_values\": 8,\n        \"samples\": [\n          695.5714972349999,\n          756.0795863999999,\n          14.0\n        ],\n        \"semantic_type\": \"\",\n        \"description\": \"\"\n      }\n    },\n    {\n      \"column\": \"Hepatitis B Outlierless\",\n      \"properties\": {\n        \"dtype\": \"number\",\n        \"std\": 30.735033005389987,\n        \"min\": 4.393426658338319,\n        \"max\": 83.0,\n        \"num_unique_values\": 8,\n        \"samples\": [\n          74.92857142857143,\n          74.5,\n          14.0\n        ],\n        \"semantic_type\": \"\",\n        \"description\": \"\"\n      }\n    }\n  ]\n}"
                  }
                },
                "metadata": {}
              }
            ]
          }
        },
        "c4c3a010d3344334954b0f270df16cc0": {
          "model_module": "@jupyter-widgets/controls",
          "model_name": "HBoxModel",
          "model_module_version": "1.5.0",
          "state": {
            "_dom_classes": [],
            "_model_module": "@jupyter-widgets/controls",
            "_model_module_version": "1.5.0",
            "_model_name": "HBoxModel",
            "_view_count": null,
            "_view_module": "@jupyter-widgets/controls",
            "_view_module_version": "1.5.0",
            "_view_name": "HBoxView",
            "box_style": "",
            "children": [
              "IPY_MODEL_a764c9a6ea7e47229778451439c25621",
              "IPY_MODEL_7171e82cd6284490964e0c59794b80ba",
              "IPY_MODEL_f73bf7a389934e02af07a9d7915d1743",
              "IPY_MODEL_6de477a7e46846109018c34d86da4dcc",
              "IPY_MODEL_c909abe9d1b8431795397a9d5d709860"
            ],
            "layout": "IPY_MODEL_de38eaac7e9945cabb5e194eab00b8c1"
          }
        },
        "a34b1f2f8fd447929791e82e689cde5b": {
          "model_module": "@jupyter-widgets/base",
          "model_name": "LayoutModel",
          "model_module_version": "1.2.0",
          "state": {
            "_model_module": "@jupyter-widgets/base",
            "_model_module_version": "1.2.0",
            "_model_name": "LayoutModel",
            "_view_count": null,
            "_view_module": "@jupyter-widgets/base",
            "_view_module_version": "1.2.0",
            "_view_name": "LayoutView",
            "align_content": null,
            "align_items": null,
            "align_self": null,
            "border": null,
            "bottom": null,
            "display": null,
            "flex": null,
            "flex_flow": null,
            "grid_area": null,
            "grid_auto_columns": null,
            "grid_auto_flow": null,
            "grid_auto_rows": null,
            "grid_column": null,
            "grid_gap": null,
            "grid_row": null,
            "grid_template_areas": "\"header\"\n\"footer\"",
            "grid_template_columns": "1fr",
            "grid_template_rows": "1fr 1fr",
            "height": null,
            "justify_content": null,
            "justify_items": null,
            "left": null,
            "margin": null,
            "max_height": null,
            "max_width": null,
            "min_height": null,
            "min_width": null,
            "object_fit": null,
            "object_position": null,
            "order": null,
            "overflow": null,
            "overflow_x": null,
            "overflow_y": null,
            "padding": null,
            "right": null,
            "top": null,
            "visibility": null,
            "width": null
          }
        },
        "a764c9a6ea7e47229778451439c25621": {
          "model_module": "@jupyter-widgets/output",
          "model_name": "OutputModel",
          "model_module_version": "1.0.0",
          "state": {
            "_dom_classes": [],
            "_model_module": "@jupyter-widgets/output",
            "_model_module_version": "1.0.0",
            "_model_name": "OutputModel",
            "_view_count": null,
            "_view_module": "@jupyter-widgets/output",
            "_view_module_version": "1.0.0",
            "_view_name": "OutputView",
            "layout": "IPY_MODEL_0b7b461643ab4580985abf55a0041eeb",
            "msg_id": "",
            "outputs": [
              {
                "output_type": "display_data",
                "data": {
                  "text/html": "\n<div id=\"altair-viz-b89bc89d79b14fc99d0f16681d037447\"></div>\n<script type=\"text/javascript\">\n  var VEGA_DEBUG = (typeof VEGA_DEBUG == \"undefined\") ? {} : VEGA_DEBUG;\n  (function(spec, embedOpt){\n    let outputDiv = document.currentScript.previousElementSibling;\n    if (outputDiv.id !== \"altair-viz-b89bc89d79b14fc99d0f16681d037447\") {\n      outputDiv = document.getElementById(\"altair-viz-b89bc89d79b14fc99d0f16681d037447\");\n    }\n    const paths = {\n      \"vega\": \"https://cdn.jsdelivr.net/npm//vega@5?noext\",\n      \"vega-lib\": \"https://cdn.jsdelivr.net/npm//vega-lib?noext\",\n      \"vega-lite\": \"https://cdn.jsdelivr.net/npm//vega-lite@4.17.0?noext\",\n      \"vega-embed\": \"https://cdn.jsdelivr.net/npm//vega-embed@6?noext\",\n    };\n\n    function maybeLoadScript(lib, version) {\n      var key = `${lib.replace(\"-\", \"\")}_version`;\n      return (VEGA_DEBUG[key] == version) ?\n        Promise.resolve(paths[lib]) :\n        new Promise(function(resolve, reject) {\n          var s = document.createElement('script');\n          document.getElementsByTagName(\"head\")[0].appendChild(s);\n          s.async = true;\n          s.onload = () => {\n            VEGA_DEBUG[key] = version;\n            return resolve(paths[lib]);\n          };\n          s.onerror = () => reject(`Error loading script: ${paths[lib]}`);\n          s.src = paths[lib];\n        });\n    }\n\n    function showError(err) {\n      outputDiv.innerHTML = `<div class=\"error\" style=\"color:red;\">${err}</div>`;\n      throw err;\n    }\n\n    function displayChart(vegaEmbed) {\n      vegaEmbed(outputDiv, spec, embedOpt)\n        .catch(err => showError(`Javascript Error: ${err.message}<br>This usually means there's a typo in your chart specification. See the javascript console for the full traceback.`));\n    }\n\n    if(typeof define === \"function\" && define.amd) {\n      requirejs.config({paths});\n      require([\"vega-embed\"], displayChart, err => showError(`Error loading script: ${err.message}`));\n    } else {\n      maybeLoadScript(\"vega\", \"5\")\n        .then(() => maybeLoadScript(\"vega-lite\", \"4.17.0\"))\n        .then(() => maybeLoadScript(\"vega-embed\", \"6\"))\n        .catch(showError)\n        .then(() => displayChart(vegaEmbed));\n    }\n  })({\"config\": {\"view\": {\"continuousWidth\": 400, \"continuousHeight\": 300}}, \"data\": {\"name\": \"data-ac152665bc0a3ee9112034a5407903e2\"}, \"mark\": \"boxplot\", \"encoding\": {\"y\": {\"field\": \"Percentage Expenditure Outlierless\", \"scale\": {\"zero\": true}, \"type\": \"quantitative\"}}, \"$schema\": \"https://vega.github.io/schema/vega-lite/v4.17.0.json\", \"datasets\": {\"data-ac152665bc0a3ee9112034a5407903e2\": [{\"Year\": \"2015\", \"Percentage Expenditure\": \"0.0\", \"HIV/AIDS\": 3.6, \"Hepatitis B\": 75.0, \"Percentage Expenditure Outlierless\": null, \"Hepatitis B Outlierless\": 75.0}, {\"Year\": \"2014\", \"Percentage Expenditure\": \"922.0507313\", \"HIV/AIDS\": 3.7, \"Hepatitis B\": 8.0, \"Percentage Expenditure Outlierless\": 922.0507313, \"Hepatitis B Outlierless\": null}, {\"Year\": \"2013\", \"Percentage Expenditure\": \"978.5905287\", \"HIV/AIDS\": 4.5, \"Hepatitis B\": 7.0, \"Percentage Expenditure Outlierless\": 978.5905287, \"Hepatitis B Outlierless\": null}, {\"Year\": \"2012\", \"Percentage Expenditure\": \"1089.954838\", \"HIV/AIDS\": 7.6, \"Hepatitis B\": 68.0, \"Percentage Expenditure Outlierless\": 1089.954838, \"Hepatitis B Outlierless\": 68.0}, {\"Year\": \"2011\", \"Percentage Expenditure\": \"123.753335\", \"HIV/AIDS\": 8.5, \"Hepatitis B\": 76.0, \"Percentage Expenditure Outlierless\": null, \"Hepatitis B Outlierless\": 76.0}, {\"Year\": \"2010\", \"Percentage Expenditure\": \"1038.885632\", \"HIV/AIDS\": 11.0, \"Hepatitis B\": 71.0, \"Percentage Expenditure Outlierless\": 1038.885632, \"Hepatitis B Outlierless\": 71.0}, {\"Year\": \"2009\", \"Percentage Expenditure\": \"782.5987144\", \"HIV/AIDS\": 19.0, \"Hepatitis B\": 74.0, \"Percentage Expenditure Outlierless\": 782.5987144, \"Hepatitis B Outlierless\": 74.0}, {\"Year\": \"2008\", \"Percentage Expenditure\": \"780.0336423\", \"HIV/AIDS\": 23.5, \"Hepatitis B\": 76.0, \"Percentage Expenditure Outlierless\": 780.0336423, \"Hepatitis B Outlierless\": 76.0}, {\"Year\": \"2007\", \"Percentage Expenditure\": \"805.490079\", \"HIV/AIDS\": 26.4, \"Hepatitis B\": 83.0, \"Percentage Expenditure Outlierless\": 805.490079, \"Hepatitis B Outlierless\": 83.0}, {\"Year\": \"2006\", \"Percentage Expenditure\": \"732.1255305\", \"HIV/AIDS\": 28.1, \"Hepatitis B\": 83.0, \"Percentage Expenditure Outlierless\": 732.1255305, \"Hepatitis B Outlierless\": 83.0}, {\"Year\": \"2005\", \"Percentage Expenditure\": \"709.3170967\", \"HIV/AIDS\": 29.5, \"Hepatitis B\": 79.0, \"Percentage Expenditure Outlierless\": 709.3170967, \"Hepatitis B Outlierless\": 79.0}, {\"Year\": \"2004\", \"Percentage Expenditure\": \"622.043809\", \"HIV/AIDS\": 29.7, \"Hepatitis B\": 76.0, \"Percentage Expenditure Outlierless\": 622.043809, \"Hepatitis B Outlierless\": 76.0}, {\"Year\": \"2003\", \"Percentage Expenditure\": \"519.1563781\", \"HIV/AIDS\": 28.9, \"Hepatitis B\": 71.0, \"Percentage Expenditure Outlierless\": 519.1563781, \"Hepatitis B Outlierless\": 71.0}, {\"Year\": \"2002\", \"Percentage Expenditure\": \"346.5316007\", \"HIV/AIDS\": 26.6, \"Hepatitis B\": 72.0, \"Percentage Expenditure Outlierless\": 346.5316007, \"Hepatitis B Outlierless\": 72.0}, {\"Year\": \"2001\", \"Percentage Expenditure\": \"365.2585722\", \"HIV/AIDS\": 24.0, \"Hepatitis B\": 72.0, \"Percentage Expenditure Outlierless\": 365.2585722, \"Hepatitis B Outlierless\": 72.0}, {\"Year\": \"2000\", \"Percentage Expenditure\": \"45.96380839\", \"HIV/AIDS\": 21.3, \"Hepatitis B\": 73.0, \"Percentage Expenditure Outlierless\": 45.96380839, \"Hepatitis B Outlierless\": 73.0}]}}, {\"mode\": \"vega-lite\"});\n</script>",
                  "text/plain": "alt.Chart(...)"
                },
                "metadata": {}
              }
            ]
          }
        },
        "7171e82cd6284490964e0c59794b80ba": {
          "model_module": "@jupyter-widgets/output",
          "model_name": "OutputModel",
          "model_module_version": "1.0.0",
          "state": {
            "_dom_classes": [],
            "_model_module": "@jupyter-widgets/output",
            "_model_module_version": "1.0.0",
            "_model_name": "OutputModel",
            "_view_count": null,
            "_view_module": "@jupyter-widgets/output",
            "_view_module_version": "1.0.0",
            "_view_name": "OutputView",
            "layout": "IPY_MODEL_146c7dfeafb744e5806bd08cefa47126",
            "msg_id": "",
            "outputs": [
              {
                "output_type": "display_data",
                "data": {
                  "text/html": "\n<div id=\"altair-viz-ba1019156ff74bd7b2878a9ab10c613a\"></div>\n<script type=\"text/javascript\">\n  var VEGA_DEBUG = (typeof VEGA_DEBUG == \"undefined\") ? {} : VEGA_DEBUG;\n  (function(spec, embedOpt){\n    let outputDiv = document.currentScript.previousElementSibling;\n    if (outputDiv.id !== \"altair-viz-ba1019156ff74bd7b2878a9ab10c613a\") {\n      outputDiv = document.getElementById(\"altair-viz-ba1019156ff74bd7b2878a9ab10c613a\");\n    }\n    const paths = {\n      \"vega\": \"https://cdn.jsdelivr.net/npm//vega@5?noext\",\n      \"vega-lib\": \"https://cdn.jsdelivr.net/npm//vega-lib?noext\",\n      \"vega-lite\": \"https://cdn.jsdelivr.net/npm//vega-lite@4.17.0?noext\",\n      \"vega-embed\": \"https://cdn.jsdelivr.net/npm//vega-embed@6?noext\",\n    };\n\n    function maybeLoadScript(lib, version) {\n      var key = `${lib.replace(\"-\", \"\")}_version`;\n      return (VEGA_DEBUG[key] == version) ?\n        Promise.resolve(paths[lib]) :\n        new Promise(function(resolve, reject) {\n          var s = document.createElement('script');\n          document.getElementsByTagName(\"head\")[0].appendChild(s);\n          s.async = true;\n          s.onload = () => {\n            VEGA_DEBUG[key] = version;\n            return resolve(paths[lib]);\n          };\n          s.onerror = () => reject(`Error loading script: ${paths[lib]}`);\n          s.src = paths[lib];\n        });\n    }\n\n    function showError(err) {\n      outputDiv.innerHTML = `<div class=\"error\" style=\"color:red;\">${err}</div>`;\n      throw err;\n    }\n\n    function displayChart(vegaEmbed) {\n      vegaEmbed(outputDiv, spec, embedOpt)\n        .catch(err => showError(`Javascript Error: ${err.message}<br>This usually means there's a typo in your chart specification. See the javascript console for the full traceback.`));\n    }\n\n    if(typeof define === \"function\" && define.amd) {\n      requirejs.config({paths});\n      require([\"vega-embed\"], displayChart, err => showError(`Error loading script: ${err.message}`));\n    } else {\n      maybeLoadScript(\"vega\", \"5\")\n        .then(() => maybeLoadScript(\"vega-lite\", \"4.17.0\"))\n        .then(() => maybeLoadScript(\"vega-embed\", \"6\"))\n        .catch(showError)\n        .then(() => displayChart(vegaEmbed));\n    }\n  })({\"config\": {\"view\": {\"continuousWidth\": 400, \"continuousHeight\": 300}}, \"data\": {\"name\": \"data-ac152665bc0a3ee9112034a5407903e2\"}, \"mark\": \"boxplot\", \"encoding\": {\"y\": {\"field\": \"Percentage Expenditure\", \"scale\": {\"zero\": true}, \"type\": \"quantitative\"}}, \"$schema\": \"https://vega.github.io/schema/vega-lite/v4.17.0.json\", \"datasets\": {\"data-ac152665bc0a3ee9112034a5407903e2\": [{\"Year\": \"2015\", \"Percentage Expenditure\": \"0.0\", \"HIV/AIDS\": 3.6, \"Hepatitis B\": 75.0, \"Percentage Expenditure Outlierless\": null, \"Hepatitis B Outlierless\": 75.0}, {\"Year\": \"2014\", \"Percentage Expenditure\": \"922.0507313\", \"HIV/AIDS\": 3.7, \"Hepatitis B\": 8.0, \"Percentage Expenditure Outlierless\": 922.0507313, \"Hepatitis B Outlierless\": null}, {\"Year\": \"2013\", \"Percentage Expenditure\": \"978.5905287\", \"HIV/AIDS\": 4.5, \"Hepatitis B\": 7.0, \"Percentage Expenditure Outlierless\": 978.5905287, \"Hepatitis B Outlierless\": null}, {\"Year\": \"2012\", \"Percentage Expenditure\": \"1089.954838\", \"HIV/AIDS\": 7.6, \"Hepatitis B\": 68.0, \"Percentage Expenditure Outlierless\": 1089.954838, \"Hepatitis B Outlierless\": 68.0}, {\"Year\": \"2011\", \"Percentage Expenditure\": \"123.753335\", \"HIV/AIDS\": 8.5, \"Hepatitis B\": 76.0, \"Percentage Expenditure Outlierless\": null, \"Hepatitis B Outlierless\": 76.0}, {\"Year\": \"2010\", \"Percentage Expenditure\": \"1038.885632\", \"HIV/AIDS\": 11.0, \"Hepatitis B\": 71.0, \"Percentage Expenditure Outlierless\": 1038.885632, \"Hepatitis B Outlierless\": 71.0}, {\"Year\": \"2009\", \"Percentage Expenditure\": \"782.5987144\", \"HIV/AIDS\": 19.0, \"Hepatitis B\": 74.0, \"Percentage Expenditure Outlierless\": 782.5987144, \"Hepatitis B Outlierless\": 74.0}, {\"Year\": \"2008\", \"Percentage Expenditure\": \"780.0336423\", \"HIV/AIDS\": 23.5, \"Hepatitis B\": 76.0, \"Percentage Expenditure Outlierless\": 780.0336423, \"Hepatitis B Outlierless\": 76.0}, {\"Year\": \"2007\", \"Percentage Expenditure\": \"805.490079\", \"HIV/AIDS\": 26.4, \"Hepatitis B\": 83.0, \"Percentage Expenditure Outlierless\": 805.490079, \"Hepatitis B Outlierless\": 83.0}, {\"Year\": \"2006\", \"Percentage Expenditure\": \"732.1255305\", \"HIV/AIDS\": 28.1, \"Hepatitis B\": 83.0, \"Percentage Expenditure Outlierless\": 732.1255305, \"Hepatitis B Outlierless\": 83.0}, {\"Year\": \"2005\", \"Percentage Expenditure\": \"709.3170967\", \"HIV/AIDS\": 29.5, \"Hepatitis B\": 79.0, \"Percentage Expenditure Outlierless\": 709.3170967, \"Hepatitis B Outlierless\": 79.0}, {\"Year\": \"2004\", \"Percentage Expenditure\": \"622.043809\", \"HIV/AIDS\": 29.7, \"Hepatitis B\": 76.0, \"Percentage Expenditure Outlierless\": 622.043809, \"Hepatitis B Outlierless\": 76.0}, {\"Year\": \"2003\", \"Percentage Expenditure\": \"519.1563781\", \"HIV/AIDS\": 28.9, \"Hepatitis B\": 71.0, \"Percentage Expenditure Outlierless\": 519.1563781, \"Hepatitis B Outlierless\": 71.0}, {\"Year\": \"2002\", \"Percentage Expenditure\": \"346.5316007\", \"HIV/AIDS\": 26.6, \"Hepatitis B\": 72.0, \"Percentage Expenditure Outlierless\": 346.5316007, \"Hepatitis B Outlierless\": 72.0}, {\"Year\": \"2001\", \"Percentage Expenditure\": \"365.2585722\", \"HIV/AIDS\": 24.0, \"Hepatitis B\": 72.0, \"Percentage Expenditure Outlierless\": 365.2585722, \"Hepatitis B Outlierless\": 72.0}, {\"Year\": \"2000\", \"Percentage Expenditure\": \"45.96380839\", \"HIV/AIDS\": 21.3, \"Hepatitis B\": 73.0, \"Percentage Expenditure Outlierless\": 45.96380839, \"Hepatitis B Outlierless\": 73.0}]}}, {\"mode\": \"vega-lite\"});\n</script>",
                  "text/plain": "alt.Chart(...)"
                },
                "metadata": {}
              }
            ]
          }
        },
        "f73bf7a389934e02af07a9d7915d1743": {
          "model_module": "@jupyter-widgets/output",
          "model_name": "OutputModel",
          "model_module_version": "1.0.0",
          "state": {
            "_dom_classes": [],
            "_model_module": "@jupyter-widgets/output",
            "_model_module_version": "1.0.0",
            "_model_name": "OutputModel",
            "_view_count": null,
            "_view_module": "@jupyter-widgets/output",
            "_view_module_version": "1.0.0",
            "_view_name": "OutputView",
            "layout": "IPY_MODEL_56c1deddb08c47b5924357aa6eadc913",
            "msg_id": "",
            "outputs": [
              {
                "output_type": "display_data",
                "data": {
                  "text/html": "\n<div id=\"altair-viz-3ff219d08f4e4a30bb0b69151b1a7aa3\"></div>\n<script type=\"text/javascript\">\n  var VEGA_DEBUG = (typeof VEGA_DEBUG == \"undefined\") ? {} : VEGA_DEBUG;\n  (function(spec, embedOpt){\n    let outputDiv = document.currentScript.previousElementSibling;\n    if (outputDiv.id !== \"altair-viz-3ff219d08f4e4a30bb0b69151b1a7aa3\") {\n      outputDiv = document.getElementById(\"altair-viz-3ff219d08f4e4a30bb0b69151b1a7aa3\");\n    }\n    const paths = {\n      \"vega\": \"https://cdn.jsdelivr.net/npm//vega@5?noext\",\n      \"vega-lib\": \"https://cdn.jsdelivr.net/npm//vega-lib?noext\",\n      \"vega-lite\": \"https://cdn.jsdelivr.net/npm//vega-lite@4.17.0?noext\",\n      \"vega-embed\": \"https://cdn.jsdelivr.net/npm//vega-embed@6?noext\",\n    };\n\n    function maybeLoadScript(lib, version) {\n      var key = `${lib.replace(\"-\", \"\")}_version`;\n      return (VEGA_DEBUG[key] == version) ?\n        Promise.resolve(paths[lib]) :\n        new Promise(function(resolve, reject) {\n          var s = document.createElement('script');\n          document.getElementsByTagName(\"head\")[0].appendChild(s);\n          s.async = true;\n          s.onload = () => {\n            VEGA_DEBUG[key] = version;\n            return resolve(paths[lib]);\n          };\n          s.onerror = () => reject(`Error loading script: ${paths[lib]}`);\n          s.src = paths[lib];\n        });\n    }\n\n    function showError(err) {\n      outputDiv.innerHTML = `<div class=\"error\" style=\"color:red;\">${err}</div>`;\n      throw err;\n    }\n\n    function displayChart(vegaEmbed) {\n      vegaEmbed(outputDiv, spec, embedOpt)\n        .catch(err => showError(`Javascript Error: ${err.message}<br>This usually means there's a typo in your chart specification. See the javascript console for the full traceback.`));\n    }\n\n    if(typeof define === \"function\" && define.amd) {\n      requirejs.config({paths});\n      require([\"vega-embed\"], displayChart, err => showError(`Error loading script: ${err.message}`));\n    } else {\n      maybeLoadScript(\"vega\", \"5\")\n        .then(() => maybeLoadScript(\"vega-lite\", \"4.17.0\"))\n        .then(() => maybeLoadScript(\"vega-embed\", \"6\"))\n        .catch(showError)\n        .then(() => displayChart(vegaEmbed));\n    }\n  })({\"config\": {\"view\": {\"continuousWidth\": 400, \"continuousHeight\": 300}}, \"data\": {\"name\": \"data-ac152665bc0a3ee9112034a5407903e2\"}, \"mark\": \"boxplot\", \"encoding\": {\"y\": {\"field\": \"HIV/AIDS\", \"scale\": {\"zero\": true}, \"type\": \"quantitative\"}}, \"$schema\": \"https://vega.github.io/schema/vega-lite/v4.17.0.json\", \"datasets\": {\"data-ac152665bc0a3ee9112034a5407903e2\": [{\"Year\": \"2015\", \"Percentage Expenditure\": \"0.0\", \"HIV/AIDS\": 3.6, \"Hepatitis B\": 75.0, \"Percentage Expenditure Outlierless\": null, \"Hepatitis B Outlierless\": 75.0}, {\"Year\": \"2014\", \"Percentage Expenditure\": \"922.0507313\", \"HIV/AIDS\": 3.7, \"Hepatitis B\": 8.0, \"Percentage Expenditure Outlierless\": 922.0507313, \"Hepatitis B Outlierless\": null}, {\"Year\": \"2013\", \"Percentage Expenditure\": \"978.5905287\", \"HIV/AIDS\": 4.5, \"Hepatitis B\": 7.0, \"Percentage Expenditure Outlierless\": 978.5905287, \"Hepatitis B Outlierless\": null}, {\"Year\": \"2012\", \"Percentage Expenditure\": \"1089.954838\", \"HIV/AIDS\": 7.6, \"Hepatitis B\": 68.0, \"Percentage Expenditure Outlierless\": 1089.954838, \"Hepatitis B Outlierless\": 68.0}, {\"Year\": \"2011\", \"Percentage Expenditure\": \"123.753335\", \"HIV/AIDS\": 8.5, \"Hepatitis B\": 76.0, \"Percentage Expenditure Outlierless\": null, \"Hepatitis B Outlierless\": 76.0}, {\"Year\": \"2010\", \"Percentage Expenditure\": \"1038.885632\", \"HIV/AIDS\": 11.0, \"Hepatitis B\": 71.0, \"Percentage Expenditure Outlierless\": 1038.885632, \"Hepatitis B Outlierless\": 71.0}, {\"Year\": \"2009\", \"Percentage Expenditure\": \"782.5987144\", \"HIV/AIDS\": 19.0, \"Hepatitis B\": 74.0, \"Percentage Expenditure Outlierless\": 782.5987144, \"Hepatitis B Outlierless\": 74.0}, {\"Year\": \"2008\", \"Percentage Expenditure\": \"780.0336423\", \"HIV/AIDS\": 23.5, \"Hepatitis B\": 76.0, \"Percentage Expenditure Outlierless\": 780.0336423, \"Hepatitis B Outlierless\": 76.0}, {\"Year\": \"2007\", \"Percentage Expenditure\": \"805.490079\", \"HIV/AIDS\": 26.4, \"Hepatitis B\": 83.0, \"Percentage Expenditure Outlierless\": 805.490079, \"Hepatitis B Outlierless\": 83.0}, {\"Year\": \"2006\", \"Percentage Expenditure\": \"732.1255305\", \"HIV/AIDS\": 28.1, \"Hepatitis B\": 83.0, \"Percentage Expenditure Outlierless\": 732.1255305, \"Hepatitis B Outlierless\": 83.0}, {\"Year\": \"2005\", \"Percentage Expenditure\": \"709.3170967\", \"HIV/AIDS\": 29.5, \"Hepatitis B\": 79.0, \"Percentage Expenditure Outlierless\": 709.3170967, \"Hepatitis B Outlierless\": 79.0}, {\"Year\": \"2004\", \"Percentage Expenditure\": \"622.043809\", \"HIV/AIDS\": 29.7, \"Hepatitis B\": 76.0, \"Percentage Expenditure Outlierless\": 622.043809, \"Hepatitis B Outlierless\": 76.0}, {\"Year\": \"2003\", \"Percentage Expenditure\": \"519.1563781\", \"HIV/AIDS\": 28.9, \"Hepatitis B\": 71.0, \"Percentage Expenditure Outlierless\": 519.1563781, \"Hepatitis B Outlierless\": 71.0}, {\"Year\": \"2002\", \"Percentage Expenditure\": \"346.5316007\", \"HIV/AIDS\": 26.6, \"Hepatitis B\": 72.0, \"Percentage Expenditure Outlierless\": 346.5316007, \"Hepatitis B Outlierless\": 72.0}, {\"Year\": \"2001\", \"Percentage Expenditure\": \"365.2585722\", \"HIV/AIDS\": 24.0, \"Hepatitis B\": 72.0, \"Percentage Expenditure Outlierless\": 365.2585722, \"Hepatitis B Outlierless\": 72.0}, {\"Year\": \"2000\", \"Percentage Expenditure\": \"45.96380839\", \"HIV/AIDS\": 21.3, \"Hepatitis B\": 73.0, \"Percentage Expenditure Outlierless\": 45.96380839, \"Hepatitis B Outlierless\": 73.0}]}}, {\"mode\": \"vega-lite\"});\n</script>",
                  "text/plain": "alt.Chart(...)"
                },
                "metadata": {}
              }
            ]
          }
        },
        "6de477a7e46846109018c34d86da4dcc": {
          "model_module": "@jupyter-widgets/output",
          "model_name": "OutputModel",
          "model_module_version": "1.0.0",
          "state": {
            "_dom_classes": [],
            "_model_module": "@jupyter-widgets/output",
            "_model_module_version": "1.0.0",
            "_model_name": "OutputModel",
            "_view_count": null,
            "_view_module": "@jupyter-widgets/output",
            "_view_module_version": "1.0.0",
            "_view_name": "OutputView",
            "layout": "IPY_MODEL_a37f1ceb66dd426aa3c834e42569e2d9",
            "msg_id": "",
            "outputs": [
              {
                "output_type": "display_data",
                "data": {
                  "text/html": "\n<div id=\"altair-viz-9cbe3c3a1fc44ea29c3696cce03b371d\"></div>\n<script type=\"text/javascript\">\n  var VEGA_DEBUG = (typeof VEGA_DEBUG == \"undefined\") ? {} : VEGA_DEBUG;\n  (function(spec, embedOpt){\n    let outputDiv = document.currentScript.previousElementSibling;\n    if (outputDiv.id !== \"altair-viz-9cbe3c3a1fc44ea29c3696cce03b371d\") {\n      outputDiv = document.getElementById(\"altair-viz-9cbe3c3a1fc44ea29c3696cce03b371d\");\n    }\n    const paths = {\n      \"vega\": \"https://cdn.jsdelivr.net/npm//vega@5?noext\",\n      \"vega-lib\": \"https://cdn.jsdelivr.net/npm//vega-lib?noext\",\n      \"vega-lite\": \"https://cdn.jsdelivr.net/npm//vega-lite@4.17.0?noext\",\n      \"vega-embed\": \"https://cdn.jsdelivr.net/npm//vega-embed@6?noext\",\n    };\n\n    function maybeLoadScript(lib, version) {\n      var key = `${lib.replace(\"-\", \"\")}_version`;\n      return (VEGA_DEBUG[key] == version) ?\n        Promise.resolve(paths[lib]) :\n        new Promise(function(resolve, reject) {\n          var s = document.createElement('script');\n          document.getElementsByTagName(\"head\")[0].appendChild(s);\n          s.async = true;\n          s.onload = () => {\n            VEGA_DEBUG[key] = version;\n            return resolve(paths[lib]);\n          };\n          s.onerror = () => reject(`Error loading script: ${paths[lib]}`);\n          s.src = paths[lib];\n        });\n    }\n\n    function showError(err) {\n      outputDiv.innerHTML = `<div class=\"error\" style=\"color:red;\">${err}</div>`;\n      throw err;\n    }\n\n    function displayChart(vegaEmbed) {\n      vegaEmbed(outputDiv, spec, embedOpt)\n        .catch(err => showError(`Javascript Error: ${err.message}<br>This usually means there's a typo in your chart specification. See the javascript console for the full traceback.`));\n    }\n\n    if(typeof define === \"function\" && define.amd) {\n      requirejs.config({paths});\n      require([\"vega-embed\"], displayChart, err => showError(`Error loading script: ${err.message}`));\n    } else {\n      maybeLoadScript(\"vega\", \"5\")\n        .then(() => maybeLoadScript(\"vega-lite\", \"4.17.0\"))\n        .then(() => maybeLoadScript(\"vega-embed\", \"6\"))\n        .catch(showError)\n        .then(() => displayChart(vegaEmbed));\n    }\n  })({\"config\": {\"view\": {\"continuousWidth\": 400, \"continuousHeight\": 300}}, \"data\": {\"name\": \"data-ac152665bc0a3ee9112034a5407903e2\"}, \"mark\": \"boxplot\", \"encoding\": {\"y\": {\"field\": \"Hepatitis B Outlierless\", \"scale\": {\"zero\": true}, \"type\": \"quantitative\"}}, \"$schema\": \"https://vega.github.io/schema/vega-lite/v4.17.0.json\", \"datasets\": {\"data-ac152665bc0a3ee9112034a5407903e2\": [{\"Year\": \"2015\", \"Percentage Expenditure\": \"0.0\", \"HIV/AIDS\": 3.6, \"Hepatitis B\": 75.0, \"Percentage Expenditure Outlierless\": null, \"Hepatitis B Outlierless\": 75.0}, {\"Year\": \"2014\", \"Percentage Expenditure\": \"922.0507313\", \"HIV/AIDS\": 3.7, \"Hepatitis B\": 8.0, \"Percentage Expenditure Outlierless\": 922.0507313, \"Hepatitis B Outlierless\": null}, {\"Year\": \"2013\", \"Percentage Expenditure\": \"978.5905287\", \"HIV/AIDS\": 4.5, \"Hepatitis B\": 7.0, \"Percentage Expenditure Outlierless\": 978.5905287, \"Hepatitis B Outlierless\": null}, {\"Year\": \"2012\", \"Percentage Expenditure\": \"1089.954838\", \"HIV/AIDS\": 7.6, \"Hepatitis B\": 68.0, \"Percentage Expenditure Outlierless\": 1089.954838, \"Hepatitis B Outlierless\": 68.0}, {\"Year\": \"2011\", \"Percentage Expenditure\": \"123.753335\", \"HIV/AIDS\": 8.5, \"Hepatitis B\": 76.0, \"Percentage Expenditure Outlierless\": null, \"Hepatitis B Outlierless\": 76.0}, {\"Year\": \"2010\", \"Percentage Expenditure\": \"1038.885632\", \"HIV/AIDS\": 11.0, \"Hepatitis B\": 71.0, \"Percentage Expenditure Outlierless\": 1038.885632, \"Hepatitis B Outlierless\": 71.0}, {\"Year\": \"2009\", \"Percentage Expenditure\": \"782.5987144\", \"HIV/AIDS\": 19.0, \"Hepatitis B\": 74.0, \"Percentage Expenditure Outlierless\": 782.5987144, \"Hepatitis B Outlierless\": 74.0}, {\"Year\": \"2008\", \"Percentage Expenditure\": \"780.0336423\", \"HIV/AIDS\": 23.5, \"Hepatitis B\": 76.0, \"Percentage Expenditure Outlierless\": 780.0336423, \"Hepatitis B Outlierless\": 76.0}, {\"Year\": \"2007\", \"Percentage Expenditure\": \"805.490079\", \"HIV/AIDS\": 26.4, \"Hepatitis B\": 83.0, \"Percentage Expenditure Outlierless\": 805.490079, \"Hepatitis B Outlierless\": 83.0}, {\"Year\": \"2006\", \"Percentage Expenditure\": \"732.1255305\", \"HIV/AIDS\": 28.1, \"Hepatitis B\": 83.0, \"Percentage Expenditure Outlierless\": 732.1255305, \"Hepatitis B Outlierless\": 83.0}, {\"Year\": \"2005\", \"Percentage Expenditure\": \"709.3170967\", \"HIV/AIDS\": 29.5, \"Hepatitis B\": 79.0, \"Percentage Expenditure Outlierless\": 709.3170967, \"Hepatitis B Outlierless\": 79.0}, {\"Year\": \"2004\", \"Percentage Expenditure\": \"622.043809\", \"HIV/AIDS\": 29.7, \"Hepatitis B\": 76.0, \"Percentage Expenditure Outlierless\": 622.043809, \"Hepatitis B Outlierless\": 76.0}, {\"Year\": \"2003\", \"Percentage Expenditure\": \"519.1563781\", \"HIV/AIDS\": 28.9, \"Hepatitis B\": 71.0, \"Percentage Expenditure Outlierless\": 519.1563781, \"Hepatitis B Outlierless\": 71.0}, {\"Year\": \"2002\", \"Percentage Expenditure\": \"346.5316007\", \"HIV/AIDS\": 26.6, \"Hepatitis B\": 72.0, \"Percentage Expenditure Outlierless\": 346.5316007, \"Hepatitis B Outlierless\": 72.0}, {\"Year\": \"2001\", \"Percentage Expenditure\": \"365.2585722\", \"HIV/AIDS\": 24.0, \"Hepatitis B\": 72.0, \"Percentage Expenditure Outlierless\": 365.2585722, \"Hepatitis B Outlierless\": 72.0}, {\"Year\": \"2000\", \"Percentage Expenditure\": \"45.96380839\", \"HIV/AIDS\": 21.3, \"Hepatitis B\": 73.0, \"Percentage Expenditure Outlierless\": 45.96380839, \"Hepatitis B Outlierless\": 73.0}]}}, {\"mode\": \"vega-lite\"});\n</script>",
                  "text/plain": "alt.Chart(...)"
                },
                "metadata": {}
              }
            ]
          }
        },
        "c909abe9d1b8431795397a9d5d709860": {
          "model_module": "@jupyter-widgets/output",
          "model_name": "OutputModel",
          "model_module_version": "1.0.0",
          "state": {
            "_dom_classes": [],
            "_model_module": "@jupyter-widgets/output",
            "_model_module_version": "1.0.0",
            "_model_name": "OutputModel",
            "_view_count": null,
            "_view_module": "@jupyter-widgets/output",
            "_view_module_version": "1.0.0",
            "_view_name": "OutputView",
            "layout": "IPY_MODEL_4d258cafc3c3449398cc749779406a93",
            "msg_id": "",
            "outputs": [
              {
                "output_type": "display_data",
                "data": {
                  "text/html": "\n<div id=\"altair-viz-21632284e0fc4c159c574a9fef6d8081\"></div>\n<script type=\"text/javascript\">\n  var VEGA_DEBUG = (typeof VEGA_DEBUG == \"undefined\") ? {} : VEGA_DEBUG;\n  (function(spec, embedOpt){\n    let outputDiv = document.currentScript.previousElementSibling;\n    if (outputDiv.id !== \"altair-viz-21632284e0fc4c159c574a9fef6d8081\") {\n      outputDiv = document.getElementById(\"altair-viz-21632284e0fc4c159c574a9fef6d8081\");\n    }\n    const paths = {\n      \"vega\": \"https://cdn.jsdelivr.net/npm//vega@5?noext\",\n      \"vega-lib\": \"https://cdn.jsdelivr.net/npm//vega-lib?noext\",\n      \"vega-lite\": \"https://cdn.jsdelivr.net/npm//vega-lite@4.17.0?noext\",\n      \"vega-embed\": \"https://cdn.jsdelivr.net/npm//vega-embed@6?noext\",\n    };\n\n    function maybeLoadScript(lib, version) {\n      var key = `${lib.replace(\"-\", \"\")}_version`;\n      return (VEGA_DEBUG[key] == version) ?\n        Promise.resolve(paths[lib]) :\n        new Promise(function(resolve, reject) {\n          var s = document.createElement('script');\n          document.getElementsByTagName(\"head\")[0].appendChild(s);\n          s.async = true;\n          s.onload = () => {\n            VEGA_DEBUG[key] = version;\n            return resolve(paths[lib]);\n          };\n          s.onerror = () => reject(`Error loading script: ${paths[lib]}`);\n          s.src = paths[lib];\n        });\n    }\n\n    function showError(err) {\n      outputDiv.innerHTML = `<div class=\"error\" style=\"color:red;\">${err}</div>`;\n      throw err;\n    }\n\n    function displayChart(vegaEmbed) {\n      vegaEmbed(outputDiv, spec, embedOpt)\n        .catch(err => showError(`Javascript Error: ${err.message}<br>This usually means there's a typo in your chart specification. See the javascript console for the full traceback.`));\n    }\n\n    if(typeof define === \"function\" && define.amd) {\n      requirejs.config({paths});\n      require([\"vega-embed\"], displayChart, err => showError(`Error loading script: ${err.message}`));\n    } else {\n      maybeLoadScript(\"vega\", \"5\")\n        .then(() => maybeLoadScript(\"vega-lite\", \"4.17.0\"))\n        .then(() => maybeLoadScript(\"vega-embed\", \"6\"))\n        .catch(showError)\n        .then(() => displayChart(vegaEmbed));\n    }\n  })({\"config\": {\"view\": {\"continuousWidth\": 400, \"continuousHeight\": 300}}, \"data\": {\"name\": \"data-ac152665bc0a3ee9112034a5407903e2\"}, \"mark\": \"boxplot\", \"encoding\": {\"y\": {\"field\": \"Hepatitis B\", \"scale\": {\"zero\": true}, \"type\": \"quantitative\"}}, \"$schema\": \"https://vega.github.io/schema/vega-lite/v4.17.0.json\", \"datasets\": {\"data-ac152665bc0a3ee9112034a5407903e2\": [{\"Year\": \"2015\", \"Percentage Expenditure\": \"0.0\", \"HIV/AIDS\": 3.6, \"Hepatitis B\": 75.0, \"Percentage Expenditure Outlierless\": null, \"Hepatitis B Outlierless\": 75.0}, {\"Year\": \"2014\", \"Percentage Expenditure\": \"922.0507313\", \"HIV/AIDS\": 3.7, \"Hepatitis B\": 8.0, \"Percentage Expenditure Outlierless\": 922.0507313, \"Hepatitis B Outlierless\": null}, {\"Year\": \"2013\", \"Percentage Expenditure\": \"978.5905287\", \"HIV/AIDS\": 4.5, \"Hepatitis B\": 7.0, \"Percentage Expenditure Outlierless\": 978.5905287, \"Hepatitis B Outlierless\": null}, {\"Year\": \"2012\", \"Percentage Expenditure\": \"1089.954838\", \"HIV/AIDS\": 7.6, \"Hepatitis B\": 68.0, \"Percentage Expenditure Outlierless\": 1089.954838, \"Hepatitis B Outlierless\": 68.0}, {\"Year\": \"2011\", \"Percentage Expenditure\": \"123.753335\", \"HIV/AIDS\": 8.5, \"Hepatitis B\": 76.0, \"Percentage Expenditure Outlierless\": null, \"Hepatitis B Outlierless\": 76.0}, {\"Year\": \"2010\", \"Percentage Expenditure\": \"1038.885632\", \"HIV/AIDS\": 11.0, \"Hepatitis B\": 71.0, \"Percentage Expenditure Outlierless\": 1038.885632, \"Hepatitis B Outlierless\": 71.0}, {\"Year\": \"2009\", \"Percentage Expenditure\": \"782.5987144\", \"HIV/AIDS\": 19.0, \"Hepatitis B\": 74.0, \"Percentage Expenditure Outlierless\": 782.5987144, \"Hepatitis B Outlierless\": 74.0}, {\"Year\": \"2008\", \"Percentage Expenditure\": \"780.0336423\", \"HIV/AIDS\": 23.5, \"Hepatitis B\": 76.0, \"Percentage Expenditure Outlierless\": 780.0336423, \"Hepatitis B Outlierless\": 76.0}, {\"Year\": \"2007\", \"Percentage Expenditure\": \"805.490079\", \"HIV/AIDS\": 26.4, \"Hepatitis B\": 83.0, \"Percentage Expenditure Outlierless\": 805.490079, \"Hepatitis B Outlierless\": 83.0}, {\"Year\": \"2006\", \"Percentage Expenditure\": \"732.1255305\", \"HIV/AIDS\": 28.1, \"Hepatitis B\": 83.0, \"Percentage Expenditure Outlierless\": 732.1255305, \"Hepatitis B Outlierless\": 83.0}, {\"Year\": \"2005\", \"Percentage Expenditure\": \"709.3170967\", \"HIV/AIDS\": 29.5, \"Hepatitis B\": 79.0, \"Percentage Expenditure Outlierless\": 709.3170967, \"Hepatitis B Outlierless\": 79.0}, {\"Year\": \"2004\", \"Percentage Expenditure\": \"622.043809\", \"HIV/AIDS\": 29.7, \"Hepatitis B\": 76.0, \"Percentage Expenditure Outlierless\": 622.043809, \"Hepatitis B Outlierless\": 76.0}, {\"Year\": \"2003\", \"Percentage Expenditure\": \"519.1563781\", \"HIV/AIDS\": 28.9, \"Hepatitis B\": 71.0, \"Percentage Expenditure Outlierless\": 519.1563781, \"Hepatitis B Outlierless\": 71.0}, {\"Year\": \"2002\", \"Percentage Expenditure\": \"346.5316007\", \"HIV/AIDS\": 26.6, \"Hepatitis B\": 72.0, \"Percentage Expenditure Outlierless\": 346.5316007, \"Hepatitis B Outlierless\": 72.0}, {\"Year\": \"2001\", \"Percentage Expenditure\": \"365.2585722\", \"HIV/AIDS\": 24.0, \"Hepatitis B\": 72.0, \"Percentage Expenditure Outlierless\": 365.2585722, \"Hepatitis B Outlierless\": 72.0}, {\"Year\": \"2000\", \"Percentage Expenditure\": \"45.96380839\", \"HIV/AIDS\": 21.3, \"Hepatitis B\": 73.0, \"Percentage Expenditure Outlierless\": 45.96380839, \"Hepatitis B Outlierless\": 73.0}]}}, {\"mode\": \"vega-lite\"});\n</script>",
                  "text/plain": "alt.Chart(...)"
                },
                "metadata": {}
              }
            ]
          }
        },
        "de38eaac7e9945cabb5e194eab00b8c1": {
          "model_module": "@jupyter-widgets/base",
          "model_name": "LayoutModel",
          "model_module_version": "1.2.0",
          "state": {
            "_model_module": "@jupyter-widgets/base",
            "_model_module_version": "1.2.0",
            "_model_name": "LayoutModel",
            "_view_count": null,
            "_view_module": "@jupyter-widgets/base",
            "_view_module_version": "1.2.0",
            "_view_name": "LayoutView",
            "align_content": null,
            "align_items": null,
            "align_self": null,
            "border": null,
            "bottom": null,
            "display": null,
            "flex": null,
            "flex_flow": null,
            "grid_area": "footer",
            "grid_auto_columns": null,
            "grid_auto_flow": null,
            "grid_auto_rows": null,
            "grid_column": null,
            "grid_gap": null,
            "grid_row": null,
            "grid_template_areas": null,
            "grid_template_columns": null,
            "grid_template_rows": null,
            "height": null,
            "justify_content": null,
            "justify_items": null,
            "left": null,
            "margin": null,
            "max_height": null,
            "max_width": null,
            "min_height": null,
            "min_width": null,
            "object_fit": null,
            "object_position": null,
            "order": null,
            "overflow": null,
            "overflow_x": null,
            "overflow_y": null,
            "padding": null,
            "right": null,
            "top": null,
            "visibility": null,
            "width": null
          }
        },
        "e9186dbfe52043288f85edae7e70b1f9": {
          "model_module": "@jupyter-widgets/base",
          "model_name": "LayoutModel",
          "model_module_version": "1.2.0",
          "state": {
            "_model_module": "@jupyter-widgets/base",
            "_model_module_version": "1.2.0",
            "_model_name": "LayoutModel",
            "_view_count": null,
            "_view_module": "@jupyter-widgets/base",
            "_view_module_version": "1.2.0",
            "_view_name": "LayoutView",
            "align_content": null,
            "align_items": null,
            "align_self": null,
            "border": null,
            "bottom": null,
            "display": null,
            "flex": null,
            "flex_flow": null,
            "grid_area": "header",
            "grid_auto_columns": null,
            "grid_auto_flow": null,
            "grid_auto_rows": null,
            "grid_column": null,
            "grid_gap": null,
            "grid_row": null,
            "grid_template_areas": null,
            "grid_template_columns": null,
            "grid_template_rows": null,
            "height": null,
            "justify_content": null,
            "justify_items": null,
            "left": null,
            "margin": null,
            "max_height": null,
            "max_width": null,
            "min_height": null,
            "min_width": null,
            "object_fit": null,
            "object_position": null,
            "order": null,
            "overflow": null,
            "overflow_x": null,
            "overflow_y": null,
            "padding": null,
            "right": null,
            "top": null,
            "visibility": null,
            "width": null
          }
        },
        "0b7b461643ab4580985abf55a0041eeb": {
          "model_module": "@jupyter-widgets/base",
          "model_name": "LayoutModel",
          "model_module_version": "1.2.0",
          "state": {
            "_model_module": "@jupyter-widgets/base",
            "_model_module_version": "1.2.0",
            "_model_name": "LayoutModel",
            "_view_count": null,
            "_view_module": "@jupyter-widgets/base",
            "_view_module_version": "1.2.0",
            "_view_name": "LayoutView",
            "align_content": null,
            "align_items": null,
            "align_self": null,
            "border": null,
            "bottom": null,
            "display": null,
            "flex": null,
            "flex_flow": null,
            "grid_area": null,
            "grid_auto_columns": null,
            "grid_auto_flow": null,
            "grid_auto_rows": null,
            "grid_column": null,
            "grid_gap": null,
            "grid_row": null,
            "grid_template_areas": null,
            "grid_template_columns": null,
            "grid_template_rows": null,
            "height": null,
            "justify_content": null,
            "justify_items": null,
            "left": null,
            "margin": null,
            "max_height": null,
            "max_width": null,
            "min_height": null,
            "min_width": null,
            "object_fit": null,
            "object_position": null,
            "order": null,
            "overflow": null,
            "overflow_x": null,
            "overflow_y": null,
            "padding": null,
            "right": null,
            "top": null,
            "visibility": null,
            "width": null
          }
        },
        "146c7dfeafb744e5806bd08cefa47126": {
          "model_module": "@jupyter-widgets/base",
          "model_name": "LayoutModel",
          "model_module_version": "1.2.0",
          "state": {
            "_model_module": "@jupyter-widgets/base",
            "_model_module_version": "1.2.0",
            "_model_name": "LayoutModel",
            "_view_count": null,
            "_view_module": "@jupyter-widgets/base",
            "_view_module_version": "1.2.0",
            "_view_name": "LayoutView",
            "align_content": null,
            "align_items": null,
            "align_self": null,
            "border": null,
            "bottom": null,
            "display": null,
            "flex": null,
            "flex_flow": null,
            "grid_area": null,
            "grid_auto_columns": null,
            "grid_auto_flow": null,
            "grid_auto_rows": null,
            "grid_column": null,
            "grid_gap": null,
            "grid_row": null,
            "grid_template_areas": null,
            "grid_template_columns": null,
            "grid_template_rows": null,
            "height": null,
            "justify_content": null,
            "justify_items": null,
            "left": null,
            "margin": null,
            "max_height": null,
            "max_width": null,
            "min_height": null,
            "min_width": null,
            "object_fit": null,
            "object_position": null,
            "order": null,
            "overflow": null,
            "overflow_x": null,
            "overflow_y": null,
            "padding": null,
            "right": null,
            "top": null,
            "visibility": null,
            "width": null
          }
        },
        "56c1deddb08c47b5924357aa6eadc913": {
          "model_module": "@jupyter-widgets/base",
          "model_name": "LayoutModel",
          "model_module_version": "1.2.0",
          "state": {
            "_model_module": "@jupyter-widgets/base",
            "_model_module_version": "1.2.0",
            "_model_name": "LayoutModel",
            "_view_count": null,
            "_view_module": "@jupyter-widgets/base",
            "_view_module_version": "1.2.0",
            "_view_name": "LayoutView",
            "align_content": null,
            "align_items": null,
            "align_self": null,
            "border": null,
            "bottom": null,
            "display": null,
            "flex": null,
            "flex_flow": null,
            "grid_area": null,
            "grid_auto_columns": null,
            "grid_auto_flow": null,
            "grid_auto_rows": null,
            "grid_column": null,
            "grid_gap": null,
            "grid_row": null,
            "grid_template_areas": null,
            "grid_template_columns": null,
            "grid_template_rows": null,
            "height": null,
            "justify_content": null,
            "justify_items": null,
            "left": null,
            "margin": null,
            "max_height": null,
            "max_width": null,
            "min_height": null,
            "min_width": null,
            "object_fit": null,
            "object_position": null,
            "order": null,
            "overflow": null,
            "overflow_x": null,
            "overflow_y": null,
            "padding": null,
            "right": null,
            "top": null,
            "visibility": null,
            "width": null
          }
        },
        "a37f1ceb66dd426aa3c834e42569e2d9": {
          "model_module": "@jupyter-widgets/base",
          "model_name": "LayoutModel",
          "model_module_version": "1.2.0",
          "state": {
            "_model_module": "@jupyter-widgets/base",
            "_model_module_version": "1.2.0",
            "_model_name": "LayoutModel",
            "_view_count": null,
            "_view_module": "@jupyter-widgets/base",
            "_view_module_version": "1.2.0",
            "_view_name": "LayoutView",
            "align_content": null,
            "align_items": null,
            "align_self": null,
            "border": null,
            "bottom": null,
            "display": null,
            "flex": null,
            "flex_flow": null,
            "grid_area": null,
            "grid_auto_columns": null,
            "grid_auto_flow": null,
            "grid_auto_rows": null,
            "grid_column": null,
            "grid_gap": null,
            "grid_row": null,
            "grid_template_areas": null,
            "grid_template_columns": null,
            "grid_template_rows": null,
            "height": null,
            "justify_content": null,
            "justify_items": null,
            "left": null,
            "margin": null,
            "max_height": null,
            "max_width": null,
            "min_height": null,
            "min_width": null,
            "object_fit": null,
            "object_position": null,
            "order": null,
            "overflow": null,
            "overflow_x": null,
            "overflow_y": null,
            "padding": null,
            "right": null,
            "top": null,
            "visibility": null,
            "width": null
          }
        },
        "4d258cafc3c3449398cc749779406a93": {
          "model_module": "@jupyter-widgets/base",
          "model_name": "LayoutModel",
          "model_module_version": "1.2.0",
          "state": {
            "_model_module": "@jupyter-widgets/base",
            "_model_module_version": "1.2.0",
            "_model_name": "LayoutModel",
            "_view_count": null,
            "_view_module": "@jupyter-widgets/base",
            "_view_module_version": "1.2.0",
            "_view_name": "LayoutView",
            "align_content": null,
            "align_items": null,
            "align_self": null,
            "border": null,
            "bottom": null,
            "display": null,
            "flex": null,
            "flex_flow": null,
            "grid_area": null,
            "grid_auto_columns": null,
            "grid_auto_flow": null,
            "grid_auto_rows": null,
            "grid_column": null,
            "grid_gap": null,
            "grid_row": null,
            "grid_template_areas": null,
            "grid_template_columns": null,
            "grid_template_rows": null,
            "height": null,
            "justify_content": null,
            "justify_items": null,
            "left": null,
            "margin": null,
            "max_height": null,
            "max_width": null,
            "min_height": null,
            "min_width": null,
            "object_fit": null,
            "object_position": null,
            "order": null,
            "overflow": null,
            "overflow_x": null,
            "overflow_y": null,
            "padding": null,
            "right": null,
            "top": null,
            "visibility": null,
            "width": null
          }
        }
      }
    }
  },
  "cells": [
    {
      "cell_type": "markdown",
      "metadata": {
        "id": "view-in-github",
        "colab_type": "text"
      },
      "source": [
        "<a href=\"https://colab.research.google.com/github/Peiprjs/voila/blob/main/notebooks/STD_indicator_S%26R_healthcare_SA_NL.ipynb\" target=\"_parent\"><img src=\"https://colab.research.google.com/assets/colab-badge.svg\" alt=\"Open In Colab\"/></a>"
      ]
    },
    {
      "cell_type": "markdown",
      "source": [
        "# Sexually transmitted diseases as indicators of sexual and reproductive healthcare in South Africa and the Netherlands\n",
        "#### A project by Ellie Petrova (i6326413) and Mar Roca (i6351071)\n",
        "\n",
        "---\n",
        "> Has South Africa improved its treatment of pregnant and fertile people who are HIV-positive between 2000 and 2015, leading to less child deaths? Have Hepatitis-B vaccinations (Hep-B can be transmitted sexually) in 1-year-olds increased in that timeframe? Does increased healthcare spending correlate with lower HIV/AIDS deaths in newborns and children, as well as Hepatitis-B vaccinations in 1-year-olds?\n",
        "\n",
        "> How does the death rate of 0-4 year-olds due to HIV/AIDS compare between the Netherlands and an ex-Dutch colony (South Africa)? Is it related to healthcare spending?"
      ],
      "metadata": {
        "id": "KLzIaEvKBt_s"
      }
    },
    {
      "cell_type": "code",
      "source": [
        "# REMOVE?? Only if stuff breaks\n",
        "# !pip install altair==5.2.0 --quiet\n",
        "# (we needed Altair 5.2.0 specifically because of some version-specific update, so we call for it using PIP, muting the output)"
      ],
      "metadata": {
        "id": "FD7HdVHO1oPI"
      },
      "execution_count": null,
      "outputs": []
    },
    {
      "cell_type": "code",
      "source": [
        "import numpy as np\n",
        "import pandas as pd\n",
        "import altair as alt\n",
        "import ipywidgets as widgets\n",
        "from ipywidgets import interact, Layout, GridspecLayout, AppLayout, TwoByTwoLayout\n",
        "\n",
        "# This imports the required dependencies"
      ],
      "metadata": {
        "id": "ETx6aujL59HQ"
      },
      "execution_count": 19,
      "outputs": []
    },
    {
      "cell_type": "code",
      "source": [
        "healthFactors = pd.read_csv('https://raw.githubusercontent.com/NHameleers/dtz2025-datasets/master/CountryHealthFactors.csv')\n",
        "healthFactors = healthFactors.rename(columns=lambda x: x.strip().title())\n",
        "healthFactors = healthFactors.rename(columns={\"Hiv/Aids\": \"HIV/AIDS\", \"Gdp\": \"GDP\", \"Bmi\": \"BMI\"})\n",
        "# This imports the CSV with the dataset and strips leading and trailing whitespaces in the indexes. It also changes all indexes into the Title format (first letter of each word capitalised) for style and uniformity. HIV/AIDS, BMI and GDP are kept as exemptions due to being made up of initials.\n",
        "hf_SouthAfrica = healthFactors.loc[healthFactors.Country == \"South Africa\", ['Year', 'Percentage Expenditure', 'HIV/AIDS', 'Hepatitis B']]\n",
        "hf_Netherlands = healthFactors.loc[healthFactors.Country == \"Netherlands\", ['Year', 'Percentage Expenditure', 'HIV/AIDS', 'Hepatitis B']]\n",
        "# This selects only the data that we're interested in: Years, Total expenditure and HIV/AIDS\n",
        "# from rows which Country column is equal to South Africa and the Netherlands respectively"
      ],
      "metadata": {
        "id": "qEf-8m00C5bG"
      },
      "execution_count": null,
      "outputs": []
    },
    {
      "cell_type": "code",
      "source": [
        "def make_scatter(dataframe, varX, varY, typeX):\n",
        "  dataframe[varX] = dataframe[varX].astype(str)\n",
        "  # We need to perform this type conversion because of Altair being weird with years. According to the documentation, we must define it as string and specify the variable type as temporal\n",
        "  scatter = alt.Chart(dataframe).mark_circle(opacity=0.5).encode(\n",
        "    alt.X(varX, type= typeX, scale=alt.Scale(zero=False)),\n",
        "    alt.Y(varY, type= 'quantitative'),)\n",
        "  # This first part draws the dots in the scatter plot\n",
        "  scatter_w_loess = scatter + scatter.transform_loess(varX, varY).mark_line()\n",
        "  # This second part draws a LOESS (LOcally Estimated Scatterplot Smoothing) line, which makes seeing the evolution easier.\n",
        "  display(scatter_w_loess)\n",
        "# This first class defines how to make a scatter plot with LOESS very easily, simply passing to the class a dataframe, the x-variable and the y-variable indexes.\n",
        "\n",
        "def make_boxplot(dataframe, var):\n",
        "  boxplot = alt.Chart(dataframe).mark_boxplot().encode(\n",
        "    alt.Y(var, type = 'quantitative', scale=alt.Scale(zero=True))\n",
        "  )\n",
        "  display(boxplot)"
      ],
      "metadata": {
        "id": "0oAU6gW6UMzy"
      },
      "execution_count": null,
      "outputs": []
    },
    {
      "cell_type": "markdown",
      "source": [
        "We start off by importing all the necessary packages, and loading the CSV containing the health factors data. This file needs to be parsed using Pandas, and some indexes must be corrected. We strip leading and trailing spaces, as well as converting all indexes to a Title format (first letter of each word is capitalised) for stylistic and standardisation reasons, except for acronyms.\n",
        "We also select the variables that we are interested in studying: Year, Percentage Expenditure and HIV/AIDS in the rows in which the country is South Africa or Netherlands. Finally, we set up some Classes that we will need to use frequently."
      ],
      "metadata": {
        "id": "PKo0LA7QNx8z"
      }
    },
    {
      "cell_type": "code",
      "source": [
        "print(f\"The datasets have both the same shape: {hf_SouthAfrica.shape[0]} rows and {hf_SouthAfrica.shape[1]} colums\")\n",
        "print(f\"The data that we have was collected between {hf_SouthAfrica.Year.min()} and {hf_Netherlands.Year.max()}\")"
      ],
      "metadata": {
        "id": "ZYOil9hwdk2I",
        "colab": {
          "base_uri": "https://localhost:8080/"
        },
        "outputId": "aa398706-1ede-426b-b884-1f087d919da6"
      },
      "execution_count": null,
      "outputs": [
        {
          "output_type": "stream",
          "name": "stdout",
          "text": [
            "The datasets have both the same shape: 16 rows and 4 colums\n",
            "The data that we have was collected between 2000 and 2015\n"
          ]
        }
      ]
    },
    {
      "cell_type": "markdown",
      "source": [
        "By running `hf_SouthAfrica.shape` or `hf_Netherlands.shape` we get the shapes of the dataframes resulting from isolating the data that we are interested in. We can observe that both of the resulting frames have a shape of **16x3**: **16** rows and **3** columns. By running `hf_SouthAfrica.Year.min()` or `hf_SouthAfrica.Year.max()` we can find out between what years we have the data from: **2000** to **2015**"
      ],
      "metadata": {
        "id": "SF23EHfCdWnu"
      }
    },
    {
      "cell_type": "markdown",
      "source": [
        "# In South Africa throughout the years (2000-2015) - Mar Roca\n"
      ],
      "metadata": {
        "id": "XC7ZdAxvCStq"
      }
    },
    {
      "cell_type": "markdown",
      "source": [
        "### Introduction\n",
        "> Has South Africa improved its treatment of pregnant and fertile people who are HIV-positive between 2000 and 2015, leading to less child deaths? Does increased healthcare spending correlate with lower HIV/AIDS deaths in newborns and children?\n",
        "\n",
        "We will try to answer these questions basing us on percentage of GDP/capita spent on healthcare, the per-mille deaths of children aged 0-4 attributed to HIV/AIDS, and the percentage of 1-year-olds vaccinated against Hepatitis-B. We believe these is the best variable we have available to determine the quality of sexual and reproductive healthcare, especially when it comes to sexually-transmitted diseases, as the parents can transfer HIV to their children, but only if they are HIV-Positive, therefore, not receiving antiretroviral treatment that would turn them HIV-Indetectable, and therefore HIV-Intransmittable (in the case of per-mille HIV/AIDS deaths of 0-4 year-olds); and a more robust healthcare system with good public conscientisation of the need for vaccinations (in the case of Hepatitis-B).\n",
        "\n",
        "We hypothesize that we will see some sort of negative correlation between expenditure and HIV/AIDS deaths in newborns and children, because with more healthcare spending will come more testing availability (we may see a small increase of **REPORTED** HIV/AIDS deaths in newborns as healthcare spending increases, due to the increased availability of testing), as well as better access to antiretrovirals, which can turn a previously HIV-positive into an HIV-indetectable, meaning that HIV can no longer be transmitted, yet still lays dormant in the patient's body. We also hypothesize that HIV/AIDS deaths in children aged 0-4 will decrease as years pass, but that healthcare spending will increase. We also hope to see a similar trend with Hepatitis-B vaccinations for 1-year-olds: increasing vaccinations as expenditure and years increase."
      ],
      "metadata": {
        "id": "p5GubZHzZCPn"
      }
    },
    {
      "cell_type": "code",
      "source": [
        "print(hf_SouthAfrica.loc[hf_SouthAfrica.isna().values])"
      ],
      "metadata": {
        "colab": {
          "base_uri": "https://localhost:8080/"
        },
        "id": "1XGD6IfvTW6K",
        "outputId": "60429c4c-a3b9-41b2-da44-057f1c2feb7f"
      },
      "execution_count": null,
      "outputs": [
        {
          "output_type": "stream",
          "name": "stdout",
          "text": [
            "Empty DataFrame\n",
            "Columns: [Year, Percentage Expenditure, HIV/AIDS, Hepatitis B]\n",
            "Index: []\n"
          ]
        }
      ]
    },
    {
      "cell_type": "markdown",
      "source": [
        "The singular line of code above allows us to find in the entire dataframe of data that we selected the instances in which there's a NaN. We can see that in our selected portion of data, there is no missing values, as it returns an empty dataframe."
      ],
      "metadata": {
        "id": "DBgRmANPVw3L"
      }
    },
    {
      "cell_type": "markdown",
      "source": [
        "## Statistical analysis"
      ],
      "metadata": {
        "id": "-nQPozKppnGH"
      }
    },
    {
      "cell_type": "markdown",
      "source": [
        "The first step in any statistical analysis is to graph the variables we're interested in studying, to see if there is and (in case there is) what kind of relationship the two variables follow.\n",
        "So, we will start by generating graphs using Altair. The next step will be to calculate some descriptive statistics."
      ],
      "metadata": {
        "id": "76AxuUrR16Um"
      }
    },
    {
      "cell_type": "code",
      "execution_count": 20,
      "metadata": {
        "colab": {
          "base_uri": "https://localhost:8080/",
          "height": 765,
          "referenced_widgets": [
            "cc9700759e4a4945afaee3ffd2e96f05",
            "d22cea0f16454df9a2e32bf27d53e8c3",
            "e4150cc4b151463abc336434f8ca3d9c",
            "a18a2771732e4beca56338190c8e5fe9",
            "aab828111f0f4ab79b99cfdb2b012cc7",
            "4bb2459845ee44a882c47eb2d4f2ef35",
            "40e782092bd142039483d6912f34a5f5",
            "015e2ac16b0f45ab95516723ad92e178",
            "f36052ce343c4d95baffa4af5321436c",
            "1cb11ffccdec4db780866105a5fb2cd4",
            "04d40b9eb7bf46d7863d359a5d2a0320",
            "14c4a90df1954e6f82c3a6532485c61e",
            "52e4608d0e1a46d48562ec5bddf59fe3",
            "dcc45d217cd847f3a86a1db6b476e972"
          ]
        },
        "id": "qbZ1SBOhTfKN",
        "outputId": "f8e4adc8-4753-4aa4-9de8-21bf2d45411b"
      },
      "outputs": [
        {
          "output_type": "display_data",
          "data": {
            "text/plain": [
              "TwoByTwoLayout(children=(Output(layout=Layout(grid_area='top-left')), HBox(children=(Output(), Output()), layo…"
            ],
            "application/vnd.jupyter.widget-view+json": {
              "version_major": 2,
              "version_minor": 0,
              "model_id": "cc9700759e4a4945afaee3ffd2e96f05"
            }
          },
          "metadata": {}
        }
      ],
      "source": [
        "graph_HIV_Year = widgets.Output()\n",
        "with graph_HIV_Year:\n",
        "  make_scatter(hf_SouthAfrica, \"Year\", \"HIV/AIDS\", 'temporal')\n",
        "\n",
        "graph_HEP_Year = widgets.Output()\n",
        "with graph_HEP_Year:\n",
        "  make_scatter(hf_SouthAfrica, \"Year\", \"Hepatitis B\", 'temporal')\n",
        "\n",
        "graph_Expend_Year = widgets.Output()\n",
        "with graph_Expend_Year:\n",
        "  make_scatter(hf_SouthAfrica, \"Year\", \"Percentage Expenditure\", 'temporal')\n",
        "\n",
        "graph_HIV_Expend = widgets.Output()\n",
        "with graph_HIV_Expend:\n",
        "  make_scatter(hf_SouthAfrica, \"Percentage Expenditure\", \"HIV/AIDS\", 'quantitative')\n",
        "\n",
        "graph_HEP_Expend = widgets.Output()\n",
        "with graph_HEP_Expend:\n",
        "  make_scatter(hf_SouthAfrica, \"Percentage Expenditure\", \"Hepatitis B\", 'quantitative')\n",
        "# This first section defines all the graphs we want to plot\n",
        "\n",
        "\n",
        "TwoByTwoLayout(top_left=graph_HIV_Year,\n",
        "               top_right=widgets.HBox([graph_HEP_Year,graph_Expend_Year]),\n",
        "               bottom_left=graph_HIV_Expend,\n",
        "               bottom_right=graph_HEP_Expend)\n",
        "\n",
        "# widgets.HBox([graph_HIV_Year, graph_HEP_Year, graph_Expend_Year, graph_HIV_Expend, graph_HEP_Expend])\n",
        "# And then we display all of them together in a row"
      ]
    },
    {
      "cell_type": "markdown",
      "source": [
        "The code above generates XY scatterplots for the variables that we are interested in, which show that:\n",
        "- Except for an increase before 2004, HIV deaths in children aged 0 to 4 steadily decreased since 2004 and seem to have plateau'd at below 5 per 1000 live births.\n",
        "- There seems to be two outliers in the percentage expenditure. We can see one in 2011, when South Africa *only* spent a bit over 100% of its GDP per capita, and in 2015, where it was reported at 0. We can assume that the data for 2015 is missing, and so the percentage calculation returned 0.\n",
        "- HIV deaths seemed to increase with percentage expenditure, until the expenditure reached a certain limit, at which point the cases seem to drop significantly.\n",
        "- Except for the case of two outliers, it would seem as though vaccinations of 1-year-olds have been kept uniformly high between 70% and 80%. We were unable to find information online as to why this sudden 2-year drop might have been caused, so we will assume it was due to some sort of informatic or bureaucratic mishap.\n",
        "\n",
        "We will compute new columns out of those colums we found to have contained outliers, excluding the outlying values. They will appear as `NaN`, so they will be ignored when we perform descriptive statistics using `Pandas.describe()` or graphing using `Altair.Chart()`. We will then make graphs out of this new dataframe."
      ],
      "metadata": {
        "id": "GlEobL2bxUsw"
      }
    },
    {
      "cell_type": "code",
      "source": [
        "hf_SouthAfrica[\"Percentage Expenditure Outlierless\"] = hf_SouthAfrica.loc[(hf_SouthAfrica[\"Year\"] != \"2011\") & (hf_SouthAfrica[\"Year\"] != \"2015\"), \"Percentage Expenditure\"]\n",
        "hf_SouthAfrica[\"Hepatitis B Outlierless\"] = hf_SouthAfrica.loc[(hf_SouthAfrica[\"Year\"] != \"2013\") & (hf_SouthAfrica[\"Year\"] != \"2014\"), \"Hepatitis B\"]\n",
        "# We use these line of code to remove the datapoints which we considered outliers.\n",
        "\n",
        "graph_Expend_Year = widgets.Output()\n",
        "with graph_Expend_Year:\n",
        "  make_scatter(hf_SouthAfrica, \"Year\", \"Percentage Expenditure Outlierless\", 'temporal')\n",
        "\n",
        "graph_HIV_Expend = widgets.Output()\n",
        "with graph_HIV_Expend:\n",
        "  make_scatter(hf_SouthAfrica, \"Percentage Expenditure Outlierless\", \"HIV/AIDS\", 'quantitative')\n",
        "\n",
        "graph_HEP_Expend = widgets.Output()\n",
        "with graph_HEP_Expend:\n",
        "  make_scatter(hf_SouthAfrica, \"Percentage Expenditure Outlierless\", \"Hepatitis B Outlierless\", 'quantitative')\n",
        "\n",
        "widgets.HBox([graph_Expend_Year, graph_HIV_Expend, graph_HEP_Expend])"
      ],
      "metadata": {
        "colab": {
          "base_uri": "https://localhost:8080/",
          "height": 368,
          "referenced_widgets": [
            "b5a22911f7ce476ca031f2da3427be4a",
            "5ece8df4902448d4a0b0d8f53ab093c4",
            "220ed422571e49e6a096f96086f80291",
            "cf4f26b2b49b4d70b959d7cf3502a45d",
            "8e67cd9c8d9842b796577a77516815b3",
            "6f6cdb235ae44f949a53c2efd81cdc1f",
            "54cf014591904fb2afd2bd9d5695d158",
            "82d0effdeb2a49f4ac26970d86baeacd"
          ]
        },
        "id": "gEHYGu9zna7U",
        "outputId": "8e8adce0-fbad-45e9-adda-c5ed5453288c"
      },
      "execution_count": null,
      "outputs": [
        {
          "output_type": "display_data",
          "data": {
            "text/plain": [
              "HBox(children=(Output(), Output(), Output()))"
            ],
            "application/vnd.jupyter.widget-view+json": {
              "version_major": 2,
              "version_minor": 0,
              "model_id": "b5a22911f7ce476ca031f2da3427be4a"
            }
          },
          "metadata": {}
        }
      ]
    },
    {
      "cell_type": "markdown",
      "source": [
        "In this new graph we can observe how expenditure on healthcare (as a percentage of GDP per capita) has been slowly increasing since 2000, with a small decline after 2012.\n",
        "We can also observe in the Percentage Expenditure vs HIV/AIDS deaths graph where outliers have been removed, that there is actually a gradual increase as healthcare expenditure increases, and an immediate drop-off when it increases after a certain point.\n",
        "\n",
        "\n",
        "We will now perform a descriptive statistics analysis on our data."
      ],
      "metadata": {
        "id": "C3xunki4rLQV"
      }
    },
    {
      "cell_type": "code",
      "source": [
        "hf_SouthAfrica[\"Percentage Expenditure Outlierless\"] = hf_SouthAfrica[\"Percentage Expenditure Outlierless\"].astype('float64') # Had to fix Percentage Expenditure AND Percentage Expenditure Outlierless somehow being an object and not a float64\n",
        "\n",
        "table = widgets.Output()\n",
        "with table:\n",
        "  display(hf_SouthAfrica.describe())\n",
        "\n",
        "box_HIV = widgets.Output()\n",
        "with box_HIV:\n",
        "  make_boxplot(hf_SouthAfrica, 'HIV/AIDS')\n",
        "\n",
        "box_PEO = widgets.Output()\n",
        "with box_PEO:\n",
        "  make_boxplot(hf_SouthAfrica, 'Percentage Expenditure Outlierless')\n",
        "\n",
        "box_PE = widgets.Output()\n",
        "with box_PE:\n",
        "  make_boxplot(hf_SouthAfrica, 'Percentage Expenditure')\n",
        "\n",
        "box_HEPBO = widgets.Output()\n",
        "with box_HEPBO:\n",
        "  make_boxplot(hf_SouthAfrica, 'Hepatitis B Outlierless')\n",
        "\n",
        "box_HEPB = widgets.Output()\n",
        "with box_HEPB:\n",
        "  make_boxplot(hf_SouthAfrica, 'Hepatitis B')\n",
        "\n",
        "AppLayout(header=table, footer=widgets.HBox([box_PEO, box_PE, box_HIV, box_HEPBO, box_HEPB]))\n"
      ],
      "metadata": {
        "colab": {
          "base_uri": "https://localhost:8080/",
          "height": 666,
          "referenced_widgets": [
            "97925609b7114895a468ed56050aa1fd",
            "30b23d05bcce4ba5b03349735c23b8ba",
            "c4c3a010d3344334954b0f270df16cc0",
            "a34b1f2f8fd447929791e82e689cde5b",
            "a764c9a6ea7e47229778451439c25621",
            "7171e82cd6284490964e0c59794b80ba",
            "f73bf7a389934e02af07a9d7915d1743",
            "6de477a7e46846109018c34d86da4dcc",
            "c909abe9d1b8431795397a9d5d709860",
            "de38eaac7e9945cabb5e194eab00b8c1",
            "e9186dbfe52043288f85edae7e70b1f9",
            "0b7b461643ab4580985abf55a0041eeb",
            "146c7dfeafb744e5806bd08cefa47126",
            "56c1deddb08c47b5924357aa6eadc913",
            "a37f1ceb66dd426aa3c834e42569e2d9",
            "4d258cafc3c3449398cc749779406a93"
          ]
        },
        "id": "ZiY986-Z9PlB",
        "outputId": "2d2036a6-317e-4385-a7f8-be0ebac8254a"
      },
      "execution_count": 16,
      "outputs": [
        {
          "output_type": "display_data",
          "data": {
            "text/plain": [
              "AppLayout(children=(Output(layout=Layout(grid_area='header')), HBox(children=(Output(), Output(), Output(), Ou…"
            ],
            "application/vnd.jupyter.widget-view+json": {
              "version_major": 2,
              "version_minor": 0,
              "model_id": "97925609b7114895a468ed56050aa1fd"
            }
          },
          "metadata": {}
        }
      ]
    },
    {
      "cell_type": "markdown",
      "source": [
        "We can see from the descriptive statistics table above that Percentage Expenditure had two less valid values, as we removed two clear outliers. We can also see at a glance from looking at the boxplots that HIV/AIDS deaths in children aged 0-4 that in the time period we studied, there was a big range in numbers, though the median was quite high, indicating that any change happened late in the period, giving it a negative skew.\n",
        "\n",
        "We can also see how removing the outliers affected the Percentage Expenditures, both Outliar-y and Outliar-less. We can also see that expenditure is quite consistent, and is skewed negatively as well.\n",
        "\n",
        "In the case of Hepatitis B, we can see how we were able to remove the outliers from 2013 and 2014, as Altair marked them on the boxplot with two circles. Another circle appears on the outlierless computed variable, but that is not unexpected, and it's not as extreme an outlier as the two values we removed."
      ],
      "metadata": {
        "id": "o46zKR_rTpQ_"
      }
    },
    {
      "cell_type": "markdown",
      "source": [
        "## Conclusions"
      ],
      "metadata": {
        "id": "UsaaX2aGoEKT"
      }
    },
    {
      "cell_type": "markdown",
      "source": [
        "Even though our sample size was relatively small (we only had 15 years worth of data to look at) we can reach three main conclusions:\n",
        "- South Africa has been steadily increasing the percentage of its GDP per capita it spends on healthcare\n",
        "- South Africa has had a relatively high and stable rate of vaccination against Hepatitis B\n",
        "- It would appear as though increased healthcare spending leads to less cases of early death due to HIV/AIDS.\n",
        "\n",
        "From these three basic points we can infer that:\n",
        "- South Africa has been improving its healthcare in general\n",
        "- South Africa has been improving its sexual and reproductive health, at least when it comes to STD treatments.\n",
        "- South Africa has"
      ],
      "metadata": {
        "id": "A3Vo__N2pvaF"
      }
    },
    {
      "cell_type": "markdown",
      "source": [
        "# Comparing South Africa and The Netherlands in [year] - Ellie Petrova\n",
        "\n"
      ],
      "metadata": {
        "id": "kIC51T5WCpiT"
      }
    },
    {
      "cell_type": "code",
      "source": [],
      "metadata": {
        "id": "AE4JsZ2jCy3b"
      },
      "execution_count": null,
      "outputs": []
    }
  ]
}