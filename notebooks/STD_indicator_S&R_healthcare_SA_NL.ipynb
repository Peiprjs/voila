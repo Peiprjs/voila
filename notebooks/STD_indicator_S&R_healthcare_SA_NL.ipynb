{
  "nbformat": 4,
  "nbformat_minor": 0,
  "metadata": {
    "colab": {
      "provenance": [],
      "toc_visible": true,
      "collapsed_sections": [
        "kIC51T5WCpiT"
      ],
      "authorship_tag": "ABX9TyPaFjuuJSgJbDsit7YgFi+m"
    },
    "kernelspec": {
      "name": "python3",
      "display_name": "Python 3"
    },
    "language_info": {
      "name": "python"
    }
  },
  "cells": [
    {
      "cell_type": "markdown",
      "source": [
        "# Sexually transmitted diseases as indicators of sexual and reproductive healthcare in South Africa and the Netherlands\n",
        "#### A project by Ellie Petrova (i6326413) and Mar Roca (i6351071)\n",
        "\n",
        "---\n",
        "> Has South Africa improved its treatment of pregnant and fertile people who are HIV-positive between 2000 and 2015, leading to less child deaths? Have Hepatitis-B vaccinations (Hep-B can be transmitted sexually) in 1-year-olds increased in that timeframe? Does increased healthcare spending correlate with lower HIV/AIDS deaths in newborns and children, as well as Hepatitis-B vaccinations in 1-year-olds?\n",
        "\n",
        "> How does the death rate of 0-4 year-olds due to HIV/AIDS compare between the Netherlands and an ex-Dutch colony (South Africa)? Is it related to healthcare spending?"
      ],
      "metadata": {
        "id": "KLzIaEvKBt_s"
      }
    },
    {
      "cell_type": "code",
      "source": [
        "# REMOVE?? Only if stuff doesn't break\n",
        "# !pip install altair==5.2.0 --quiet\n",
        "# (we needed Altair 5.2.0 specifically because of some version-specific update, so we call for it using PIP, muting the output)"
      ],
      "metadata": {
        "id": "FD7HdVHO1oPI"
      },
      "execution_count": null,
      "outputs": []
    },
    {
      "cell_type": "code",
      "source": [
        "import numpy as np\n",
        "import pandas as pd\n",
        "import altair as alt\n",
        "import ipywidgets as widgets\n",
        "from ipywidgets import interact, Layout, GridspecLayout, AppLayout, TwoByTwoLayout\n",
        "\n",
        "# This imports the required dependencies"
      ],
      "metadata": {
        "id": "ETx6aujL59HQ"
      },
      "execution_count": null,
      "outputs": []
    },
    {
      "cell_type": "code",
      "source": [
        "healthFactors = pd.read_csv('https://raw.githubusercontent.com/NHameleers/dtz2025-datasets/master/CountryHealthFactors.csv')\n",
        "healthFactors = healthFactors.rename(columns=lambda x: x.strip().title())\n",
        "healthFactors = healthFactors.rename(columns={\"Hiv/Aids\": \"HIV/AIDS\", \"Gdp\": \"GDP\", \"Bmi\": \"BMI\"})\n",
        "# This imports the CSV with the dataset and strips leading and trailing whitespaces in the indexes. It also changes all indexes into the Title format (first letter of each word capitalised) for style and uniformity. HIV/AIDS, BMI and GDP are kept as exemptions due to being made up of initials.\n",
        "hf_SouthAfrica = healthFactors.loc[healthFactors.Country == \"South Africa\", ['Year', 'Percentage Expenditure', 'HIV/AIDS', 'Hepatitis B']]\n",
        "hf_Netherlands = healthFactors.loc[healthFactors.Country == \"Netherlands\", ['Year', 'Percentage Expenditure', 'HIV/AIDS', 'Hepatitis B']]\n",
        "# This selects only the data that we're interested in: Years, Total expenditure and HIV/AIDS\n",
        "# from rows which Country column is equal to South Africa and the Netherlands respectively"
      ],
      "metadata": {
        "id": "qEf-8m00C5bG"
      },
      "execution_count": null,
      "outputs": []
    },
    {
      "cell_type": "code",
      "source": [
        "def make_scatter(dataframe, varX, varY, typeX):\n",
        "  dataframe[varX] = dataframe[varX].astype(str)\n",
        "  # We need to perform this type conversion because of Altair being weird with years. According to the documentation, we must define it as string and specify the variable type as temporal\n",
        "  scatter = alt.Chart(dataframe).mark_circle(opacity=0.5).encode(\n",
        "    alt.X(varX, type= typeX, scale=alt.Scale(zero=False)),\n",
        "    alt.Y(varY, type= 'quantitative'),)\n",
        "  # This first part draws the dots in the scatter plot\n",
        "  scatter_w_loess = scatter + scatter.transform_loess(varX, varY).mark_line()\n",
        "  # This second part draws a LOESS (LOcally Estimated Scatterplot Smoothing) line, which makes seeing the evolution easier.\n",
        "  display(scatter_w_loess)\n",
        "# This first class defines how to make a scatter plot with LOESS very easily, simply passing to the class a dataframe, the x-variable and the y-variable indexes.\n",
        "\n",
        "def make_boxplot(dataframe, var):\n",
        "  boxplot = alt.Chart(dataframe).mark_boxplot().encode(\n",
        "    alt.Y(var, type = 'quantitative', scale=alt.Scale(zero=True))\n",
        "  )\n",
        "  display(boxplot)"
      ],
      "metadata": {
        "id": "0oAU6gW6UMzy"
      },
      "execution_count": null,
      "outputs": []
    },
    {
      "cell_type": "code",
      "source": [],
      "metadata": {
        "id": "wRsmFxOjDnsj"
      },
      "execution_count": null,
      "outputs": []
    },
    {
      "cell_type": "markdown",
      "source": [
        "We start off by importing all the necessary packages, and loading the CSV containing the health factors data. This file needs to be parsed using Pandas, and some indexes must be corrected. We strip leading and trailing spaces, as well as converting all indexes to a Title format (first letter of each word is capitalised) for stylistic and standardisation reasons, except for acronyms.\n",
        "We also select the variables that we are interested in studying: Year, Percentage Expenditure and HIV/AIDS in the rows in which the country is South Africa or Netherlands. Finally, we set up some Classes that we will need to use frequently."
      ],
      "metadata": {
        "id": "PKo0LA7QNx8z"
      }
    },
    {
      "cell_type": "code",
      "source": [
        "print(f\"The datasets have both the same shape: {hf_SouthAfrica.shape[0]} rows and {hf_SouthAfrica.shape[1]} colums\")\n",
        "print(f\"The data that we have was collected between {hf_SouthAfrica.Year.min()} and {hf_Netherlands.Year.max()}\")"
      ],
      "metadata": {
        "id": "ZYOil9hwdk2I"
      },
      "execution_count": null,
      "outputs": []
    },
    {
      "cell_type": "markdown",
      "source": [
        "By running `hf_SouthAfrica.shape` or `hf_Netherlands.shape` we get the shapes of the dataframes resulting from isolating the data that we are interested in. We can observe that both of the resulting frames have a shape of **16x3**: **16** rows and **3** columns. By running `hf_SouthAfrica.Year.min()` or `hf_SouthAfrica.Year.max()` we can find out between what years we have the data from: **2000** to **2015**"
      ],
      "metadata": {
        "id": "SF23EHfCdWnu"
      }
    },
    {
      "cell_type": "markdown",
      "source": [
        "# In South Africa throughout the years (2000-2015) - Mar Roca\n"
      ],
      "metadata": {
        "id": "XC7ZdAxvCStq"
      }
    },
    {
      "cell_type": "markdown",
      "source": [
        "### Introduction\n",
        "> Has South Africa improved its treatment of pregnant and fertile people who are HIV-positive between 2000 and 2015, leading to less child deaths? Does increased healthcare spending correlate with lower HIV/AIDS deaths in newborns and children?\n",
        "\n",
        "We will try to answer these questions basing us on percentage of GDP/capita spent on healthcare, the per-mille deaths of children aged 0-4 attributed to HIV/AIDS, and the percentage of 1-year-olds vaccinated against Hepatitis-B. We believe these is the best variable we have available to determine the quality of sexual and reproductive healthcare, especially when it comes to sexually-transmitted diseases, as the parents can transfer HIV to their children, but only if they are HIV-Positive, therefore, not receiving antiretroviral treatment that would turn them HIV-Indetectable, and therefore HIV-Intransmittable (in the case of per-mille HIV/AIDS deaths of 0-4 year-olds); and a more robust healthcare system with good public conscientisation of the need for vaccinations (in the case of Hepatitis-B).\n",
        "\n",
        "We hypothesize that we will see some sort of negative correlation between expenditure and HIV/AIDS deaths in newborns and children, because with more healthcare spending will come more testing availability (we may see a small increase of **REPORTED** HIV/AIDS deaths in newborns as healthcare spending increases, due to the increased availability of testing), as well as better access to antiretrovirals, which can turn a previously HIV-positive into an HIV-indetectable, meaning that HIV can no longer be transmitted, yet still lays dormant in the patient's body. We also hypothesize that HIV/AIDS deaths in children aged 0-4 will decrease as years pass, but that healthcare spending will increase. We also hope to see a similar trend with Hepatitis-B vaccinations for 1-year-olds: increasing vaccinations as expenditure and years increase."
      ],
      "metadata": {
        "id": "p5GubZHzZCPn"
      }
    },
    {
      "cell_type": "code",
      "source": [
        "print(hf_SouthAfrica.loc[hf_SouthAfrica.isna().values])"
      ],
      "metadata": {
        "id": "1XGD6IfvTW6K"
      },
      "execution_count": null,
      "outputs": []
    },
    {
      "cell_type": "markdown",
      "source": [
        "The singular line of code above allows us to find in the entire dataframe of data that we selected the instances in which there's a NaN. We can see that in our selected portion of data, there is no missing values, as it returns an empty dataframe."
      ],
      "metadata": {
        "id": "DBgRmANPVw3L"
      }
    },
    {
      "cell_type": "markdown",
      "source": [
        "## Statistical analysis"
      ],
      "metadata": {
        "id": "-nQPozKppnGH"
      }
    },
    {
      "cell_type": "markdown",
      "source": [
        "The first step in any statistical analysis is to graph the variables we're interested in studying, to see if there is and (in case there is) what kind of relationship the two variables follow.\n",
        "So, we will start by generating graphs using Altair. The next step will be to calculate some descriptive statistics."
      ],
      "metadata": {
        "id": "76AxuUrR16Um"
      }
    },
    {
      "cell_type": "code",
      "execution_count": null,
      "metadata": {
        "id": "qbZ1SBOhTfKN"
      },
      "outputs": [],
      "source": [
        "grid = GridspecLayout(2, 3)\n",
        "\n",
        "graph_HIV_Year = widgets.Output()\n",
        "with graph_HIV_Year:\n",
        "  make_scatter(hf_SouthAfrica, \"Year\", \"HIV/AIDS\", 'temporal')\n",
        "grid[0,0] = graph_HIV_Year\n",
        "\n",
        "graph_HEP_Year = widgets.Output()\n",
        "with graph_HEP_Year:\n",
        "  make_scatter(hf_SouthAfrica, \"Year\", \"Hepatitis B\", 'temporal')\n",
        "grid[0,1] = graph_HEP_Year\n",
        "\n",
        "graph_Expend_Year = widgets.Output()\n",
        "with graph_Expend_Year:\n",
        "  make_scatter(hf_SouthAfrica, \"Year\", \"Percentage Expenditure\", 'temporal')\n",
        "grid[0,2] = graph_Expend_Year\n",
        "\n",
        "graph_HIV_Expend = widgets.Output()\n",
        "with graph_HIV_Expend:\n",
        "  make_scatter(hf_SouthAfrica, \"Percentage Expenditure\", \"HIV/AIDS\", 'quantitative')\n",
        "grid[1,0] = graph_HIV_Expend\n",
        "\n",
        "graph_HEP_Expend = widgets.Output()\n",
        "with graph_HEP_Expend:\n",
        "  make_scatter(hf_SouthAfrica, \"Percentage Expenditure\", \"Hepatitis B\", 'quantitative')\n",
        "grid[1,1] = graph_HEP_Expend\n",
        "# This first section defines all the graphs we want to plot, and organises them in a grid. Now we will call said grid.\n",
        "\n",
        "grid"
      ]
    },
    {
      "cell_type": "markdown",
      "source": [
        "The code above generates XY scatterplots for the variables that we are interested in, which show that:\n",
        "- Except for an increase before 2004, HIV deaths in children aged 0 to 4 steadily decreased since 2004 and seem to have plateau'd at below 5 per 1000 live births.\n",
        "- There seems to be two outliers in the percentage expenditure. We can see one in 2011, when South Africa *only* spent a bit over 100% of its GDP per capita, and in 2015, where it was reported at 0. We can assume that the data for 2015 is missing, and so the percentage calculation returned 0.\n",
        "- HIV deaths seemed to increase with percentage expenditure, until the expenditure reached a certain limit, at which point the cases seem to drop significantly.\n",
        "- Except for the case of two outliers, it would seem as though vaccinations of 1-year-olds have been kept uniformly high between 70% and 80%. We were unable to find information online as to why this sudden 2-year drop might have been caused, so we will assume it was due to some sort of informatic or bureaucratic mishap.\n",
        "\n",
        "We will compute new columns out of those colums we found to have contained outliers, excluding the outlying values. They will appear as `NaN`, so they will be ignored when we perform descriptive statistics using `Pandas.describe()` or graphing using `Altair.Chart()`. We will then make graphs out of this new dataframe."
      ],
      "metadata": {
        "id": "GlEobL2bxUsw"
      }
    },
    {
      "cell_type": "code",
      "source": [
        "hf_SouthAfrica[\"Percentage Expenditure Outlierless\"] = hf_SouthAfrica.loc[(hf_SouthAfrica[\"Year\"] != \"2011\") & (hf_SouthAfrica[\"Year\"] != \"2015\"), \"Percentage Expenditure\"]\n",
        "hf_SouthAfrica[\"Hepatitis B Outlierless\"] = hf_SouthAfrica.loc[(hf_SouthAfrica[\"Year\"] != \"2013\") & (hf_SouthAfrica[\"Year\"] != \"2014\"), \"Hepatitis B\"]\n",
        "# We use these line of code to remove the datapoints which we considered outliers.\n",
        "\n",
        "graph_Expend_Year_O = widgets.Output()\n",
        "with graph_Expend_Year_O:\n",
        "  make_scatter(hf_SouthAfrica, \"Year\", \"Percentage Expenditure Outlierless\", 'temporal')\n",
        "\n",
        "graph_HIV_Expend_O = widgets.Output()\n",
        "with graph_HIV_Expend_O:\n",
        "  make_scatter(hf_SouthAfrica, \"Percentage Expenditure Outlierless\", \"HIV/AIDS\", 'quantitative')\n",
        "\n",
        "graph_HEP_Expend_O = widgets.Output()\n",
        "with graph_HEP_Expend_O:\n",
        "  make_scatter(hf_SouthAfrica, \"Percentage Expenditure Outlierless\", \"Hepatitis B Outlierless\", 'quantitative')\n",
        "\n",
        "widgets.HBox([graph_Expend_Year_O, graph_HIV_Expend_O, graph_HEP_Expend_O])"
      ],
      "metadata": {
        "id": "gEHYGu9zna7U"
      },
      "execution_count": null,
      "outputs": []
    },
    {
      "cell_type": "markdown",
      "source": [
        "In this new graph we can observe how expenditure on healthcare (as a percentage of GDP per capita) has been slowly increasing since 2000, with a small decline after 2012.\n",
        "We can also observe in the Percentage Expenditure vs HIV/AIDS deaths graph where outliers have been removed, that there is actually a gradual increase as healthcare expenditure increases, and an immediate drop-off when it increases after a certain point.\n",
        "\n",
        "\n",
        "We will now perform a descriptive statistics analysis on our data."
      ],
      "metadata": {
        "id": "C3xunki4rLQV"
      }
    },
    {
      "cell_type": "code",
      "source": [
        "hf_SouthAfrica[\"Percentage Expenditure Outlierless\"] = hf_SouthAfrica[\"Percentage Expenditure Outlierless\"].astype('float64') # Had to fix Percentage Expenditure AND Percentage Expenditure Outlierless somehow being an object and not a float64\n",
        "\n",
        "table = widgets.Output()\n",
        "with table:\n",
        "  display(hf_SouthAfrica.describe())\n",
        "\n",
        "box_HIV = widgets.Output()\n",
        "with box_HIV:\n",
        "  make_boxplot(hf_SouthAfrica, 'HIV/AIDS')\n",
        "\n",
        "box_PEO = widgets.Output()\n",
        "with box_PEO:\n",
        "  make_boxplot(hf_SouthAfrica, 'Percentage Expenditure Outlierless')\n",
        "\n",
        "box_PE = widgets.Output()\n",
        "with box_PE:\n",
        "  make_boxplot(hf_SouthAfrica, 'Percentage Expenditure')\n",
        "\n",
        "box_HEPBO = widgets.Output()\n",
        "with box_HEPBO:\n",
        "  make_boxplot(hf_SouthAfrica, 'Hepatitis B Outlierless')\n",
        "\n",
        "box_HEPB = widgets.Output()\n",
        "with box_HEPB:\n",
        "  make_boxplot(hf_SouthAfrica, 'Hepatitis B')\n",
        "\n",
        "AppLayout(header=table, footer=widgets.HBox([box_PEO, box_PE, box_HIV, box_HEPBO, box_HEPB]))\n"
      ],
      "metadata": {
        "id": "ZiY986-Z9PlB"
      },
      "execution_count": null,
      "outputs": []
    },
    {
      "cell_type": "markdown",
      "source": [
        "We can see from the descriptive statistics table above that Percentage Expenditure had two less valid values, as we removed two clear outliers. We can also see at a glance from looking at the boxplots that HIV/AIDS deaths in children aged 0-4 that in the time period we studied, there was a big range in numbers, though the median was quite high, indicating that any change happened late in the period, giving it a negative skew.\n",
        "\n",
        "We can also see how removing the outliers affected the Percentage Expenditures, both Outliar-y and Outliar-less. We can also see that expenditure is quite consistent, and is skewed negatively as well.\n",
        "\n",
        "In the case of Hepatitis B, we can see how we were able to remove the outliers from 2013 and 2014, as Altair marked them on the boxplot with two circles. Another circle appears on the outlierless computed variable, but that is not unexpected, and it's not as extreme an outlier as the two values we removed."
      ],
      "metadata": {
        "id": "o46zKR_rTpQ_"
      }
    },
    {
      "cell_type": "markdown",
      "source": [
        "## Conclusions"
      ],
      "metadata": {
        "id": "UsaaX2aGoEKT"
      }
    },
    {
      "cell_type": "markdown",
      "source": [
        "Even though our sample size was relatively small (we only had 15 years worth of data to look at) we can reach three main conclusions:\n",
        "- South Africa has been steadily increasing the percentage of its GDP per capita it spends on healthcare\n",
        "- South Africa has had a relatively high and stable rate of vaccination against Hepatitis B\n",
        "- It would appear as though increased healthcare spending leads to less cases of early death due to HIV/AIDS.\n",
        "\n",
        "From these three basic points we can infer that:\n",
        "- South Africa has been improving its healthcare in general\n",
        "- South Africa has been improving its sexual and reproductive health, at least when it comes to STD treatments.\n",
        "- South Africa probably has more HIV-Indetectable patients now than in the year 2000.\n",
        "- South Africa has a stable and adequate, yet improvable, vaccine distribution and administration system.\n",
        "\n",
        "Of course, the data will probably have changed in the past few years, due to technological developments, pandemics, politics...\n",
        "It would have also been interesting to be able to track HIV/AIDS and healthcare spending along a longer period of time, and it would have also been interesting to have data about specific healthcare sectors' spending."
      ],
      "metadata": {
        "id": "A3Vo__N2pvaF"
      }
    },
    {
      "cell_type": "markdown",
      "source": [
        "# Comparing South Africa and The Netherlands in [year] - Ellie Petrova\n",
        "\n"
      ],
      "metadata": {
        "id": "kIC51T5WCpiT"
      }
    },
    {
      "cell_type": "code",
      "source": [
        "def make_scatter_country(country):\n",
        "  hf_Country = healthFactors.loc[healthFactors.Country == country, ['Year', 'Percentage Expenditure']]\n",
        "  hf_Country[\"Year\"] = hf_Country[\"Year\"].astype(str)\n",
        "  # We need to perform this type conversion because of Altair being weird with years. According to the documentation, we must define it as string and specify the variable type as temporal\n",
        "  scatter = alt.Chart(hf_Country).mark_circle(opacity=0.5).encode(\n",
        "    alt.X(\"Year\", type= 'temporal', scale=alt.Scale(zero=False)),\n",
        "    alt.Y(\"Percentage Expenditure\", type= 'quantitative'),)\n",
        "  # This first part draws the dots in the scatter plot\n",
        "  scatter_w_loess = scatter + scatter.transform_loess(\"Year\", \"Percentage Expenditure\").mark_line()\n",
        "  # This second part draws a LOESS (LOcally Estimated Scatterplot Smoothing) line, which makes seeing the evolution easier.\n",
        "  display(scatter_w_loess)\n",
        "# This first class defines how to make a scatter plot with LOESS very easily, simply passing to the class a dataframe, the x-variable and the y-variable indexes.\n",
        "\n",
        "def generate_graph_pair(user_choice):\n",
        "  if user_choice == \"NLvSA\": # NETHERLANDS VS SOUTH AFRICA\n",
        "    graph_A = widgets.Output()\n",
        "    with graph_A:\n",
        "      make_scatter_country(\"Netherlands\")\n",
        "    graph_B = widgets.Output()\n",
        "    with graph_B:\n",
        "      make_scatter_country(\"South Africa\")\n",
        "    display(widgets.HBox([graph_A, graph_B]))\n",
        "  if user_choice == \"PTvBR\": # PORTUGAL VS BRAZIL\n",
        "    graph_A = widgets.Output()\n",
        "    with graph_A:\n",
        "      make_scatter_country(\"Portugal\")\n",
        "    graph_B = widgets.Output()\n",
        "    with graph_B:\n",
        "      make_scatter_country(\"Brazil\")\n",
        "    display(widgets.HBox([graph_A, graph_B]))\n",
        "  if user_choice == \"ESvCU\": # SPAIN VS CUBA\n",
        "    graph_A = widgets.Output()\n",
        "    with graph_A:\n",
        "      make_scatter_country(\"Spain\")\n",
        "    graph_B = widgets.Output()\n",
        "    with graph_B:\n",
        "      make_scatter_country(\"Cuba\")\n",
        "    display(widgets.HBox([graph_A, graph_B]))\n",
        "  if user_choice == \"FRvHA\": # FRANCE VS HAITI\n",
        "    graph_A = widgets.Output()\n",
        "    with graph_A:\n",
        "      make_scatter_country(\"France\")\n",
        "    graph_B = widgets.Output()\n",
        "    with graph_B:\n",
        "      make_scatter_country(\"Haiti\")\n",
        "    display(widgets.HBox([graph_A, graph_B]))\n",
        "  if user_choice == \"BEvGT\": # FRANCE VS HAITI\n",
        "    graph_A = widgets.Output()\n",
        "    with graph_A:\n",
        "      make_scatter_country(\"Belgium\")\n",
        "    graph_B = widgets.Output()\n",
        "    with graph_B:\n",
        "      make_scatter_country(\"Guatemala\")\n",
        "    display(widgets.HBox([graph_A, graph_B]))"
      ],
      "metadata": {
        "id": "0iGXk03DDtLD"
      },
      "execution_count": null,
      "outputs": []
    },
    {
      "cell_type": "code",
      "source": [
        "interact(generate_graph_pair,\n",
        "         user_choice=[('Netherlands vs South Africa', 'NLvSA'),\n",
        "                      ('Portugal vs Brazil', 'PTvBR'),\n",
        "                      ('Spain vs Cuba', 'ESvCU'),\n",
        "                      ('France vs Haiti', 'FRvHA'),\n",
        "                      ('Belgium vs Guatemala', 'BEvGT')],)"
      ],
      "metadata": {
        "id": "AE4JsZ2jCy3b"
      },
      "execution_count": null,
      "outputs": []
    }
  ]
}