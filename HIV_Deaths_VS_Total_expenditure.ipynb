{
  "nbformat": 4,
  "nbformat_minor": 0,
  "metadata": {
    "colab": {
      "provenance": [],
      "toc_visible": true,
      "collapsed_sections": [
        "kIC51T5WCpiT"
      ],
      "authorship_tag": "ABX9TyPNuA1xH2i18o8+MygbukdK",
      "include_colab_link": true
    },
    "kernelspec": {
      "name": "python3",
      "display_name": "Python 3"
    },
    "language_info": {
      "name": "python"
    },
    "widgets": {
      "application/vnd.jupyter.widget-state+json": {
        "77818e2be88142179d327ee1a81ace65": {
          "model_module": "@jupyter-widgets/controls",
          "model_name": "HBoxModel",
          "model_module_version": "1.5.0",
          "state": {
            "_dom_classes": [],
            "_model_module": "@jupyter-widgets/controls",
            "_model_module_version": "1.5.0",
            "_model_name": "HBoxModel",
            "_view_count": null,
            "_view_module": "@jupyter-widgets/controls",
            "_view_module_version": "1.5.0",
            "_view_name": "HBoxView",
            "box_style": "",
            "children": [
              "IPY_MODEL_14107d036471413d8d393940d9c4bf2d",
              "IPY_MODEL_320eac29db664425ba83dd7c8cb28ce8",
              "IPY_MODEL_68c03ca72d60405482dbb1990f4fb89d"
            ],
            "layout": "IPY_MODEL_fe122ccc3a5149bbb3f79f1a1ddcf399"
          }
        },
        "14107d036471413d8d393940d9c4bf2d": {
          "model_module": "@jupyter-widgets/output",
          "model_name": "OutputModel",
          "model_module_version": "1.0.0",
          "state": {
            "_dom_classes": [],
            "_model_module": "@jupyter-widgets/output",
            "_model_module_version": "1.0.0",
            "_model_name": "OutputModel",
            "_view_count": null,
            "_view_module": "@jupyter-widgets/output",
            "_view_module_version": "1.0.0",
            "_view_name": "OutputView",
            "layout": "IPY_MODEL_4e909547138243a19077107c06306be5",
            "msg_id": "",
            "outputs": [
              {
                "output_type": "display_data",
                "data": {
                  "text/html": "\n<div id=\"altair-viz-c760f119da154a3c824573b4db95db30\"></div>\n<script type=\"text/javascript\">\n  var VEGA_DEBUG = (typeof VEGA_DEBUG == \"undefined\") ? {} : VEGA_DEBUG;\n  (function(spec, embedOpt){\n    let outputDiv = document.currentScript.previousElementSibling;\n    if (outputDiv.id !== \"altair-viz-c760f119da154a3c824573b4db95db30\") {\n      outputDiv = document.getElementById(\"altair-viz-c760f119da154a3c824573b4db95db30\");\n    }\n    const paths = {\n      \"vega\": \"https://cdn.jsdelivr.net/npm//vega@5?noext\",\n      \"vega-lib\": \"https://cdn.jsdelivr.net/npm//vega-lib?noext\",\n      \"vega-lite\": \"https://cdn.jsdelivr.net/npm//vega-lite@4.17.0?noext\",\n      \"vega-embed\": \"https://cdn.jsdelivr.net/npm//vega-embed@6?noext\",\n    };\n\n    function maybeLoadScript(lib, version) {\n      var key = `${lib.replace(\"-\", \"\")}_version`;\n      return (VEGA_DEBUG[key] == version) ?\n        Promise.resolve(paths[lib]) :\n        new Promise(function(resolve, reject) {\n          var s = document.createElement('script');\n          document.getElementsByTagName(\"head\")[0].appendChild(s);\n          s.async = true;\n          s.onload = () => {\n            VEGA_DEBUG[key] = version;\n            return resolve(paths[lib]);\n          };\n          s.onerror = () => reject(`Error loading script: ${paths[lib]}`);\n          s.src = paths[lib];\n        });\n    }\n\n    function showError(err) {\n      outputDiv.innerHTML = `<div class=\"error\" style=\"color:red;\">${err}</div>`;\n      throw err;\n    }\n\n    function displayChart(vegaEmbed) {\n      vegaEmbed(outputDiv, spec, embedOpt)\n        .catch(err => showError(`Javascript Error: ${err.message}<br>This usually means there's a typo in your chart specification. See the javascript console for the full traceback.`));\n    }\n\n    if(typeof define === \"function\" && define.amd) {\n      requirejs.config({paths});\n      require([\"vega-embed\"], displayChart, err => showError(`Error loading script: ${err.message}`));\n    } else {\n      maybeLoadScript(\"vega\", \"5\")\n        .then(() => maybeLoadScript(\"vega-lite\", \"4.17.0\"))\n        .then(() => maybeLoadScript(\"vega-embed\", \"6\"))\n        .catch(showError)\n        .then(() => displayChart(vegaEmbed));\n    }\n  })({\"config\": {\"view\": {\"continuousWidth\": 400, \"continuousHeight\": 300}}, \"layer\": [{\"mark\": {\"type\": \"circle\", \"opacity\": 0.5}, \"encoding\": {\"x\": {\"field\": \"Year\", \"scale\": {\"zero\": false}, \"type\": \"temporal\"}, \"y\": {\"field\": \"HIV/AIDS\", \"type\": \"quantitative\"}}}, {\"mark\": \"line\", \"encoding\": {\"x\": {\"field\": \"Year\", \"scale\": {\"zero\": false}, \"type\": \"temporal\"}, \"y\": {\"field\": \"HIV/AIDS\", \"type\": \"quantitative\"}}, \"transform\": [{\"loess\": \"HIV/AIDS\", \"on\": \"Year\"}]}], \"data\": {\"name\": \"data-7401fa7090395d8d1ac9490d24c2a905\"}, \"$schema\": \"https://vega.github.io/schema/vega-lite/v4.17.0.json\", \"datasets\": {\"data-7401fa7090395d8d1ac9490d24c2a905\": [{\"Year\": \"2015\", \"Percentage Expenditure\": 0.0, \"HIV/AIDS\": 3.6}, {\"Year\": \"2014\", \"Percentage Expenditure\": 922.0507313, \"HIV/AIDS\": 3.7}, {\"Year\": \"2013\", \"Percentage Expenditure\": 978.5905287, \"HIV/AIDS\": 4.5}, {\"Year\": \"2012\", \"Percentage Expenditure\": 1089.954838, \"HIV/AIDS\": 7.6}, {\"Year\": \"2011\", \"Percentage Expenditure\": 123.753335, \"HIV/AIDS\": 8.5}, {\"Year\": \"2010\", \"Percentage Expenditure\": 1038.885632, \"HIV/AIDS\": 11.0}, {\"Year\": \"2009\", \"Percentage Expenditure\": 782.5987144, \"HIV/AIDS\": 19.0}, {\"Year\": \"2008\", \"Percentage Expenditure\": 780.0336423, \"HIV/AIDS\": 23.5}, {\"Year\": \"2007\", \"Percentage Expenditure\": 805.490079, \"HIV/AIDS\": 26.4}, {\"Year\": \"2006\", \"Percentage Expenditure\": 732.1255305, \"HIV/AIDS\": 28.1}, {\"Year\": \"2005\", \"Percentage Expenditure\": 709.3170967, \"HIV/AIDS\": 29.5}, {\"Year\": \"2004\", \"Percentage Expenditure\": 622.043809, \"HIV/AIDS\": 29.7}, {\"Year\": \"2003\", \"Percentage Expenditure\": 519.1563781, \"HIV/AIDS\": 28.9}, {\"Year\": \"2002\", \"Percentage Expenditure\": 346.5316007, \"HIV/AIDS\": 26.6}, {\"Year\": \"2001\", \"Percentage Expenditure\": 365.2585722, \"HIV/AIDS\": 24.0}, {\"Year\": \"2000\", \"Percentage Expenditure\": 45.96380839, \"HIV/AIDS\": 21.3}]}}, {\"mode\": \"vega-lite\"});\n</script>",
                  "text/plain": "alt.LayerChart(...)"
                },
                "metadata": {}
              }
            ]
          }
        },
        "320eac29db664425ba83dd7c8cb28ce8": {
          "model_module": "@jupyter-widgets/output",
          "model_name": "OutputModel",
          "model_module_version": "1.0.0",
          "state": {
            "_dom_classes": [],
            "_model_module": "@jupyter-widgets/output",
            "_model_module_version": "1.0.0",
            "_model_name": "OutputModel",
            "_view_count": null,
            "_view_module": "@jupyter-widgets/output",
            "_view_module_version": "1.0.0",
            "_view_name": "OutputView",
            "layout": "IPY_MODEL_4aa0caa0568c4191b759d113704a84d2",
            "msg_id": "",
            "outputs": [
              {
                "output_type": "display_data",
                "data": {
                  "text/html": "\n<div id=\"altair-viz-abd03a8e071942cb9de44340fa5cabfd\"></div>\n<script type=\"text/javascript\">\n  var VEGA_DEBUG = (typeof VEGA_DEBUG == \"undefined\") ? {} : VEGA_DEBUG;\n  (function(spec, embedOpt){\n    let outputDiv = document.currentScript.previousElementSibling;\n    if (outputDiv.id !== \"altair-viz-abd03a8e071942cb9de44340fa5cabfd\") {\n      outputDiv = document.getElementById(\"altair-viz-abd03a8e071942cb9de44340fa5cabfd\");\n    }\n    const paths = {\n      \"vega\": \"https://cdn.jsdelivr.net/npm//vega@5?noext\",\n      \"vega-lib\": \"https://cdn.jsdelivr.net/npm//vega-lib?noext\",\n      \"vega-lite\": \"https://cdn.jsdelivr.net/npm//vega-lite@4.17.0?noext\",\n      \"vega-embed\": \"https://cdn.jsdelivr.net/npm//vega-embed@6?noext\",\n    };\n\n    function maybeLoadScript(lib, version) {\n      var key = `${lib.replace(\"-\", \"\")}_version`;\n      return (VEGA_DEBUG[key] == version) ?\n        Promise.resolve(paths[lib]) :\n        new Promise(function(resolve, reject) {\n          var s = document.createElement('script');\n          document.getElementsByTagName(\"head\")[0].appendChild(s);\n          s.async = true;\n          s.onload = () => {\n            VEGA_DEBUG[key] = version;\n            return resolve(paths[lib]);\n          };\n          s.onerror = () => reject(`Error loading script: ${paths[lib]}`);\n          s.src = paths[lib];\n        });\n    }\n\n    function showError(err) {\n      outputDiv.innerHTML = `<div class=\"error\" style=\"color:red;\">${err}</div>`;\n      throw err;\n    }\n\n    function displayChart(vegaEmbed) {\n      vegaEmbed(outputDiv, spec, embedOpt)\n        .catch(err => showError(`Javascript Error: ${err.message}<br>This usually means there's a typo in your chart specification. See the javascript console for the full traceback.`));\n    }\n\n    if(typeof define === \"function\" && define.amd) {\n      requirejs.config({paths});\n      require([\"vega-embed\"], displayChart, err => showError(`Error loading script: ${err.message}`));\n    } else {\n      maybeLoadScript(\"vega\", \"5\")\n        .then(() => maybeLoadScript(\"vega-lite\", \"4.17.0\"))\n        .then(() => maybeLoadScript(\"vega-embed\", \"6\"))\n        .catch(showError)\n        .then(() => displayChart(vegaEmbed));\n    }\n  })({\"config\": {\"view\": {\"continuousWidth\": 400, \"continuousHeight\": 300}}, \"layer\": [{\"mark\": {\"type\": \"circle\", \"opacity\": 0.5}, \"encoding\": {\"x\": {\"field\": \"Year\", \"scale\": {\"zero\": false}, \"type\": \"temporal\"}, \"y\": {\"field\": \"Percentage Expenditure\", \"type\": \"quantitative\"}}}, {\"mark\": \"line\", \"encoding\": {\"x\": {\"field\": \"Year\", \"scale\": {\"zero\": false}, \"type\": \"temporal\"}, \"y\": {\"field\": \"Percentage Expenditure\", \"type\": \"quantitative\"}}, \"transform\": [{\"loess\": \"Percentage Expenditure\", \"on\": \"Year\"}]}], \"data\": {\"name\": \"data-7401fa7090395d8d1ac9490d24c2a905\"}, \"$schema\": \"https://vega.github.io/schema/vega-lite/v4.17.0.json\", \"datasets\": {\"data-7401fa7090395d8d1ac9490d24c2a905\": [{\"Year\": \"2015\", \"Percentage Expenditure\": 0.0, \"HIV/AIDS\": 3.6}, {\"Year\": \"2014\", \"Percentage Expenditure\": 922.0507313, \"HIV/AIDS\": 3.7}, {\"Year\": \"2013\", \"Percentage Expenditure\": 978.5905287, \"HIV/AIDS\": 4.5}, {\"Year\": \"2012\", \"Percentage Expenditure\": 1089.954838, \"HIV/AIDS\": 7.6}, {\"Year\": \"2011\", \"Percentage Expenditure\": 123.753335, \"HIV/AIDS\": 8.5}, {\"Year\": \"2010\", \"Percentage Expenditure\": 1038.885632, \"HIV/AIDS\": 11.0}, {\"Year\": \"2009\", \"Percentage Expenditure\": 782.5987144, \"HIV/AIDS\": 19.0}, {\"Year\": \"2008\", \"Percentage Expenditure\": 780.0336423, \"HIV/AIDS\": 23.5}, {\"Year\": \"2007\", \"Percentage Expenditure\": 805.490079, \"HIV/AIDS\": 26.4}, {\"Year\": \"2006\", \"Percentage Expenditure\": 732.1255305, \"HIV/AIDS\": 28.1}, {\"Year\": \"2005\", \"Percentage Expenditure\": 709.3170967, \"HIV/AIDS\": 29.5}, {\"Year\": \"2004\", \"Percentage Expenditure\": 622.043809, \"HIV/AIDS\": 29.7}, {\"Year\": \"2003\", \"Percentage Expenditure\": 519.1563781, \"HIV/AIDS\": 28.9}, {\"Year\": \"2002\", \"Percentage Expenditure\": 346.5316007, \"HIV/AIDS\": 26.6}, {\"Year\": \"2001\", \"Percentage Expenditure\": 365.2585722, \"HIV/AIDS\": 24.0}, {\"Year\": \"2000\", \"Percentage Expenditure\": 45.96380839, \"HIV/AIDS\": 21.3}]}}, {\"mode\": \"vega-lite\"});\n</script>",
                  "text/plain": "alt.LayerChart(...)"
                },
                "metadata": {}
              }
            ]
          }
        },
        "68c03ca72d60405482dbb1990f4fb89d": {
          "model_module": "@jupyter-widgets/output",
          "model_name": "OutputModel",
          "model_module_version": "1.0.0",
          "state": {
            "_dom_classes": [],
            "_model_module": "@jupyter-widgets/output",
            "_model_module_version": "1.0.0",
            "_model_name": "OutputModel",
            "_view_count": null,
            "_view_module": "@jupyter-widgets/output",
            "_view_module_version": "1.0.0",
            "_view_name": "OutputView",
            "layout": "IPY_MODEL_6e5572249f0149bda983867e3359bb2d",
            "msg_id": "",
            "outputs": [
              {
                "output_type": "display_data",
                "data": {
                  "text/html": "\n<div id=\"altair-viz-fec9f7ecde4c44358678d8c0dfa6aa93\"></div>\n<script type=\"text/javascript\">\n  var VEGA_DEBUG = (typeof VEGA_DEBUG == \"undefined\") ? {} : VEGA_DEBUG;\n  (function(spec, embedOpt){\n    let outputDiv = document.currentScript.previousElementSibling;\n    if (outputDiv.id !== \"altair-viz-fec9f7ecde4c44358678d8c0dfa6aa93\") {\n      outputDiv = document.getElementById(\"altair-viz-fec9f7ecde4c44358678d8c0dfa6aa93\");\n    }\n    const paths = {\n      \"vega\": \"https://cdn.jsdelivr.net/npm//vega@5?noext\",\n      \"vega-lib\": \"https://cdn.jsdelivr.net/npm//vega-lib?noext\",\n      \"vega-lite\": \"https://cdn.jsdelivr.net/npm//vega-lite@4.17.0?noext\",\n      \"vega-embed\": \"https://cdn.jsdelivr.net/npm//vega-embed@6?noext\",\n    };\n\n    function maybeLoadScript(lib, version) {\n      var key = `${lib.replace(\"-\", \"\")}_version`;\n      return (VEGA_DEBUG[key] == version) ?\n        Promise.resolve(paths[lib]) :\n        new Promise(function(resolve, reject) {\n          var s = document.createElement('script');\n          document.getElementsByTagName(\"head\")[0].appendChild(s);\n          s.async = true;\n          s.onload = () => {\n            VEGA_DEBUG[key] = version;\n            return resolve(paths[lib]);\n          };\n          s.onerror = () => reject(`Error loading script: ${paths[lib]}`);\n          s.src = paths[lib];\n        });\n    }\n\n    function showError(err) {\n      outputDiv.innerHTML = `<div class=\"error\" style=\"color:red;\">${err}</div>`;\n      throw err;\n    }\n\n    function displayChart(vegaEmbed) {\n      vegaEmbed(outputDiv, spec, embedOpt)\n        .catch(err => showError(`Javascript Error: ${err.message}<br>This usually means there's a typo in your chart specification. See the javascript console for the full traceback.`));\n    }\n\n    if(typeof define === \"function\" && define.amd) {\n      requirejs.config({paths});\n      require([\"vega-embed\"], displayChart, err => showError(`Error loading script: ${err.message}`));\n    } else {\n      maybeLoadScript(\"vega\", \"5\")\n        .then(() => maybeLoadScript(\"vega-lite\", \"4.17.0\"))\n        .then(() => maybeLoadScript(\"vega-embed\", \"6\"))\n        .catch(showError)\n        .then(() => displayChart(vegaEmbed));\n    }\n  })({\"config\": {\"view\": {\"continuousWidth\": 400, \"continuousHeight\": 300}}, \"layer\": [{\"mark\": {\"type\": \"circle\", \"opacity\": 0.5}, \"encoding\": {\"x\": {\"field\": \"Percentage Expenditure\", \"scale\": {\"zero\": false}, \"type\": \"quantitative\"}, \"y\": {\"field\": \"HIV/AIDS\", \"type\": \"quantitative\"}}}, {\"mark\": \"line\", \"encoding\": {\"x\": {\"field\": \"Percentage Expenditure\", \"scale\": {\"zero\": false}, \"type\": \"quantitative\"}, \"y\": {\"field\": \"HIV/AIDS\", \"type\": \"quantitative\"}}, \"transform\": [{\"loess\": \"HIV/AIDS\", \"on\": \"Percentage Expenditure\"}]}], \"data\": {\"name\": \"data-9d1048ecb860051ce157c4cf3dfff242\"}, \"$schema\": \"https://vega.github.io/schema/vega-lite/v4.17.0.json\", \"datasets\": {\"data-9d1048ecb860051ce157c4cf3dfff242\": [{\"Year\": \"2015\", \"Percentage Expenditure\": \"0.0\", \"HIV/AIDS\": 3.6}, {\"Year\": \"2014\", \"Percentage Expenditure\": \"922.0507313\", \"HIV/AIDS\": 3.7}, {\"Year\": \"2013\", \"Percentage Expenditure\": \"978.5905287\", \"HIV/AIDS\": 4.5}, {\"Year\": \"2012\", \"Percentage Expenditure\": \"1089.954838\", \"HIV/AIDS\": 7.6}, {\"Year\": \"2011\", \"Percentage Expenditure\": \"123.753335\", \"HIV/AIDS\": 8.5}, {\"Year\": \"2010\", \"Percentage Expenditure\": \"1038.885632\", \"HIV/AIDS\": 11.0}, {\"Year\": \"2009\", \"Percentage Expenditure\": \"782.5987144\", \"HIV/AIDS\": 19.0}, {\"Year\": \"2008\", \"Percentage Expenditure\": \"780.0336423\", \"HIV/AIDS\": 23.5}, {\"Year\": \"2007\", \"Percentage Expenditure\": \"805.490079\", \"HIV/AIDS\": 26.4}, {\"Year\": \"2006\", \"Percentage Expenditure\": \"732.1255305\", \"HIV/AIDS\": 28.1}, {\"Year\": \"2005\", \"Percentage Expenditure\": \"709.3170967\", \"HIV/AIDS\": 29.5}, {\"Year\": \"2004\", \"Percentage Expenditure\": \"622.043809\", \"HIV/AIDS\": 29.7}, {\"Year\": \"2003\", \"Percentage Expenditure\": \"519.1563781\", \"HIV/AIDS\": 28.9}, {\"Year\": \"2002\", \"Percentage Expenditure\": \"346.5316007\", \"HIV/AIDS\": 26.6}, {\"Year\": \"2001\", \"Percentage Expenditure\": \"365.2585722\", \"HIV/AIDS\": 24.0}, {\"Year\": \"2000\", \"Percentage Expenditure\": \"45.96380839\", \"HIV/AIDS\": 21.3}]}}, {\"mode\": \"vega-lite\"});\n</script>",
                  "text/plain": "alt.LayerChart(...)"
                },
                "metadata": {}
              }
            ]
          }
        },
        "fe122ccc3a5149bbb3f79f1a1ddcf399": {
          "model_module": "@jupyter-widgets/base",
          "model_name": "LayoutModel",
          "model_module_version": "1.2.0",
          "state": {
            "_model_module": "@jupyter-widgets/base",
            "_model_module_version": "1.2.0",
            "_model_name": "LayoutModel",
            "_view_count": null,
            "_view_module": "@jupyter-widgets/base",
            "_view_module_version": "1.2.0",
            "_view_name": "LayoutView",
            "align_content": null,
            "align_items": null,
            "align_self": null,
            "border": null,
            "bottom": null,
            "display": null,
            "flex": null,
            "flex_flow": null,
            "grid_area": null,
            "grid_auto_columns": null,
            "grid_auto_flow": null,
            "grid_auto_rows": null,
            "grid_column": null,
            "grid_gap": null,
            "grid_row": null,
            "grid_template_areas": null,
            "grid_template_columns": null,
            "grid_template_rows": null,
            "height": null,
            "justify_content": null,
            "justify_items": null,
            "left": null,
            "margin": null,
            "max_height": null,
            "max_width": null,
            "min_height": null,
            "min_width": null,
            "object_fit": null,
            "object_position": null,
            "order": null,
            "overflow": null,
            "overflow_x": null,
            "overflow_y": null,
            "padding": null,
            "right": null,
            "top": null,
            "visibility": null,
            "width": null
          }
        },
        "4e909547138243a19077107c06306be5": {
          "model_module": "@jupyter-widgets/base",
          "model_name": "LayoutModel",
          "model_module_version": "1.2.0",
          "state": {
            "_model_module": "@jupyter-widgets/base",
            "_model_module_version": "1.2.0",
            "_model_name": "LayoutModel",
            "_view_count": null,
            "_view_module": "@jupyter-widgets/base",
            "_view_module_version": "1.2.0",
            "_view_name": "LayoutView",
            "align_content": null,
            "align_items": null,
            "align_self": null,
            "border": null,
            "bottom": null,
            "display": null,
            "flex": null,
            "flex_flow": null,
            "grid_area": null,
            "grid_auto_columns": null,
            "grid_auto_flow": null,
            "grid_auto_rows": null,
            "grid_column": null,
            "grid_gap": null,
            "grid_row": null,
            "grid_template_areas": null,
            "grid_template_columns": null,
            "grid_template_rows": null,
            "height": null,
            "justify_content": null,
            "justify_items": null,
            "left": null,
            "margin": null,
            "max_height": null,
            "max_width": null,
            "min_height": null,
            "min_width": null,
            "object_fit": null,
            "object_position": null,
            "order": null,
            "overflow": null,
            "overflow_x": null,
            "overflow_y": null,
            "padding": null,
            "right": null,
            "top": null,
            "visibility": null,
            "width": null
          }
        },
        "4aa0caa0568c4191b759d113704a84d2": {
          "model_module": "@jupyter-widgets/base",
          "model_name": "LayoutModel",
          "model_module_version": "1.2.0",
          "state": {
            "_model_module": "@jupyter-widgets/base",
            "_model_module_version": "1.2.0",
            "_model_name": "LayoutModel",
            "_view_count": null,
            "_view_module": "@jupyter-widgets/base",
            "_view_module_version": "1.2.0",
            "_view_name": "LayoutView",
            "align_content": null,
            "align_items": null,
            "align_self": null,
            "border": null,
            "bottom": null,
            "display": null,
            "flex": null,
            "flex_flow": null,
            "grid_area": null,
            "grid_auto_columns": null,
            "grid_auto_flow": null,
            "grid_auto_rows": null,
            "grid_column": null,
            "grid_gap": null,
            "grid_row": null,
            "grid_template_areas": null,
            "grid_template_columns": null,
            "grid_template_rows": null,
            "height": null,
            "justify_content": null,
            "justify_items": null,
            "left": null,
            "margin": null,
            "max_height": null,
            "max_width": null,
            "min_height": null,
            "min_width": null,
            "object_fit": null,
            "object_position": null,
            "order": null,
            "overflow": null,
            "overflow_x": null,
            "overflow_y": null,
            "padding": null,
            "right": null,
            "top": null,
            "visibility": null,
            "width": null
          }
        },
        "6e5572249f0149bda983867e3359bb2d": {
          "model_module": "@jupyter-widgets/base",
          "model_name": "LayoutModel",
          "model_module_version": "1.2.0",
          "state": {
            "_model_module": "@jupyter-widgets/base",
            "_model_module_version": "1.2.0",
            "_model_name": "LayoutModel",
            "_view_count": null,
            "_view_module": "@jupyter-widgets/base",
            "_view_module_version": "1.2.0",
            "_view_name": "LayoutView",
            "align_content": null,
            "align_items": null,
            "align_self": null,
            "border": null,
            "bottom": null,
            "display": null,
            "flex": null,
            "flex_flow": null,
            "grid_area": null,
            "grid_auto_columns": null,
            "grid_auto_flow": null,
            "grid_auto_rows": null,
            "grid_column": null,
            "grid_gap": null,
            "grid_row": null,
            "grid_template_areas": null,
            "grid_template_columns": null,
            "grid_template_rows": null,
            "height": null,
            "justify_content": null,
            "justify_items": null,
            "left": null,
            "margin": null,
            "max_height": null,
            "max_width": null,
            "min_height": null,
            "min_width": null,
            "object_fit": null,
            "object_position": null,
            "order": null,
            "overflow": null,
            "overflow_x": null,
            "overflow_y": null,
            "padding": null,
            "right": null,
            "top": null,
            "visibility": null,
            "width": null
          }
        },
        "ef54e46fd7a146c5a3bfccefa2ab87b1": {
          "model_module": "@jupyter-widgets/controls",
          "model_name": "HBoxModel",
          "model_module_version": "1.5.0",
          "state": {
            "_dom_classes": [],
            "_model_module": "@jupyter-widgets/controls",
            "_model_module_version": "1.5.0",
            "_model_name": "HBoxModel",
            "_view_count": null,
            "_view_module": "@jupyter-widgets/controls",
            "_view_module_version": "1.5.0",
            "_view_name": "HBoxView",
            "box_style": "",
            "children": [
              "IPY_MODEL_beebbacc707a48939076aaaeaf0f26d5",
              "IPY_MODEL_bc197783cb81451cbfe8a49405c2cf29"
            ],
            "layout": "IPY_MODEL_f136048831d1403e99efa026a58cef86"
          }
        },
        "beebbacc707a48939076aaaeaf0f26d5": {
          "model_module": "@jupyter-widgets/output",
          "model_name": "OutputModel",
          "model_module_version": "1.0.0",
          "state": {
            "_dom_classes": [],
            "_model_module": "@jupyter-widgets/output",
            "_model_module_version": "1.0.0",
            "_model_name": "OutputModel",
            "_view_count": null,
            "_view_module": "@jupyter-widgets/output",
            "_view_module_version": "1.0.0",
            "_view_name": "OutputView",
            "layout": "IPY_MODEL_91bcc3e8342540979b3c32b69390ee53",
            "msg_id": "",
            "outputs": [
              {
                "output_type": "display_data",
                "data": {
                  "text/html": "\n<div id=\"altair-viz-7a5f07caef8344319dbb549aa008bca3\"></div>\n<script type=\"text/javascript\">\n  var VEGA_DEBUG = (typeof VEGA_DEBUG == \"undefined\") ? {} : VEGA_DEBUG;\n  (function(spec, embedOpt){\n    let outputDiv = document.currentScript.previousElementSibling;\n    if (outputDiv.id !== \"altair-viz-7a5f07caef8344319dbb549aa008bca3\") {\n      outputDiv = document.getElementById(\"altair-viz-7a5f07caef8344319dbb549aa008bca3\");\n    }\n    const paths = {\n      \"vega\": \"https://cdn.jsdelivr.net/npm//vega@5?noext\",\n      \"vega-lib\": \"https://cdn.jsdelivr.net/npm//vega-lib?noext\",\n      \"vega-lite\": \"https://cdn.jsdelivr.net/npm//vega-lite@4.17.0?noext\",\n      \"vega-embed\": \"https://cdn.jsdelivr.net/npm//vega-embed@6?noext\",\n    };\n\n    function maybeLoadScript(lib, version) {\n      var key = `${lib.replace(\"-\", \"\")}_version`;\n      return (VEGA_DEBUG[key] == version) ?\n        Promise.resolve(paths[lib]) :\n        new Promise(function(resolve, reject) {\n          var s = document.createElement('script');\n          document.getElementsByTagName(\"head\")[0].appendChild(s);\n          s.async = true;\n          s.onload = () => {\n            VEGA_DEBUG[key] = version;\n            return resolve(paths[lib]);\n          };\n          s.onerror = () => reject(`Error loading script: ${paths[lib]}`);\n          s.src = paths[lib];\n        });\n    }\n\n    function showError(err) {\n      outputDiv.innerHTML = `<div class=\"error\" style=\"color:red;\">${err}</div>`;\n      throw err;\n    }\n\n    function displayChart(vegaEmbed) {\n      vegaEmbed(outputDiv, spec, embedOpt)\n        .catch(err => showError(`Javascript Error: ${err.message}<br>This usually means there's a typo in your chart specification. See the javascript console for the full traceback.`));\n    }\n\n    if(typeof define === \"function\" && define.amd) {\n      requirejs.config({paths});\n      require([\"vega-embed\"], displayChart, err => showError(`Error loading script: ${err.message}`));\n    } else {\n      maybeLoadScript(\"vega\", \"5\")\n        .then(() => maybeLoadScript(\"vega-lite\", \"4.17.0\"))\n        .then(() => maybeLoadScript(\"vega-embed\", \"6\"))\n        .catch(showError)\n        .then(() => displayChart(vegaEmbed));\n    }\n  })({\"config\": {\"view\": {\"continuousWidth\": 400, \"continuousHeight\": 300}}, \"layer\": [{\"mark\": {\"type\": \"circle\", \"opacity\": 0.5}, \"encoding\": {\"x\": {\"field\": \"Year\", \"scale\": {\"zero\": false}, \"type\": \"temporal\"}, \"y\": {\"field\": \"Percentage Expenditure Outlierless\", \"type\": \"quantitative\"}}}, {\"mark\": \"line\", \"encoding\": {\"x\": {\"field\": \"Year\", \"scale\": {\"zero\": false}, \"type\": \"temporal\"}, \"y\": {\"field\": \"Percentage Expenditure Outlierless\", \"type\": \"quantitative\"}}, \"transform\": [{\"loess\": \"Percentage Expenditure Outlierless\", \"on\": \"Year\"}]}], \"data\": {\"name\": \"data-8a50726dfb0f09ea9a49c32792969f6d\"}, \"$schema\": \"https://vega.github.io/schema/vega-lite/v4.17.0.json\", \"datasets\": {\"data-8a50726dfb0f09ea9a49c32792969f6d\": [{\"Year\": \"2015\", \"Percentage Expenditure\": \"0.0\", \"HIV/AIDS\": 3.6, \"Percentage Expenditure Outlierless\": null}, {\"Year\": \"2014\", \"Percentage Expenditure\": \"922.0507313\", \"HIV/AIDS\": 3.7, \"Percentage Expenditure Outlierless\": \"922.0507313\"}, {\"Year\": \"2013\", \"Percentage Expenditure\": \"978.5905287\", \"HIV/AIDS\": 4.5, \"Percentage Expenditure Outlierless\": \"978.5905287\"}, {\"Year\": \"2012\", \"Percentage Expenditure\": \"1089.954838\", \"HIV/AIDS\": 7.6, \"Percentage Expenditure Outlierless\": \"1089.954838\"}, {\"Year\": \"2011\", \"Percentage Expenditure\": \"123.753335\", \"HIV/AIDS\": 8.5, \"Percentage Expenditure Outlierless\": null}, {\"Year\": \"2010\", \"Percentage Expenditure\": \"1038.885632\", \"HIV/AIDS\": 11.0, \"Percentage Expenditure Outlierless\": \"1038.885632\"}, {\"Year\": \"2009\", \"Percentage Expenditure\": \"782.5987144\", \"HIV/AIDS\": 19.0, \"Percentage Expenditure Outlierless\": \"782.5987144\"}, {\"Year\": \"2008\", \"Percentage Expenditure\": \"780.0336423\", \"HIV/AIDS\": 23.5, \"Percentage Expenditure Outlierless\": \"780.0336423\"}, {\"Year\": \"2007\", \"Percentage Expenditure\": \"805.490079\", \"HIV/AIDS\": 26.4, \"Percentage Expenditure Outlierless\": \"805.490079\"}, {\"Year\": \"2006\", \"Percentage Expenditure\": \"732.1255305\", \"HIV/AIDS\": 28.1, \"Percentage Expenditure Outlierless\": \"732.1255305\"}, {\"Year\": \"2005\", \"Percentage Expenditure\": \"709.3170967\", \"HIV/AIDS\": 29.5, \"Percentage Expenditure Outlierless\": \"709.3170967\"}, {\"Year\": \"2004\", \"Percentage Expenditure\": \"622.043809\", \"HIV/AIDS\": 29.7, \"Percentage Expenditure Outlierless\": \"622.043809\"}, {\"Year\": \"2003\", \"Percentage Expenditure\": \"519.1563781\", \"HIV/AIDS\": 28.9, \"Percentage Expenditure Outlierless\": \"519.1563781\"}, {\"Year\": \"2002\", \"Percentage Expenditure\": \"346.5316007\", \"HIV/AIDS\": 26.6, \"Percentage Expenditure Outlierless\": \"346.5316007\"}, {\"Year\": \"2001\", \"Percentage Expenditure\": \"365.2585722\", \"HIV/AIDS\": 24.0, \"Percentage Expenditure Outlierless\": \"365.2585722\"}, {\"Year\": \"2000\", \"Percentage Expenditure\": \"45.96380839\", \"HIV/AIDS\": 21.3, \"Percentage Expenditure Outlierless\": \"45.96380839\"}]}}, {\"mode\": \"vega-lite\"});\n</script>",
                  "text/plain": "alt.LayerChart(...)"
                },
                "metadata": {}
              }
            ]
          }
        },
        "bc197783cb81451cbfe8a49405c2cf29": {
          "model_module": "@jupyter-widgets/output",
          "model_name": "OutputModel",
          "model_module_version": "1.0.0",
          "state": {
            "_dom_classes": [],
            "_model_module": "@jupyter-widgets/output",
            "_model_module_version": "1.0.0",
            "_model_name": "OutputModel",
            "_view_count": null,
            "_view_module": "@jupyter-widgets/output",
            "_view_module_version": "1.0.0",
            "_view_name": "OutputView",
            "layout": "IPY_MODEL_c2219183c6be438f8242ddecd935f9c0",
            "msg_id": "",
            "outputs": [
              {
                "output_type": "display_data",
                "data": {
                  "text/html": "\n<div id=\"altair-viz-c485fc1871d342218dd7152f8a892fb1\"></div>\n<script type=\"text/javascript\">\n  var VEGA_DEBUG = (typeof VEGA_DEBUG == \"undefined\") ? {} : VEGA_DEBUG;\n  (function(spec, embedOpt){\n    let outputDiv = document.currentScript.previousElementSibling;\n    if (outputDiv.id !== \"altair-viz-c485fc1871d342218dd7152f8a892fb1\") {\n      outputDiv = document.getElementById(\"altair-viz-c485fc1871d342218dd7152f8a892fb1\");\n    }\n    const paths = {\n      \"vega\": \"https://cdn.jsdelivr.net/npm//vega@5?noext\",\n      \"vega-lib\": \"https://cdn.jsdelivr.net/npm//vega-lib?noext\",\n      \"vega-lite\": \"https://cdn.jsdelivr.net/npm//vega-lite@4.17.0?noext\",\n      \"vega-embed\": \"https://cdn.jsdelivr.net/npm//vega-embed@6?noext\",\n    };\n\n    function maybeLoadScript(lib, version) {\n      var key = `${lib.replace(\"-\", \"\")}_version`;\n      return (VEGA_DEBUG[key] == version) ?\n        Promise.resolve(paths[lib]) :\n        new Promise(function(resolve, reject) {\n          var s = document.createElement('script');\n          document.getElementsByTagName(\"head\")[0].appendChild(s);\n          s.async = true;\n          s.onload = () => {\n            VEGA_DEBUG[key] = version;\n            return resolve(paths[lib]);\n          };\n          s.onerror = () => reject(`Error loading script: ${paths[lib]}`);\n          s.src = paths[lib];\n        });\n    }\n\n    function showError(err) {\n      outputDiv.innerHTML = `<div class=\"error\" style=\"color:red;\">${err}</div>`;\n      throw err;\n    }\n\n    function displayChart(vegaEmbed) {\n      vegaEmbed(outputDiv, spec, embedOpt)\n        .catch(err => showError(`Javascript Error: ${err.message}<br>This usually means there's a typo in your chart specification. See the javascript console for the full traceback.`));\n    }\n\n    if(typeof define === \"function\" && define.amd) {\n      requirejs.config({paths});\n      require([\"vega-embed\"], displayChart, err => showError(`Error loading script: ${err.message}`));\n    } else {\n      maybeLoadScript(\"vega\", \"5\")\n        .then(() => maybeLoadScript(\"vega-lite\", \"4.17.0\"))\n        .then(() => maybeLoadScript(\"vega-embed\", \"6\"))\n        .catch(showError)\n        .then(() => displayChart(vegaEmbed));\n    }\n  })({\"config\": {\"view\": {\"continuousWidth\": 400, \"continuousHeight\": 300}}, \"layer\": [{\"mark\": {\"type\": \"circle\", \"opacity\": 0.5}, \"encoding\": {\"x\": {\"field\": \"Percentage Expenditure Outlierless\", \"scale\": {\"zero\": false}, \"type\": \"quantitative\"}, \"y\": {\"field\": \"HIV/AIDS\", \"type\": \"quantitative\"}}}, {\"mark\": \"line\", \"encoding\": {\"x\": {\"field\": \"Percentage Expenditure Outlierless\", \"scale\": {\"zero\": false}, \"type\": \"quantitative\"}, \"y\": {\"field\": \"HIV/AIDS\", \"type\": \"quantitative\"}}, \"transform\": [{\"loess\": \"HIV/AIDS\", \"on\": \"Percentage Expenditure Outlierless\"}]}], \"data\": {\"name\": \"data-4a4c2e85f486e69b76fd12d3485dcdf0\"}, \"$schema\": \"https://vega.github.io/schema/vega-lite/v4.17.0.json\", \"datasets\": {\"data-4a4c2e85f486e69b76fd12d3485dcdf0\": [{\"Year\": \"2015\", \"Percentage Expenditure\": \"0.0\", \"HIV/AIDS\": 3.6, \"Percentage Expenditure Outlierless\": \"nan\"}, {\"Year\": \"2014\", \"Percentage Expenditure\": \"922.0507313\", \"HIV/AIDS\": 3.7, \"Percentage Expenditure Outlierless\": \"922.0507313\"}, {\"Year\": \"2013\", \"Percentage Expenditure\": \"978.5905287\", \"HIV/AIDS\": 4.5, \"Percentage Expenditure Outlierless\": \"978.5905287\"}, {\"Year\": \"2012\", \"Percentage Expenditure\": \"1089.954838\", \"HIV/AIDS\": 7.6, \"Percentage Expenditure Outlierless\": \"1089.954838\"}, {\"Year\": \"2011\", \"Percentage Expenditure\": \"123.753335\", \"HIV/AIDS\": 8.5, \"Percentage Expenditure Outlierless\": \"nan\"}, {\"Year\": \"2010\", \"Percentage Expenditure\": \"1038.885632\", \"HIV/AIDS\": 11.0, \"Percentage Expenditure Outlierless\": \"1038.885632\"}, {\"Year\": \"2009\", \"Percentage Expenditure\": \"782.5987144\", \"HIV/AIDS\": 19.0, \"Percentage Expenditure Outlierless\": \"782.5987144\"}, {\"Year\": \"2008\", \"Percentage Expenditure\": \"780.0336423\", \"HIV/AIDS\": 23.5, \"Percentage Expenditure Outlierless\": \"780.0336423\"}, {\"Year\": \"2007\", \"Percentage Expenditure\": \"805.490079\", \"HIV/AIDS\": 26.4, \"Percentage Expenditure Outlierless\": \"805.490079\"}, {\"Year\": \"2006\", \"Percentage Expenditure\": \"732.1255305\", \"HIV/AIDS\": 28.1, \"Percentage Expenditure Outlierless\": \"732.1255305\"}, {\"Year\": \"2005\", \"Percentage Expenditure\": \"709.3170967\", \"HIV/AIDS\": 29.5, \"Percentage Expenditure Outlierless\": \"709.3170967\"}, {\"Year\": \"2004\", \"Percentage Expenditure\": \"622.043809\", \"HIV/AIDS\": 29.7, \"Percentage Expenditure Outlierless\": \"622.043809\"}, {\"Year\": \"2003\", \"Percentage Expenditure\": \"519.1563781\", \"HIV/AIDS\": 28.9, \"Percentage Expenditure Outlierless\": \"519.1563781\"}, {\"Year\": \"2002\", \"Percentage Expenditure\": \"346.5316007\", \"HIV/AIDS\": 26.6, \"Percentage Expenditure Outlierless\": \"346.5316007\"}, {\"Year\": \"2001\", \"Percentage Expenditure\": \"365.2585722\", \"HIV/AIDS\": 24.0, \"Percentage Expenditure Outlierless\": \"365.2585722\"}, {\"Year\": \"2000\", \"Percentage Expenditure\": \"45.96380839\", \"HIV/AIDS\": 21.3, \"Percentage Expenditure Outlierless\": \"45.96380839\"}]}}, {\"mode\": \"vega-lite\"});\n</script>",
                  "text/plain": "alt.LayerChart(...)"
                },
                "metadata": {}
              }
            ]
          }
        },
        "f136048831d1403e99efa026a58cef86": {
          "model_module": "@jupyter-widgets/base",
          "model_name": "LayoutModel",
          "model_module_version": "1.2.0",
          "state": {
            "_model_module": "@jupyter-widgets/base",
            "_model_module_version": "1.2.0",
            "_model_name": "LayoutModel",
            "_view_count": null,
            "_view_module": "@jupyter-widgets/base",
            "_view_module_version": "1.2.0",
            "_view_name": "LayoutView",
            "align_content": null,
            "align_items": null,
            "align_self": null,
            "border": null,
            "bottom": null,
            "display": null,
            "flex": null,
            "flex_flow": null,
            "grid_area": null,
            "grid_auto_columns": null,
            "grid_auto_flow": null,
            "grid_auto_rows": null,
            "grid_column": null,
            "grid_gap": null,
            "grid_row": null,
            "grid_template_areas": null,
            "grid_template_columns": null,
            "grid_template_rows": null,
            "height": null,
            "justify_content": null,
            "justify_items": null,
            "left": null,
            "margin": null,
            "max_height": null,
            "max_width": null,
            "min_height": null,
            "min_width": null,
            "object_fit": null,
            "object_position": null,
            "order": null,
            "overflow": null,
            "overflow_x": null,
            "overflow_y": null,
            "padding": null,
            "right": null,
            "top": null,
            "visibility": null,
            "width": null
          }
        },
        "91bcc3e8342540979b3c32b69390ee53": {
          "model_module": "@jupyter-widgets/base",
          "model_name": "LayoutModel",
          "model_module_version": "1.2.0",
          "state": {
            "_model_module": "@jupyter-widgets/base",
            "_model_module_version": "1.2.0",
            "_model_name": "LayoutModel",
            "_view_count": null,
            "_view_module": "@jupyter-widgets/base",
            "_view_module_version": "1.2.0",
            "_view_name": "LayoutView",
            "align_content": null,
            "align_items": null,
            "align_self": null,
            "border": null,
            "bottom": null,
            "display": null,
            "flex": null,
            "flex_flow": null,
            "grid_area": null,
            "grid_auto_columns": null,
            "grid_auto_flow": null,
            "grid_auto_rows": null,
            "grid_column": null,
            "grid_gap": null,
            "grid_row": null,
            "grid_template_areas": null,
            "grid_template_columns": null,
            "grid_template_rows": null,
            "height": null,
            "justify_content": null,
            "justify_items": null,
            "left": null,
            "margin": null,
            "max_height": null,
            "max_width": null,
            "min_height": null,
            "min_width": null,
            "object_fit": null,
            "object_position": null,
            "order": null,
            "overflow": null,
            "overflow_x": null,
            "overflow_y": null,
            "padding": null,
            "right": null,
            "top": null,
            "visibility": null,
            "width": null
          }
        },
        "c2219183c6be438f8242ddecd935f9c0": {
          "model_module": "@jupyter-widgets/base",
          "model_name": "LayoutModel",
          "model_module_version": "1.2.0",
          "state": {
            "_model_module": "@jupyter-widgets/base",
            "_model_module_version": "1.2.0",
            "_model_name": "LayoutModel",
            "_view_count": null,
            "_view_module": "@jupyter-widgets/base",
            "_view_module_version": "1.2.0",
            "_view_name": "LayoutView",
            "align_content": null,
            "align_items": null,
            "align_self": null,
            "border": null,
            "bottom": null,
            "display": null,
            "flex": null,
            "flex_flow": null,
            "grid_area": null,
            "grid_auto_columns": null,
            "grid_auto_flow": null,
            "grid_auto_rows": null,
            "grid_column": null,
            "grid_gap": null,
            "grid_row": null,
            "grid_template_areas": null,
            "grid_template_columns": null,
            "grid_template_rows": null,
            "height": null,
            "justify_content": null,
            "justify_items": null,
            "left": null,
            "margin": null,
            "max_height": null,
            "max_width": null,
            "min_height": null,
            "min_width": null,
            "object_fit": null,
            "object_position": null,
            "order": null,
            "overflow": null,
            "overflow_x": null,
            "overflow_y": null,
            "padding": null,
            "right": null,
            "top": null,
            "visibility": null,
            "width": null
          }
        },
        "25fea3a1b8f54afd95850442e3c152e7": {
          "model_module": "@jupyter-widgets/controls",
          "model_name": "HBoxModel",
          "model_module_version": "1.5.0",
          "state": {
            "_dom_classes": [],
            "_model_module": "@jupyter-widgets/controls",
            "_model_module_version": "1.5.0",
            "_model_name": "HBoxModel",
            "_view_count": null,
            "_view_module": "@jupyter-widgets/controls",
            "_view_module_version": "1.5.0",
            "_view_name": "HBoxView",
            "box_style": "",
            "children": [
              "IPY_MODEL_1e777db27dba49a39219c728a9a4bc68",
              "IPY_MODEL_dbca2f1f75114572bf2b01cc1a570dc0",
              "IPY_MODEL_e63e219067534f9b9674370f86a42a3d",
              "IPY_MODEL_643f275b0e034c23b2ce77b35819892a"
            ],
            "layout": "IPY_MODEL_2fcbcf908502485daaff975c436c1121"
          }
        },
        "1e777db27dba49a39219c728a9a4bc68": {
          "model_module": "@jupyter-widgets/output",
          "model_name": "OutputModel",
          "model_module_version": "1.0.0",
          "state": {
            "_dom_classes": [],
            "_model_module": "@jupyter-widgets/output",
            "_model_module_version": "1.0.0",
            "_model_name": "OutputModel",
            "_view_count": null,
            "_view_module": "@jupyter-widgets/output",
            "_view_module_version": "1.0.0",
            "_view_name": "OutputView",
            "layout": "IPY_MODEL_528bd22c5f8f4969ac7df059086384e9",
            "msg_id": "",
            "outputs": [
              {
                "output_type": "display_data",
                "data": {
                  "text/html": "\n<div id=\"altair-viz-373042e0255d4c9c95abe1f07189235e\"></div>\n<script type=\"text/javascript\">\n  var VEGA_DEBUG = (typeof VEGA_DEBUG == \"undefined\") ? {} : VEGA_DEBUG;\n  (function(spec, embedOpt){\n    let outputDiv = document.currentScript.previousElementSibling;\n    if (outputDiv.id !== \"altair-viz-373042e0255d4c9c95abe1f07189235e\") {\n      outputDiv = document.getElementById(\"altair-viz-373042e0255d4c9c95abe1f07189235e\");\n    }\n    const paths = {\n      \"vega\": \"https://cdn.jsdelivr.net/npm//vega@5?noext\",\n      \"vega-lib\": \"https://cdn.jsdelivr.net/npm//vega-lib?noext\",\n      \"vega-lite\": \"https://cdn.jsdelivr.net/npm//vega-lite@4.17.0?noext\",\n      \"vega-embed\": \"https://cdn.jsdelivr.net/npm//vega-embed@6?noext\",\n    };\n\n    function maybeLoadScript(lib, version) {\n      var key = `${lib.replace(\"-\", \"\")}_version`;\n      return (VEGA_DEBUG[key] == version) ?\n        Promise.resolve(paths[lib]) :\n        new Promise(function(resolve, reject) {\n          var s = document.createElement('script');\n          document.getElementsByTagName(\"head\")[0].appendChild(s);\n          s.async = true;\n          s.onload = () => {\n            VEGA_DEBUG[key] = version;\n            return resolve(paths[lib]);\n          };\n          s.onerror = () => reject(`Error loading script: ${paths[lib]}`);\n          s.src = paths[lib];\n        });\n    }\n\n    function showError(err) {\n      outputDiv.innerHTML = `<div class=\"error\" style=\"color:red;\">${err}</div>`;\n      throw err;\n    }\n\n    function displayChart(vegaEmbed) {\n      vegaEmbed(outputDiv, spec, embedOpt)\n        .catch(err => showError(`Javascript Error: ${err.message}<br>This usually means there's a typo in your chart specification. See the javascript console for the full traceback.`));\n    }\n\n    if(typeof define === \"function\" && define.amd) {\n      requirejs.config({paths});\n      require([\"vega-embed\"], displayChart, err => showError(`Error loading script: ${err.message}`));\n    } else {\n      maybeLoadScript(\"vega\", \"5\")\n        .then(() => maybeLoadScript(\"vega-lite\", \"4.17.0\"))\n        .then(() => maybeLoadScript(\"vega-embed\", \"6\"))\n        .catch(showError)\n        .then(() => displayChart(vegaEmbed));\n    }\n  })({\"config\": {\"view\": {\"continuousWidth\": 400, \"continuousHeight\": 300}}, \"data\": {\"name\": \"data-063be00b34e733da1cc89fab1e0a9d76\"}, \"mark\": \"boxplot\", \"encoding\": {\"y\": {\"field\": \"HIV/AIDS\", \"scale\": {\"zero\": false}, \"type\": \"quantitative\"}}, \"$schema\": \"https://vega.github.io/schema/vega-lite/v4.17.0.json\", \"datasets\": {\"data-063be00b34e733da1cc89fab1e0a9d76\": [{\"Year\": \"2015\", \"Percentage Expenditure\": \"0.0\", \"HIV/AIDS\": 3.6, \"Percentage Expenditure Outlierless\": null}, {\"Year\": \"2014\", \"Percentage Expenditure\": \"922.0507313\", \"HIV/AIDS\": 3.7, \"Percentage Expenditure Outlierless\": 922.0507313}, {\"Year\": \"2013\", \"Percentage Expenditure\": \"978.5905287\", \"HIV/AIDS\": 4.5, \"Percentage Expenditure Outlierless\": 978.5905287}, {\"Year\": \"2012\", \"Percentage Expenditure\": \"1089.954838\", \"HIV/AIDS\": 7.6, \"Percentage Expenditure Outlierless\": 1089.954838}, {\"Year\": \"2011\", \"Percentage Expenditure\": \"123.753335\", \"HIV/AIDS\": 8.5, \"Percentage Expenditure Outlierless\": null}, {\"Year\": \"2010\", \"Percentage Expenditure\": \"1038.885632\", \"HIV/AIDS\": 11.0, \"Percentage Expenditure Outlierless\": 1038.885632}, {\"Year\": \"2009\", \"Percentage Expenditure\": \"782.5987144\", \"HIV/AIDS\": 19.0, \"Percentage Expenditure Outlierless\": 782.5987144}, {\"Year\": \"2008\", \"Percentage Expenditure\": \"780.0336423\", \"HIV/AIDS\": 23.5, \"Percentage Expenditure Outlierless\": 780.0336423}, {\"Year\": \"2007\", \"Percentage Expenditure\": \"805.490079\", \"HIV/AIDS\": 26.4, \"Percentage Expenditure Outlierless\": 805.490079}, {\"Year\": \"2006\", \"Percentage Expenditure\": \"732.1255305\", \"HIV/AIDS\": 28.1, \"Percentage Expenditure Outlierless\": 732.1255305}, {\"Year\": \"2005\", \"Percentage Expenditure\": \"709.3170967\", \"HIV/AIDS\": 29.5, \"Percentage Expenditure Outlierless\": 709.3170967}, {\"Year\": \"2004\", \"Percentage Expenditure\": \"622.043809\", \"HIV/AIDS\": 29.7, \"Percentage Expenditure Outlierless\": 622.043809}, {\"Year\": \"2003\", \"Percentage Expenditure\": \"519.1563781\", \"HIV/AIDS\": 28.9, \"Percentage Expenditure Outlierless\": 519.1563781}, {\"Year\": \"2002\", \"Percentage Expenditure\": \"346.5316007\", \"HIV/AIDS\": 26.6, \"Percentage Expenditure Outlierless\": 346.5316007}, {\"Year\": \"2001\", \"Percentage Expenditure\": \"365.2585722\", \"HIV/AIDS\": 24.0, \"Percentage Expenditure Outlierless\": 365.2585722}, {\"Year\": \"2000\", \"Percentage Expenditure\": \"45.96380839\", \"HIV/AIDS\": 21.3, \"Percentage Expenditure Outlierless\": 45.96380839}]}}, {\"mode\": \"vega-lite\"});\n</script>",
                  "text/plain": "alt.Chart(...)"
                },
                "metadata": {}
              }
            ]
          }
        },
        "dbca2f1f75114572bf2b01cc1a570dc0": {
          "model_module": "@jupyter-widgets/output",
          "model_name": "OutputModel",
          "model_module_version": "1.0.0",
          "state": {
            "_dom_classes": [],
            "_model_module": "@jupyter-widgets/output",
            "_model_module_version": "1.0.0",
            "_model_name": "OutputModel",
            "_view_count": null,
            "_view_module": "@jupyter-widgets/output",
            "_view_module_version": "1.0.0",
            "_view_name": "OutputView",
            "layout": "IPY_MODEL_b1dd767dde734966bb9b90c08a28ea17",
            "msg_id": "",
            "outputs": [
              {
                "output_type": "display_data",
                "data": {
                  "text/plain": "        HIV/AIDS  Percentage Expenditure Outlierless\ncount  16.000000                           14.000000\nmean   18.493750                          695.571497\nstd    10.166053                          293.855603\nmin     3.600000                           45.963808\n25%     8.275000                          544.878236\n50%    22.400000                          756.079586\n75%    26.975000                          892.910568\nmax    29.700000                         1089.954838",
                  "text/html": "\n  <div id=\"df-da0d6a38-2705-48c0-b236-059dffa98999\" class=\"colab-df-container\">\n    <div>\n<style scoped>\n    .dataframe tbody tr th:only-of-type {\n        vertical-align: middle;\n    }\n\n    .dataframe tbody tr th {\n        vertical-align: top;\n    }\n\n    .dataframe thead th {\n        text-align: right;\n    }\n</style>\n<table border=\"1\" class=\"dataframe\">\n  <thead>\n    <tr style=\"text-align: right;\">\n      <th></th>\n      <th>HIV/AIDS</th>\n      <th>Percentage Expenditure Outlierless</th>\n    </tr>\n  </thead>\n  <tbody>\n    <tr>\n      <th>count</th>\n      <td>16.000000</td>\n      <td>14.000000</td>\n    </tr>\n    <tr>\n      <th>mean</th>\n      <td>18.493750</td>\n      <td>695.571497</td>\n    </tr>\n    <tr>\n      <th>std</th>\n      <td>10.166053</td>\n      <td>293.855603</td>\n    </tr>\n    <tr>\n      <th>min</th>\n      <td>3.600000</td>\n      <td>45.963808</td>\n    </tr>\n    <tr>\n      <th>25%</th>\n      <td>8.275000</td>\n      <td>544.878236</td>\n    </tr>\n    <tr>\n      <th>50%</th>\n      <td>22.400000</td>\n      <td>756.079586</td>\n    </tr>\n    <tr>\n      <th>75%</th>\n      <td>26.975000</td>\n      <td>892.910568</td>\n    </tr>\n    <tr>\n      <th>max</th>\n      <td>29.700000</td>\n      <td>1089.954838</td>\n    </tr>\n  </tbody>\n</table>\n</div>\n    <div class=\"colab-df-buttons\">\n\n  <div class=\"colab-df-container\">\n    <button class=\"colab-df-convert\" onclick=\"convertToInteractive('df-da0d6a38-2705-48c0-b236-059dffa98999')\"\n            title=\"Convert this dataframe to an interactive table.\"\n            style=\"display:none;\">\n\n  <svg xmlns=\"http://www.w3.org/2000/svg\" height=\"24px\" viewBox=\"0 -960 960 960\">\n    <path d=\"M120-120v-720h720v720H120Zm60-500h600v-160H180v160Zm220 220h160v-160H400v160Zm0 220h160v-160H400v160ZM180-400h160v-160H180v160Zm440 0h160v-160H620v160ZM180-180h160v-160H180v160Zm440 0h160v-160H620v160Z\"/>\n  </svg>\n    </button>\n\n  <style>\n    .colab-df-container {\n      display:flex;\n      gap: 12px;\n    }\n\n    .colab-df-convert {\n      background-color: #E8F0FE;\n      border: none;\n      border-radius: 50%;\n      cursor: pointer;\n      display: none;\n      fill: #1967D2;\n      height: 32px;\n      padding: 0 0 0 0;\n      width: 32px;\n    }\n\n    .colab-df-convert:hover {\n      background-color: #E2EBFA;\n      box-shadow: 0px 1px 2px rgba(60, 64, 67, 0.3), 0px 1px 3px 1px rgba(60, 64, 67, 0.15);\n      fill: #174EA6;\n    }\n\n    .colab-df-buttons div {\n      margin-bottom: 4px;\n    }\n\n    [theme=dark] .colab-df-convert {\n      background-color: #3B4455;\n      fill: #D2E3FC;\n    }\n\n    [theme=dark] .colab-df-convert:hover {\n      background-color: #434B5C;\n      box-shadow: 0px 1px 3px 1px rgba(0, 0, 0, 0.15);\n      filter: drop-shadow(0px 1px 2px rgba(0, 0, 0, 0.3));\n      fill: #FFFFFF;\n    }\n  </style>\n\n    <script>\n      const buttonEl =\n        document.querySelector('#df-da0d6a38-2705-48c0-b236-059dffa98999 button.colab-df-convert');\n      buttonEl.style.display =\n        google.colab.kernel.accessAllowed ? 'block' : 'none';\n\n      async function convertToInteractive(key) {\n        const element = document.querySelector('#df-da0d6a38-2705-48c0-b236-059dffa98999');\n        const dataTable =\n          await google.colab.kernel.invokeFunction('convertToInteractive',\n                                                    [key], {});\n        if (!dataTable) return;\n\n        const docLinkHtml = 'Like what you see? Visit the ' +\n          '<a target=\"_blank\" href=https://colab.research.google.com/notebooks/data_table.ipynb>data table notebook</a>'\n          + ' to learn more about interactive tables.';\n        element.innerHTML = '';\n        dataTable['output_type'] = 'display_data';\n        await google.colab.output.renderOutput(dataTable, element);\n        const docLink = document.createElement('div');\n        docLink.innerHTML = docLinkHtml;\n        element.appendChild(docLink);\n      }\n    </script>\n  </div>\n\n\n<div id=\"df-8ac093c8-0ba9-4809-98e0-b6440522290f\">\n  <button class=\"colab-df-quickchart\" onclick=\"quickchart('df-8ac093c8-0ba9-4809-98e0-b6440522290f')\"\n            title=\"Suggest charts\"\n            style=\"display:none;\">\n\n<svg xmlns=\"http://www.w3.org/2000/svg\" height=\"24px\"viewBox=\"0 0 24 24\"\n     width=\"24px\">\n    <g>\n        <path d=\"M19 3H5c-1.1 0-2 .9-2 2v14c0 1.1.9 2 2 2h14c1.1 0 2-.9 2-2V5c0-1.1-.9-2-2-2zM9 17H7v-7h2v7zm4 0h-2V7h2v10zm4 0h-2v-4h2v4z\"/>\n    </g>\n</svg>\n  </button>\n\n<style>\n  .colab-df-quickchart {\n      --bg-color: #E8F0FE;\n      --fill-color: #1967D2;\n      --hover-bg-color: #E2EBFA;\n      --hover-fill-color: #174EA6;\n      --disabled-fill-color: #AAA;\n      --disabled-bg-color: #DDD;\n  }\n\n  [theme=dark] .colab-df-quickchart {\n      --bg-color: #3B4455;\n      --fill-color: #D2E3FC;\n      --hover-bg-color: #434B5C;\n      --hover-fill-color: #FFFFFF;\n      --disabled-bg-color: #3B4455;\n      --disabled-fill-color: #666;\n  }\n\n  .colab-df-quickchart {\n    background-color: var(--bg-color);\n    border: none;\n    border-radius: 50%;\n    cursor: pointer;\n    display: none;\n    fill: var(--fill-color);\n    height: 32px;\n    padding: 0;\n    width: 32px;\n  }\n\n  .colab-df-quickchart:hover {\n    background-color: var(--hover-bg-color);\n    box-shadow: 0 1px 2px rgba(60, 64, 67, 0.3), 0 1px 3px 1px rgba(60, 64, 67, 0.15);\n    fill: var(--button-hover-fill-color);\n  }\n\n  .colab-df-quickchart-complete:disabled,\n  .colab-df-quickchart-complete:disabled:hover {\n    background-color: var(--disabled-bg-color);\n    fill: var(--disabled-fill-color);\n    box-shadow: none;\n  }\n\n  .colab-df-spinner {\n    border: 2px solid var(--fill-color);\n    border-color: transparent;\n    border-bottom-color: var(--fill-color);\n    animation:\n      spin 1s steps(1) infinite;\n  }\n\n  @keyframes spin {\n    0% {\n      border-color: transparent;\n      border-bottom-color: var(--fill-color);\n      border-left-color: var(--fill-color);\n    }\n    20% {\n      border-color: transparent;\n      border-left-color: var(--fill-color);\n      border-top-color: var(--fill-color);\n    }\n    30% {\n      border-color: transparent;\n      border-left-color: var(--fill-color);\n      border-top-color: var(--fill-color);\n      border-right-color: var(--fill-color);\n    }\n    40% {\n      border-color: transparent;\n      border-right-color: var(--fill-color);\n      border-top-color: var(--fill-color);\n    }\n    60% {\n      border-color: transparent;\n      border-right-color: var(--fill-color);\n    }\n    80% {\n      border-color: transparent;\n      border-right-color: var(--fill-color);\n      border-bottom-color: var(--fill-color);\n    }\n    90% {\n      border-color: transparent;\n      border-bottom-color: var(--fill-color);\n    }\n  }\n</style>\n\n  <script>\n    async function quickchart(key) {\n      const quickchartButtonEl =\n        document.querySelector('#' + key + ' button');\n      quickchartButtonEl.disabled = true;  // To prevent multiple clicks.\n      quickchartButtonEl.classList.add('colab-df-spinner');\n      try {\n        const charts = await google.colab.kernel.invokeFunction(\n            'suggestCharts', [key], {});\n      } catch (error) {\n        console.error('Error during call to suggestCharts:', error);\n      }\n      quickchartButtonEl.classList.remove('colab-df-spinner');\n      quickchartButtonEl.classList.add('colab-df-quickchart-complete');\n    }\n    (() => {\n      let quickchartButtonEl =\n        document.querySelector('#df-8ac093c8-0ba9-4809-98e0-b6440522290f button');\n      quickchartButtonEl.style.display =\n        google.colab.kernel.accessAllowed ? 'block' : 'none';\n    })();\n  </script>\n</div>\n    </div>\n  </div>\n",
                  "application/vnd.google.colaboratory.intrinsic+json": {
                    "type": "dataframe",
                    "summary": "{\n  \"name\": \"widgets\",\n  \"rows\": 8,\n  \"fields\": [\n    {\n      \"column\": \"HIV/AIDS\",\n      \"properties\": {\n        \"dtype\": \"number\",\n        \"std\": 9.223815020200218,\n        \"min\": 3.6,\n        \"max\": 29.7,\n        \"num_unique_values\": 8,\n        \"samples\": [\n          18.49375,\n          22.4,\n          16.0\n        ],\n        \"semantic_type\": \"\",\n        \"description\": \"\"\n      }\n    },\n    {\n      \"column\": \"Percentage Expenditure Outlierless\",\n      \"properties\": {\n        \"dtype\": \"number\",\n        \"std\": 392.6514020937183,\n        \"min\": 14.0,\n        \"max\": 1089.954838,\n        \"num_unique_values\": 8,\n        \"samples\": [\n          695.5714972349999,\n          756.0795863999999,\n          14.0\n        ],\n        \"semantic_type\": \"\",\n        \"description\": \"\"\n      }\n    }\n  ]\n}"
                  }
                },
                "metadata": {}
              }
            ]
          }
        },
        "e63e219067534f9b9674370f86a42a3d": {
          "model_module": "@jupyter-widgets/output",
          "model_name": "OutputModel",
          "model_module_version": "1.0.0",
          "state": {
            "_dom_classes": [],
            "_model_module": "@jupyter-widgets/output",
            "_model_module_version": "1.0.0",
            "_model_name": "OutputModel",
            "_view_count": null,
            "_view_module": "@jupyter-widgets/output",
            "_view_module_version": "1.0.0",
            "_view_name": "OutputView",
            "layout": "IPY_MODEL_8c5453c5cd9b490bbea2ed70b8ee5bf2",
            "msg_id": "",
            "outputs": [
              {
                "output_type": "display_data",
                "data": {
                  "text/html": "\n<div id=\"altair-viz-309d12e2367449e09b4c6815a1f9b7ae\"></div>\n<script type=\"text/javascript\">\n  var VEGA_DEBUG = (typeof VEGA_DEBUG == \"undefined\") ? {} : VEGA_DEBUG;\n  (function(spec, embedOpt){\n    let outputDiv = document.currentScript.previousElementSibling;\n    if (outputDiv.id !== \"altair-viz-309d12e2367449e09b4c6815a1f9b7ae\") {\n      outputDiv = document.getElementById(\"altair-viz-309d12e2367449e09b4c6815a1f9b7ae\");\n    }\n    const paths = {\n      \"vega\": \"https://cdn.jsdelivr.net/npm//vega@5?noext\",\n      \"vega-lib\": \"https://cdn.jsdelivr.net/npm//vega-lib?noext\",\n      \"vega-lite\": \"https://cdn.jsdelivr.net/npm//vega-lite@4.17.0?noext\",\n      \"vega-embed\": \"https://cdn.jsdelivr.net/npm//vega-embed@6?noext\",\n    };\n\n    function maybeLoadScript(lib, version) {\n      var key = `${lib.replace(\"-\", \"\")}_version`;\n      return (VEGA_DEBUG[key] == version) ?\n        Promise.resolve(paths[lib]) :\n        new Promise(function(resolve, reject) {\n          var s = document.createElement('script');\n          document.getElementsByTagName(\"head\")[0].appendChild(s);\n          s.async = true;\n          s.onload = () => {\n            VEGA_DEBUG[key] = version;\n            return resolve(paths[lib]);\n          };\n          s.onerror = () => reject(`Error loading script: ${paths[lib]}`);\n          s.src = paths[lib];\n        });\n    }\n\n    function showError(err) {\n      outputDiv.innerHTML = `<div class=\"error\" style=\"color:red;\">${err}</div>`;\n      throw err;\n    }\n\n    function displayChart(vegaEmbed) {\n      vegaEmbed(outputDiv, spec, embedOpt)\n        .catch(err => showError(`Javascript Error: ${err.message}<br>This usually means there's a typo in your chart specification. See the javascript console for the full traceback.`));\n    }\n\n    if(typeof define === \"function\" && define.amd) {\n      requirejs.config({paths});\n      require([\"vega-embed\"], displayChart, err => showError(`Error loading script: ${err.message}`));\n    } else {\n      maybeLoadScript(\"vega\", \"5\")\n        .then(() => maybeLoadScript(\"vega-lite\", \"4.17.0\"))\n        .then(() => maybeLoadScript(\"vega-embed\", \"6\"))\n        .catch(showError)\n        .then(() => displayChart(vegaEmbed));\n    }\n  })({\"config\": {\"view\": {\"continuousWidth\": 400, \"continuousHeight\": 300}}, \"data\": {\"name\": \"data-063be00b34e733da1cc89fab1e0a9d76\"}, \"mark\": \"boxplot\", \"encoding\": {\"y\": {\"field\": \"Percentage Expenditure Outlierless\", \"scale\": {\"zero\": false}, \"type\": \"quantitative\"}}, \"$schema\": \"https://vega.github.io/schema/vega-lite/v4.17.0.json\", \"datasets\": {\"data-063be00b34e733da1cc89fab1e0a9d76\": [{\"Year\": \"2015\", \"Percentage Expenditure\": \"0.0\", \"HIV/AIDS\": 3.6, \"Percentage Expenditure Outlierless\": null}, {\"Year\": \"2014\", \"Percentage Expenditure\": \"922.0507313\", \"HIV/AIDS\": 3.7, \"Percentage Expenditure Outlierless\": 922.0507313}, {\"Year\": \"2013\", \"Percentage Expenditure\": \"978.5905287\", \"HIV/AIDS\": 4.5, \"Percentage Expenditure Outlierless\": 978.5905287}, {\"Year\": \"2012\", \"Percentage Expenditure\": \"1089.954838\", \"HIV/AIDS\": 7.6, \"Percentage Expenditure Outlierless\": 1089.954838}, {\"Year\": \"2011\", \"Percentage Expenditure\": \"123.753335\", \"HIV/AIDS\": 8.5, \"Percentage Expenditure Outlierless\": null}, {\"Year\": \"2010\", \"Percentage Expenditure\": \"1038.885632\", \"HIV/AIDS\": 11.0, \"Percentage Expenditure Outlierless\": 1038.885632}, {\"Year\": \"2009\", \"Percentage Expenditure\": \"782.5987144\", \"HIV/AIDS\": 19.0, \"Percentage Expenditure Outlierless\": 782.5987144}, {\"Year\": \"2008\", \"Percentage Expenditure\": \"780.0336423\", \"HIV/AIDS\": 23.5, \"Percentage Expenditure Outlierless\": 780.0336423}, {\"Year\": \"2007\", \"Percentage Expenditure\": \"805.490079\", \"HIV/AIDS\": 26.4, \"Percentage Expenditure Outlierless\": 805.490079}, {\"Year\": \"2006\", \"Percentage Expenditure\": \"732.1255305\", \"HIV/AIDS\": 28.1, \"Percentage Expenditure Outlierless\": 732.1255305}, {\"Year\": \"2005\", \"Percentage Expenditure\": \"709.3170967\", \"HIV/AIDS\": 29.5, \"Percentage Expenditure Outlierless\": 709.3170967}, {\"Year\": \"2004\", \"Percentage Expenditure\": \"622.043809\", \"HIV/AIDS\": 29.7, \"Percentage Expenditure Outlierless\": 622.043809}, {\"Year\": \"2003\", \"Percentage Expenditure\": \"519.1563781\", \"HIV/AIDS\": 28.9, \"Percentage Expenditure Outlierless\": 519.1563781}, {\"Year\": \"2002\", \"Percentage Expenditure\": \"346.5316007\", \"HIV/AIDS\": 26.6, \"Percentage Expenditure Outlierless\": 346.5316007}, {\"Year\": \"2001\", \"Percentage Expenditure\": \"365.2585722\", \"HIV/AIDS\": 24.0, \"Percentage Expenditure Outlierless\": 365.2585722}, {\"Year\": \"2000\", \"Percentage Expenditure\": \"45.96380839\", \"HIV/AIDS\": 21.3, \"Percentage Expenditure Outlierless\": 45.96380839}]}}, {\"mode\": \"vega-lite\"});\n</script>",
                  "text/plain": "alt.Chart(...)"
                },
                "metadata": {}
              }
            ]
          }
        },
        "643f275b0e034c23b2ce77b35819892a": {
          "model_module": "@jupyter-widgets/output",
          "model_name": "OutputModel",
          "model_module_version": "1.0.0",
          "state": {
            "_dom_classes": [],
            "_model_module": "@jupyter-widgets/output",
            "_model_module_version": "1.0.0",
            "_model_name": "OutputModel",
            "_view_count": null,
            "_view_module": "@jupyter-widgets/output",
            "_view_module_version": "1.0.0",
            "_view_name": "OutputView",
            "layout": "IPY_MODEL_7b0f7fca2bfe41789eb62869a78cc15f",
            "msg_id": "",
            "outputs": [
              {
                "output_type": "display_data",
                "data": {
                  "text/html": "\n<div id=\"altair-viz-0d16212cdf454488bde9ff6fb05ae314\"></div>\n<script type=\"text/javascript\">\n  var VEGA_DEBUG = (typeof VEGA_DEBUG == \"undefined\") ? {} : VEGA_DEBUG;\n  (function(spec, embedOpt){\n    let outputDiv = document.currentScript.previousElementSibling;\n    if (outputDiv.id !== \"altair-viz-0d16212cdf454488bde9ff6fb05ae314\") {\n      outputDiv = document.getElementById(\"altair-viz-0d16212cdf454488bde9ff6fb05ae314\");\n    }\n    const paths = {\n      \"vega\": \"https://cdn.jsdelivr.net/npm//vega@5?noext\",\n      \"vega-lib\": \"https://cdn.jsdelivr.net/npm//vega-lib?noext\",\n      \"vega-lite\": \"https://cdn.jsdelivr.net/npm//vega-lite@4.17.0?noext\",\n      \"vega-embed\": \"https://cdn.jsdelivr.net/npm//vega-embed@6?noext\",\n    };\n\n    function maybeLoadScript(lib, version) {\n      var key = `${lib.replace(\"-\", \"\")}_version`;\n      return (VEGA_DEBUG[key] == version) ?\n        Promise.resolve(paths[lib]) :\n        new Promise(function(resolve, reject) {\n          var s = document.createElement('script');\n          document.getElementsByTagName(\"head\")[0].appendChild(s);\n          s.async = true;\n          s.onload = () => {\n            VEGA_DEBUG[key] = version;\n            return resolve(paths[lib]);\n          };\n          s.onerror = () => reject(`Error loading script: ${paths[lib]}`);\n          s.src = paths[lib];\n        });\n    }\n\n    function showError(err) {\n      outputDiv.innerHTML = `<div class=\"error\" style=\"color:red;\">${err}</div>`;\n      throw err;\n    }\n\n    function displayChart(vegaEmbed) {\n      vegaEmbed(outputDiv, spec, embedOpt)\n        .catch(err => showError(`Javascript Error: ${err.message}<br>This usually means there's a typo in your chart specification. See the javascript console for the full traceback.`));\n    }\n\n    if(typeof define === \"function\" && define.amd) {\n      requirejs.config({paths});\n      require([\"vega-embed\"], displayChart, err => showError(`Error loading script: ${err.message}`));\n    } else {\n      maybeLoadScript(\"vega\", \"5\")\n        .then(() => maybeLoadScript(\"vega-lite\", \"4.17.0\"))\n        .then(() => maybeLoadScript(\"vega-embed\", \"6\"))\n        .catch(showError)\n        .then(() => displayChart(vegaEmbed));\n    }\n  })({\"config\": {\"view\": {\"continuousWidth\": 400, \"continuousHeight\": 300}}, \"data\": {\"name\": \"data-063be00b34e733da1cc89fab1e0a9d76\"}, \"mark\": \"boxplot\", \"encoding\": {\"y\": {\"field\": \"Percentage Expenditure\", \"scale\": {\"zero\": false}, \"type\": \"quantitative\"}}, \"$schema\": \"https://vega.github.io/schema/vega-lite/v4.17.0.json\", \"datasets\": {\"data-063be00b34e733da1cc89fab1e0a9d76\": [{\"Year\": \"2015\", \"Percentage Expenditure\": \"0.0\", \"HIV/AIDS\": 3.6, \"Percentage Expenditure Outlierless\": null}, {\"Year\": \"2014\", \"Percentage Expenditure\": \"922.0507313\", \"HIV/AIDS\": 3.7, \"Percentage Expenditure Outlierless\": 922.0507313}, {\"Year\": \"2013\", \"Percentage Expenditure\": \"978.5905287\", \"HIV/AIDS\": 4.5, \"Percentage Expenditure Outlierless\": 978.5905287}, {\"Year\": \"2012\", \"Percentage Expenditure\": \"1089.954838\", \"HIV/AIDS\": 7.6, \"Percentage Expenditure Outlierless\": 1089.954838}, {\"Year\": \"2011\", \"Percentage Expenditure\": \"123.753335\", \"HIV/AIDS\": 8.5, \"Percentage Expenditure Outlierless\": null}, {\"Year\": \"2010\", \"Percentage Expenditure\": \"1038.885632\", \"HIV/AIDS\": 11.0, \"Percentage Expenditure Outlierless\": 1038.885632}, {\"Year\": \"2009\", \"Percentage Expenditure\": \"782.5987144\", \"HIV/AIDS\": 19.0, \"Percentage Expenditure Outlierless\": 782.5987144}, {\"Year\": \"2008\", \"Percentage Expenditure\": \"780.0336423\", \"HIV/AIDS\": 23.5, \"Percentage Expenditure Outlierless\": 780.0336423}, {\"Year\": \"2007\", \"Percentage Expenditure\": \"805.490079\", \"HIV/AIDS\": 26.4, \"Percentage Expenditure Outlierless\": 805.490079}, {\"Year\": \"2006\", \"Percentage Expenditure\": \"732.1255305\", \"HIV/AIDS\": 28.1, \"Percentage Expenditure Outlierless\": 732.1255305}, {\"Year\": \"2005\", \"Percentage Expenditure\": \"709.3170967\", \"HIV/AIDS\": 29.5, \"Percentage Expenditure Outlierless\": 709.3170967}, {\"Year\": \"2004\", \"Percentage Expenditure\": \"622.043809\", \"HIV/AIDS\": 29.7, \"Percentage Expenditure Outlierless\": 622.043809}, {\"Year\": \"2003\", \"Percentage Expenditure\": \"519.1563781\", \"HIV/AIDS\": 28.9, \"Percentage Expenditure Outlierless\": 519.1563781}, {\"Year\": \"2002\", \"Percentage Expenditure\": \"346.5316007\", \"HIV/AIDS\": 26.6, \"Percentage Expenditure Outlierless\": 346.5316007}, {\"Year\": \"2001\", \"Percentage Expenditure\": \"365.2585722\", \"HIV/AIDS\": 24.0, \"Percentage Expenditure Outlierless\": 365.2585722}, {\"Year\": \"2000\", \"Percentage Expenditure\": \"45.96380839\", \"HIV/AIDS\": 21.3, \"Percentage Expenditure Outlierless\": 45.96380839}]}}, {\"mode\": \"vega-lite\"});\n</script>",
                  "text/plain": "alt.Chart(...)"
                },
                "metadata": {}
              }
            ]
          }
        },
        "2fcbcf908502485daaff975c436c1121": {
          "model_module": "@jupyter-widgets/base",
          "model_name": "LayoutModel",
          "model_module_version": "1.2.0",
          "state": {
            "_model_module": "@jupyter-widgets/base",
            "_model_module_version": "1.2.0",
            "_model_name": "LayoutModel",
            "_view_count": null,
            "_view_module": "@jupyter-widgets/base",
            "_view_module_version": "1.2.0",
            "_view_name": "LayoutView",
            "align_content": null,
            "align_items": null,
            "align_self": null,
            "border": null,
            "bottom": null,
            "display": null,
            "flex": null,
            "flex_flow": null,
            "grid_area": null,
            "grid_auto_columns": null,
            "grid_auto_flow": null,
            "grid_auto_rows": null,
            "grid_column": null,
            "grid_gap": null,
            "grid_row": null,
            "grid_template_areas": null,
            "grid_template_columns": null,
            "grid_template_rows": null,
            "height": null,
            "justify_content": null,
            "justify_items": null,
            "left": null,
            "margin": null,
            "max_height": null,
            "max_width": null,
            "min_height": null,
            "min_width": null,
            "object_fit": null,
            "object_position": null,
            "order": null,
            "overflow": null,
            "overflow_x": null,
            "overflow_y": null,
            "padding": null,
            "right": null,
            "top": null,
            "visibility": null,
            "width": null
          }
        },
        "528bd22c5f8f4969ac7df059086384e9": {
          "model_module": "@jupyter-widgets/base",
          "model_name": "LayoutModel",
          "model_module_version": "1.2.0",
          "state": {
            "_model_module": "@jupyter-widgets/base",
            "_model_module_version": "1.2.0",
            "_model_name": "LayoutModel",
            "_view_count": null,
            "_view_module": "@jupyter-widgets/base",
            "_view_module_version": "1.2.0",
            "_view_name": "LayoutView",
            "align_content": null,
            "align_items": null,
            "align_self": null,
            "border": null,
            "bottom": null,
            "display": null,
            "flex": null,
            "flex_flow": null,
            "grid_area": null,
            "grid_auto_columns": null,
            "grid_auto_flow": null,
            "grid_auto_rows": null,
            "grid_column": null,
            "grid_gap": null,
            "grid_row": null,
            "grid_template_areas": null,
            "grid_template_columns": null,
            "grid_template_rows": null,
            "height": null,
            "justify_content": null,
            "justify_items": null,
            "left": null,
            "margin": null,
            "max_height": null,
            "max_width": null,
            "min_height": null,
            "min_width": null,
            "object_fit": null,
            "object_position": null,
            "order": null,
            "overflow": null,
            "overflow_x": null,
            "overflow_y": null,
            "padding": null,
            "right": null,
            "top": null,
            "visibility": null,
            "width": null
          }
        },
        "b1dd767dde734966bb9b90c08a28ea17": {
          "model_module": "@jupyter-widgets/base",
          "model_name": "LayoutModel",
          "model_module_version": "1.2.0",
          "state": {
            "_model_module": "@jupyter-widgets/base",
            "_model_module_version": "1.2.0",
            "_model_name": "LayoutModel",
            "_view_count": null,
            "_view_module": "@jupyter-widgets/base",
            "_view_module_version": "1.2.0",
            "_view_name": "LayoutView",
            "align_content": null,
            "align_items": null,
            "align_self": null,
            "border": null,
            "bottom": null,
            "display": null,
            "flex": null,
            "flex_flow": null,
            "grid_area": null,
            "grid_auto_columns": null,
            "grid_auto_flow": null,
            "grid_auto_rows": null,
            "grid_column": null,
            "grid_gap": null,
            "grid_row": null,
            "grid_template_areas": null,
            "grid_template_columns": null,
            "grid_template_rows": null,
            "height": null,
            "justify_content": null,
            "justify_items": null,
            "left": null,
            "margin": null,
            "max_height": null,
            "max_width": null,
            "min_height": null,
            "min_width": null,
            "object_fit": null,
            "object_position": null,
            "order": null,
            "overflow": null,
            "overflow_x": null,
            "overflow_y": null,
            "padding": null,
            "right": null,
            "top": null,
            "visibility": null,
            "width": null
          }
        },
        "8c5453c5cd9b490bbea2ed70b8ee5bf2": {
          "model_module": "@jupyter-widgets/base",
          "model_name": "LayoutModel",
          "model_module_version": "1.2.0",
          "state": {
            "_model_module": "@jupyter-widgets/base",
            "_model_module_version": "1.2.0",
            "_model_name": "LayoutModel",
            "_view_count": null,
            "_view_module": "@jupyter-widgets/base",
            "_view_module_version": "1.2.0",
            "_view_name": "LayoutView",
            "align_content": null,
            "align_items": null,
            "align_self": null,
            "border": null,
            "bottom": null,
            "display": null,
            "flex": null,
            "flex_flow": null,
            "grid_area": null,
            "grid_auto_columns": null,
            "grid_auto_flow": null,
            "grid_auto_rows": null,
            "grid_column": null,
            "grid_gap": null,
            "grid_row": null,
            "grid_template_areas": null,
            "grid_template_columns": null,
            "grid_template_rows": null,
            "height": null,
            "justify_content": null,
            "justify_items": null,
            "left": null,
            "margin": null,
            "max_height": null,
            "max_width": null,
            "min_height": null,
            "min_width": null,
            "object_fit": null,
            "object_position": null,
            "order": null,
            "overflow": null,
            "overflow_x": null,
            "overflow_y": null,
            "padding": null,
            "right": null,
            "top": null,
            "visibility": null,
            "width": null
          }
        },
        "7b0f7fca2bfe41789eb62869a78cc15f": {
          "model_module": "@jupyter-widgets/base",
          "model_name": "LayoutModel",
          "model_module_version": "1.2.0",
          "state": {
            "_model_module": "@jupyter-widgets/base",
            "_model_module_version": "1.2.0",
            "_model_name": "LayoutModel",
            "_view_count": null,
            "_view_module": "@jupyter-widgets/base",
            "_view_module_version": "1.2.0",
            "_view_name": "LayoutView",
            "align_content": null,
            "align_items": null,
            "align_self": null,
            "border": null,
            "bottom": null,
            "display": null,
            "flex": null,
            "flex_flow": null,
            "grid_area": null,
            "grid_auto_columns": null,
            "grid_auto_flow": null,
            "grid_auto_rows": null,
            "grid_column": null,
            "grid_gap": null,
            "grid_row": null,
            "grid_template_areas": null,
            "grid_template_columns": null,
            "grid_template_rows": null,
            "height": null,
            "justify_content": null,
            "justify_items": null,
            "left": null,
            "margin": null,
            "max_height": null,
            "max_width": null,
            "min_height": null,
            "min_width": null,
            "object_fit": null,
            "object_position": null,
            "order": null,
            "overflow": null,
            "overflow_x": null,
            "overflow_y": null,
            "padding": null,
            "right": null,
            "top": null,
            "visibility": null,
            "width": null
          }
        },
        "8b6986b71da14507b18c65f274c7a1c6": {
          "model_module": "@jupyter-widgets/controls",
          "model_name": "HBoxModel",
          "model_module_version": "1.5.0",
          "state": {
            "_dom_classes": [],
            "_model_module": "@jupyter-widgets/controls",
            "_model_module_version": "1.5.0",
            "_model_name": "HBoxModel",
            "_view_count": null,
            "_view_module": "@jupyter-widgets/controls",
            "_view_module_version": "1.5.0",
            "_view_name": "HBoxView",
            "box_style": "",
            "children": [
              "IPY_MODEL_00304dc3ae224985a13fe11e0ec7a3fe"
            ],
            "layout": "IPY_MODEL_14ffb47f2b4644759614072b49cc0f01"
          }
        },
        "00304dc3ae224985a13fe11e0ec7a3fe": {
          "model_module": "@jupyter-widgets/output",
          "model_name": "OutputModel",
          "model_module_version": "1.0.0",
          "state": {
            "_dom_classes": [],
            "_model_module": "@jupyter-widgets/output",
            "_model_module_version": "1.0.0",
            "_model_name": "OutputModel",
            "_view_count": null,
            "_view_module": "@jupyter-widgets/output",
            "_view_module_version": "1.0.0",
            "_view_name": "OutputView",
            "layout": "IPY_MODEL_6a95f2b7b9614ac2b4585b3f0ff0179e",
            "msg_id": "",
            "outputs": [
              {
                "output_type": "display_data",
                "data": {
                  "text/html": "\n<div id=\"altair-viz-71ba8433f9f64a80bd4de7f89d4294d0\"></div>\n<script type=\"text/javascript\">\n  var VEGA_DEBUG = (typeof VEGA_DEBUG == \"undefined\") ? {} : VEGA_DEBUG;\n  (function(spec, embedOpt){\n    let outputDiv = document.currentScript.previousElementSibling;\n    if (outputDiv.id !== \"altair-viz-71ba8433f9f64a80bd4de7f89d4294d0\") {\n      outputDiv = document.getElementById(\"altair-viz-71ba8433f9f64a80bd4de7f89d4294d0\");\n    }\n    const paths = {\n      \"vega\": \"https://cdn.jsdelivr.net/npm//vega@5?noext\",\n      \"vega-lib\": \"https://cdn.jsdelivr.net/npm//vega-lib?noext\",\n      \"vega-lite\": \"https://cdn.jsdelivr.net/npm//vega-lite@4.17.0?noext\",\n      \"vega-embed\": \"https://cdn.jsdelivr.net/npm//vega-embed@6?noext\",\n    };\n\n    function maybeLoadScript(lib, version) {\n      var key = `${lib.replace(\"-\", \"\")}_version`;\n      return (VEGA_DEBUG[key] == version) ?\n        Promise.resolve(paths[lib]) :\n        new Promise(function(resolve, reject) {\n          var s = document.createElement('script');\n          document.getElementsByTagName(\"head\")[0].appendChild(s);\n          s.async = true;\n          s.onload = () => {\n            VEGA_DEBUG[key] = version;\n            return resolve(paths[lib]);\n          };\n          s.onerror = () => reject(`Error loading script: ${paths[lib]}`);\n          s.src = paths[lib];\n        });\n    }\n\n    function showError(err) {\n      outputDiv.innerHTML = `<div class=\"error\" style=\"color:red;\">${err}</div>`;\n      throw err;\n    }\n\n    function displayChart(vegaEmbed) {\n      vegaEmbed(outputDiv, spec, embedOpt)\n        .catch(err => showError(`Javascript Error: ${err.message}<br>This usually means there's a typo in your chart specification. See the javascript console for the full traceback.`));\n    }\n\n    if(typeof define === \"function\" && define.amd) {\n      requirejs.config({paths});\n      require([\"vega-embed\"], displayChart, err => showError(`Error loading script: ${err.message}`));\n    } else {\n      maybeLoadScript(\"vega\", \"5\")\n        .then(() => maybeLoadScript(\"vega-lite\", \"4.17.0\"))\n        .then(() => maybeLoadScript(\"vega-embed\", \"6\"))\n        .catch(showError)\n        .then(() => displayChart(vegaEmbed));\n    }\n  })({\"config\": {\"view\": {\"continuousWidth\": 400, \"continuousHeight\": 300}}, \"layer\": [{\"mark\": {\"type\": \"circle\", \"opacity\": 0.5}, \"encoding\": {\"x\": {\"field\": \"Year\", \"scale\": {\"zero\": false}, \"type\": \"temporal\"}, \"y\": {\"field\": \"HIV/AIDS\", \"type\": \"quantitative\"}}}, {\"mark\": \"line\", \"encoding\": {\"x\": {\"field\": \"Year\", \"scale\": {\"zero\": false}, \"type\": \"temporal\"}, \"y\": {\"field\": \"HIV/AIDS\", \"type\": \"quantitative\"}}, \"transform\": [{\"loess\": \"HIV/AIDS\", \"on\": \"Year\"}]}], \"data\": {\"name\": \"data-063be00b34e733da1cc89fab1e0a9d76\"}, \"$schema\": \"https://vega.github.io/schema/vega-lite/v4.17.0.json\", \"datasets\": {\"data-063be00b34e733da1cc89fab1e0a9d76\": [{\"Year\": \"2015\", \"Percentage Expenditure\": \"0.0\", \"HIV/AIDS\": 3.6, \"Percentage Expenditure Outlierless\": null}, {\"Year\": \"2014\", \"Percentage Expenditure\": \"922.0507313\", \"HIV/AIDS\": 3.7, \"Percentage Expenditure Outlierless\": 922.0507313}, {\"Year\": \"2013\", \"Percentage Expenditure\": \"978.5905287\", \"HIV/AIDS\": 4.5, \"Percentage Expenditure Outlierless\": 978.5905287}, {\"Year\": \"2012\", \"Percentage Expenditure\": \"1089.954838\", \"HIV/AIDS\": 7.6, \"Percentage Expenditure Outlierless\": 1089.954838}, {\"Year\": \"2011\", \"Percentage Expenditure\": \"123.753335\", \"HIV/AIDS\": 8.5, \"Percentage Expenditure Outlierless\": null}, {\"Year\": \"2010\", \"Percentage Expenditure\": \"1038.885632\", \"HIV/AIDS\": 11.0, \"Percentage Expenditure Outlierless\": 1038.885632}, {\"Year\": \"2009\", \"Percentage Expenditure\": \"782.5987144\", \"HIV/AIDS\": 19.0, \"Percentage Expenditure Outlierless\": 782.5987144}, {\"Year\": \"2008\", \"Percentage Expenditure\": \"780.0336423\", \"HIV/AIDS\": 23.5, \"Percentage Expenditure Outlierless\": 780.0336423}, {\"Year\": \"2007\", \"Percentage Expenditure\": \"805.490079\", \"HIV/AIDS\": 26.4, \"Percentage Expenditure Outlierless\": 805.490079}, {\"Year\": \"2006\", \"Percentage Expenditure\": \"732.1255305\", \"HIV/AIDS\": 28.1, \"Percentage Expenditure Outlierless\": 732.1255305}, {\"Year\": \"2005\", \"Percentage Expenditure\": \"709.3170967\", \"HIV/AIDS\": 29.5, \"Percentage Expenditure Outlierless\": 709.3170967}, {\"Year\": \"2004\", \"Percentage Expenditure\": \"622.043809\", \"HIV/AIDS\": 29.7, \"Percentage Expenditure Outlierless\": 622.043809}, {\"Year\": \"2003\", \"Percentage Expenditure\": \"519.1563781\", \"HIV/AIDS\": 28.9, \"Percentage Expenditure Outlierless\": 519.1563781}, {\"Year\": \"2002\", \"Percentage Expenditure\": \"346.5316007\", \"HIV/AIDS\": 26.6, \"Percentage Expenditure Outlierless\": 346.5316007}, {\"Year\": \"2001\", \"Percentage Expenditure\": \"365.2585722\", \"HIV/AIDS\": 24.0, \"Percentage Expenditure Outlierless\": 365.2585722}, {\"Year\": \"2000\", \"Percentage Expenditure\": \"45.96380839\", \"HIV/AIDS\": 21.3, \"Percentage Expenditure Outlierless\": 45.96380839}]}}, {\"mode\": \"vega-lite\"});\n</script>",
                  "text/plain": "alt.LayerChart(...)"
                },
                "metadata": {}
              }
            ]
          }
        },
        "14ffb47f2b4644759614072b49cc0f01": {
          "model_module": "@jupyter-widgets/base",
          "model_name": "LayoutModel",
          "model_module_version": "1.2.0",
          "state": {
            "_model_module": "@jupyter-widgets/base",
            "_model_module_version": "1.2.0",
            "_model_name": "LayoutModel",
            "_view_count": null,
            "_view_module": "@jupyter-widgets/base",
            "_view_module_version": "1.2.0",
            "_view_name": "LayoutView",
            "align_content": null,
            "align_items": null,
            "align_self": null,
            "border": null,
            "bottom": null,
            "display": null,
            "flex": null,
            "flex_flow": null,
            "grid_area": null,
            "grid_auto_columns": null,
            "grid_auto_flow": null,
            "grid_auto_rows": null,
            "grid_column": null,
            "grid_gap": null,
            "grid_row": null,
            "grid_template_areas": null,
            "grid_template_columns": null,
            "grid_template_rows": null,
            "height": null,
            "justify_content": null,
            "justify_items": null,
            "left": null,
            "margin": null,
            "max_height": null,
            "max_width": null,
            "min_height": null,
            "min_width": null,
            "object_fit": null,
            "object_position": null,
            "order": null,
            "overflow": null,
            "overflow_x": null,
            "overflow_y": null,
            "padding": null,
            "right": null,
            "top": null,
            "visibility": null,
            "width": null
          }
        },
        "6a95f2b7b9614ac2b4585b3f0ff0179e": {
          "model_module": "@jupyter-widgets/base",
          "model_name": "LayoutModel",
          "model_module_version": "1.2.0",
          "state": {
            "_model_module": "@jupyter-widgets/base",
            "_model_module_version": "1.2.0",
            "_model_name": "LayoutModel",
            "_view_count": null,
            "_view_module": "@jupyter-widgets/base",
            "_view_module_version": "1.2.0",
            "_view_name": "LayoutView",
            "align_content": null,
            "align_items": null,
            "align_self": null,
            "border": null,
            "bottom": null,
            "display": null,
            "flex": null,
            "flex_flow": null,
            "grid_area": null,
            "grid_auto_columns": null,
            "grid_auto_flow": null,
            "grid_auto_rows": null,
            "grid_column": null,
            "grid_gap": null,
            "grid_row": null,
            "grid_template_areas": null,
            "grid_template_columns": null,
            "grid_template_rows": null,
            "height": null,
            "justify_content": null,
            "justify_items": null,
            "left": null,
            "margin": null,
            "max_height": null,
            "max_width": null,
            "min_height": null,
            "min_width": null,
            "object_fit": null,
            "object_position": null,
            "order": null,
            "overflow": null,
            "overflow_x": null,
            "overflow_y": null,
            "padding": null,
            "right": null,
            "top": null,
            "visibility": null,
            "width": null
          }
        }
      }
    }
  },
  "cells": [
    {
      "cell_type": "markdown",
      "metadata": {
        "id": "view-in-github",
        "colab_type": "text"
      },
      "source": [
        "<a href=\"https://colab.research.google.com/github/Peiprjs/voila/blob/main/HIV_Deaths_VS_Total_expenditure.ipynb\" target=\"_parent\"><img src=\"https://colab.research.google.com/assets/colab-badge.svg\" alt=\"Open In Colab\"/></a>"
      ]
    },
    {
      "cell_type": "markdown",
      "source": [
        "# HIV deaths in 0-4 year-old children against percentage healthcare expenditure in South Africa and the Netherlands\n",
        "#### A project by Ellie Petrova (i6326413) and Mar Roca (i6351071)\n",
        "\n",
        "---\n",
        "\n",
        "\n",
        "How does the death rate of 0-4 year-olds due to HIV/AIDS compare between the Netherlands and an ex-Dutch colony (South Africa)? Is it related to healthcare spending? Has South Africa improved its treatment of pregnant people who are HIV-positive between 2000 and 2015, leading to less deaths? Does increased healthcare spending correlate with lower HIV/AIDS deaths in newborns and children?"
      ],
      "metadata": {
        "id": "KLzIaEvKBt_s"
      }
    },
    {
      "cell_type": "code",
      "source": [
        "# REMOVE?? Only if stuff breaks\n",
        "# !pip install altair==5.2.0 --quiet\n",
        "# (we needed Altair 5.2.0 specifically because of some version-specific update, so we call for it using PIP, muting the output)"
      ],
      "metadata": {
        "id": "FD7HdVHO1oPI"
      },
      "execution_count": 33,
      "outputs": []
    },
    {
      "cell_type": "code",
      "source": [
        "import numpy as np\n",
        "import pandas as pd\n",
        "import altair as alt\n",
        "import ipywidgets as widgets\n",
        "from ipywidgets import interact\n",
        "# This imports the required dependencies"
      ],
      "metadata": {
        "id": "ETx6aujL59HQ"
      },
      "execution_count": 34,
      "outputs": []
    },
    {
      "cell_type": "code",
      "source": [
        "healthFactors = pd.read_csv('https://raw.githubusercontent.com/NHameleers/dtz2025-datasets/master/CountryHealthFactors.csv')\n",
        "healthFactors = healthFactors.rename(columns=lambda x: x.strip().title())\n",
        "healthFactors = healthFactors.rename(columns={\"Hiv/Aids\": \"HIV/AIDS\", \"Gdp\": \"GDP\", \"Bmi\": \"BMI\"})\n",
        "# This imports the CSV with the dataset and strips leading and trailing whitespaces in the indexes. It also changes all indexes into the Title format (first letter of each word capitalised) for style and uniformity. HIV/AIDS, BMI and GDP are kept as exemptions due to being made up of initials.\n",
        "hf_SouthAfrica = healthFactors.loc[healthFactors.Country == \"South Africa\", ['Year', 'Percentage Expenditure', 'HIV/AIDS']]\n",
        "hf_Netherlands = healthFactors.loc[healthFactors.Country == \"Netherlands\", ['Year', 'Percentage Expenditure', 'HIV/AIDS']]\n",
        "# This selects only the data that we're interested in: Years, Total expenditure and HIV/AIDS\n",
        "# from rows which Country column is equal to South Africa and the Netherlands respectively"
      ],
      "metadata": {
        "id": "qEf-8m00C5bG"
      },
      "execution_count": 35,
      "outputs": []
    },
    {
      "cell_type": "code",
      "source": [
        "def make_scatter(dataframe, varX, varY, typeX):\n",
        "  dataframe[varX] = dataframe[varX].astype(str)\n",
        "  # We need to perform this type conversion because of Altair being weird with years. According to the documentation, we must define it as string and specify the variable type as temporal\n",
        "  scatter = alt.Chart(dataframe).mark_circle(opacity=0.5).encode(\n",
        "    alt.X(varX, type= typeX, scale=alt.Scale(zero=False)),\n",
        "    alt.Y(varY, type= 'quantitative'),)\n",
        "  # This first part draws the dots in the scatter plot\n",
        "  scatter_w_loess = scatter + scatter.transform_loess(varX, varY).mark_line()\n",
        "  # This second part draws a LOESS (LOcally Estimated Scatterplot Smoothing) line, which makes seeing the evolution easier.\n",
        "  display(scatter_w_loess)\n",
        "# This first class defines how to make a scatter plot with LOESS very easily, simply passing to the class a dataframe, the x-variable and the y-variable indexes.\n",
        "\n",
        "def make_boxplot(dataframe, var):\n",
        "  boxplot = alt.Chart(dataframe).mark_boxplot().encode(\n",
        "    alt.Y(var, type = 'quantitative', scale=alt.Scale(zero=False))\n",
        "  )\n",
        "  display(boxplot)"
      ],
      "metadata": {
        "id": "0oAU6gW6UMzy"
      },
      "execution_count": 47,
      "outputs": []
    },
    {
      "cell_type": "markdown",
      "source": [
        "We start off by importing all the necessary packages, and loading the CSV containing the health factors data. This file needs to be parsed using Pandas, and some indexes must be corrected. We strip leading and trailing spaces, as well as converting all indexes to a Title format (first letter of each word is capitalised) for stylistic and standardisation reasons, except for acronyms.\n",
        "We also select the variables that we are interested in studying: Year, Percentage Expenditure and HIV/AIDS in the rows in which the country is South Africa or Netherlands. Finally, we set up some Classes that we will need to use frequently."
      ],
      "metadata": {
        "id": "PKo0LA7QNx8z"
      }
    },
    {
      "cell_type": "code",
      "source": [
        "print(f\"The datasets have both the same shape: {hf_SouthAfrica.shape[0]} rows and {hf_SouthAfrica.shape[1]} colums\")\n",
        "print(f\"The data that we have was collected between {hf_SouthAfrica.Year.min()} and {hf_Netherlands.Year.max()}\")"
      ],
      "metadata": {
        "id": "ZYOil9hwdk2I",
        "colab": {
          "base_uri": "https://localhost:8080/"
        },
        "outputId": "6e5a2beb-38d9-43ab-a361-da3c25bca50d"
      },
      "execution_count": 37,
      "outputs": [
        {
          "output_type": "stream",
          "name": "stdout",
          "text": [
            "The datasets have both the same shape: 16 rows and 3 colums\n",
            "The data that we have was collected between 2000 and 2015\n"
          ]
        }
      ]
    },
    {
      "cell_type": "markdown",
      "source": [
        "By running `hf_SouthAfrica.shape` or `hf_Netherlands.shape` we get the shapes of the dataframes resulting from isolating the data that we are interested in. We can observe that both of the resulting frames have a shape of **16x3**: **16** rows and **3** columns. By running `hf_SouthAfrica.Year.min()` or `hf_SouthAfrica.Year.max()` we can find out between what years we have the data from: **2000** to **2015**"
      ],
      "metadata": {
        "id": "SF23EHfCdWnu"
      }
    },
    {
      "cell_type": "markdown",
      "source": [
        "# In South Africa throughout the years (2000-2015) - Mar Roca\n"
      ],
      "metadata": {
        "id": "XC7ZdAxvCStq"
      }
    },
    {
      "cell_type": "code",
      "source": [
        "hf_SouthAfrica.head(15)"
      ],
      "metadata": {
        "colab": {
          "base_uri": "https://localhost:8080/",
          "height": 520
        },
        "id": "1K7cYnh1qWKX",
        "outputId": "75d0ec3c-0dc6-4d08-8ad7-13eedfe0c411"
      },
      "execution_count": 38,
      "outputs": [
        {
          "output_type": "execute_result",
          "data": {
            "text/plain": [
              "      Year  Percentage Expenditure  HIV/AIDS\n",
              "2393  2015                0.000000       3.6\n",
              "2394  2014              922.050731       3.7\n",
              "2395  2013              978.590529       4.5\n",
              "2396  2012             1089.954838       7.6\n",
              "2397  2011              123.753335       8.5\n",
              "2398  2010             1038.885632      11.0\n",
              "2399  2009              782.598714      19.0\n",
              "2400  2008              780.033642      23.5\n",
              "2401  2007              805.490079      26.4\n",
              "2402  2006              732.125530      28.1\n",
              "2403  2005              709.317097      29.5\n",
              "2404  2004              622.043809      29.7\n",
              "2405  2003              519.156378      28.9\n",
              "2406  2002              346.531601      26.6\n",
              "2407  2001              365.258572      24.0"
            ],
            "text/html": [
              "\n",
              "  <div id=\"df-f2e981a7-2efa-4078-8a75-3a6eaf6b0516\" class=\"colab-df-container\">\n",
              "    <div>\n",
              "<style scoped>\n",
              "    .dataframe tbody tr th:only-of-type {\n",
              "        vertical-align: middle;\n",
              "    }\n",
              "\n",
              "    .dataframe tbody tr th {\n",
              "        vertical-align: top;\n",
              "    }\n",
              "\n",
              "    .dataframe thead th {\n",
              "        text-align: right;\n",
              "    }\n",
              "</style>\n",
              "<table border=\"1\" class=\"dataframe\">\n",
              "  <thead>\n",
              "    <tr style=\"text-align: right;\">\n",
              "      <th></th>\n",
              "      <th>Year</th>\n",
              "      <th>Percentage Expenditure</th>\n",
              "      <th>HIV/AIDS</th>\n",
              "    </tr>\n",
              "  </thead>\n",
              "  <tbody>\n",
              "    <tr>\n",
              "      <th>2393</th>\n",
              "      <td>2015</td>\n",
              "      <td>0.000000</td>\n",
              "      <td>3.6</td>\n",
              "    </tr>\n",
              "    <tr>\n",
              "      <th>2394</th>\n",
              "      <td>2014</td>\n",
              "      <td>922.050731</td>\n",
              "      <td>3.7</td>\n",
              "    </tr>\n",
              "    <tr>\n",
              "      <th>2395</th>\n",
              "      <td>2013</td>\n",
              "      <td>978.590529</td>\n",
              "      <td>4.5</td>\n",
              "    </tr>\n",
              "    <tr>\n",
              "      <th>2396</th>\n",
              "      <td>2012</td>\n",
              "      <td>1089.954838</td>\n",
              "      <td>7.6</td>\n",
              "    </tr>\n",
              "    <tr>\n",
              "      <th>2397</th>\n",
              "      <td>2011</td>\n",
              "      <td>123.753335</td>\n",
              "      <td>8.5</td>\n",
              "    </tr>\n",
              "    <tr>\n",
              "      <th>2398</th>\n",
              "      <td>2010</td>\n",
              "      <td>1038.885632</td>\n",
              "      <td>11.0</td>\n",
              "    </tr>\n",
              "    <tr>\n",
              "      <th>2399</th>\n",
              "      <td>2009</td>\n",
              "      <td>782.598714</td>\n",
              "      <td>19.0</td>\n",
              "    </tr>\n",
              "    <tr>\n",
              "      <th>2400</th>\n",
              "      <td>2008</td>\n",
              "      <td>780.033642</td>\n",
              "      <td>23.5</td>\n",
              "    </tr>\n",
              "    <tr>\n",
              "      <th>2401</th>\n",
              "      <td>2007</td>\n",
              "      <td>805.490079</td>\n",
              "      <td>26.4</td>\n",
              "    </tr>\n",
              "    <tr>\n",
              "      <th>2402</th>\n",
              "      <td>2006</td>\n",
              "      <td>732.125530</td>\n",
              "      <td>28.1</td>\n",
              "    </tr>\n",
              "    <tr>\n",
              "      <th>2403</th>\n",
              "      <td>2005</td>\n",
              "      <td>709.317097</td>\n",
              "      <td>29.5</td>\n",
              "    </tr>\n",
              "    <tr>\n",
              "      <th>2404</th>\n",
              "      <td>2004</td>\n",
              "      <td>622.043809</td>\n",
              "      <td>29.7</td>\n",
              "    </tr>\n",
              "    <tr>\n",
              "      <th>2405</th>\n",
              "      <td>2003</td>\n",
              "      <td>519.156378</td>\n",
              "      <td>28.9</td>\n",
              "    </tr>\n",
              "    <tr>\n",
              "      <th>2406</th>\n",
              "      <td>2002</td>\n",
              "      <td>346.531601</td>\n",
              "      <td>26.6</td>\n",
              "    </tr>\n",
              "    <tr>\n",
              "      <th>2407</th>\n",
              "      <td>2001</td>\n",
              "      <td>365.258572</td>\n",
              "      <td>24.0</td>\n",
              "    </tr>\n",
              "  </tbody>\n",
              "</table>\n",
              "</div>\n",
              "    <div class=\"colab-df-buttons\">\n",
              "\n",
              "  <div class=\"colab-df-container\">\n",
              "    <button class=\"colab-df-convert\" onclick=\"convertToInteractive('df-f2e981a7-2efa-4078-8a75-3a6eaf6b0516')\"\n",
              "            title=\"Convert this dataframe to an interactive table.\"\n",
              "            style=\"display:none;\">\n",
              "\n",
              "  <svg xmlns=\"http://www.w3.org/2000/svg\" height=\"24px\" viewBox=\"0 -960 960 960\">\n",
              "    <path d=\"M120-120v-720h720v720H120Zm60-500h600v-160H180v160Zm220 220h160v-160H400v160Zm0 220h160v-160H400v160ZM180-400h160v-160H180v160Zm440 0h160v-160H620v160ZM180-180h160v-160H180v160Zm440 0h160v-160H620v160Z\"/>\n",
              "  </svg>\n",
              "    </button>\n",
              "\n",
              "  <style>\n",
              "    .colab-df-container {\n",
              "      display:flex;\n",
              "      gap: 12px;\n",
              "    }\n",
              "\n",
              "    .colab-df-convert {\n",
              "      background-color: #E8F0FE;\n",
              "      border: none;\n",
              "      border-radius: 50%;\n",
              "      cursor: pointer;\n",
              "      display: none;\n",
              "      fill: #1967D2;\n",
              "      height: 32px;\n",
              "      padding: 0 0 0 0;\n",
              "      width: 32px;\n",
              "    }\n",
              "\n",
              "    .colab-df-convert:hover {\n",
              "      background-color: #E2EBFA;\n",
              "      box-shadow: 0px 1px 2px rgba(60, 64, 67, 0.3), 0px 1px 3px 1px rgba(60, 64, 67, 0.15);\n",
              "      fill: #174EA6;\n",
              "    }\n",
              "\n",
              "    .colab-df-buttons div {\n",
              "      margin-bottom: 4px;\n",
              "    }\n",
              "\n",
              "    [theme=dark] .colab-df-convert {\n",
              "      background-color: #3B4455;\n",
              "      fill: #D2E3FC;\n",
              "    }\n",
              "\n",
              "    [theme=dark] .colab-df-convert:hover {\n",
              "      background-color: #434B5C;\n",
              "      box-shadow: 0px 1px 3px 1px rgba(0, 0, 0, 0.15);\n",
              "      filter: drop-shadow(0px 1px 2px rgba(0, 0, 0, 0.3));\n",
              "      fill: #FFFFFF;\n",
              "    }\n",
              "  </style>\n",
              "\n",
              "    <script>\n",
              "      const buttonEl =\n",
              "        document.querySelector('#df-f2e981a7-2efa-4078-8a75-3a6eaf6b0516 button.colab-df-convert');\n",
              "      buttonEl.style.display =\n",
              "        google.colab.kernel.accessAllowed ? 'block' : 'none';\n",
              "\n",
              "      async function convertToInteractive(key) {\n",
              "        const element = document.querySelector('#df-f2e981a7-2efa-4078-8a75-3a6eaf6b0516');\n",
              "        const dataTable =\n",
              "          await google.colab.kernel.invokeFunction('convertToInteractive',\n",
              "                                                    [key], {});\n",
              "        if (!dataTable) return;\n",
              "\n",
              "        const docLinkHtml = 'Like what you see? Visit the ' +\n",
              "          '<a target=\"_blank\" href=https://colab.research.google.com/notebooks/data_table.ipynb>data table notebook</a>'\n",
              "          + ' to learn more about interactive tables.';\n",
              "        element.innerHTML = '';\n",
              "        dataTable['output_type'] = 'display_data';\n",
              "        await google.colab.output.renderOutput(dataTable, element);\n",
              "        const docLink = document.createElement('div');\n",
              "        docLink.innerHTML = docLinkHtml;\n",
              "        element.appendChild(docLink);\n",
              "      }\n",
              "    </script>\n",
              "  </div>\n",
              "\n",
              "\n",
              "<div id=\"df-bc9fde27-dea8-40c9-afcc-e1210582eb72\">\n",
              "  <button class=\"colab-df-quickchart\" onclick=\"quickchart('df-bc9fde27-dea8-40c9-afcc-e1210582eb72')\"\n",
              "            title=\"Suggest charts\"\n",
              "            style=\"display:none;\">\n",
              "\n",
              "<svg xmlns=\"http://www.w3.org/2000/svg\" height=\"24px\"viewBox=\"0 0 24 24\"\n",
              "     width=\"24px\">\n",
              "    <g>\n",
              "        <path d=\"M19 3H5c-1.1 0-2 .9-2 2v14c0 1.1.9 2 2 2h14c1.1 0 2-.9 2-2V5c0-1.1-.9-2-2-2zM9 17H7v-7h2v7zm4 0h-2V7h2v10zm4 0h-2v-4h2v4z\"/>\n",
              "    </g>\n",
              "</svg>\n",
              "  </button>\n",
              "\n",
              "<style>\n",
              "  .colab-df-quickchart {\n",
              "      --bg-color: #E8F0FE;\n",
              "      --fill-color: #1967D2;\n",
              "      --hover-bg-color: #E2EBFA;\n",
              "      --hover-fill-color: #174EA6;\n",
              "      --disabled-fill-color: #AAA;\n",
              "      --disabled-bg-color: #DDD;\n",
              "  }\n",
              "\n",
              "  [theme=dark] .colab-df-quickchart {\n",
              "      --bg-color: #3B4455;\n",
              "      --fill-color: #D2E3FC;\n",
              "      --hover-bg-color: #434B5C;\n",
              "      --hover-fill-color: #FFFFFF;\n",
              "      --disabled-bg-color: #3B4455;\n",
              "      --disabled-fill-color: #666;\n",
              "  }\n",
              "\n",
              "  .colab-df-quickchart {\n",
              "    background-color: var(--bg-color);\n",
              "    border: none;\n",
              "    border-radius: 50%;\n",
              "    cursor: pointer;\n",
              "    display: none;\n",
              "    fill: var(--fill-color);\n",
              "    height: 32px;\n",
              "    padding: 0;\n",
              "    width: 32px;\n",
              "  }\n",
              "\n",
              "  .colab-df-quickchart:hover {\n",
              "    background-color: var(--hover-bg-color);\n",
              "    box-shadow: 0 1px 2px rgba(60, 64, 67, 0.3), 0 1px 3px 1px rgba(60, 64, 67, 0.15);\n",
              "    fill: var(--button-hover-fill-color);\n",
              "  }\n",
              "\n",
              "  .colab-df-quickchart-complete:disabled,\n",
              "  .colab-df-quickchart-complete:disabled:hover {\n",
              "    background-color: var(--disabled-bg-color);\n",
              "    fill: var(--disabled-fill-color);\n",
              "    box-shadow: none;\n",
              "  }\n",
              "\n",
              "  .colab-df-spinner {\n",
              "    border: 2px solid var(--fill-color);\n",
              "    border-color: transparent;\n",
              "    border-bottom-color: var(--fill-color);\n",
              "    animation:\n",
              "      spin 1s steps(1) infinite;\n",
              "  }\n",
              "\n",
              "  @keyframes spin {\n",
              "    0% {\n",
              "      border-color: transparent;\n",
              "      border-bottom-color: var(--fill-color);\n",
              "      border-left-color: var(--fill-color);\n",
              "    }\n",
              "    20% {\n",
              "      border-color: transparent;\n",
              "      border-left-color: var(--fill-color);\n",
              "      border-top-color: var(--fill-color);\n",
              "    }\n",
              "    30% {\n",
              "      border-color: transparent;\n",
              "      border-left-color: var(--fill-color);\n",
              "      border-top-color: var(--fill-color);\n",
              "      border-right-color: var(--fill-color);\n",
              "    }\n",
              "    40% {\n",
              "      border-color: transparent;\n",
              "      border-right-color: var(--fill-color);\n",
              "      border-top-color: var(--fill-color);\n",
              "    }\n",
              "    60% {\n",
              "      border-color: transparent;\n",
              "      border-right-color: var(--fill-color);\n",
              "    }\n",
              "    80% {\n",
              "      border-color: transparent;\n",
              "      border-right-color: var(--fill-color);\n",
              "      border-bottom-color: var(--fill-color);\n",
              "    }\n",
              "    90% {\n",
              "      border-color: transparent;\n",
              "      border-bottom-color: var(--fill-color);\n",
              "    }\n",
              "  }\n",
              "</style>\n",
              "\n",
              "  <script>\n",
              "    async function quickchart(key) {\n",
              "      const quickchartButtonEl =\n",
              "        document.querySelector('#' + key + ' button');\n",
              "      quickchartButtonEl.disabled = true;  // To prevent multiple clicks.\n",
              "      quickchartButtonEl.classList.add('colab-df-spinner');\n",
              "      try {\n",
              "        const charts = await google.colab.kernel.invokeFunction(\n",
              "            'suggestCharts', [key], {});\n",
              "      } catch (error) {\n",
              "        console.error('Error during call to suggestCharts:', error);\n",
              "      }\n",
              "      quickchartButtonEl.classList.remove('colab-df-spinner');\n",
              "      quickchartButtonEl.classList.add('colab-df-quickchart-complete');\n",
              "    }\n",
              "    (() => {\n",
              "      let quickchartButtonEl =\n",
              "        document.querySelector('#df-bc9fde27-dea8-40c9-afcc-e1210582eb72 button');\n",
              "      quickchartButtonEl.style.display =\n",
              "        google.colab.kernel.accessAllowed ? 'block' : 'none';\n",
              "    })();\n",
              "  </script>\n",
              "</div>\n",
              "    </div>\n",
              "  </div>\n"
            ],
            "application/vnd.google.colaboratory.intrinsic+json": {
              "type": "dataframe",
              "variable_name": "hf_SouthAfrica",
              "summary": "{\n  \"name\": \"hf_SouthAfrica\",\n  \"rows\": 16,\n  \"fields\": [\n    {\n      \"column\": \"Year\",\n      \"properties\": {\n        \"dtype\": \"number\",\n        \"std\": 4,\n        \"min\": 2000,\n        \"max\": 2015,\n        \"num_unique_values\": 16,\n        \"samples\": [\n          2015,\n          2014,\n          2010\n        ],\n        \"semantic_type\": \"\",\n        \"description\": \"\"\n      }\n    },\n    {\n      \"column\": \"Percentage Expenditure\",\n      \"properties\": {\n        \"dtype\": \"number\",\n        \"std\": 349.56810788205127,\n        \"min\": 0.0,\n        \"max\": 1089.954838,\n        \"num_unique_values\": 16,\n        \"samples\": [\n          0.0,\n          922.0507313,\n          1038.885632\n        ],\n        \"semantic_type\": \"\",\n        \"description\": \"\"\n      }\n    },\n    {\n      \"column\": \"HIV/AIDS\",\n      \"properties\": {\n        \"dtype\": \"number\",\n        \"std\": 10.166052577082217,\n        \"min\": 3.6,\n        \"max\": 29.7,\n        \"num_unique_values\": 16,\n        \"samples\": [\n          3.6,\n          3.7,\n          11.0\n        ],\n        \"semantic_type\": \"\",\n        \"description\": \"\"\n      }\n    }\n  ]\n}"
            }
          },
          "metadata": {},
          "execution_count": 38
        }
      ]
    },
    {
      "cell_type": "markdown",
      "source": [
        "The first step in any statistical analysis is to graph the variables we're interested in studying, to see if there is and (in case there is) what kind of relationship the two variables follow.\n",
        "So, we will start by generating graphs using Altair. The next step will be to calculate some desciptive statistics."
      ],
      "metadata": {
        "id": "76AxuUrR16Um"
      }
    },
    {
      "cell_type": "code",
      "execution_count": 39,
      "metadata": {
        "colab": {
          "base_uri": "https://localhost:8080/",
          "height": 368,
          "referenced_widgets": [
            "77818e2be88142179d327ee1a81ace65",
            "14107d036471413d8d393940d9c4bf2d",
            "320eac29db664425ba83dd7c8cb28ce8",
            "68c03ca72d60405482dbb1990f4fb89d",
            "fe122ccc3a5149bbb3f79f1a1ddcf399",
            "4e909547138243a19077107c06306be5",
            "4aa0caa0568c4191b759d113704a84d2",
            "6e5572249f0149bda983867e3359bb2d"
          ]
        },
        "id": "qbZ1SBOhTfKN",
        "outputId": "1707b75d-6175-4e1e-b906-3c244fecd1c1"
      },
      "outputs": [
        {
          "output_type": "display_data",
          "data": {
            "text/plain": [
              "HBox(children=(Output(), Output(), Output()))"
            ],
            "application/vnd.jupyter.widget-view+json": {
              "version_major": 2,
              "version_minor": 0,
              "model_id": "77818e2be88142179d327ee1a81ace65"
            }
          },
          "metadata": {}
        }
      ],
      "source": [
        "graph_HIV_Year = widgets.Output()\n",
        "with graph_HIV_Year:\n",
        "  make_scatter(hf_SouthAfrica, \"Year\", \"HIV/AIDS\", 'temporal')\n",
        "\n",
        "graph_Expend_Year = widgets.Output()\n",
        "with graph_Expend_Year:\n",
        "  make_scatter(hf_SouthAfrica, \"Year\", \"Percentage Expenditure\", 'temporal')\n",
        "\n",
        "graph_HIV_Expend = widgets.Output()\n",
        "with graph_HIV_Expend:\n",
        "  make_scatter(hf_SouthAfrica, \"Percentage Expenditure\", \"HIV/AIDS\", 'quantitative')\n",
        "# This second section defines all the graphs we want to plot\n",
        "\n",
        "widgets.HBox([graph_HIV_Year, graph_Expend_Year, graph_HIV_Expend])\n",
        "# And finally we plot all of them together in a row"
      ]
    },
    {
      "cell_type": "markdown",
      "source": [
        "The code above generates XY scatterplots for the variables that we are interested in, which show that:\n",
        "- Except for an increase before 2004, HIV deaths in children aged 0 to 4 steadily decreased since 2004 and seem to have plateau'd at below 5 per 1000 live births.\n",
        "- There seems to be two outliers in the percentage expenditure. We can see one in 2011, when South Africa *only* spent a bit over 100% of its GDP per capita, and in 2015, where it was reported at 0. We can assume that the data for 2015 is missing, and so the percentage calculation returned 0.\n",
        "- HIV deaths seemed to increase with percentage expenditure, until the expenditure reached a certain limit, at which point the cases seem to drop significantly.\n",
        "\n",
        "We will compute a new dataframe of percentage expenditure excluding the outlying values. They will appear as `NaN`, so they will be ignored when we perform descriptive statistics using `Pandas.describe()` or graphing using `Altair.Chart()`. We will then graph this new dataframe against the year."
      ],
      "metadata": {
        "id": "GlEobL2bxUsw"
      }
    },
    {
      "cell_type": "code",
      "source": [
        "hf_SouthAfrica[\"Percentage Expenditure Outlierless\"] = hf_SouthAfrica.loc[(hf_SouthAfrica[\"Year\"] != \"2011\") & (hf_SouthAfrica[\"Year\"] != \"2015\"), \"Percentage Expenditure\"]\n",
        "# We use this line of code to remove the two datapoints which we considered outliers.\n",
        "\n",
        "graph_Expend_Year = widgets.Output()\n",
        "with graph_Expend_Year:\n",
        "  make_scatter(hf_SouthAfrica, \"Year\", \"Percentage Expenditure Outlierless\", 'temporal')\n",
        "\n",
        "graph_HIV_Expend = widgets.Output()\n",
        "with graph_HIV_Expend:\n",
        "  make_scatter(hf_SouthAfrica, \"Percentage Expenditure Outlierless\", \"HIV/AIDS\", 'quantitative')\n",
        "\n",
        "widgets.HBox([graph_Expend_Year, graph_HIV_Expend])"
      ],
      "metadata": {
        "colab": {
          "base_uri": "https://localhost:8080/",
          "height": 368,
          "referenced_widgets": [
            "ef54e46fd7a146c5a3bfccefa2ab87b1",
            "beebbacc707a48939076aaaeaf0f26d5",
            "bc197783cb81451cbfe8a49405c2cf29",
            "f136048831d1403e99efa026a58cef86",
            "91bcc3e8342540979b3c32b69390ee53",
            "c2219183c6be438f8242ddecd935f9c0"
          ]
        },
        "id": "gEHYGu9zna7U",
        "outputId": "63c6e827-2281-4b95-8a75-32c26a10861f"
      },
      "execution_count": 40,
      "outputs": [
        {
          "output_type": "display_data",
          "data": {
            "text/plain": [
              "HBox(children=(Output(), Output()))"
            ],
            "application/vnd.jupyter.widget-view+json": {
              "version_major": 2,
              "version_minor": 0,
              "model_id": "ef54e46fd7a146c5a3bfccefa2ab87b1"
            }
          },
          "metadata": {}
        }
      ]
    },
    {
      "cell_type": "markdown",
      "source": [
        "In this new graph we can observe how expenditure on healthcare (as a percentage of GDP per capita) has been slowly increasing since 2000, with a small decline after 2012.\n",
        "We can also observe in the Percentage Expenditure vs HIV/AIDS deaths graph where outliers have been removed, that there is actually a gradual increase as healthcare expenditure increases, and an immediate drop-off when it increases after a certain point.\n",
        "\n",
        "\n",
        "We will now perform a descriptive statistics analysis on our data."
      ],
      "metadata": {
        "id": "C3xunki4rLQV"
      }
    },
    {
      "cell_type": "code",
      "source": [
        "print(hf_SouthAfrica.loc[hf_SouthAfrica.isna().values])"
      ],
      "metadata": {
        "colab": {
          "base_uri": "https://localhost:8080/"
        },
        "id": "1XGD6IfvTW6K",
        "outputId": "44bb6ae2-11ab-4e8c-d5d5-f1b4629736e6"
      },
      "execution_count": 41,
      "outputs": [
        {
          "output_type": "stream",
          "name": "stdout",
          "text": [
            "Empty DataFrame\n",
            "Columns: [Year, Percentage Expenditure, HIV/AIDS, Percentage Expenditure Outlierless]\n",
            "Index: []\n"
          ]
        }
      ]
    },
    {
      "cell_type": "markdown",
      "source": [
        "The singular line of code above allows us to find in the entire dataframe of data that we selected the instances in which there's a NaN. We can see that in our selected portion of data, there is no missing values."
      ],
      "metadata": {
        "id": "DBgRmANPVw3L"
      }
    },
    {
      "cell_type": "code",
      "source": [
        "hf_SouthAfrica[\"Percentage Expenditure Outlierless\"] = hf_SouthAfrica[\"Percentage Expenditure Outlierless\"].astype('float64') # Had to fix Percentage Expenditure AND Percentage Expenditure Outlierless somehow being an object and not a float64\n",
        "\n",
        "table = widgets.Output()\n",
        "with table:\n",
        "  display(hf_SouthAfrica.describe())\n",
        "\n",
        "box_HIV = widgets.Output()\n",
        "with box_HIV:\n",
        "  make_boxplot(hf_SouthAfrica, 'HIV/AIDS')\n",
        "\n",
        "box_PEO = widgets.Output()\n",
        "with box_PEO:\n",
        "  make_boxplot(hf_SouthAfrica, 'Percentage Expenditure Outlierless')\n",
        "\n",
        "box_PE = widgets.Output()\n",
        "with box_PE:\n",
        "  make_boxplot(hf_SouthAfrica, 'Percentage Expenditure')\n",
        "\n",
        "widgets.HBox([box_HIV, table, box_PEO, box_PE])"
      ],
      "metadata": {
        "colab": {
          "base_uri": "https://localhost:8080/",
          "height": 341,
          "referenced_widgets": [
            "25fea3a1b8f54afd95850442e3c152e7",
            "1e777db27dba49a39219c728a9a4bc68",
            "dbca2f1f75114572bf2b01cc1a570dc0",
            "e63e219067534f9b9674370f86a42a3d",
            "643f275b0e034c23b2ce77b35819892a",
            "2fcbcf908502485daaff975c436c1121",
            "528bd22c5f8f4969ac7df059086384e9",
            "b1dd767dde734966bb9b90c08a28ea17",
            "8c5453c5cd9b490bbea2ed70b8ee5bf2",
            "7b0f7fca2bfe41789eb62869a78cc15f"
          ]
        },
        "id": "ZiY986-Z9PlB",
        "outputId": "b76b89db-2529-4b3b-a2fb-d9f2893feb10"
      },
      "execution_count": 48,
      "outputs": [
        {
          "output_type": "display_data",
          "data": {
            "text/plain": [
              "HBox(children=(Output(), Output(), Output(), Output()))"
            ],
            "application/vnd.jupyter.widget-view+json": {
              "version_major": 2,
              "version_minor": 0,
              "model_id": "25fea3a1b8f54afd95850442e3c152e7"
            }
          },
          "metadata": {}
        }
      ]
    },
    {
      "cell_type": "markdown",
      "source": [
        "We can see from the descriptive statistics table above that Percentage Expenditure had two less valid values, as we removed two clear outliers. We can also see at a glance that"
      ],
      "metadata": {
        "id": "o46zKR_rTpQ_"
      }
    },
    {
      "cell_type": "markdown",
      "source": [
        "# Comparing South Africa and The Netherlands in [year] - Ellie Petrova\n",
        "\n"
      ],
      "metadata": {
        "id": "kIC51T5WCpiT"
      }
    },
    {
      "cell_type": "code",
      "source": [],
      "metadata": {
        "id": "AE4JsZ2jCy3b"
      },
      "execution_count": 42,
      "outputs": []
    },
    {
      "cell_type": "markdown",
      "source": [
        "# SCRAP CODE"
      ],
      "metadata": {
        "id": "1vkGjrfGbOHi"
      }
    },
    {
      "cell_type": "code",
      "source": [
        "hf_SouthAfrica[\"Year\"] = hf_SouthAfrica[\"Year\"].astype(str)\n",
        "# We need to perform this type conversion because of Altair being weird with years. According to the documentation, we must define it as string and specify the variable type as temporal\n",
        "base = alt.Chart(hf_SouthAfrica).mark_circle(opacity=0.5).encode(\n",
        "    alt.X('Year', type='temporal', scale=alt.Scale(zero=False)),\n",
        "    alt.Y('HIV/AIDS', type='quantitative'),)\n",
        "\n",
        "# This first part draws the dots in the scatter plot\n",
        "base + base.transform_loess('Year', 'HIV/AIDS').mark_line()\n",
        "# This second part draws a LOESS (LOcally Estimated Scatterplot Smoothing) line, which makes seeing the evolution easier."
      ],
      "metadata": {
        "colab": {
          "base_uri": "https://localhost:8080/",
          "height": 368
        },
        "id": "LO9JA9btbVgu",
        "outputId": "05c7b739-8b9a-4f13-8540-1fc8862e9697"
      },
      "execution_count": 43,
      "outputs": [
        {
          "output_type": "execute_result",
          "data": {
            "text/html": [
              "\n",
              "<div id=\"altair-viz-88c2ec51a6954ed6aad48d08d2037b2b\"></div>\n",
              "<script type=\"text/javascript\">\n",
              "  var VEGA_DEBUG = (typeof VEGA_DEBUG == \"undefined\") ? {} : VEGA_DEBUG;\n",
              "  (function(spec, embedOpt){\n",
              "    let outputDiv = document.currentScript.previousElementSibling;\n",
              "    if (outputDiv.id !== \"altair-viz-88c2ec51a6954ed6aad48d08d2037b2b\") {\n",
              "      outputDiv = document.getElementById(\"altair-viz-88c2ec51a6954ed6aad48d08d2037b2b\");\n",
              "    }\n",
              "    const paths = {\n",
              "      \"vega\": \"https://cdn.jsdelivr.net/npm//vega@5?noext\",\n",
              "      \"vega-lib\": \"https://cdn.jsdelivr.net/npm//vega-lib?noext\",\n",
              "      \"vega-lite\": \"https://cdn.jsdelivr.net/npm//vega-lite@4.17.0?noext\",\n",
              "      \"vega-embed\": \"https://cdn.jsdelivr.net/npm//vega-embed@6?noext\",\n",
              "    };\n",
              "\n",
              "    function maybeLoadScript(lib, version) {\n",
              "      var key = `${lib.replace(\"-\", \"\")}_version`;\n",
              "      return (VEGA_DEBUG[key] == version) ?\n",
              "        Promise.resolve(paths[lib]) :\n",
              "        new Promise(function(resolve, reject) {\n",
              "          var s = document.createElement('script');\n",
              "          document.getElementsByTagName(\"head\")[0].appendChild(s);\n",
              "          s.async = true;\n",
              "          s.onload = () => {\n",
              "            VEGA_DEBUG[key] = version;\n",
              "            return resolve(paths[lib]);\n",
              "          };\n",
              "          s.onerror = () => reject(`Error loading script: ${paths[lib]}`);\n",
              "          s.src = paths[lib];\n",
              "        });\n",
              "    }\n",
              "\n",
              "    function showError(err) {\n",
              "      outputDiv.innerHTML = `<div class=\"error\" style=\"color:red;\">${err}</div>`;\n",
              "      throw err;\n",
              "    }\n",
              "\n",
              "    function displayChart(vegaEmbed) {\n",
              "      vegaEmbed(outputDiv, spec, embedOpt)\n",
              "        .catch(err => showError(`Javascript Error: ${err.message}<br>This usually means there's a typo in your chart specification. See the javascript console for the full traceback.`));\n",
              "    }\n",
              "\n",
              "    if(typeof define === \"function\" && define.amd) {\n",
              "      requirejs.config({paths});\n",
              "      require([\"vega-embed\"], displayChart, err => showError(`Error loading script: ${err.message}`));\n",
              "    } else {\n",
              "      maybeLoadScript(\"vega\", \"5\")\n",
              "        .then(() => maybeLoadScript(\"vega-lite\", \"4.17.0\"))\n",
              "        .then(() => maybeLoadScript(\"vega-embed\", \"6\"))\n",
              "        .catch(showError)\n",
              "        .then(() => displayChart(vegaEmbed));\n",
              "    }\n",
              "  })({\"config\": {\"view\": {\"continuousWidth\": 400, \"continuousHeight\": 300}}, \"layer\": [{\"mark\": {\"type\": \"circle\", \"opacity\": 0.5}, \"encoding\": {\"x\": {\"field\": \"Year\", \"scale\": {\"zero\": false}, \"type\": \"temporal\"}, \"y\": {\"field\": \"HIV/AIDS\", \"type\": \"quantitative\"}}}, {\"mark\": \"line\", \"encoding\": {\"x\": {\"field\": \"Year\", \"scale\": {\"zero\": false}, \"type\": \"temporal\"}, \"y\": {\"field\": \"HIV/AIDS\", \"type\": \"quantitative\"}}, \"transform\": [{\"loess\": \"HIV/AIDS\", \"on\": \"Year\"}]}], \"data\": {\"name\": \"data-063be00b34e733da1cc89fab1e0a9d76\"}, \"$schema\": \"https://vega.github.io/schema/vega-lite/v4.17.0.json\", \"datasets\": {\"data-063be00b34e733da1cc89fab1e0a9d76\": [{\"Year\": \"2015\", \"Percentage Expenditure\": \"0.0\", \"HIV/AIDS\": 3.6, \"Percentage Expenditure Outlierless\": null}, {\"Year\": \"2014\", \"Percentage Expenditure\": \"922.0507313\", \"HIV/AIDS\": 3.7, \"Percentage Expenditure Outlierless\": 922.0507313}, {\"Year\": \"2013\", \"Percentage Expenditure\": \"978.5905287\", \"HIV/AIDS\": 4.5, \"Percentage Expenditure Outlierless\": 978.5905287}, {\"Year\": \"2012\", \"Percentage Expenditure\": \"1089.954838\", \"HIV/AIDS\": 7.6, \"Percentage Expenditure Outlierless\": 1089.954838}, {\"Year\": \"2011\", \"Percentage Expenditure\": \"123.753335\", \"HIV/AIDS\": 8.5, \"Percentage Expenditure Outlierless\": null}, {\"Year\": \"2010\", \"Percentage Expenditure\": \"1038.885632\", \"HIV/AIDS\": 11.0, \"Percentage Expenditure Outlierless\": 1038.885632}, {\"Year\": \"2009\", \"Percentage Expenditure\": \"782.5987144\", \"HIV/AIDS\": 19.0, \"Percentage Expenditure Outlierless\": 782.5987144}, {\"Year\": \"2008\", \"Percentage Expenditure\": \"780.0336423\", \"HIV/AIDS\": 23.5, \"Percentage Expenditure Outlierless\": 780.0336423}, {\"Year\": \"2007\", \"Percentage Expenditure\": \"805.490079\", \"HIV/AIDS\": 26.4, \"Percentage Expenditure Outlierless\": 805.490079}, {\"Year\": \"2006\", \"Percentage Expenditure\": \"732.1255305\", \"HIV/AIDS\": 28.1, \"Percentage Expenditure Outlierless\": 732.1255305}, {\"Year\": \"2005\", \"Percentage Expenditure\": \"709.3170967\", \"HIV/AIDS\": 29.5, \"Percentage Expenditure Outlierless\": 709.3170967}, {\"Year\": \"2004\", \"Percentage Expenditure\": \"622.043809\", \"HIV/AIDS\": 29.7, \"Percentage Expenditure Outlierless\": 622.043809}, {\"Year\": \"2003\", \"Percentage Expenditure\": \"519.1563781\", \"HIV/AIDS\": 28.9, \"Percentage Expenditure Outlierless\": 519.1563781}, {\"Year\": \"2002\", \"Percentage Expenditure\": \"346.5316007\", \"HIV/AIDS\": 26.6, \"Percentage Expenditure Outlierless\": 346.5316007}, {\"Year\": \"2001\", \"Percentage Expenditure\": \"365.2585722\", \"HIV/AIDS\": 24.0, \"Percentage Expenditure Outlierless\": 365.2585722}, {\"Year\": \"2000\", \"Percentage Expenditure\": \"45.96380839\", \"HIV/AIDS\": 21.3, \"Percentage Expenditure Outlierless\": 45.96380839}]}}, {\"mode\": \"vega-lite\"});\n",
              "</script>"
            ],
            "text/plain": [
              "alt.LayerChart(...)"
            ]
          },
          "metadata": {},
          "execution_count": 43
        }
      ]
    },
    {
      "cell_type": "code",
      "source": [
        "def make_scatter(dataframe):\n",
        "  dataframe[\"Year\"] = dataframe[\"Year\"].astype(str)\n",
        "  # We need to perform this type conversion because of Altair being weird with years. According to the documentation, we must define it as string and specify the variable type as temporal\n",
        "  scatter = alt.Chart(dataframe).mark_circle(opacity=0.5).encode(\n",
        "    alt.X('Year', type='temporal', scale=alt.Scale(zero=False)),\n",
        "    alt.Y('HIV/AIDS', type='quantitative'),)\n",
        "  # This first part draws the dots in the scatter plot\n",
        "  final_graph = scatter + scatter.transform_loess('Year', 'HIV/AIDS').mark_line()\n",
        "  # This second part draws a LOESS (LOcally Estimated Scatterplot Smoothing) line, which makes seeing the evolution easier.\n",
        "  display(final_graph)\n",
        "\n",
        "\n",
        "graph_HIV_Year = widgets.Output()\n",
        "with graph_HIV_Year:\n",
        "  make_scatter(hf_SouthAfrica)\n",
        "\n",
        "widgets.HBox([graph_HIV_Year])"
      ],
      "metadata": {
        "colab": {
          "base_uri": "https://localhost:8080/",
          "height": 368,
          "referenced_widgets": [
            "8b6986b71da14507b18c65f274c7a1c6",
            "00304dc3ae224985a13fe11e0ec7a3fe",
            "14ffb47f2b4644759614072b49cc0f01",
            "6a95f2b7b9614ac2b4585b3f0ff0179e"
          ]
        },
        "id": "Ex_7ugwLdhW8",
        "outputId": "8913925c-c2b7-4379-c3cb-e755a6124d86"
      },
      "execution_count": 44,
      "outputs": [
        {
          "output_type": "display_data",
          "data": {
            "text/plain": [
              "HBox(children=(Output(),))"
            ],
            "application/vnd.jupyter.widget-view+json": {
              "version_major": 2,
              "version_minor": 0,
              "model_id": "8b6986b71da14507b18c65f274c7a1c6"
            }
          },
          "metadata": {}
        }
      ]
    },
    {
      "cell_type": "code",
      "source": [
        "\n",
        "import pandas as pd\n",
        "\n",
        "\n",
        "df = pd.DataFrame({'a': [1, 2, 3], 'B': [4, 5, 6], 'C': [7, 8, 9]})\n",
        "def g(df):\n",
        "    return df.rename(columns=lambda x: x.strip().upper())\n",
        "\n",
        "result = g(healthFactors)\n",
        "print(result)\n",
        "\n"
      ],
      "metadata": {
        "colab": {
          "base_uri": "https://localhost:8080/"
        },
        "id": "Pfj_2jmDj4eS",
        "outputId": "15ef2db3-12c7-44a1-ad3d-958ff276e9b2"
      },
      "execution_count": 45,
      "outputs": [
        {
          "output_type": "stream",
          "name": "stdout",
          "text": [
            "          COUNTRY  YEAR      STATUS  LIFE EXPECTANCY  ADULT MORTALITY  \\\n",
            "0     Afghanistan  2015  Developing             65.0            263.0   \n",
            "1     Afghanistan  2014  Developing             59.9            271.0   \n",
            "2     Afghanistan  2013  Developing             59.9            268.0   \n",
            "3     Afghanistan  2012  Developing             59.5            272.0   \n",
            "4     Afghanistan  2011  Developing             59.2            275.0   \n",
            "...           ...   ...         ...              ...              ...   \n",
            "2933     Zimbabwe  2004  Developing             44.3            723.0   \n",
            "2934     Zimbabwe  2003  Developing             44.5            715.0   \n",
            "2935     Zimbabwe  2002  Developing             44.8             73.0   \n",
            "2936     Zimbabwe  2001  Developing             45.3            686.0   \n",
            "2937     Zimbabwe  2000  Developing             46.0            665.0   \n",
            "\n",
            "      INFANT DEATHS  ALCOHOL  PERCENTAGE EXPENDITURE  HEPATITIS B  MEASLES  \\\n",
            "0                62     0.01               71.279624         65.0     1154   \n",
            "1                64     0.01               73.523582         62.0      492   \n",
            "2                66     0.01               73.219243         64.0      430   \n",
            "3                69     0.01               78.184215         67.0     2787   \n",
            "4                71     0.01                7.097109         68.0     3013   \n",
            "...             ...      ...                     ...          ...      ...   \n",
            "2933             27     4.36                0.000000         68.0       31   \n",
            "2934             26     4.06                0.000000          7.0      998   \n",
            "2935             25     4.43                0.000000         73.0      304   \n",
            "2936             25     1.72                0.000000         76.0      529   \n",
            "2937             24     1.68                0.000000         79.0     1483   \n",
            "\n",
            "      ...  POLIO  TOTAL EXPENDITURE  DIPHTHERIA  HIV/AIDS         GDP  \\\n",
            "0     ...    6.0               8.16        65.0       0.1  584.259210   \n",
            "1     ...   58.0               8.18        62.0       0.1  612.696514   \n",
            "2     ...   62.0               8.13        64.0       0.1  631.744976   \n",
            "3     ...   67.0               8.52        67.0       0.1  669.959000   \n",
            "4     ...   68.0               7.87        68.0       0.1   63.537231   \n",
            "...   ...    ...                ...         ...       ...         ...   \n",
            "2933  ...   67.0               7.13        65.0      33.6  454.366654   \n",
            "2934  ...    7.0               6.52        68.0      36.7  453.351155   \n",
            "2935  ...   73.0               6.53        71.0      39.8   57.348340   \n",
            "2936  ...   76.0               6.16        75.0      42.1  548.587312   \n",
            "2937  ...   78.0               7.10        78.0      43.5  547.358878   \n",
            "\n",
            "      POPULATION  THINNESS  1-19 YEARS  THINNESS 5-9 YEARS  \\\n",
            "0     33736494.0                  17.2                17.3   \n",
            "1       327582.0                  17.5                17.5   \n",
            "2     31731688.0                  17.7                17.7   \n",
            "3      3696958.0                  17.9                18.0   \n",
            "4      2978599.0                  18.2                18.2   \n",
            "...          ...                   ...                 ...   \n",
            "2933  12777511.0                   9.4                 9.4   \n",
            "2934  12633897.0                   9.8                 9.9   \n",
            "2935    125525.0                   1.2                 1.3   \n",
            "2936  12366165.0                   1.6                 1.7   \n",
            "2937  12222251.0                  11.0                11.2   \n",
            "\n",
            "      INCOME COMPOSITION OF RESOURCES  SCHOOLING  \n",
            "0                               0.479       10.1  \n",
            "1                               0.476       10.0  \n",
            "2                               0.470        9.9  \n",
            "3                               0.463        9.8  \n",
            "4                               0.454        9.5  \n",
            "...                               ...        ...  \n",
            "2933                            0.407        9.2  \n",
            "2934                            0.418        9.5  \n",
            "2935                            0.427       10.0  \n",
            "2936                            0.427        9.8  \n",
            "2937                            0.434        9.8  \n",
            "\n",
            "[2938 rows x 22 columns]\n"
          ]
        }
      ]
    },
    {
      "cell_type": "code",
      "source": [
        "make_boxplot(hf_SouthAfrica, \"HIV/AIDS\")"
      ],
      "metadata": {
        "colab": {
          "base_uri": "https://localhost:8080/",
          "height": 263
        },
        "id": "R-CRlo83WORx",
        "outputId": "071e675f-0b03-4a2c-8413-3440fd092a88"
      },
      "execution_count": 46,
      "outputs": [
        {
          "output_type": "error",
          "ename": "TypeError",
          "evalue": "'UndefinedType' object is not callable",
          "traceback": [
            "\u001b[0;31m---------------------------------------------------------------------------\u001b[0m",
            "\u001b[0;31mTypeError\u001b[0m                                 Traceback (most recent call last)",
            "\u001b[0;32m<ipython-input-46-86fdb2b6e86f>\u001b[0m in \u001b[0;36m<cell line: 1>\u001b[0;34m()\u001b[0m\n\u001b[0;32m----> 1\u001b[0;31m \u001b[0mmake_boxplot\u001b[0m\u001b[0;34m(\u001b[0m\u001b[0mhf_SouthAfrica\u001b[0m\u001b[0;34m,\u001b[0m \u001b[0;34m\"HIV/AIDS\"\u001b[0m\u001b[0;34m)\u001b[0m\u001b[0;34m\u001b[0m\u001b[0;34m\u001b[0m\u001b[0m\n\u001b[0m",
            "\u001b[0;32m<ipython-input-36-978f65ace5df>\u001b[0m in \u001b[0;36mmake_boxplot\u001b[0;34m(dataframe, var)\u001b[0m\n\u001b[1;32m     13\u001b[0m \u001b[0;32mdef\u001b[0m \u001b[0mmake_boxplot\u001b[0m\u001b[0;34m(\u001b[0m\u001b[0mdataframe\u001b[0m\u001b[0;34m,\u001b[0m \u001b[0mvar\u001b[0m\u001b[0;34m)\u001b[0m\u001b[0;34m:\u001b[0m\u001b[0;34m\u001b[0m\u001b[0;34m\u001b[0m\u001b[0m\n\u001b[1;32m     14\u001b[0m   boxplot = alt.Chart(dataframe).mark_boxplot().encode(\n\u001b[0;32m---> 15\u001b[0;31m     \u001b[0malt\u001b[0m\u001b[0;34m.\u001b[0m\u001b[0mY\u001b[0m\u001b[0;34m(\u001b[0m\u001b[0mvar\u001b[0m\u001b[0;34m,\u001b[0m \u001b[0mtype\u001b[0m \u001b[0;34m=\u001b[0m \u001b[0;34m'quantitative'\u001b[0m\u001b[0;34m)\u001b[0m\u001b[0;34m.\u001b[0m\u001b[0mscale\u001b[0m\u001b[0;34m(\u001b[0m\u001b[0mzero\u001b[0m\u001b[0;34m=\u001b[0m\u001b[0;32mFalse\u001b[0m\u001b[0;34m)\u001b[0m\u001b[0;34m\u001b[0m\u001b[0;34m\u001b[0m\u001b[0m\n\u001b[0m\u001b[1;32m     16\u001b[0m   )\n\u001b[1;32m     17\u001b[0m   \u001b[0mdisplay\u001b[0m\u001b[0;34m(\u001b[0m\u001b[0mboxplot\u001b[0m\u001b[0;34m)\u001b[0m\u001b[0;34m\u001b[0m\u001b[0;34m\u001b[0m\u001b[0m\n",
            "\u001b[0;31mTypeError\u001b[0m: 'UndefinedType' object is not callable"
          ]
        }
      ]
    }
  ]
}