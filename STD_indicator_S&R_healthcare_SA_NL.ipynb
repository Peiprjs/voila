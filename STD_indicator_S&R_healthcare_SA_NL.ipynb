{
  "nbformat": 4,
  "nbformat_minor": 0,
  "metadata": {
    "colab": {
      "provenance": [],
      "toc_visible": true,
      "collapsed_sections": [
        "kIC51T5WCpiT"
      ],
      "authorship_tag": "ABX9TyPZt7Twxuf6+L6a87tnZvvB",
      "include_colab_link": true
    },
    "kernelspec": {
      "name": "python3",
      "display_name": "Python 3"
    },
    "language_info": {
      "name": "python"
    },
    "widgets": {
      "application/vnd.jupyter.widget-state+json": {
        "fbcebd1ed0664438b3a4aa0e254cceb6": {
          "model_module": "@jupyter-widgets/controls",
          "model_name": "GridBoxModel",
          "model_module_version": "1.5.0",
          "state": {
            "_dom_classes": [],
            "_model_module": "@jupyter-widgets/controls",
            "_model_module_version": "1.5.0",
            "_model_name": "GridBoxModel",
            "_view_count": null,
            "_view_module": "@jupyter-widgets/controls",
            "_view_module_version": "1.5.0",
            "_view_name": "GridBoxView",
            "box_style": "",
            "children": [
              "IPY_MODEL_df2ed83c354b4f9e8d06e1a001281791",
              "IPY_MODEL_4fbb6822f543458f9054c90af8e2a655",
              "IPY_MODEL_9c2a401827ee446694147634ca360b0a",
              "IPY_MODEL_b5e48499ad434201a3ef205427f3ac06",
              "IPY_MODEL_ccd9aac220cb4470be4a060a75031d6a"
            ],
            "layout": "IPY_MODEL_eeed85d4af9845cb8b05fd9befc1f2ac"
          }
        },
        "df2ed83c354b4f9e8d06e1a001281791": {
          "model_module": "@jupyter-widgets/output",
          "model_name": "OutputModel",
          "model_module_version": "1.0.0",
          "state": {
            "_dom_classes": [],
            "_model_module": "@jupyter-widgets/output",
            "_model_module_version": "1.0.0",
            "_model_name": "OutputModel",
            "_view_count": null,
            "_view_module": "@jupyter-widgets/output",
            "_view_module_version": "1.0.0",
            "_view_name": "OutputView",
            "layout": "IPY_MODEL_d1a489c74b5d4f0baba7a3f6026c9eef",
            "msg_id": "",
            "outputs": [
              {
                "output_type": "display_data",
                "data": {
                  "text/html": "\n<div id=\"altair-viz-a238249405d84eed8e01e7a796e43b18\"></div>\n<script type=\"text/javascript\">\n  var VEGA_DEBUG = (typeof VEGA_DEBUG == \"undefined\") ? {} : VEGA_DEBUG;\n  (function(spec, embedOpt){\n    let outputDiv = document.currentScript.previousElementSibling;\n    if (outputDiv.id !== \"altair-viz-a238249405d84eed8e01e7a796e43b18\") {\n      outputDiv = document.getElementById(\"altair-viz-a238249405d84eed8e01e7a796e43b18\");\n    }\n    const paths = {\n      \"vega\": \"https://cdn.jsdelivr.net/npm//vega@5?noext\",\n      \"vega-lib\": \"https://cdn.jsdelivr.net/npm//vega-lib?noext\",\n      \"vega-lite\": \"https://cdn.jsdelivr.net/npm//vega-lite@4.17.0?noext\",\n      \"vega-embed\": \"https://cdn.jsdelivr.net/npm//vega-embed@6?noext\",\n    };\n\n    function maybeLoadScript(lib, version) {\n      var key = `${lib.replace(\"-\", \"\")}_version`;\n      return (VEGA_DEBUG[key] == version) ?\n        Promise.resolve(paths[lib]) :\n        new Promise(function(resolve, reject) {\n          var s = document.createElement('script');\n          document.getElementsByTagName(\"head\")[0].appendChild(s);\n          s.async = true;\n          s.onload = () => {\n            VEGA_DEBUG[key] = version;\n            return resolve(paths[lib]);\n          };\n          s.onerror = () => reject(`Error loading script: ${paths[lib]}`);\n          s.src = paths[lib];\n        });\n    }\n\n    function showError(err) {\n      outputDiv.innerHTML = `<div class=\"error\" style=\"color:red;\">${err}</div>`;\n      throw err;\n    }\n\n    function displayChart(vegaEmbed) {\n      vegaEmbed(outputDiv, spec, embedOpt)\n        .catch(err => showError(`Javascript Error: ${err.message}<br>This usually means there's a typo in your chart specification. See the javascript console for the full traceback.`));\n    }\n\n    if(typeof define === \"function\" && define.amd) {\n      requirejs.config({paths});\n      require([\"vega-embed\"], displayChart, err => showError(`Error loading script: ${err.message}`));\n    } else {\n      maybeLoadScript(\"vega\", \"5\")\n        .then(() => maybeLoadScript(\"vega-lite\", \"4.17.0\"))\n        .then(() => maybeLoadScript(\"vega-embed\", \"6\"))\n        .catch(showError)\n        .then(() => displayChart(vegaEmbed));\n    }\n  })({\"config\": {\"view\": {\"continuousWidth\": 400, \"continuousHeight\": 300}}, \"layer\": [{\"mark\": {\"type\": \"circle\", \"opacity\": 0.5}, \"encoding\": {\"x\": {\"field\": \"Year\", \"scale\": {\"zero\": false}, \"type\": \"temporal\"}, \"y\": {\"field\": \"HIV/AIDS\", \"type\": \"quantitative\"}}}, {\"mark\": \"line\", \"encoding\": {\"x\": {\"field\": \"Year\", \"scale\": {\"zero\": false}, \"type\": \"temporal\"}, \"y\": {\"field\": \"HIV/AIDS\", \"type\": \"quantitative\"}}, \"transform\": [{\"loess\": \"HIV/AIDS\", \"on\": \"Year\"}]}], \"data\": {\"name\": \"data-a570c35cdfbf815e28327ce39c0aebb5\"}, \"$schema\": \"https://vega.github.io/schema/vega-lite/v4.17.0.json\", \"datasets\": {\"data-a570c35cdfbf815e28327ce39c0aebb5\": [{\"Year\": \"2015\", \"Percentage Expenditure\": 0.0, \"HIV/AIDS\": 3.6, \"Hepatitis B\": 75.0}, {\"Year\": \"2014\", \"Percentage Expenditure\": 922.0507313, \"HIV/AIDS\": 3.7, \"Hepatitis B\": 8.0}, {\"Year\": \"2013\", \"Percentage Expenditure\": 978.5905287, \"HIV/AIDS\": 4.5, \"Hepatitis B\": 7.0}, {\"Year\": \"2012\", \"Percentage Expenditure\": 1089.954838, \"HIV/AIDS\": 7.6, \"Hepatitis B\": 68.0}, {\"Year\": \"2011\", \"Percentage Expenditure\": 123.753335, \"HIV/AIDS\": 8.5, \"Hepatitis B\": 76.0}, {\"Year\": \"2010\", \"Percentage Expenditure\": 1038.885632, \"HIV/AIDS\": 11.0, \"Hepatitis B\": 71.0}, {\"Year\": \"2009\", \"Percentage Expenditure\": 782.5987144, \"HIV/AIDS\": 19.0, \"Hepatitis B\": 74.0}, {\"Year\": \"2008\", \"Percentage Expenditure\": 780.0336423, \"HIV/AIDS\": 23.5, \"Hepatitis B\": 76.0}, {\"Year\": \"2007\", \"Percentage Expenditure\": 805.490079, \"HIV/AIDS\": 26.4, \"Hepatitis B\": 83.0}, {\"Year\": \"2006\", \"Percentage Expenditure\": 732.1255305, \"HIV/AIDS\": 28.1, \"Hepatitis B\": 83.0}, {\"Year\": \"2005\", \"Percentage Expenditure\": 709.3170967, \"HIV/AIDS\": 29.5, \"Hepatitis B\": 79.0}, {\"Year\": \"2004\", \"Percentage Expenditure\": 622.043809, \"HIV/AIDS\": 29.7, \"Hepatitis B\": 76.0}, {\"Year\": \"2003\", \"Percentage Expenditure\": 519.1563781, \"HIV/AIDS\": 28.9, \"Hepatitis B\": 71.0}, {\"Year\": \"2002\", \"Percentage Expenditure\": 346.5316007, \"HIV/AIDS\": 26.6, \"Hepatitis B\": 72.0}, {\"Year\": \"2001\", \"Percentage Expenditure\": 365.2585722, \"HIV/AIDS\": 24.0, \"Hepatitis B\": 72.0}, {\"Year\": \"2000\", \"Percentage Expenditure\": 45.96380839, \"HIV/AIDS\": 21.3, \"Hepatitis B\": 73.0}]}}, {\"mode\": \"vega-lite\"});\n</script>",
                  "text/plain": "alt.LayerChart(...)"
                },
                "metadata": {}
              }
            ]
          }
        },
        "4fbb6822f543458f9054c90af8e2a655": {
          "model_module": "@jupyter-widgets/output",
          "model_name": "OutputModel",
          "model_module_version": "1.0.0",
          "state": {
            "_dom_classes": [],
            "_model_module": "@jupyter-widgets/output",
            "_model_module_version": "1.0.0",
            "_model_name": "OutputModel",
            "_view_count": null,
            "_view_module": "@jupyter-widgets/output",
            "_view_module_version": "1.0.0",
            "_view_name": "OutputView",
            "layout": "IPY_MODEL_4686fad219004c08845a3cbab02b67bb",
            "msg_id": "",
            "outputs": [
              {
                "output_type": "display_data",
                "data": {
                  "text/html": "\n<div id=\"altair-viz-89d114999bca485597cf3d892d92ff53\"></div>\n<script type=\"text/javascript\">\n  var VEGA_DEBUG = (typeof VEGA_DEBUG == \"undefined\") ? {} : VEGA_DEBUG;\n  (function(spec, embedOpt){\n    let outputDiv = document.currentScript.previousElementSibling;\n    if (outputDiv.id !== \"altair-viz-89d114999bca485597cf3d892d92ff53\") {\n      outputDiv = document.getElementById(\"altair-viz-89d114999bca485597cf3d892d92ff53\");\n    }\n    const paths = {\n      \"vega\": \"https://cdn.jsdelivr.net/npm//vega@5?noext\",\n      \"vega-lib\": \"https://cdn.jsdelivr.net/npm//vega-lib?noext\",\n      \"vega-lite\": \"https://cdn.jsdelivr.net/npm//vega-lite@4.17.0?noext\",\n      \"vega-embed\": \"https://cdn.jsdelivr.net/npm//vega-embed@6?noext\",\n    };\n\n    function maybeLoadScript(lib, version) {\n      var key = `${lib.replace(\"-\", \"\")}_version`;\n      return (VEGA_DEBUG[key] == version) ?\n        Promise.resolve(paths[lib]) :\n        new Promise(function(resolve, reject) {\n          var s = document.createElement('script');\n          document.getElementsByTagName(\"head\")[0].appendChild(s);\n          s.async = true;\n          s.onload = () => {\n            VEGA_DEBUG[key] = version;\n            return resolve(paths[lib]);\n          };\n          s.onerror = () => reject(`Error loading script: ${paths[lib]}`);\n          s.src = paths[lib];\n        });\n    }\n\n    function showError(err) {\n      outputDiv.innerHTML = `<div class=\"error\" style=\"color:red;\">${err}</div>`;\n      throw err;\n    }\n\n    function displayChart(vegaEmbed) {\n      vegaEmbed(outputDiv, spec, embedOpt)\n        .catch(err => showError(`Javascript Error: ${err.message}<br>This usually means there's a typo in your chart specification. See the javascript console for the full traceback.`));\n    }\n\n    if(typeof define === \"function\" && define.amd) {\n      requirejs.config({paths});\n      require([\"vega-embed\"], displayChart, err => showError(`Error loading script: ${err.message}`));\n    } else {\n      maybeLoadScript(\"vega\", \"5\")\n        .then(() => maybeLoadScript(\"vega-lite\", \"4.17.0\"))\n        .then(() => maybeLoadScript(\"vega-embed\", \"6\"))\n        .catch(showError)\n        .then(() => displayChart(vegaEmbed));\n    }\n  })({\"config\": {\"view\": {\"continuousWidth\": 400, \"continuousHeight\": 300}}, \"layer\": [{\"mark\": {\"type\": \"circle\", \"opacity\": 0.5}, \"encoding\": {\"x\": {\"field\": \"Year\", \"scale\": {\"zero\": false}, \"type\": \"temporal\"}, \"y\": {\"field\": \"Hepatitis B\", \"type\": \"quantitative\"}}}, {\"mark\": \"line\", \"encoding\": {\"x\": {\"field\": \"Year\", \"scale\": {\"zero\": false}, \"type\": \"temporal\"}, \"y\": {\"field\": \"Hepatitis B\", \"type\": \"quantitative\"}}, \"transform\": [{\"loess\": \"Hepatitis B\", \"on\": \"Year\"}]}], \"data\": {\"name\": \"data-a570c35cdfbf815e28327ce39c0aebb5\"}, \"$schema\": \"https://vega.github.io/schema/vega-lite/v4.17.0.json\", \"datasets\": {\"data-a570c35cdfbf815e28327ce39c0aebb5\": [{\"Year\": \"2015\", \"Percentage Expenditure\": 0.0, \"HIV/AIDS\": 3.6, \"Hepatitis B\": 75.0}, {\"Year\": \"2014\", \"Percentage Expenditure\": 922.0507313, \"HIV/AIDS\": 3.7, \"Hepatitis B\": 8.0}, {\"Year\": \"2013\", \"Percentage Expenditure\": 978.5905287, \"HIV/AIDS\": 4.5, \"Hepatitis B\": 7.0}, {\"Year\": \"2012\", \"Percentage Expenditure\": 1089.954838, \"HIV/AIDS\": 7.6, \"Hepatitis B\": 68.0}, {\"Year\": \"2011\", \"Percentage Expenditure\": 123.753335, \"HIV/AIDS\": 8.5, \"Hepatitis B\": 76.0}, {\"Year\": \"2010\", \"Percentage Expenditure\": 1038.885632, \"HIV/AIDS\": 11.0, \"Hepatitis B\": 71.0}, {\"Year\": \"2009\", \"Percentage Expenditure\": 782.5987144, \"HIV/AIDS\": 19.0, \"Hepatitis B\": 74.0}, {\"Year\": \"2008\", \"Percentage Expenditure\": 780.0336423, \"HIV/AIDS\": 23.5, \"Hepatitis B\": 76.0}, {\"Year\": \"2007\", \"Percentage Expenditure\": 805.490079, \"HIV/AIDS\": 26.4, \"Hepatitis B\": 83.0}, {\"Year\": \"2006\", \"Percentage Expenditure\": 732.1255305, \"HIV/AIDS\": 28.1, \"Hepatitis B\": 83.0}, {\"Year\": \"2005\", \"Percentage Expenditure\": 709.3170967, \"HIV/AIDS\": 29.5, \"Hepatitis B\": 79.0}, {\"Year\": \"2004\", \"Percentage Expenditure\": 622.043809, \"HIV/AIDS\": 29.7, \"Hepatitis B\": 76.0}, {\"Year\": \"2003\", \"Percentage Expenditure\": 519.1563781, \"HIV/AIDS\": 28.9, \"Hepatitis B\": 71.0}, {\"Year\": \"2002\", \"Percentage Expenditure\": 346.5316007, \"HIV/AIDS\": 26.6, \"Hepatitis B\": 72.0}, {\"Year\": \"2001\", \"Percentage Expenditure\": 365.2585722, \"HIV/AIDS\": 24.0, \"Hepatitis B\": 72.0}, {\"Year\": \"2000\", \"Percentage Expenditure\": 45.96380839, \"HIV/AIDS\": 21.3, \"Hepatitis B\": 73.0}]}}, {\"mode\": \"vega-lite\"});\n</script>",
                  "text/plain": "alt.LayerChart(...)"
                },
                "metadata": {}
              }
            ]
          }
        },
        "9c2a401827ee446694147634ca360b0a": {
          "model_module": "@jupyter-widgets/output",
          "model_name": "OutputModel",
          "model_module_version": "1.0.0",
          "state": {
            "_dom_classes": [],
            "_model_module": "@jupyter-widgets/output",
            "_model_module_version": "1.0.0",
            "_model_name": "OutputModel",
            "_view_count": null,
            "_view_module": "@jupyter-widgets/output",
            "_view_module_version": "1.0.0",
            "_view_name": "OutputView",
            "layout": "IPY_MODEL_cbb7305a189c4df2b14de48a8293b123",
            "msg_id": "",
            "outputs": [
              {
                "output_type": "display_data",
                "data": {
                  "text/html": "\n<div id=\"altair-viz-48ed73b5d4e34896812bf107dd13ea60\"></div>\n<script type=\"text/javascript\">\n  var VEGA_DEBUG = (typeof VEGA_DEBUG == \"undefined\") ? {} : VEGA_DEBUG;\n  (function(spec, embedOpt){\n    let outputDiv = document.currentScript.previousElementSibling;\n    if (outputDiv.id !== \"altair-viz-48ed73b5d4e34896812bf107dd13ea60\") {\n      outputDiv = document.getElementById(\"altair-viz-48ed73b5d4e34896812bf107dd13ea60\");\n    }\n    const paths = {\n      \"vega\": \"https://cdn.jsdelivr.net/npm//vega@5?noext\",\n      \"vega-lib\": \"https://cdn.jsdelivr.net/npm//vega-lib?noext\",\n      \"vega-lite\": \"https://cdn.jsdelivr.net/npm//vega-lite@4.17.0?noext\",\n      \"vega-embed\": \"https://cdn.jsdelivr.net/npm//vega-embed@6?noext\",\n    };\n\n    function maybeLoadScript(lib, version) {\n      var key = `${lib.replace(\"-\", \"\")}_version`;\n      return (VEGA_DEBUG[key] == version) ?\n        Promise.resolve(paths[lib]) :\n        new Promise(function(resolve, reject) {\n          var s = document.createElement('script');\n          document.getElementsByTagName(\"head\")[0].appendChild(s);\n          s.async = true;\n          s.onload = () => {\n            VEGA_DEBUG[key] = version;\n            return resolve(paths[lib]);\n          };\n          s.onerror = () => reject(`Error loading script: ${paths[lib]}`);\n          s.src = paths[lib];\n        });\n    }\n\n    function showError(err) {\n      outputDiv.innerHTML = `<div class=\"error\" style=\"color:red;\">${err}</div>`;\n      throw err;\n    }\n\n    function displayChart(vegaEmbed) {\n      vegaEmbed(outputDiv, spec, embedOpt)\n        .catch(err => showError(`Javascript Error: ${err.message}<br>This usually means there's a typo in your chart specification. See the javascript console for the full traceback.`));\n    }\n\n    if(typeof define === \"function\" && define.amd) {\n      requirejs.config({paths});\n      require([\"vega-embed\"], displayChart, err => showError(`Error loading script: ${err.message}`));\n    } else {\n      maybeLoadScript(\"vega\", \"5\")\n        .then(() => maybeLoadScript(\"vega-lite\", \"4.17.0\"))\n        .then(() => maybeLoadScript(\"vega-embed\", \"6\"))\n        .catch(showError)\n        .then(() => displayChart(vegaEmbed));\n    }\n  })({\"config\": {\"view\": {\"continuousWidth\": 400, \"continuousHeight\": 300}}, \"layer\": [{\"mark\": {\"type\": \"circle\", \"opacity\": 0.5}, \"encoding\": {\"x\": {\"field\": \"Year\", \"scale\": {\"zero\": false}, \"type\": \"temporal\"}, \"y\": {\"field\": \"Percentage Expenditure\", \"type\": \"quantitative\"}}}, {\"mark\": \"line\", \"encoding\": {\"x\": {\"field\": \"Year\", \"scale\": {\"zero\": false}, \"type\": \"temporal\"}, \"y\": {\"field\": \"Percentage Expenditure\", \"type\": \"quantitative\"}}, \"transform\": [{\"loess\": \"Percentage Expenditure\", \"on\": \"Year\"}]}], \"data\": {\"name\": \"data-a570c35cdfbf815e28327ce39c0aebb5\"}, \"$schema\": \"https://vega.github.io/schema/vega-lite/v4.17.0.json\", \"datasets\": {\"data-a570c35cdfbf815e28327ce39c0aebb5\": [{\"Year\": \"2015\", \"Percentage Expenditure\": 0.0, \"HIV/AIDS\": 3.6, \"Hepatitis B\": 75.0}, {\"Year\": \"2014\", \"Percentage Expenditure\": 922.0507313, \"HIV/AIDS\": 3.7, \"Hepatitis B\": 8.0}, {\"Year\": \"2013\", \"Percentage Expenditure\": 978.5905287, \"HIV/AIDS\": 4.5, \"Hepatitis B\": 7.0}, {\"Year\": \"2012\", \"Percentage Expenditure\": 1089.954838, \"HIV/AIDS\": 7.6, \"Hepatitis B\": 68.0}, {\"Year\": \"2011\", \"Percentage Expenditure\": 123.753335, \"HIV/AIDS\": 8.5, \"Hepatitis B\": 76.0}, {\"Year\": \"2010\", \"Percentage Expenditure\": 1038.885632, \"HIV/AIDS\": 11.0, \"Hepatitis B\": 71.0}, {\"Year\": \"2009\", \"Percentage Expenditure\": 782.5987144, \"HIV/AIDS\": 19.0, \"Hepatitis B\": 74.0}, {\"Year\": \"2008\", \"Percentage Expenditure\": 780.0336423, \"HIV/AIDS\": 23.5, \"Hepatitis B\": 76.0}, {\"Year\": \"2007\", \"Percentage Expenditure\": 805.490079, \"HIV/AIDS\": 26.4, \"Hepatitis B\": 83.0}, {\"Year\": \"2006\", \"Percentage Expenditure\": 732.1255305, \"HIV/AIDS\": 28.1, \"Hepatitis B\": 83.0}, {\"Year\": \"2005\", \"Percentage Expenditure\": 709.3170967, \"HIV/AIDS\": 29.5, \"Hepatitis B\": 79.0}, {\"Year\": \"2004\", \"Percentage Expenditure\": 622.043809, \"HIV/AIDS\": 29.7, \"Hepatitis B\": 76.0}, {\"Year\": \"2003\", \"Percentage Expenditure\": 519.1563781, \"HIV/AIDS\": 28.9, \"Hepatitis B\": 71.0}, {\"Year\": \"2002\", \"Percentage Expenditure\": 346.5316007, \"HIV/AIDS\": 26.6, \"Hepatitis B\": 72.0}, {\"Year\": \"2001\", \"Percentage Expenditure\": 365.2585722, \"HIV/AIDS\": 24.0, \"Hepatitis B\": 72.0}, {\"Year\": \"2000\", \"Percentage Expenditure\": 45.96380839, \"HIV/AIDS\": 21.3, \"Hepatitis B\": 73.0}]}}, {\"mode\": \"vega-lite\"});\n</script>",
                  "text/plain": "alt.LayerChart(...)"
                },
                "metadata": {}
              }
            ]
          }
        },
        "b5e48499ad434201a3ef205427f3ac06": {
          "model_module": "@jupyter-widgets/output",
          "model_name": "OutputModel",
          "model_module_version": "1.0.0",
          "state": {
            "_dom_classes": [],
            "_model_module": "@jupyter-widgets/output",
            "_model_module_version": "1.0.0",
            "_model_name": "OutputModel",
            "_view_count": null,
            "_view_module": "@jupyter-widgets/output",
            "_view_module_version": "1.0.0",
            "_view_name": "OutputView",
            "layout": "IPY_MODEL_66a38d41cbee4ccf86e638b65bc4d6a8",
            "msg_id": "",
            "outputs": [
              {
                "output_type": "display_data",
                "data": {
                  "text/html": "\n<div id=\"altair-viz-fa7d7874336b4ddba4e9e360b2e9f114\"></div>\n<script type=\"text/javascript\">\n  var VEGA_DEBUG = (typeof VEGA_DEBUG == \"undefined\") ? {} : VEGA_DEBUG;\n  (function(spec, embedOpt){\n    let outputDiv = document.currentScript.previousElementSibling;\n    if (outputDiv.id !== \"altair-viz-fa7d7874336b4ddba4e9e360b2e9f114\") {\n      outputDiv = document.getElementById(\"altair-viz-fa7d7874336b4ddba4e9e360b2e9f114\");\n    }\n    const paths = {\n      \"vega\": \"https://cdn.jsdelivr.net/npm//vega@5?noext\",\n      \"vega-lib\": \"https://cdn.jsdelivr.net/npm//vega-lib?noext\",\n      \"vega-lite\": \"https://cdn.jsdelivr.net/npm//vega-lite@4.17.0?noext\",\n      \"vega-embed\": \"https://cdn.jsdelivr.net/npm//vega-embed@6?noext\",\n    };\n\n    function maybeLoadScript(lib, version) {\n      var key = `${lib.replace(\"-\", \"\")}_version`;\n      return (VEGA_DEBUG[key] == version) ?\n        Promise.resolve(paths[lib]) :\n        new Promise(function(resolve, reject) {\n          var s = document.createElement('script');\n          document.getElementsByTagName(\"head\")[0].appendChild(s);\n          s.async = true;\n          s.onload = () => {\n            VEGA_DEBUG[key] = version;\n            return resolve(paths[lib]);\n          };\n          s.onerror = () => reject(`Error loading script: ${paths[lib]}`);\n          s.src = paths[lib];\n        });\n    }\n\n    function showError(err) {\n      outputDiv.innerHTML = `<div class=\"error\" style=\"color:red;\">${err}</div>`;\n      throw err;\n    }\n\n    function displayChart(vegaEmbed) {\n      vegaEmbed(outputDiv, spec, embedOpt)\n        .catch(err => showError(`Javascript Error: ${err.message}<br>This usually means there's a typo in your chart specification. See the javascript console for the full traceback.`));\n    }\n\n    if(typeof define === \"function\" && define.amd) {\n      requirejs.config({paths});\n      require([\"vega-embed\"], displayChart, err => showError(`Error loading script: ${err.message}`));\n    } else {\n      maybeLoadScript(\"vega\", \"5\")\n        .then(() => maybeLoadScript(\"vega-lite\", \"4.17.0\"))\n        .then(() => maybeLoadScript(\"vega-embed\", \"6\"))\n        .catch(showError)\n        .then(() => displayChart(vegaEmbed));\n    }\n  })({\"config\": {\"view\": {\"continuousWidth\": 400, \"continuousHeight\": 300}}, \"layer\": [{\"mark\": {\"type\": \"circle\", \"opacity\": 0.5}, \"encoding\": {\"x\": {\"field\": \"Percentage Expenditure\", \"scale\": {\"zero\": false}, \"type\": \"quantitative\"}, \"y\": {\"field\": \"HIV/AIDS\", \"type\": \"quantitative\"}}}, {\"mark\": \"line\", \"encoding\": {\"x\": {\"field\": \"Percentage Expenditure\", \"scale\": {\"zero\": false}, \"type\": \"quantitative\"}, \"y\": {\"field\": \"HIV/AIDS\", \"type\": \"quantitative\"}}, \"transform\": [{\"loess\": \"HIV/AIDS\", \"on\": \"Percentage Expenditure\"}]}], \"data\": {\"name\": \"data-2588c5ba222f3ca93261ce89cc2c2964\"}, \"$schema\": \"https://vega.github.io/schema/vega-lite/v4.17.0.json\", \"datasets\": {\"data-2588c5ba222f3ca93261ce89cc2c2964\": [{\"Year\": \"2015\", \"Percentage Expenditure\": \"0.0\", \"HIV/AIDS\": 3.6, \"Hepatitis B\": 75.0}, {\"Year\": \"2014\", \"Percentage Expenditure\": \"922.0507313\", \"HIV/AIDS\": 3.7, \"Hepatitis B\": 8.0}, {\"Year\": \"2013\", \"Percentage Expenditure\": \"978.5905287\", \"HIV/AIDS\": 4.5, \"Hepatitis B\": 7.0}, {\"Year\": \"2012\", \"Percentage Expenditure\": \"1089.954838\", \"HIV/AIDS\": 7.6, \"Hepatitis B\": 68.0}, {\"Year\": \"2011\", \"Percentage Expenditure\": \"123.753335\", \"HIV/AIDS\": 8.5, \"Hepatitis B\": 76.0}, {\"Year\": \"2010\", \"Percentage Expenditure\": \"1038.885632\", \"HIV/AIDS\": 11.0, \"Hepatitis B\": 71.0}, {\"Year\": \"2009\", \"Percentage Expenditure\": \"782.5987144\", \"HIV/AIDS\": 19.0, \"Hepatitis B\": 74.0}, {\"Year\": \"2008\", \"Percentage Expenditure\": \"780.0336423\", \"HIV/AIDS\": 23.5, \"Hepatitis B\": 76.0}, {\"Year\": \"2007\", \"Percentage Expenditure\": \"805.490079\", \"HIV/AIDS\": 26.4, \"Hepatitis B\": 83.0}, {\"Year\": \"2006\", \"Percentage Expenditure\": \"732.1255305\", \"HIV/AIDS\": 28.1, \"Hepatitis B\": 83.0}, {\"Year\": \"2005\", \"Percentage Expenditure\": \"709.3170967\", \"HIV/AIDS\": 29.5, \"Hepatitis B\": 79.0}, {\"Year\": \"2004\", \"Percentage Expenditure\": \"622.043809\", \"HIV/AIDS\": 29.7, \"Hepatitis B\": 76.0}, {\"Year\": \"2003\", \"Percentage Expenditure\": \"519.1563781\", \"HIV/AIDS\": 28.9, \"Hepatitis B\": 71.0}, {\"Year\": \"2002\", \"Percentage Expenditure\": \"346.5316007\", \"HIV/AIDS\": 26.6, \"Hepatitis B\": 72.0}, {\"Year\": \"2001\", \"Percentage Expenditure\": \"365.2585722\", \"HIV/AIDS\": 24.0, \"Hepatitis B\": 72.0}, {\"Year\": \"2000\", \"Percentage Expenditure\": \"45.96380839\", \"HIV/AIDS\": 21.3, \"Hepatitis B\": 73.0}]}}, {\"mode\": \"vega-lite\"});\n</script>",
                  "text/plain": "alt.LayerChart(...)"
                },
                "metadata": {}
              }
            ]
          }
        },
        "ccd9aac220cb4470be4a060a75031d6a": {
          "model_module": "@jupyter-widgets/output",
          "model_name": "OutputModel",
          "model_module_version": "1.0.0",
          "state": {
            "_dom_classes": [],
            "_model_module": "@jupyter-widgets/output",
            "_model_module_version": "1.0.0",
            "_model_name": "OutputModel",
            "_view_count": null,
            "_view_module": "@jupyter-widgets/output",
            "_view_module_version": "1.0.0",
            "_view_name": "OutputView",
            "layout": "IPY_MODEL_d421937280c64f7894e85aedc590200d",
            "msg_id": "",
            "outputs": [
              {
                "output_type": "display_data",
                "data": {
                  "text/html": "\n<div id=\"altair-viz-95764a82eb2e497084b427b2ba8408e4\"></div>\n<script type=\"text/javascript\">\n  var VEGA_DEBUG = (typeof VEGA_DEBUG == \"undefined\") ? {} : VEGA_DEBUG;\n  (function(spec, embedOpt){\n    let outputDiv = document.currentScript.previousElementSibling;\n    if (outputDiv.id !== \"altair-viz-95764a82eb2e497084b427b2ba8408e4\") {\n      outputDiv = document.getElementById(\"altair-viz-95764a82eb2e497084b427b2ba8408e4\");\n    }\n    const paths = {\n      \"vega\": \"https://cdn.jsdelivr.net/npm//vega@5?noext\",\n      \"vega-lib\": \"https://cdn.jsdelivr.net/npm//vega-lib?noext\",\n      \"vega-lite\": \"https://cdn.jsdelivr.net/npm//vega-lite@4.17.0?noext\",\n      \"vega-embed\": \"https://cdn.jsdelivr.net/npm//vega-embed@6?noext\",\n    };\n\n    function maybeLoadScript(lib, version) {\n      var key = `${lib.replace(\"-\", \"\")}_version`;\n      return (VEGA_DEBUG[key] == version) ?\n        Promise.resolve(paths[lib]) :\n        new Promise(function(resolve, reject) {\n          var s = document.createElement('script');\n          document.getElementsByTagName(\"head\")[0].appendChild(s);\n          s.async = true;\n          s.onload = () => {\n            VEGA_DEBUG[key] = version;\n            return resolve(paths[lib]);\n          };\n          s.onerror = () => reject(`Error loading script: ${paths[lib]}`);\n          s.src = paths[lib];\n        });\n    }\n\n    function showError(err) {\n      outputDiv.innerHTML = `<div class=\"error\" style=\"color:red;\">${err}</div>`;\n      throw err;\n    }\n\n    function displayChart(vegaEmbed) {\n      vegaEmbed(outputDiv, spec, embedOpt)\n        .catch(err => showError(`Javascript Error: ${err.message}<br>This usually means there's a typo in your chart specification. See the javascript console for the full traceback.`));\n    }\n\n    if(typeof define === \"function\" && define.amd) {\n      requirejs.config({paths});\n      require([\"vega-embed\"], displayChart, err => showError(`Error loading script: ${err.message}`));\n    } else {\n      maybeLoadScript(\"vega\", \"5\")\n        .then(() => maybeLoadScript(\"vega-lite\", \"4.17.0\"))\n        .then(() => maybeLoadScript(\"vega-embed\", \"6\"))\n        .catch(showError)\n        .then(() => displayChart(vegaEmbed));\n    }\n  })({\"config\": {\"view\": {\"continuousWidth\": 400, \"continuousHeight\": 300}}, \"layer\": [{\"mark\": {\"type\": \"circle\", \"opacity\": 0.5}, \"encoding\": {\"x\": {\"field\": \"Percentage Expenditure\", \"scale\": {\"zero\": false}, \"type\": \"quantitative\"}, \"y\": {\"field\": \"Hepatitis B\", \"type\": \"quantitative\"}}}, {\"mark\": \"line\", \"encoding\": {\"x\": {\"field\": \"Percentage Expenditure\", \"scale\": {\"zero\": false}, \"type\": \"quantitative\"}, \"y\": {\"field\": \"Hepatitis B\", \"type\": \"quantitative\"}}, \"transform\": [{\"loess\": \"Hepatitis B\", \"on\": \"Percentage Expenditure\"}]}], \"data\": {\"name\": \"data-2588c5ba222f3ca93261ce89cc2c2964\"}, \"$schema\": \"https://vega.github.io/schema/vega-lite/v4.17.0.json\", \"datasets\": {\"data-2588c5ba222f3ca93261ce89cc2c2964\": [{\"Year\": \"2015\", \"Percentage Expenditure\": \"0.0\", \"HIV/AIDS\": 3.6, \"Hepatitis B\": 75.0}, {\"Year\": \"2014\", \"Percentage Expenditure\": \"922.0507313\", \"HIV/AIDS\": 3.7, \"Hepatitis B\": 8.0}, {\"Year\": \"2013\", \"Percentage Expenditure\": \"978.5905287\", \"HIV/AIDS\": 4.5, \"Hepatitis B\": 7.0}, {\"Year\": \"2012\", \"Percentage Expenditure\": \"1089.954838\", \"HIV/AIDS\": 7.6, \"Hepatitis B\": 68.0}, {\"Year\": \"2011\", \"Percentage Expenditure\": \"123.753335\", \"HIV/AIDS\": 8.5, \"Hepatitis B\": 76.0}, {\"Year\": \"2010\", \"Percentage Expenditure\": \"1038.885632\", \"HIV/AIDS\": 11.0, \"Hepatitis B\": 71.0}, {\"Year\": \"2009\", \"Percentage Expenditure\": \"782.5987144\", \"HIV/AIDS\": 19.0, \"Hepatitis B\": 74.0}, {\"Year\": \"2008\", \"Percentage Expenditure\": \"780.0336423\", \"HIV/AIDS\": 23.5, \"Hepatitis B\": 76.0}, {\"Year\": \"2007\", \"Percentage Expenditure\": \"805.490079\", \"HIV/AIDS\": 26.4, \"Hepatitis B\": 83.0}, {\"Year\": \"2006\", \"Percentage Expenditure\": \"732.1255305\", \"HIV/AIDS\": 28.1, \"Hepatitis B\": 83.0}, {\"Year\": \"2005\", \"Percentage Expenditure\": \"709.3170967\", \"HIV/AIDS\": 29.5, \"Hepatitis B\": 79.0}, {\"Year\": \"2004\", \"Percentage Expenditure\": \"622.043809\", \"HIV/AIDS\": 29.7, \"Hepatitis B\": 76.0}, {\"Year\": \"2003\", \"Percentage Expenditure\": \"519.1563781\", \"HIV/AIDS\": 28.9, \"Hepatitis B\": 71.0}, {\"Year\": \"2002\", \"Percentage Expenditure\": \"346.5316007\", \"HIV/AIDS\": 26.6, \"Hepatitis B\": 72.0}, {\"Year\": \"2001\", \"Percentage Expenditure\": \"365.2585722\", \"HIV/AIDS\": 24.0, \"Hepatitis B\": 72.0}, {\"Year\": \"2000\", \"Percentage Expenditure\": \"45.96380839\", \"HIV/AIDS\": 21.3, \"Hepatitis B\": 73.0}]}}, {\"mode\": \"vega-lite\"});\n</script>",
                  "text/plain": "alt.LayerChart(...)"
                },
                "metadata": {}
              }
            ]
          }
        },
        "eeed85d4af9845cb8b05fd9befc1f2ac": {
          "model_module": "@jupyter-widgets/base",
          "model_name": "LayoutModel",
          "model_module_version": "1.2.0",
          "state": {
            "_model_module": "@jupyter-widgets/base",
            "_model_module_version": "1.2.0",
            "_model_name": "LayoutModel",
            "_view_count": null,
            "_view_module": "@jupyter-widgets/base",
            "_view_module_version": "1.2.0",
            "_view_name": "LayoutView",
            "align_content": null,
            "align_items": null,
            "align_self": null,
            "border": null,
            "bottom": null,
            "display": null,
            "flex": null,
            "flex_flow": null,
            "grid_area": null,
            "grid_auto_columns": null,
            "grid_auto_flow": null,
            "grid_auto_rows": null,
            "grid_column": null,
            "grid_gap": null,
            "grid_row": null,
            "grid_template_areas": "\"widget001 widget002 widget003\"\n\"widget004 widget005 .\"",
            "grid_template_columns": "repeat(3, 1fr)",
            "grid_template_rows": "repeat(2, 1fr)",
            "height": null,
            "justify_content": null,
            "justify_items": null,
            "left": null,
            "margin": null,
            "max_height": null,
            "max_width": null,
            "min_height": null,
            "min_width": null,
            "object_fit": null,
            "object_position": null,
            "order": null,
            "overflow": null,
            "overflow_x": null,
            "overflow_y": null,
            "padding": null,
            "right": null,
            "top": null,
            "visibility": null,
            "width": null
          }
        },
        "d1a489c74b5d4f0baba7a3f6026c9eef": {
          "model_module": "@jupyter-widgets/base",
          "model_name": "LayoutModel",
          "model_module_version": "1.2.0",
          "state": {
            "_model_module": "@jupyter-widgets/base",
            "_model_module_version": "1.2.0",
            "_model_name": "LayoutModel",
            "_view_count": null,
            "_view_module": "@jupyter-widgets/base",
            "_view_module_version": "1.2.0",
            "_view_name": "LayoutView",
            "align_content": null,
            "align_items": null,
            "align_self": null,
            "border": null,
            "bottom": null,
            "display": null,
            "flex": null,
            "flex_flow": null,
            "grid_area": "widget001",
            "grid_auto_columns": null,
            "grid_auto_flow": null,
            "grid_auto_rows": null,
            "grid_column": null,
            "grid_gap": null,
            "grid_row": null,
            "grid_template_areas": null,
            "grid_template_columns": null,
            "grid_template_rows": null,
            "height": null,
            "justify_content": null,
            "justify_items": null,
            "left": null,
            "margin": null,
            "max_height": null,
            "max_width": null,
            "min_height": null,
            "min_width": null,
            "object_fit": null,
            "object_position": null,
            "order": null,
            "overflow": null,
            "overflow_x": null,
            "overflow_y": null,
            "padding": null,
            "right": null,
            "top": null,
            "visibility": null,
            "width": null
          }
        },
        "4686fad219004c08845a3cbab02b67bb": {
          "model_module": "@jupyter-widgets/base",
          "model_name": "LayoutModel",
          "model_module_version": "1.2.0",
          "state": {
            "_model_module": "@jupyter-widgets/base",
            "_model_module_version": "1.2.0",
            "_model_name": "LayoutModel",
            "_view_count": null,
            "_view_module": "@jupyter-widgets/base",
            "_view_module_version": "1.2.0",
            "_view_name": "LayoutView",
            "align_content": null,
            "align_items": null,
            "align_self": null,
            "border": null,
            "bottom": null,
            "display": null,
            "flex": null,
            "flex_flow": null,
            "grid_area": "widget002",
            "grid_auto_columns": null,
            "grid_auto_flow": null,
            "grid_auto_rows": null,
            "grid_column": null,
            "grid_gap": null,
            "grid_row": null,
            "grid_template_areas": null,
            "grid_template_columns": null,
            "grid_template_rows": null,
            "height": null,
            "justify_content": null,
            "justify_items": null,
            "left": null,
            "margin": null,
            "max_height": null,
            "max_width": null,
            "min_height": null,
            "min_width": null,
            "object_fit": null,
            "object_position": null,
            "order": null,
            "overflow": null,
            "overflow_x": null,
            "overflow_y": null,
            "padding": null,
            "right": null,
            "top": null,
            "visibility": null,
            "width": null
          }
        },
        "cbb7305a189c4df2b14de48a8293b123": {
          "model_module": "@jupyter-widgets/base",
          "model_name": "LayoutModel",
          "model_module_version": "1.2.0",
          "state": {
            "_model_module": "@jupyter-widgets/base",
            "_model_module_version": "1.2.0",
            "_model_name": "LayoutModel",
            "_view_count": null,
            "_view_module": "@jupyter-widgets/base",
            "_view_module_version": "1.2.0",
            "_view_name": "LayoutView",
            "align_content": null,
            "align_items": null,
            "align_self": null,
            "border": null,
            "bottom": null,
            "display": null,
            "flex": null,
            "flex_flow": null,
            "grid_area": "widget003",
            "grid_auto_columns": null,
            "grid_auto_flow": null,
            "grid_auto_rows": null,
            "grid_column": null,
            "grid_gap": null,
            "grid_row": null,
            "grid_template_areas": null,
            "grid_template_columns": null,
            "grid_template_rows": null,
            "height": null,
            "justify_content": null,
            "justify_items": null,
            "left": null,
            "margin": null,
            "max_height": null,
            "max_width": null,
            "min_height": null,
            "min_width": null,
            "object_fit": null,
            "object_position": null,
            "order": null,
            "overflow": null,
            "overflow_x": null,
            "overflow_y": null,
            "padding": null,
            "right": null,
            "top": null,
            "visibility": null,
            "width": null
          }
        },
        "66a38d41cbee4ccf86e638b65bc4d6a8": {
          "model_module": "@jupyter-widgets/base",
          "model_name": "LayoutModel",
          "model_module_version": "1.2.0",
          "state": {
            "_model_module": "@jupyter-widgets/base",
            "_model_module_version": "1.2.0",
            "_model_name": "LayoutModel",
            "_view_count": null,
            "_view_module": "@jupyter-widgets/base",
            "_view_module_version": "1.2.0",
            "_view_name": "LayoutView",
            "align_content": null,
            "align_items": null,
            "align_self": null,
            "border": null,
            "bottom": null,
            "display": null,
            "flex": null,
            "flex_flow": null,
            "grid_area": "widget004",
            "grid_auto_columns": null,
            "grid_auto_flow": null,
            "grid_auto_rows": null,
            "grid_column": null,
            "grid_gap": null,
            "grid_row": null,
            "grid_template_areas": null,
            "grid_template_columns": null,
            "grid_template_rows": null,
            "height": null,
            "justify_content": null,
            "justify_items": null,
            "left": null,
            "margin": null,
            "max_height": null,
            "max_width": null,
            "min_height": null,
            "min_width": null,
            "object_fit": null,
            "object_position": null,
            "order": null,
            "overflow": null,
            "overflow_x": null,
            "overflow_y": null,
            "padding": null,
            "right": null,
            "top": null,
            "visibility": null,
            "width": null
          }
        },
        "d421937280c64f7894e85aedc590200d": {
          "model_module": "@jupyter-widgets/base",
          "model_name": "LayoutModel",
          "model_module_version": "1.2.0",
          "state": {
            "_model_module": "@jupyter-widgets/base",
            "_model_module_version": "1.2.0",
            "_model_name": "LayoutModel",
            "_view_count": null,
            "_view_module": "@jupyter-widgets/base",
            "_view_module_version": "1.2.0",
            "_view_name": "LayoutView",
            "align_content": null,
            "align_items": null,
            "align_self": null,
            "border": null,
            "bottom": null,
            "display": null,
            "flex": null,
            "flex_flow": null,
            "grid_area": "widget005",
            "grid_auto_columns": null,
            "grid_auto_flow": null,
            "grid_auto_rows": null,
            "grid_column": null,
            "grid_gap": null,
            "grid_row": null,
            "grid_template_areas": null,
            "grid_template_columns": null,
            "grid_template_rows": null,
            "height": null,
            "justify_content": null,
            "justify_items": null,
            "left": null,
            "margin": null,
            "max_height": null,
            "max_width": null,
            "min_height": null,
            "min_width": null,
            "object_fit": null,
            "object_position": null,
            "order": null,
            "overflow": null,
            "overflow_x": null,
            "overflow_y": null,
            "padding": null,
            "right": null,
            "top": null,
            "visibility": null,
            "width": null
          }
        },
        "3da8452da0204bcaae40be19f57afcfa": {
          "model_module": "@jupyter-widgets/controls",
          "model_name": "HBoxModel",
          "model_module_version": "1.5.0",
          "state": {
            "_dom_classes": [],
            "_model_module": "@jupyter-widgets/controls",
            "_model_module_version": "1.5.0",
            "_model_name": "HBoxModel",
            "_view_count": null,
            "_view_module": "@jupyter-widgets/controls",
            "_view_module_version": "1.5.0",
            "_view_name": "HBoxView",
            "box_style": "",
            "children": [
              "IPY_MODEL_c29bedef78a54230b20a804d1db9ed78",
              "IPY_MODEL_14b237961b00418984d2b576caffa855",
              "IPY_MODEL_26a074c2caf44e4f9409dd6ef656c1db"
            ],
            "layout": "IPY_MODEL_2d3238da53d949b1abb3fed4add74d81"
          }
        },
        "c29bedef78a54230b20a804d1db9ed78": {
          "model_module": "@jupyter-widgets/output",
          "model_name": "OutputModel",
          "model_module_version": "1.0.0",
          "state": {
            "_dom_classes": [],
            "_model_module": "@jupyter-widgets/output",
            "_model_module_version": "1.0.0",
            "_model_name": "OutputModel",
            "_view_count": null,
            "_view_module": "@jupyter-widgets/output",
            "_view_module_version": "1.0.0",
            "_view_name": "OutputView",
            "layout": "IPY_MODEL_b5ef40f9d516470d80f59af9221e51db",
            "msg_id": "",
            "outputs": [
              {
                "output_type": "display_data",
                "data": {
                  "text/html": "\n<div id=\"altair-viz-614ca394ca3c4fc1830555d1acf09804\"></div>\n<script type=\"text/javascript\">\n  var VEGA_DEBUG = (typeof VEGA_DEBUG == \"undefined\") ? {} : VEGA_DEBUG;\n  (function(spec, embedOpt){\n    let outputDiv = document.currentScript.previousElementSibling;\n    if (outputDiv.id !== \"altair-viz-614ca394ca3c4fc1830555d1acf09804\") {\n      outputDiv = document.getElementById(\"altair-viz-614ca394ca3c4fc1830555d1acf09804\");\n    }\n    const paths = {\n      \"vega\": \"https://cdn.jsdelivr.net/npm//vega@5?noext\",\n      \"vega-lib\": \"https://cdn.jsdelivr.net/npm//vega-lib?noext\",\n      \"vega-lite\": \"https://cdn.jsdelivr.net/npm//vega-lite@4.17.0?noext\",\n      \"vega-embed\": \"https://cdn.jsdelivr.net/npm//vega-embed@6?noext\",\n    };\n\n    function maybeLoadScript(lib, version) {\n      var key = `${lib.replace(\"-\", \"\")}_version`;\n      return (VEGA_DEBUG[key] == version) ?\n        Promise.resolve(paths[lib]) :\n        new Promise(function(resolve, reject) {\n          var s = document.createElement('script');\n          document.getElementsByTagName(\"head\")[0].appendChild(s);\n          s.async = true;\n          s.onload = () => {\n            VEGA_DEBUG[key] = version;\n            return resolve(paths[lib]);\n          };\n          s.onerror = () => reject(`Error loading script: ${paths[lib]}`);\n          s.src = paths[lib];\n        });\n    }\n\n    function showError(err) {\n      outputDiv.innerHTML = `<div class=\"error\" style=\"color:red;\">${err}</div>`;\n      throw err;\n    }\n\n    function displayChart(vegaEmbed) {\n      vegaEmbed(outputDiv, spec, embedOpt)\n        .catch(err => showError(`Javascript Error: ${err.message}<br>This usually means there's a typo in your chart specification. See the javascript console for the full traceback.`));\n    }\n\n    if(typeof define === \"function\" && define.amd) {\n      requirejs.config({paths});\n      require([\"vega-embed\"], displayChart, err => showError(`Error loading script: ${err.message}`));\n    } else {\n      maybeLoadScript(\"vega\", \"5\")\n        .then(() => maybeLoadScript(\"vega-lite\", \"4.17.0\"))\n        .then(() => maybeLoadScript(\"vega-embed\", \"6\"))\n        .catch(showError)\n        .then(() => displayChart(vegaEmbed));\n    }\n  })({\"config\": {\"view\": {\"continuousWidth\": 400, \"continuousHeight\": 300}}, \"layer\": [{\"mark\": {\"type\": \"circle\", \"opacity\": 0.5}, \"encoding\": {\"x\": {\"field\": \"Year\", \"scale\": {\"zero\": false}, \"type\": \"temporal\"}, \"y\": {\"field\": \"Percentage Expenditure Outlierless\", \"type\": \"quantitative\"}}}, {\"mark\": \"line\", \"encoding\": {\"x\": {\"field\": \"Year\", \"scale\": {\"zero\": false}, \"type\": \"temporal\"}, \"y\": {\"field\": \"Percentage Expenditure Outlierless\", \"type\": \"quantitative\"}}, \"transform\": [{\"loess\": \"Percentage Expenditure Outlierless\", \"on\": \"Year\"}]}], \"data\": {\"name\": \"data-6cdad27d8207f63389d7672c0b068fc2\"}, \"$schema\": \"https://vega.github.io/schema/vega-lite/v4.17.0.json\", \"datasets\": {\"data-6cdad27d8207f63389d7672c0b068fc2\": [{\"Year\": \"2015\", \"Percentage Expenditure\": \"0.0\", \"HIV/AIDS\": 3.6, \"Hepatitis B\": 75.0, \"Percentage Expenditure Outlierless\": null, \"Hepatitis B Outlierless\": 75.0}, {\"Year\": \"2014\", \"Percentage Expenditure\": \"922.0507313\", \"HIV/AIDS\": 3.7, \"Hepatitis B\": 8.0, \"Percentage Expenditure Outlierless\": \"922.0507313\", \"Hepatitis B Outlierless\": null}, {\"Year\": \"2013\", \"Percentage Expenditure\": \"978.5905287\", \"HIV/AIDS\": 4.5, \"Hepatitis B\": 7.0, \"Percentage Expenditure Outlierless\": \"978.5905287\", \"Hepatitis B Outlierless\": null}, {\"Year\": \"2012\", \"Percentage Expenditure\": \"1089.954838\", \"HIV/AIDS\": 7.6, \"Hepatitis B\": 68.0, \"Percentage Expenditure Outlierless\": \"1089.954838\", \"Hepatitis B Outlierless\": 68.0}, {\"Year\": \"2011\", \"Percentage Expenditure\": \"123.753335\", \"HIV/AIDS\": 8.5, \"Hepatitis B\": 76.0, \"Percentage Expenditure Outlierless\": null, \"Hepatitis B Outlierless\": 76.0}, {\"Year\": \"2010\", \"Percentage Expenditure\": \"1038.885632\", \"HIV/AIDS\": 11.0, \"Hepatitis B\": 71.0, \"Percentage Expenditure Outlierless\": \"1038.885632\", \"Hepatitis B Outlierless\": 71.0}, {\"Year\": \"2009\", \"Percentage Expenditure\": \"782.5987144\", \"HIV/AIDS\": 19.0, \"Hepatitis B\": 74.0, \"Percentage Expenditure Outlierless\": \"782.5987144\", \"Hepatitis B Outlierless\": 74.0}, {\"Year\": \"2008\", \"Percentage Expenditure\": \"780.0336423\", \"HIV/AIDS\": 23.5, \"Hepatitis B\": 76.0, \"Percentage Expenditure Outlierless\": \"780.0336423\", \"Hepatitis B Outlierless\": 76.0}, {\"Year\": \"2007\", \"Percentage Expenditure\": \"805.490079\", \"HIV/AIDS\": 26.4, \"Hepatitis B\": 83.0, \"Percentage Expenditure Outlierless\": \"805.490079\", \"Hepatitis B Outlierless\": 83.0}, {\"Year\": \"2006\", \"Percentage Expenditure\": \"732.1255305\", \"HIV/AIDS\": 28.1, \"Hepatitis B\": 83.0, \"Percentage Expenditure Outlierless\": \"732.1255305\", \"Hepatitis B Outlierless\": 83.0}, {\"Year\": \"2005\", \"Percentage Expenditure\": \"709.3170967\", \"HIV/AIDS\": 29.5, \"Hepatitis B\": 79.0, \"Percentage Expenditure Outlierless\": \"709.3170967\", \"Hepatitis B Outlierless\": 79.0}, {\"Year\": \"2004\", \"Percentage Expenditure\": \"622.043809\", \"HIV/AIDS\": 29.7, \"Hepatitis B\": 76.0, \"Percentage Expenditure Outlierless\": \"622.043809\", \"Hepatitis B Outlierless\": 76.0}, {\"Year\": \"2003\", \"Percentage Expenditure\": \"519.1563781\", \"HIV/AIDS\": 28.9, \"Hepatitis B\": 71.0, \"Percentage Expenditure Outlierless\": \"519.1563781\", \"Hepatitis B Outlierless\": 71.0}, {\"Year\": \"2002\", \"Percentage Expenditure\": \"346.5316007\", \"HIV/AIDS\": 26.6, \"Hepatitis B\": 72.0, \"Percentage Expenditure Outlierless\": \"346.5316007\", \"Hepatitis B Outlierless\": 72.0}, {\"Year\": \"2001\", \"Percentage Expenditure\": \"365.2585722\", \"HIV/AIDS\": 24.0, \"Hepatitis B\": 72.0, \"Percentage Expenditure Outlierless\": \"365.2585722\", \"Hepatitis B Outlierless\": 72.0}, {\"Year\": \"2000\", \"Percentage Expenditure\": \"45.96380839\", \"HIV/AIDS\": 21.3, \"Hepatitis B\": 73.0, \"Percentage Expenditure Outlierless\": \"45.96380839\", \"Hepatitis B Outlierless\": 73.0}]}}, {\"mode\": \"vega-lite\"});\n</script>",
                  "text/plain": "alt.LayerChart(...)"
                },
                "metadata": {}
              }
            ]
          }
        },
        "14b237961b00418984d2b576caffa855": {
          "model_module": "@jupyter-widgets/output",
          "model_name": "OutputModel",
          "model_module_version": "1.0.0",
          "state": {
            "_dom_classes": [],
            "_model_module": "@jupyter-widgets/output",
            "_model_module_version": "1.0.0",
            "_model_name": "OutputModel",
            "_view_count": null,
            "_view_module": "@jupyter-widgets/output",
            "_view_module_version": "1.0.0",
            "_view_name": "OutputView",
            "layout": "IPY_MODEL_f9b4e8fe019c49bbb5972cb433bf6786",
            "msg_id": "",
            "outputs": [
              {
                "output_type": "display_data",
                "data": {
                  "text/html": "\n<div id=\"altair-viz-1b5fbf79b3d64fb0b124e4f57b247674\"></div>\n<script type=\"text/javascript\">\n  var VEGA_DEBUG = (typeof VEGA_DEBUG == \"undefined\") ? {} : VEGA_DEBUG;\n  (function(spec, embedOpt){\n    let outputDiv = document.currentScript.previousElementSibling;\n    if (outputDiv.id !== \"altair-viz-1b5fbf79b3d64fb0b124e4f57b247674\") {\n      outputDiv = document.getElementById(\"altair-viz-1b5fbf79b3d64fb0b124e4f57b247674\");\n    }\n    const paths = {\n      \"vega\": \"https://cdn.jsdelivr.net/npm//vega@5?noext\",\n      \"vega-lib\": \"https://cdn.jsdelivr.net/npm//vega-lib?noext\",\n      \"vega-lite\": \"https://cdn.jsdelivr.net/npm//vega-lite@4.17.0?noext\",\n      \"vega-embed\": \"https://cdn.jsdelivr.net/npm//vega-embed@6?noext\",\n    };\n\n    function maybeLoadScript(lib, version) {\n      var key = `${lib.replace(\"-\", \"\")}_version`;\n      return (VEGA_DEBUG[key] == version) ?\n        Promise.resolve(paths[lib]) :\n        new Promise(function(resolve, reject) {\n          var s = document.createElement('script');\n          document.getElementsByTagName(\"head\")[0].appendChild(s);\n          s.async = true;\n          s.onload = () => {\n            VEGA_DEBUG[key] = version;\n            return resolve(paths[lib]);\n          };\n          s.onerror = () => reject(`Error loading script: ${paths[lib]}`);\n          s.src = paths[lib];\n        });\n    }\n\n    function showError(err) {\n      outputDiv.innerHTML = `<div class=\"error\" style=\"color:red;\">${err}</div>`;\n      throw err;\n    }\n\n    function displayChart(vegaEmbed) {\n      vegaEmbed(outputDiv, spec, embedOpt)\n        .catch(err => showError(`Javascript Error: ${err.message}<br>This usually means there's a typo in your chart specification. See the javascript console for the full traceback.`));\n    }\n\n    if(typeof define === \"function\" && define.amd) {\n      requirejs.config({paths});\n      require([\"vega-embed\"], displayChart, err => showError(`Error loading script: ${err.message}`));\n    } else {\n      maybeLoadScript(\"vega\", \"5\")\n        .then(() => maybeLoadScript(\"vega-lite\", \"4.17.0\"))\n        .then(() => maybeLoadScript(\"vega-embed\", \"6\"))\n        .catch(showError)\n        .then(() => displayChart(vegaEmbed));\n    }\n  })({\"config\": {\"view\": {\"continuousWidth\": 400, \"continuousHeight\": 300}}, \"layer\": [{\"mark\": {\"type\": \"circle\", \"opacity\": 0.5}, \"encoding\": {\"x\": {\"field\": \"Percentage Expenditure Outlierless\", \"scale\": {\"zero\": false}, \"type\": \"quantitative\"}, \"y\": {\"field\": \"HIV/AIDS\", \"type\": \"quantitative\"}}}, {\"mark\": \"line\", \"encoding\": {\"x\": {\"field\": \"Percentage Expenditure Outlierless\", \"scale\": {\"zero\": false}, \"type\": \"quantitative\"}, \"y\": {\"field\": \"HIV/AIDS\", \"type\": \"quantitative\"}}, \"transform\": [{\"loess\": \"HIV/AIDS\", \"on\": \"Percentage Expenditure Outlierless\"}]}], \"data\": {\"name\": \"data-8c0851ab282bf2a49090d65e8b821a49\"}, \"$schema\": \"https://vega.github.io/schema/vega-lite/v4.17.0.json\", \"datasets\": {\"data-8c0851ab282bf2a49090d65e8b821a49\": [{\"Year\": \"2015\", \"Percentage Expenditure\": \"0.0\", \"HIV/AIDS\": 3.6, \"Hepatitis B\": 75.0, \"Percentage Expenditure Outlierless\": \"nan\", \"Hepatitis B Outlierless\": 75.0}, {\"Year\": \"2014\", \"Percentage Expenditure\": \"922.0507313\", \"HIV/AIDS\": 3.7, \"Hepatitis B\": 8.0, \"Percentage Expenditure Outlierless\": \"922.0507313\", \"Hepatitis B Outlierless\": null}, {\"Year\": \"2013\", \"Percentage Expenditure\": \"978.5905287\", \"HIV/AIDS\": 4.5, \"Hepatitis B\": 7.0, \"Percentage Expenditure Outlierless\": \"978.5905287\", \"Hepatitis B Outlierless\": null}, {\"Year\": \"2012\", \"Percentage Expenditure\": \"1089.954838\", \"HIV/AIDS\": 7.6, \"Hepatitis B\": 68.0, \"Percentage Expenditure Outlierless\": \"1089.954838\", \"Hepatitis B Outlierless\": 68.0}, {\"Year\": \"2011\", \"Percentage Expenditure\": \"123.753335\", \"HIV/AIDS\": 8.5, \"Hepatitis B\": 76.0, \"Percentage Expenditure Outlierless\": \"nan\", \"Hepatitis B Outlierless\": 76.0}, {\"Year\": \"2010\", \"Percentage Expenditure\": \"1038.885632\", \"HIV/AIDS\": 11.0, \"Hepatitis B\": 71.0, \"Percentage Expenditure Outlierless\": \"1038.885632\", \"Hepatitis B Outlierless\": 71.0}, {\"Year\": \"2009\", \"Percentage Expenditure\": \"782.5987144\", \"HIV/AIDS\": 19.0, \"Hepatitis B\": 74.0, \"Percentage Expenditure Outlierless\": \"782.5987144\", \"Hepatitis B Outlierless\": 74.0}, {\"Year\": \"2008\", \"Percentage Expenditure\": \"780.0336423\", \"HIV/AIDS\": 23.5, \"Hepatitis B\": 76.0, \"Percentage Expenditure Outlierless\": \"780.0336423\", \"Hepatitis B Outlierless\": 76.0}, {\"Year\": \"2007\", \"Percentage Expenditure\": \"805.490079\", \"HIV/AIDS\": 26.4, \"Hepatitis B\": 83.0, \"Percentage Expenditure Outlierless\": \"805.490079\", \"Hepatitis B Outlierless\": 83.0}, {\"Year\": \"2006\", \"Percentage Expenditure\": \"732.1255305\", \"HIV/AIDS\": 28.1, \"Hepatitis B\": 83.0, \"Percentage Expenditure Outlierless\": \"732.1255305\", \"Hepatitis B Outlierless\": 83.0}, {\"Year\": \"2005\", \"Percentage Expenditure\": \"709.3170967\", \"HIV/AIDS\": 29.5, \"Hepatitis B\": 79.0, \"Percentage Expenditure Outlierless\": \"709.3170967\", \"Hepatitis B Outlierless\": 79.0}, {\"Year\": \"2004\", \"Percentage Expenditure\": \"622.043809\", \"HIV/AIDS\": 29.7, \"Hepatitis B\": 76.0, \"Percentage Expenditure Outlierless\": \"622.043809\", \"Hepatitis B Outlierless\": 76.0}, {\"Year\": \"2003\", \"Percentage Expenditure\": \"519.1563781\", \"HIV/AIDS\": 28.9, \"Hepatitis B\": 71.0, \"Percentage Expenditure Outlierless\": \"519.1563781\", \"Hepatitis B Outlierless\": 71.0}, {\"Year\": \"2002\", \"Percentage Expenditure\": \"346.5316007\", \"HIV/AIDS\": 26.6, \"Hepatitis B\": 72.0, \"Percentage Expenditure Outlierless\": \"346.5316007\", \"Hepatitis B Outlierless\": 72.0}, {\"Year\": \"2001\", \"Percentage Expenditure\": \"365.2585722\", \"HIV/AIDS\": 24.0, \"Hepatitis B\": 72.0, \"Percentage Expenditure Outlierless\": \"365.2585722\", \"Hepatitis B Outlierless\": 72.0}, {\"Year\": \"2000\", \"Percentage Expenditure\": \"45.96380839\", \"HIV/AIDS\": 21.3, \"Hepatitis B\": 73.0, \"Percentage Expenditure Outlierless\": \"45.96380839\", \"Hepatitis B Outlierless\": 73.0}]}}, {\"mode\": \"vega-lite\"});\n</script>",
                  "text/plain": "alt.LayerChart(...)"
                },
                "metadata": {}
              }
            ]
          }
        },
        "26a074c2caf44e4f9409dd6ef656c1db": {
          "model_module": "@jupyter-widgets/output",
          "model_name": "OutputModel",
          "model_module_version": "1.0.0",
          "state": {
            "_dom_classes": [],
            "_model_module": "@jupyter-widgets/output",
            "_model_module_version": "1.0.0",
            "_model_name": "OutputModel",
            "_view_count": null,
            "_view_module": "@jupyter-widgets/output",
            "_view_module_version": "1.0.0",
            "_view_name": "OutputView",
            "layout": "IPY_MODEL_ab105b5f951d47698d1e94d38c235cf2",
            "msg_id": "",
            "outputs": [
              {
                "output_type": "display_data",
                "data": {
                  "text/html": "\n<div id=\"altair-viz-b8d6ebdd8ba242d29f62df17864619da\"></div>\n<script type=\"text/javascript\">\n  var VEGA_DEBUG = (typeof VEGA_DEBUG == \"undefined\") ? {} : VEGA_DEBUG;\n  (function(spec, embedOpt){\n    let outputDiv = document.currentScript.previousElementSibling;\n    if (outputDiv.id !== \"altair-viz-b8d6ebdd8ba242d29f62df17864619da\") {\n      outputDiv = document.getElementById(\"altair-viz-b8d6ebdd8ba242d29f62df17864619da\");\n    }\n    const paths = {\n      \"vega\": \"https://cdn.jsdelivr.net/npm//vega@5?noext\",\n      \"vega-lib\": \"https://cdn.jsdelivr.net/npm//vega-lib?noext\",\n      \"vega-lite\": \"https://cdn.jsdelivr.net/npm//vega-lite@4.17.0?noext\",\n      \"vega-embed\": \"https://cdn.jsdelivr.net/npm//vega-embed@6?noext\",\n    };\n\n    function maybeLoadScript(lib, version) {\n      var key = `${lib.replace(\"-\", \"\")}_version`;\n      return (VEGA_DEBUG[key] == version) ?\n        Promise.resolve(paths[lib]) :\n        new Promise(function(resolve, reject) {\n          var s = document.createElement('script');\n          document.getElementsByTagName(\"head\")[0].appendChild(s);\n          s.async = true;\n          s.onload = () => {\n            VEGA_DEBUG[key] = version;\n            return resolve(paths[lib]);\n          };\n          s.onerror = () => reject(`Error loading script: ${paths[lib]}`);\n          s.src = paths[lib];\n        });\n    }\n\n    function showError(err) {\n      outputDiv.innerHTML = `<div class=\"error\" style=\"color:red;\">${err}</div>`;\n      throw err;\n    }\n\n    function displayChart(vegaEmbed) {\n      vegaEmbed(outputDiv, spec, embedOpt)\n        .catch(err => showError(`Javascript Error: ${err.message}<br>This usually means there's a typo in your chart specification. See the javascript console for the full traceback.`));\n    }\n\n    if(typeof define === \"function\" && define.amd) {\n      requirejs.config({paths});\n      require([\"vega-embed\"], displayChart, err => showError(`Error loading script: ${err.message}`));\n    } else {\n      maybeLoadScript(\"vega\", \"5\")\n        .then(() => maybeLoadScript(\"vega-lite\", \"4.17.0\"))\n        .then(() => maybeLoadScript(\"vega-embed\", \"6\"))\n        .catch(showError)\n        .then(() => displayChart(vegaEmbed));\n    }\n  })({\"config\": {\"view\": {\"continuousWidth\": 400, \"continuousHeight\": 300}}, \"layer\": [{\"mark\": {\"type\": \"circle\", \"opacity\": 0.5}, \"encoding\": {\"x\": {\"field\": \"Percentage Expenditure Outlierless\", \"scale\": {\"zero\": false}, \"type\": \"quantitative\"}, \"y\": {\"field\": \"Hepatitis B Outlierless\", \"type\": \"quantitative\"}}}, {\"mark\": \"line\", \"encoding\": {\"x\": {\"field\": \"Percentage Expenditure Outlierless\", \"scale\": {\"zero\": false}, \"type\": \"quantitative\"}, \"y\": {\"field\": \"Hepatitis B Outlierless\", \"type\": \"quantitative\"}}, \"transform\": [{\"loess\": \"Hepatitis B Outlierless\", \"on\": \"Percentage Expenditure Outlierless\"}]}], \"data\": {\"name\": \"data-8c0851ab282bf2a49090d65e8b821a49\"}, \"$schema\": \"https://vega.github.io/schema/vega-lite/v4.17.0.json\", \"datasets\": {\"data-8c0851ab282bf2a49090d65e8b821a49\": [{\"Year\": \"2015\", \"Percentage Expenditure\": \"0.0\", \"HIV/AIDS\": 3.6, \"Hepatitis B\": 75.0, \"Percentage Expenditure Outlierless\": \"nan\", \"Hepatitis B Outlierless\": 75.0}, {\"Year\": \"2014\", \"Percentage Expenditure\": \"922.0507313\", \"HIV/AIDS\": 3.7, \"Hepatitis B\": 8.0, \"Percentage Expenditure Outlierless\": \"922.0507313\", \"Hepatitis B Outlierless\": null}, {\"Year\": \"2013\", \"Percentage Expenditure\": \"978.5905287\", \"HIV/AIDS\": 4.5, \"Hepatitis B\": 7.0, \"Percentage Expenditure Outlierless\": \"978.5905287\", \"Hepatitis B Outlierless\": null}, {\"Year\": \"2012\", \"Percentage Expenditure\": \"1089.954838\", \"HIV/AIDS\": 7.6, \"Hepatitis B\": 68.0, \"Percentage Expenditure Outlierless\": \"1089.954838\", \"Hepatitis B Outlierless\": 68.0}, {\"Year\": \"2011\", \"Percentage Expenditure\": \"123.753335\", \"HIV/AIDS\": 8.5, \"Hepatitis B\": 76.0, \"Percentage Expenditure Outlierless\": \"nan\", \"Hepatitis B Outlierless\": 76.0}, {\"Year\": \"2010\", \"Percentage Expenditure\": \"1038.885632\", \"HIV/AIDS\": 11.0, \"Hepatitis B\": 71.0, \"Percentage Expenditure Outlierless\": \"1038.885632\", \"Hepatitis B Outlierless\": 71.0}, {\"Year\": \"2009\", \"Percentage Expenditure\": \"782.5987144\", \"HIV/AIDS\": 19.0, \"Hepatitis B\": 74.0, \"Percentage Expenditure Outlierless\": \"782.5987144\", \"Hepatitis B Outlierless\": 74.0}, {\"Year\": \"2008\", \"Percentage Expenditure\": \"780.0336423\", \"HIV/AIDS\": 23.5, \"Hepatitis B\": 76.0, \"Percentage Expenditure Outlierless\": \"780.0336423\", \"Hepatitis B Outlierless\": 76.0}, {\"Year\": \"2007\", \"Percentage Expenditure\": \"805.490079\", \"HIV/AIDS\": 26.4, \"Hepatitis B\": 83.0, \"Percentage Expenditure Outlierless\": \"805.490079\", \"Hepatitis B Outlierless\": 83.0}, {\"Year\": \"2006\", \"Percentage Expenditure\": \"732.1255305\", \"HIV/AIDS\": 28.1, \"Hepatitis B\": 83.0, \"Percentage Expenditure Outlierless\": \"732.1255305\", \"Hepatitis B Outlierless\": 83.0}, {\"Year\": \"2005\", \"Percentage Expenditure\": \"709.3170967\", \"HIV/AIDS\": 29.5, \"Hepatitis B\": 79.0, \"Percentage Expenditure Outlierless\": \"709.3170967\", \"Hepatitis B Outlierless\": 79.0}, {\"Year\": \"2004\", \"Percentage Expenditure\": \"622.043809\", \"HIV/AIDS\": 29.7, \"Hepatitis B\": 76.0, \"Percentage Expenditure Outlierless\": \"622.043809\", \"Hepatitis B Outlierless\": 76.0}, {\"Year\": \"2003\", \"Percentage Expenditure\": \"519.1563781\", \"HIV/AIDS\": 28.9, \"Hepatitis B\": 71.0, \"Percentage Expenditure Outlierless\": \"519.1563781\", \"Hepatitis B Outlierless\": 71.0}, {\"Year\": \"2002\", \"Percentage Expenditure\": \"346.5316007\", \"HIV/AIDS\": 26.6, \"Hepatitis B\": 72.0, \"Percentage Expenditure Outlierless\": \"346.5316007\", \"Hepatitis B Outlierless\": 72.0}, {\"Year\": \"2001\", \"Percentage Expenditure\": \"365.2585722\", \"HIV/AIDS\": 24.0, \"Hepatitis B\": 72.0, \"Percentage Expenditure Outlierless\": \"365.2585722\", \"Hepatitis B Outlierless\": 72.0}, {\"Year\": \"2000\", \"Percentage Expenditure\": \"45.96380839\", \"HIV/AIDS\": 21.3, \"Hepatitis B\": 73.0, \"Percentage Expenditure Outlierless\": \"45.96380839\", \"Hepatitis B Outlierless\": 73.0}]}}, {\"mode\": \"vega-lite\"});\n</script>",
                  "text/plain": "alt.LayerChart(...)"
                },
                "metadata": {}
              }
            ]
          }
        },
        "2d3238da53d949b1abb3fed4add74d81": {
          "model_module": "@jupyter-widgets/base",
          "model_name": "LayoutModel",
          "model_module_version": "1.2.0",
          "state": {
            "_model_module": "@jupyter-widgets/base",
            "_model_module_version": "1.2.0",
            "_model_name": "LayoutModel",
            "_view_count": null,
            "_view_module": "@jupyter-widgets/base",
            "_view_module_version": "1.2.0",
            "_view_name": "LayoutView",
            "align_content": null,
            "align_items": null,
            "align_self": null,
            "border": null,
            "bottom": null,
            "display": null,
            "flex": null,
            "flex_flow": null,
            "grid_area": null,
            "grid_auto_columns": null,
            "grid_auto_flow": null,
            "grid_auto_rows": null,
            "grid_column": null,
            "grid_gap": null,
            "grid_row": null,
            "grid_template_areas": null,
            "grid_template_columns": null,
            "grid_template_rows": null,
            "height": null,
            "justify_content": null,
            "justify_items": null,
            "left": null,
            "margin": null,
            "max_height": null,
            "max_width": null,
            "min_height": null,
            "min_width": null,
            "object_fit": null,
            "object_position": null,
            "order": null,
            "overflow": null,
            "overflow_x": null,
            "overflow_y": null,
            "padding": null,
            "right": null,
            "top": null,
            "visibility": null,
            "width": null
          }
        },
        "b5ef40f9d516470d80f59af9221e51db": {
          "model_module": "@jupyter-widgets/base",
          "model_name": "LayoutModel",
          "model_module_version": "1.2.0",
          "state": {
            "_model_module": "@jupyter-widgets/base",
            "_model_module_version": "1.2.0",
            "_model_name": "LayoutModel",
            "_view_count": null,
            "_view_module": "@jupyter-widgets/base",
            "_view_module_version": "1.2.0",
            "_view_name": "LayoutView",
            "align_content": null,
            "align_items": null,
            "align_self": null,
            "border": null,
            "bottom": null,
            "display": null,
            "flex": null,
            "flex_flow": null,
            "grid_area": null,
            "grid_auto_columns": null,
            "grid_auto_flow": null,
            "grid_auto_rows": null,
            "grid_column": null,
            "grid_gap": null,
            "grid_row": null,
            "grid_template_areas": null,
            "grid_template_columns": null,
            "grid_template_rows": null,
            "height": null,
            "justify_content": null,
            "justify_items": null,
            "left": null,
            "margin": null,
            "max_height": null,
            "max_width": null,
            "min_height": null,
            "min_width": null,
            "object_fit": null,
            "object_position": null,
            "order": null,
            "overflow": null,
            "overflow_x": null,
            "overflow_y": null,
            "padding": null,
            "right": null,
            "top": null,
            "visibility": null,
            "width": null
          }
        },
        "f9b4e8fe019c49bbb5972cb433bf6786": {
          "model_module": "@jupyter-widgets/base",
          "model_name": "LayoutModel",
          "model_module_version": "1.2.0",
          "state": {
            "_model_module": "@jupyter-widgets/base",
            "_model_module_version": "1.2.0",
            "_model_name": "LayoutModel",
            "_view_count": null,
            "_view_module": "@jupyter-widgets/base",
            "_view_module_version": "1.2.0",
            "_view_name": "LayoutView",
            "align_content": null,
            "align_items": null,
            "align_self": null,
            "border": null,
            "bottom": null,
            "display": null,
            "flex": null,
            "flex_flow": null,
            "grid_area": null,
            "grid_auto_columns": null,
            "grid_auto_flow": null,
            "grid_auto_rows": null,
            "grid_column": null,
            "grid_gap": null,
            "grid_row": null,
            "grid_template_areas": null,
            "grid_template_columns": null,
            "grid_template_rows": null,
            "height": null,
            "justify_content": null,
            "justify_items": null,
            "left": null,
            "margin": null,
            "max_height": null,
            "max_width": null,
            "min_height": null,
            "min_width": null,
            "object_fit": null,
            "object_position": null,
            "order": null,
            "overflow": null,
            "overflow_x": null,
            "overflow_y": null,
            "padding": null,
            "right": null,
            "top": null,
            "visibility": null,
            "width": null
          }
        },
        "ab105b5f951d47698d1e94d38c235cf2": {
          "model_module": "@jupyter-widgets/base",
          "model_name": "LayoutModel",
          "model_module_version": "1.2.0",
          "state": {
            "_model_module": "@jupyter-widgets/base",
            "_model_module_version": "1.2.0",
            "_model_name": "LayoutModel",
            "_view_count": null,
            "_view_module": "@jupyter-widgets/base",
            "_view_module_version": "1.2.0",
            "_view_name": "LayoutView",
            "align_content": null,
            "align_items": null,
            "align_self": null,
            "border": null,
            "bottom": null,
            "display": null,
            "flex": null,
            "flex_flow": null,
            "grid_area": null,
            "grid_auto_columns": null,
            "grid_auto_flow": null,
            "grid_auto_rows": null,
            "grid_column": null,
            "grid_gap": null,
            "grid_row": null,
            "grid_template_areas": null,
            "grid_template_columns": null,
            "grid_template_rows": null,
            "height": null,
            "justify_content": null,
            "justify_items": null,
            "left": null,
            "margin": null,
            "max_height": null,
            "max_width": null,
            "min_height": null,
            "min_width": null,
            "object_fit": null,
            "object_position": null,
            "order": null,
            "overflow": null,
            "overflow_x": null,
            "overflow_y": null,
            "padding": null,
            "right": null,
            "top": null,
            "visibility": null,
            "width": null
          }
        },
        "ab34eeb6f3e74f0085522349ca8ad006": {
          "model_module": "@jupyter-widgets/controls",
          "model_name": "GridBoxModel",
          "model_module_version": "1.5.0",
          "state": {
            "_dom_classes": [],
            "_model_module": "@jupyter-widgets/controls",
            "_model_module_version": "1.5.0",
            "_model_name": "GridBoxModel",
            "_view_count": null,
            "_view_module": "@jupyter-widgets/controls",
            "_view_module_version": "1.5.0",
            "_view_name": "GridBoxView",
            "box_style": "",
            "children": [
              "IPY_MODEL_35981289a04d454398c3804630f8234f",
              "IPY_MODEL_e7125ed0c43b43378282dd84d6c5039d"
            ],
            "layout": "IPY_MODEL_107b1283fd69460c890b0c376e4d8510"
          }
        },
        "35981289a04d454398c3804630f8234f": {
          "model_module": "@jupyter-widgets/output",
          "model_name": "OutputModel",
          "model_module_version": "1.0.0",
          "state": {
            "_dom_classes": [],
            "_model_module": "@jupyter-widgets/output",
            "_model_module_version": "1.0.0",
            "_model_name": "OutputModel",
            "_view_count": null,
            "_view_module": "@jupyter-widgets/output",
            "_view_module_version": "1.0.0",
            "_view_name": "OutputView",
            "layout": "IPY_MODEL_a3788d470f8b4e99842bd5892ade0f46",
            "msg_id": "",
            "outputs": [
              {
                "output_type": "display_data",
                "data": {
                  "text/plain": "        HIV/AIDS  Hepatitis B  Percentage Expenditure Outlierless  \\\ncount  16.000000    16.000000                           14.000000   \nmean   18.493750    66.500000                          695.571497   \nstd    10.166053    23.392306                          293.855603   \nmin     3.600000     7.000000                           45.963808   \n25%     8.275000    71.000000                          544.878236   \n50%    22.400000    73.500000                          756.079586   \n75%    26.975000    76.000000                          892.910568   \nmax    29.700000    83.000000                         1089.954838   \n\n       Hepatitis B Outlierless  \ncount                14.000000  \nmean                 74.928571  \nstd                   4.393427  \nmin                  68.000000  \n25%                  72.000000  \n50%                  74.500000  \n75%                  76.000000  \nmax                  83.000000  ",
                  "text/html": "\n  <div id=\"df-d49f5c49-0dbd-4aa5-b66d-8974a9c54076\" class=\"colab-df-container\">\n    <div>\n<style scoped>\n    .dataframe tbody tr th:only-of-type {\n        vertical-align: middle;\n    }\n\n    .dataframe tbody tr th {\n        vertical-align: top;\n    }\n\n    .dataframe thead th {\n        text-align: right;\n    }\n</style>\n<table border=\"1\" class=\"dataframe\">\n  <thead>\n    <tr style=\"text-align: right;\">\n      <th></th>\n      <th>HIV/AIDS</th>\n      <th>Hepatitis B</th>\n      <th>Percentage Expenditure Outlierless</th>\n      <th>Hepatitis B Outlierless</th>\n    </tr>\n  </thead>\n  <tbody>\n    <tr>\n      <th>count</th>\n      <td>16.000000</td>\n      <td>16.000000</td>\n      <td>14.000000</td>\n      <td>14.000000</td>\n    </tr>\n    <tr>\n      <th>mean</th>\n      <td>18.493750</td>\n      <td>66.500000</td>\n      <td>695.571497</td>\n      <td>74.928571</td>\n    </tr>\n    <tr>\n      <th>std</th>\n      <td>10.166053</td>\n      <td>23.392306</td>\n      <td>293.855603</td>\n      <td>4.393427</td>\n    </tr>\n    <tr>\n      <th>min</th>\n      <td>3.600000</td>\n      <td>7.000000</td>\n      <td>45.963808</td>\n      <td>68.000000</td>\n    </tr>\n    <tr>\n      <th>25%</th>\n      <td>8.275000</td>\n      <td>71.000000</td>\n      <td>544.878236</td>\n      <td>72.000000</td>\n    </tr>\n    <tr>\n      <th>50%</th>\n      <td>22.400000</td>\n      <td>73.500000</td>\n      <td>756.079586</td>\n      <td>74.500000</td>\n    </tr>\n    <tr>\n      <th>75%</th>\n      <td>26.975000</td>\n      <td>76.000000</td>\n      <td>892.910568</td>\n      <td>76.000000</td>\n    </tr>\n    <tr>\n      <th>max</th>\n      <td>29.700000</td>\n      <td>83.000000</td>\n      <td>1089.954838</td>\n      <td>83.000000</td>\n    </tr>\n  </tbody>\n</table>\n</div>\n    <div class=\"colab-df-buttons\">\n\n  <div class=\"colab-df-container\">\n    <button class=\"colab-df-convert\" onclick=\"convertToInteractive('df-d49f5c49-0dbd-4aa5-b66d-8974a9c54076')\"\n            title=\"Convert this dataframe to an interactive table.\"\n            style=\"display:none;\">\n\n  <svg xmlns=\"http://www.w3.org/2000/svg\" height=\"24px\" viewBox=\"0 -960 960 960\">\n    <path d=\"M120-120v-720h720v720H120Zm60-500h600v-160H180v160Zm220 220h160v-160H400v160Zm0 220h160v-160H400v160ZM180-400h160v-160H180v160Zm440 0h160v-160H620v160ZM180-180h160v-160H180v160Zm440 0h160v-160H620v160Z\"/>\n  </svg>\n    </button>\n\n  <style>\n    .colab-df-container {\n      display:flex;\n      gap: 12px;\n    }\n\n    .colab-df-convert {\n      background-color: #E8F0FE;\n      border: none;\n      border-radius: 50%;\n      cursor: pointer;\n      display: none;\n      fill: #1967D2;\n      height: 32px;\n      padding: 0 0 0 0;\n      width: 32px;\n    }\n\n    .colab-df-convert:hover {\n      background-color: #E2EBFA;\n      box-shadow: 0px 1px 2px rgba(60, 64, 67, 0.3), 0px 1px 3px 1px rgba(60, 64, 67, 0.15);\n      fill: #174EA6;\n    }\n\n    .colab-df-buttons div {\n      margin-bottom: 4px;\n    }\n\n    [theme=dark] .colab-df-convert {\n      background-color: #3B4455;\n      fill: #D2E3FC;\n    }\n\n    [theme=dark] .colab-df-convert:hover {\n      background-color: #434B5C;\n      box-shadow: 0px 1px 3px 1px rgba(0, 0, 0, 0.15);\n      filter: drop-shadow(0px 1px 2px rgba(0, 0, 0, 0.3));\n      fill: #FFFFFF;\n    }\n  </style>\n\n    <script>\n      const buttonEl =\n        document.querySelector('#df-d49f5c49-0dbd-4aa5-b66d-8974a9c54076 button.colab-df-convert');\n      buttonEl.style.display =\n        google.colab.kernel.accessAllowed ? 'block' : 'none';\n\n      async function convertToInteractive(key) {\n        const element = document.querySelector('#df-d49f5c49-0dbd-4aa5-b66d-8974a9c54076');\n        const dataTable =\n          await google.colab.kernel.invokeFunction('convertToInteractive',\n                                                    [key], {});\n        if (!dataTable) return;\n\n        const docLinkHtml = 'Like what you see? Visit the ' +\n          '<a target=\"_blank\" href=https://colab.research.google.com/notebooks/data_table.ipynb>data table notebook</a>'\n          + ' to learn more about interactive tables.';\n        element.innerHTML = '';\n        dataTable['output_type'] = 'display_data';\n        await google.colab.output.renderOutput(dataTable, element);\n        const docLink = document.createElement('div');\n        docLink.innerHTML = docLinkHtml;\n        element.appendChild(docLink);\n      }\n    </script>\n  </div>\n\n\n<div id=\"df-95a69f81-32b7-46e6-8114-27ba95f6591f\">\n  <button class=\"colab-df-quickchart\" onclick=\"quickchart('df-95a69f81-32b7-46e6-8114-27ba95f6591f')\"\n            title=\"Suggest charts\"\n            style=\"display:none;\">\n\n<svg xmlns=\"http://www.w3.org/2000/svg\" height=\"24px\"viewBox=\"0 0 24 24\"\n     width=\"24px\">\n    <g>\n        <path d=\"M19 3H5c-1.1 0-2 .9-2 2v14c0 1.1.9 2 2 2h14c1.1 0 2-.9 2-2V5c0-1.1-.9-2-2-2zM9 17H7v-7h2v7zm4 0h-2V7h2v10zm4 0h-2v-4h2v4z\"/>\n    </g>\n</svg>\n  </button>\n\n<style>\n  .colab-df-quickchart {\n      --bg-color: #E8F0FE;\n      --fill-color: #1967D2;\n      --hover-bg-color: #E2EBFA;\n      --hover-fill-color: #174EA6;\n      --disabled-fill-color: #AAA;\n      --disabled-bg-color: #DDD;\n  }\n\n  [theme=dark] .colab-df-quickchart {\n      --bg-color: #3B4455;\n      --fill-color: #D2E3FC;\n      --hover-bg-color: #434B5C;\n      --hover-fill-color: #FFFFFF;\n      --disabled-bg-color: #3B4455;\n      --disabled-fill-color: #666;\n  }\n\n  .colab-df-quickchart {\n    background-color: var(--bg-color);\n    border: none;\n    border-radius: 50%;\n    cursor: pointer;\n    display: none;\n    fill: var(--fill-color);\n    height: 32px;\n    padding: 0;\n    width: 32px;\n  }\n\n  .colab-df-quickchart:hover {\n    background-color: var(--hover-bg-color);\n    box-shadow: 0 1px 2px rgba(60, 64, 67, 0.3), 0 1px 3px 1px rgba(60, 64, 67, 0.15);\n    fill: var(--button-hover-fill-color);\n  }\n\n  .colab-df-quickchart-complete:disabled,\n  .colab-df-quickchart-complete:disabled:hover {\n    background-color: var(--disabled-bg-color);\n    fill: var(--disabled-fill-color);\n    box-shadow: none;\n  }\n\n  .colab-df-spinner {\n    border: 2px solid var(--fill-color);\n    border-color: transparent;\n    border-bottom-color: var(--fill-color);\n    animation:\n      spin 1s steps(1) infinite;\n  }\n\n  @keyframes spin {\n    0% {\n      border-color: transparent;\n      border-bottom-color: var(--fill-color);\n      border-left-color: var(--fill-color);\n    }\n    20% {\n      border-color: transparent;\n      border-left-color: var(--fill-color);\n      border-top-color: var(--fill-color);\n    }\n    30% {\n      border-color: transparent;\n      border-left-color: var(--fill-color);\n      border-top-color: var(--fill-color);\n      border-right-color: var(--fill-color);\n    }\n    40% {\n      border-color: transparent;\n      border-right-color: var(--fill-color);\n      border-top-color: var(--fill-color);\n    }\n    60% {\n      border-color: transparent;\n      border-right-color: var(--fill-color);\n    }\n    80% {\n      border-color: transparent;\n      border-right-color: var(--fill-color);\n      border-bottom-color: var(--fill-color);\n    }\n    90% {\n      border-color: transparent;\n      border-bottom-color: var(--fill-color);\n    }\n  }\n</style>\n\n  <script>\n    async function quickchart(key) {\n      const quickchartButtonEl =\n        document.querySelector('#' + key + ' button');\n      quickchartButtonEl.disabled = true;  // To prevent multiple clicks.\n      quickchartButtonEl.classList.add('colab-df-spinner');\n      try {\n        const charts = await google.colab.kernel.invokeFunction(\n            'suggestCharts', [key], {});\n      } catch (error) {\n        console.error('Error during call to suggestCharts:', error);\n      }\n      quickchartButtonEl.classList.remove('colab-df-spinner');\n      quickchartButtonEl.classList.add('colab-df-quickchart-complete');\n    }\n    (() => {\n      let quickchartButtonEl =\n        document.querySelector('#df-95a69f81-32b7-46e6-8114-27ba95f6591f button');\n      quickchartButtonEl.style.display =\n        google.colab.kernel.accessAllowed ? 'block' : 'none';\n    })();\n  </script>\n</div>\n    </div>\n  </div>\n",
                  "application/vnd.google.colaboratory.intrinsic+json": {
                    "type": "dataframe",
                    "summary": "{\n  \"name\": \"AppLayout(header=table, footer=widgets\",\n  \"rows\": 8,\n  \"fields\": [\n    {\n      \"column\": \"HIV/AIDS\",\n      \"properties\": {\n        \"dtype\": \"number\",\n        \"std\": 9.223815020200218,\n        \"min\": 3.6,\n        \"max\": 29.7,\n        \"num_unique_values\": 8,\n        \"samples\": [\n          18.49375,\n          22.4,\n          16.0\n        ],\n        \"semantic_type\": \"\",\n        \"description\": \"\"\n      }\n    },\n    {\n      \"column\": \"Hepatitis B\",\n      \"properties\": {\n        \"dtype\": \"number\",\n        \"std\": 30.96052992692942,\n        \"min\": 7.0,\n        \"max\": 83.0,\n        \"num_unique_values\": 8,\n        \"samples\": [\n          66.5,\n          73.5,\n          16.0\n        ],\n        \"semantic_type\": \"\",\n        \"description\": \"\"\n      }\n    },\n    {\n      \"column\": \"Percentage Expenditure Outlierless\",\n      \"properties\": {\n        \"dtype\": \"number\",\n        \"std\": 392.6514020937183,\n        \"min\": 14.0,\n        \"max\": 1089.954838,\n        \"num_unique_values\": 8,\n        \"samples\": [\n          695.5714972349999,\n          756.0795863999999,\n          14.0\n        ],\n        \"semantic_type\": \"\",\n        \"description\": \"\"\n      }\n    },\n    {\n      \"column\": \"Hepatitis B Outlierless\",\n      \"properties\": {\n        \"dtype\": \"number\",\n        \"std\": 30.735033005389987,\n        \"min\": 4.393426658338319,\n        \"max\": 83.0,\n        \"num_unique_values\": 8,\n        \"samples\": [\n          74.92857142857143,\n          74.5,\n          14.0\n        ],\n        \"semantic_type\": \"\",\n        \"description\": \"\"\n      }\n    }\n  ]\n}"
                  }
                },
                "metadata": {}
              }
            ]
          }
        },
        "e7125ed0c43b43378282dd84d6c5039d": {
          "model_module": "@jupyter-widgets/controls",
          "model_name": "HBoxModel",
          "model_module_version": "1.5.0",
          "state": {
            "_dom_classes": [],
            "_model_module": "@jupyter-widgets/controls",
            "_model_module_version": "1.5.0",
            "_model_name": "HBoxModel",
            "_view_count": null,
            "_view_module": "@jupyter-widgets/controls",
            "_view_module_version": "1.5.0",
            "_view_name": "HBoxView",
            "box_style": "",
            "children": [
              "IPY_MODEL_9c07ec4ab2004eb691e3652ad9c0509b",
              "IPY_MODEL_a50fd18b81104dfc951764dc0d387017",
              "IPY_MODEL_7b15b740d8814e529450ead142ed5679",
              "IPY_MODEL_d625fde6a00f4bff88ecc6d446f1cbbd",
              "IPY_MODEL_67fe2608fe814b16a7fa4cdc1db33948"
            ],
            "layout": "IPY_MODEL_68f5dbe475af431c99177e09e3d56408"
          }
        },
        "107b1283fd69460c890b0c376e4d8510": {
          "model_module": "@jupyter-widgets/base",
          "model_name": "LayoutModel",
          "model_module_version": "1.2.0",
          "state": {
            "_model_module": "@jupyter-widgets/base",
            "_model_module_version": "1.2.0",
            "_model_name": "LayoutModel",
            "_view_count": null,
            "_view_module": "@jupyter-widgets/base",
            "_view_module_version": "1.2.0",
            "_view_name": "LayoutView",
            "align_content": null,
            "align_items": null,
            "align_self": null,
            "border": null,
            "bottom": null,
            "display": null,
            "flex": null,
            "flex_flow": null,
            "grid_area": null,
            "grid_auto_columns": null,
            "grid_auto_flow": null,
            "grid_auto_rows": null,
            "grid_column": null,
            "grid_gap": null,
            "grid_row": null,
            "grid_template_areas": "\"header\"\n\"footer\"",
            "grid_template_columns": "1fr",
            "grid_template_rows": "1fr 1fr",
            "height": null,
            "justify_content": null,
            "justify_items": null,
            "left": null,
            "margin": null,
            "max_height": null,
            "max_width": null,
            "min_height": null,
            "min_width": null,
            "object_fit": null,
            "object_position": null,
            "order": null,
            "overflow": null,
            "overflow_x": null,
            "overflow_y": null,
            "padding": null,
            "right": null,
            "top": null,
            "visibility": null,
            "width": null
          }
        },
        "9c07ec4ab2004eb691e3652ad9c0509b": {
          "model_module": "@jupyter-widgets/output",
          "model_name": "OutputModel",
          "model_module_version": "1.0.0",
          "state": {
            "_dom_classes": [],
            "_model_module": "@jupyter-widgets/output",
            "_model_module_version": "1.0.0",
            "_model_name": "OutputModel",
            "_view_count": null,
            "_view_module": "@jupyter-widgets/output",
            "_view_module_version": "1.0.0",
            "_view_name": "OutputView",
            "layout": "IPY_MODEL_6a2d4fafef14412d8ef20ad2b5b2cc25",
            "msg_id": "",
            "outputs": [
              {
                "output_type": "display_data",
                "data": {
                  "text/html": "\n<div id=\"altair-viz-33db454232bd40d6baa08ac8df790e27\"></div>\n<script type=\"text/javascript\">\n  var VEGA_DEBUG = (typeof VEGA_DEBUG == \"undefined\") ? {} : VEGA_DEBUG;\n  (function(spec, embedOpt){\n    let outputDiv = document.currentScript.previousElementSibling;\n    if (outputDiv.id !== \"altair-viz-33db454232bd40d6baa08ac8df790e27\") {\n      outputDiv = document.getElementById(\"altair-viz-33db454232bd40d6baa08ac8df790e27\");\n    }\n    const paths = {\n      \"vega\": \"https://cdn.jsdelivr.net/npm//vega@5?noext\",\n      \"vega-lib\": \"https://cdn.jsdelivr.net/npm//vega-lib?noext\",\n      \"vega-lite\": \"https://cdn.jsdelivr.net/npm//vega-lite@4.17.0?noext\",\n      \"vega-embed\": \"https://cdn.jsdelivr.net/npm//vega-embed@6?noext\",\n    };\n\n    function maybeLoadScript(lib, version) {\n      var key = `${lib.replace(\"-\", \"\")}_version`;\n      return (VEGA_DEBUG[key] == version) ?\n        Promise.resolve(paths[lib]) :\n        new Promise(function(resolve, reject) {\n          var s = document.createElement('script');\n          document.getElementsByTagName(\"head\")[0].appendChild(s);\n          s.async = true;\n          s.onload = () => {\n            VEGA_DEBUG[key] = version;\n            return resolve(paths[lib]);\n          };\n          s.onerror = () => reject(`Error loading script: ${paths[lib]}`);\n          s.src = paths[lib];\n        });\n    }\n\n    function showError(err) {\n      outputDiv.innerHTML = `<div class=\"error\" style=\"color:red;\">${err}</div>`;\n      throw err;\n    }\n\n    function displayChart(vegaEmbed) {\n      vegaEmbed(outputDiv, spec, embedOpt)\n        .catch(err => showError(`Javascript Error: ${err.message}<br>This usually means there's a typo in your chart specification. See the javascript console for the full traceback.`));\n    }\n\n    if(typeof define === \"function\" && define.amd) {\n      requirejs.config({paths});\n      require([\"vega-embed\"], displayChart, err => showError(`Error loading script: ${err.message}`));\n    } else {\n      maybeLoadScript(\"vega\", \"5\")\n        .then(() => maybeLoadScript(\"vega-lite\", \"4.17.0\"))\n        .then(() => maybeLoadScript(\"vega-embed\", \"6\"))\n        .catch(showError)\n        .then(() => displayChart(vegaEmbed));\n    }\n  })({\"config\": {\"view\": {\"continuousWidth\": 400, \"continuousHeight\": 300}}, \"data\": {\"name\": \"data-ac152665bc0a3ee9112034a5407903e2\"}, \"mark\": \"boxplot\", \"encoding\": {\"y\": {\"field\": \"Percentage Expenditure Outlierless\", \"scale\": {\"zero\": true}, \"type\": \"quantitative\"}}, \"$schema\": \"https://vega.github.io/schema/vega-lite/v4.17.0.json\", \"datasets\": {\"data-ac152665bc0a3ee9112034a5407903e2\": [{\"Year\": \"2015\", \"Percentage Expenditure\": \"0.0\", \"HIV/AIDS\": 3.6, \"Hepatitis B\": 75.0, \"Percentage Expenditure Outlierless\": null, \"Hepatitis B Outlierless\": 75.0}, {\"Year\": \"2014\", \"Percentage Expenditure\": \"922.0507313\", \"HIV/AIDS\": 3.7, \"Hepatitis B\": 8.0, \"Percentage Expenditure Outlierless\": 922.0507313, \"Hepatitis B Outlierless\": null}, {\"Year\": \"2013\", \"Percentage Expenditure\": \"978.5905287\", \"HIV/AIDS\": 4.5, \"Hepatitis B\": 7.0, \"Percentage Expenditure Outlierless\": 978.5905287, \"Hepatitis B Outlierless\": null}, {\"Year\": \"2012\", \"Percentage Expenditure\": \"1089.954838\", \"HIV/AIDS\": 7.6, \"Hepatitis B\": 68.0, \"Percentage Expenditure Outlierless\": 1089.954838, \"Hepatitis B Outlierless\": 68.0}, {\"Year\": \"2011\", \"Percentage Expenditure\": \"123.753335\", \"HIV/AIDS\": 8.5, \"Hepatitis B\": 76.0, \"Percentage Expenditure Outlierless\": null, \"Hepatitis B Outlierless\": 76.0}, {\"Year\": \"2010\", \"Percentage Expenditure\": \"1038.885632\", \"HIV/AIDS\": 11.0, \"Hepatitis B\": 71.0, \"Percentage Expenditure Outlierless\": 1038.885632, \"Hepatitis B Outlierless\": 71.0}, {\"Year\": \"2009\", \"Percentage Expenditure\": \"782.5987144\", \"HIV/AIDS\": 19.0, \"Hepatitis B\": 74.0, \"Percentage Expenditure Outlierless\": 782.5987144, \"Hepatitis B Outlierless\": 74.0}, {\"Year\": \"2008\", \"Percentage Expenditure\": \"780.0336423\", \"HIV/AIDS\": 23.5, \"Hepatitis B\": 76.0, \"Percentage Expenditure Outlierless\": 780.0336423, \"Hepatitis B Outlierless\": 76.0}, {\"Year\": \"2007\", \"Percentage Expenditure\": \"805.490079\", \"HIV/AIDS\": 26.4, \"Hepatitis B\": 83.0, \"Percentage Expenditure Outlierless\": 805.490079, \"Hepatitis B Outlierless\": 83.0}, {\"Year\": \"2006\", \"Percentage Expenditure\": \"732.1255305\", \"HIV/AIDS\": 28.1, \"Hepatitis B\": 83.0, \"Percentage Expenditure Outlierless\": 732.1255305, \"Hepatitis B Outlierless\": 83.0}, {\"Year\": \"2005\", \"Percentage Expenditure\": \"709.3170967\", \"HIV/AIDS\": 29.5, \"Hepatitis B\": 79.0, \"Percentage Expenditure Outlierless\": 709.3170967, \"Hepatitis B Outlierless\": 79.0}, {\"Year\": \"2004\", \"Percentage Expenditure\": \"622.043809\", \"HIV/AIDS\": 29.7, \"Hepatitis B\": 76.0, \"Percentage Expenditure Outlierless\": 622.043809, \"Hepatitis B Outlierless\": 76.0}, {\"Year\": \"2003\", \"Percentage Expenditure\": \"519.1563781\", \"HIV/AIDS\": 28.9, \"Hepatitis B\": 71.0, \"Percentage Expenditure Outlierless\": 519.1563781, \"Hepatitis B Outlierless\": 71.0}, {\"Year\": \"2002\", \"Percentage Expenditure\": \"346.5316007\", \"HIV/AIDS\": 26.6, \"Hepatitis B\": 72.0, \"Percentage Expenditure Outlierless\": 346.5316007, \"Hepatitis B Outlierless\": 72.0}, {\"Year\": \"2001\", \"Percentage Expenditure\": \"365.2585722\", \"HIV/AIDS\": 24.0, \"Hepatitis B\": 72.0, \"Percentage Expenditure Outlierless\": 365.2585722, \"Hepatitis B Outlierless\": 72.0}, {\"Year\": \"2000\", \"Percentage Expenditure\": \"45.96380839\", \"HIV/AIDS\": 21.3, \"Hepatitis B\": 73.0, \"Percentage Expenditure Outlierless\": 45.96380839, \"Hepatitis B Outlierless\": 73.0}]}}, {\"mode\": \"vega-lite\"});\n</script>",
                  "text/plain": "alt.Chart(...)"
                },
                "metadata": {}
              }
            ]
          }
        },
        "a50fd18b81104dfc951764dc0d387017": {
          "model_module": "@jupyter-widgets/output",
          "model_name": "OutputModel",
          "model_module_version": "1.0.0",
          "state": {
            "_dom_classes": [],
            "_model_module": "@jupyter-widgets/output",
            "_model_module_version": "1.0.0",
            "_model_name": "OutputModel",
            "_view_count": null,
            "_view_module": "@jupyter-widgets/output",
            "_view_module_version": "1.0.0",
            "_view_name": "OutputView",
            "layout": "IPY_MODEL_f30ab89353664d478917604fe90c739c",
            "msg_id": "",
            "outputs": [
              {
                "output_type": "display_data",
                "data": {
                  "text/html": "\n<div id=\"altair-viz-b488efb24c404dfa807b2278e8c1968a\"></div>\n<script type=\"text/javascript\">\n  var VEGA_DEBUG = (typeof VEGA_DEBUG == \"undefined\") ? {} : VEGA_DEBUG;\n  (function(spec, embedOpt){\n    let outputDiv = document.currentScript.previousElementSibling;\n    if (outputDiv.id !== \"altair-viz-b488efb24c404dfa807b2278e8c1968a\") {\n      outputDiv = document.getElementById(\"altair-viz-b488efb24c404dfa807b2278e8c1968a\");\n    }\n    const paths = {\n      \"vega\": \"https://cdn.jsdelivr.net/npm//vega@5?noext\",\n      \"vega-lib\": \"https://cdn.jsdelivr.net/npm//vega-lib?noext\",\n      \"vega-lite\": \"https://cdn.jsdelivr.net/npm//vega-lite@4.17.0?noext\",\n      \"vega-embed\": \"https://cdn.jsdelivr.net/npm//vega-embed@6?noext\",\n    };\n\n    function maybeLoadScript(lib, version) {\n      var key = `${lib.replace(\"-\", \"\")}_version`;\n      return (VEGA_DEBUG[key] == version) ?\n        Promise.resolve(paths[lib]) :\n        new Promise(function(resolve, reject) {\n          var s = document.createElement('script');\n          document.getElementsByTagName(\"head\")[0].appendChild(s);\n          s.async = true;\n          s.onload = () => {\n            VEGA_DEBUG[key] = version;\n            return resolve(paths[lib]);\n          };\n          s.onerror = () => reject(`Error loading script: ${paths[lib]}`);\n          s.src = paths[lib];\n        });\n    }\n\n    function showError(err) {\n      outputDiv.innerHTML = `<div class=\"error\" style=\"color:red;\">${err}</div>`;\n      throw err;\n    }\n\n    function displayChart(vegaEmbed) {\n      vegaEmbed(outputDiv, spec, embedOpt)\n        .catch(err => showError(`Javascript Error: ${err.message}<br>This usually means there's a typo in your chart specification. See the javascript console for the full traceback.`));\n    }\n\n    if(typeof define === \"function\" && define.amd) {\n      requirejs.config({paths});\n      require([\"vega-embed\"], displayChart, err => showError(`Error loading script: ${err.message}`));\n    } else {\n      maybeLoadScript(\"vega\", \"5\")\n        .then(() => maybeLoadScript(\"vega-lite\", \"4.17.0\"))\n        .then(() => maybeLoadScript(\"vega-embed\", \"6\"))\n        .catch(showError)\n        .then(() => displayChart(vegaEmbed));\n    }\n  })({\"config\": {\"view\": {\"continuousWidth\": 400, \"continuousHeight\": 300}}, \"data\": {\"name\": \"data-ac152665bc0a3ee9112034a5407903e2\"}, \"mark\": \"boxplot\", \"encoding\": {\"y\": {\"field\": \"Percentage Expenditure\", \"scale\": {\"zero\": true}, \"type\": \"quantitative\"}}, \"$schema\": \"https://vega.github.io/schema/vega-lite/v4.17.0.json\", \"datasets\": {\"data-ac152665bc0a3ee9112034a5407903e2\": [{\"Year\": \"2015\", \"Percentage Expenditure\": \"0.0\", \"HIV/AIDS\": 3.6, \"Hepatitis B\": 75.0, \"Percentage Expenditure Outlierless\": null, \"Hepatitis B Outlierless\": 75.0}, {\"Year\": \"2014\", \"Percentage Expenditure\": \"922.0507313\", \"HIV/AIDS\": 3.7, \"Hepatitis B\": 8.0, \"Percentage Expenditure Outlierless\": 922.0507313, \"Hepatitis B Outlierless\": null}, {\"Year\": \"2013\", \"Percentage Expenditure\": \"978.5905287\", \"HIV/AIDS\": 4.5, \"Hepatitis B\": 7.0, \"Percentage Expenditure Outlierless\": 978.5905287, \"Hepatitis B Outlierless\": null}, {\"Year\": \"2012\", \"Percentage Expenditure\": \"1089.954838\", \"HIV/AIDS\": 7.6, \"Hepatitis B\": 68.0, \"Percentage Expenditure Outlierless\": 1089.954838, \"Hepatitis B Outlierless\": 68.0}, {\"Year\": \"2011\", \"Percentage Expenditure\": \"123.753335\", \"HIV/AIDS\": 8.5, \"Hepatitis B\": 76.0, \"Percentage Expenditure Outlierless\": null, \"Hepatitis B Outlierless\": 76.0}, {\"Year\": \"2010\", \"Percentage Expenditure\": \"1038.885632\", \"HIV/AIDS\": 11.0, \"Hepatitis B\": 71.0, \"Percentage Expenditure Outlierless\": 1038.885632, \"Hepatitis B Outlierless\": 71.0}, {\"Year\": \"2009\", \"Percentage Expenditure\": \"782.5987144\", \"HIV/AIDS\": 19.0, \"Hepatitis B\": 74.0, \"Percentage Expenditure Outlierless\": 782.5987144, \"Hepatitis B Outlierless\": 74.0}, {\"Year\": \"2008\", \"Percentage Expenditure\": \"780.0336423\", \"HIV/AIDS\": 23.5, \"Hepatitis B\": 76.0, \"Percentage Expenditure Outlierless\": 780.0336423, \"Hepatitis B Outlierless\": 76.0}, {\"Year\": \"2007\", \"Percentage Expenditure\": \"805.490079\", \"HIV/AIDS\": 26.4, \"Hepatitis B\": 83.0, \"Percentage Expenditure Outlierless\": 805.490079, \"Hepatitis B Outlierless\": 83.0}, {\"Year\": \"2006\", \"Percentage Expenditure\": \"732.1255305\", \"HIV/AIDS\": 28.1, \"Hepatitis B\": 83.0, \"Percentage Expenditure Outlierless\": 732.1255305, \"Hepatitis B Outlierless\": 83.0}, {\"Year\": \"2005\", \"Percentage Expenditure\": \"709.3170967\", \"HIV/AIDS\": 29.5, \"Hepatitis B\": 79.0, \"Percentage Expenditure Outlierless\": 709.3170967, \"Hepatitis B Outlierless\": 79.0}, {\"Year\": \"2004\", \"Percentage Expenditure\": \"622.043809\", \"HIV/AIDS\": 29.7, \"Hepatitis B\": 76.0, \"Percentage Expenditure Outlierless\": 622.043809, \"Hepatitis B Outlierless\": 76.0}, {\"Year\": \"2003\", \"Percentage Expenditure\": \"519.1563781\", \"HIV/AIDS\": 28.9, \"Hepatitis B\": 71.0, \"Percentage Expenditure Outlierless\": 519.1563781, \"Hepatitis B Outlierless\": 71.0}, {\"Year\": \"2002\", \"Percentage Expenditure\": \"346.5316007\", \"HIV/AIDS\": 26.6, \"Hepatitis B\": 72.0, \"Percentage Expenditure Outlierless\": 346.5316007, \"Hepatitis B Outlierless\": 72.0}, {\"Year\": \"2001\", \"Percentage Expenditure\": \"365.2585722\", \"HIV/AIDS\": 24.0, \"Hepatitis B\": 72.0, \"Percentage Expenditure Outlierless\": 365.2585722, \"Hepatitis B Outlierless\": 72.0}, {\"Year\": \"2000\", \"Percentage Expenditure\": \"45.96380839\", \"HIV/AIDS\": 21.3, \"Hepatitis B\": 73.0, \"Percentage Expenditure Outlierless\": 45.96380839, \"Hepatitis B Outlierless\": 73.0}]}}, {\"mode\": \"vega-lite\"});\n</script>",
                  "text/plain": "alt.Chart(...)"
                },
                "metadata": {}
              }
            ]
          }
        },
        "7b15b740d8814e529450ead142ed5679": {
          "model_module": "@jupyter-widgets/output",
          "model_name": "OutputModel",
          "model_module_version": "1.0.0",
          "state": {
            "_dom_classes": [],
            "_model_module": "@jupyter-widgets/output",
            "_model_module_version": "1.0.0",
            "_model_name": "OutputModel",
            "_view_count": null,
            "_view_module": "@jupyter-widgets/output",
            "_view_module_version": "1.0.0",
            "_view_name": "OutputView",
            "layout": "IPY_MODEL_70e3a80f539f4193a7f3bd27d3edf95f",
            "msg_id": "",
            "outputs": [
              {
                "output_type": "display_data",
                "data": {
                  "text/html": "\n<div id=\"altair-viz-af8a3a4c742048d0813f12bd0bb81938\"></div>\n<script type=\"text/javascript\">\n  var VEGA_DEBUG = (typeof VEGA_DEBUG == \"undefined\") ? {} : VEGA_DEBUG;\n  (function(spec, embedOpt){\n    let outputDiv = document.currentScript.previousElementSibling;\n    if (outputDiv.id !== \"altair-viz-af8a3a4c742048d0813f12bd0bb81938\") {\n      outputDiv = document.getElementById(\"altair-viz-af8a3a4c742048d0813f12bd0bb81938\");\n    }\n    const paths = {\n      \"vega\": \"https://cdn.jsdelivr.net/npm//vega@5?noext\",\n      \"vega-lib\": \"https://cdn.jsdelivr.net/npm//vega-lib?noext\",\n      \"vega-lite\": \"https://cdn.jsdelivr.net/npm//vega-lite@4.17.0?noext\",\n      \"vega-embed\": \"https://cdn.jsdelivr.net/npm//vega-embed@6?noext\",\n    };\n\n    function maybeLoadScript(lib, version) {\n      var key = `${lib.replace(\"-\", \"\")}_version`;\n      return (VEGA_DEBUG[key] == version) ?\n        Promise.resolve(paths[lib]) :\n        new Promise(function(resolve, reject) {\n          var s = document.createElement('script');\n          document.getElementsByTagName(\"head\")[0].appendChild(s);\n          s.async = true;\n          s.onload = () => {\n            VEGA_DEBUG[key] = version;\n            return resolve(paths[lib]);\n          };\n          s.onerror = () => reject(`Error loading script: ${paths[lib]}`);\n          s.src = paths[lib];\n        });\n    }\n\n    function showError(err) {\n      outputDiv.innerHTML = `<div class=\"error\" style=\"color:red;\">${err}</div>`;\n      throw err;\n    }\n\n    function displayChart(vegaEmbed) {\n      vegaEmbed(outputDiv, spec, embedOpt)\n        .catch(err => showError(`Javascript Error: ${err.message}<br>This usually means there's a typo in your chart specification. See the javascript console for the full traceback.`));\n    }\n\n    if(typeof define === \"function\" && define.amd) {\n      requirejs.config({paths});\n      require([\"vega-embed\"], displayChart, err => showError(`Error loading script: ${err.message}`));\n    } else {\n      maybeLoadScript(\"vega\", \"5\")\n        .then(() => maybeLoadScript(\"vega-lite\", \"4.17.0\"))\n        .then(() => maybeLoadScript(\"vega-embed\", \"6\"))\n        .catch(showError)\n        .then(() => displayChart(vegaEmbed));\n    }\n  })({\"config\": {\"view\": {\"continuousWidth\": 400, \"continuousHeight\": 300}}, \"data\": {\"name\": \"data-ac152665bc0a3ee9112034a5407903e2\"}, \"mark\": \"boxplot\", \"encoding\": {\"y\": {\"field\": \"HIV/AIDS\", \"scale\": {\"zero\": true}, \"type\": \"quantitative\"}}, \"$schema\": \"https://vega.github.io/schema/vega-lite/v4.17.0.json\", \"datasets\": {\"data-ac152665bc0a3ee9112034a5407903e2\": [{\"Year\": \"2015\", \"Percentage Expenditure\": \"0.0\", \"HIV/AIDS\": 3.6, \"Hepatitis B\": 75.0, \"Percentage Expenditure Outlierless\": null, \"Hepatitis B Outlierless\": 75.0}, {\"Year\": \"2014\", \"Percentage Expenditure\": \"922.0507313\", \"HIV/AIDS\": 3.7, \"Hepatitis B\": 8.0, \"Percentage Expenditure Outlierless\": 922.0507313, \"Hepatitis B Outlierless\": null}, {\"Year\": \"2013\", \"Percentage Expenditure\": \"978.5905287\", \"HIV/AIDS\": 4.5, \"Hepatitis B\": 7.0, \"Percentage Expenditure Outlierless\": 978.5905287, \"Hepatitis B Outlierless\": null}, {\"Year\": \"2012\", \"Percentage Expenditure\": \"1089.954838\", \"HIV/AIDS\": 7.6, \"Hepatitis B\": 68.0, \"Percentage Expenditure Outlierless\": 1089.954838, \"Hepatitis B Outlierless\": 68.0}, {\"Year\": \"2011\", \"Percentage Expenditure\": \"123.753335\", \"HIV/AIDS\": 8.5, \"Hepatitis B\": 76.0, \"Percentage Expenditure Outlierless\": null, \"Hepatitis B Outlierless\": 76.0}, {\"Year\": \"2010\", \"Percentage Expenditure\": \"1038.885632\", \"HIV/AIDS\": 11.0, \"Hepatitis B\": 71.0, \"Percentage Expenditure Outlierless\": 1038.885632, \"Hepatitis B Outlierless\": 71.0}, {\"Year\": \"2009\", \"Percentage Expenditure\": \"782.5987144\", \"HIV/AIDS\": 19.0, \"Hepatitis B\": 74.0, \"Percentage Expenditure Outlierless\": 782.5987144, \"Hepatitis B Outlierless\": 74.0}, {\"Year\": \"2008\", \"Percentage Expenditure\": \"780.0336423\", \"HIV/AIDS\": 23.5, \"Hepatitis B\": 76.0, \"Percentage Expenditure Outlierless\": 780.0336423, \"Hepatitis B Outlierless\": 76.0}, {\"Year\": \"2007\", \"Percentage Expenditure\": \"805.490079\", \"HIV/AIDS\": 26.4, \"Hepatitis B\": 83.0, \"Percentage Expenditure Outlierless\": 805.490079, \"Hepatitis B Outlierless\": 83.0}, {\"Year\": \"2006\", \"Percentage Expenditure\": \"732.1255305\", \"HIV/AIDS\": 28.1, \"Hepatitis B\": 83.0, \"Percentage Expenditure Outlierless\": 732.1255305, \"Hepatitis B Outlierless\": 83.0}, {\"Year\": \"2005\", \"Percentage Expenditure\": \"709.3170967\", \"HIV/AIDS\": 29.5, \"Hepatitis B\": 79.0, \"Percentage Expenditure Outlierless\": 709.3170967, \"Hepatitis B Outlierless\": 79.0}, {\"Year\": \"2004\", \"Percentage Expenditure\": \"622.043809\", \"HIV/AIDS\": 29.7, \"Hepatitis B\": 76.0, \"Percentage Expenditure Outlierless\": 622.043809, \"Hepatitis B Outlierless\": 76.0}, {\"Year\": \"2003\", \"Percentage Expenditure\": \"519.1563781\", \"HIV/AIDS\": 28.9, \"Hepatitis B\": 71.0, \"Percentage Expenditure Outlierless\": 519.1563781, \"Hepatitis B Outlierless\": 71.0}, {\"Year\": \"2002\", \"Percentage Expenditure\": \"346.5316007\", \"HIV/AIDS\": 26.6, \"Hepatitis B\": 72.0, \"Percentage Expenditure Outlierless\": 346.5316007, \"Hepatitis B Outlierless\": 72.0}, {\"Year\": \"2001\", \"Percentage Expenditure\": \"365.2585722\", \"HIV/AIDS\": 24.0, \"Hepatitis B\": 72.0, \"Percentage Expenditure Outlierless\": 365.2585722, \"Hepatitis B Outlierless\": 72.0}, {\"Year\": \"2000\", \"Percentage Expenditure\": \"45.96380839\", \"HIV/AIDS\": 21.3, \"Hepatitis B\": 73.0, \"Percentage Expenditure Outlierless\": 45.96380839, \"Hepatitis B Outlierless\": 73.0}]}}, {\"mode\": \"vega-lite\"});\n</script>",
                  "text/plain": "alt.Chart(...)"
                },
                "metadata": {}
              }
            ]
          }
        },
        "d625fde6a00f4bff88ecc6d446f1cbbd": {
          "model_module": "@jupyter-widgets/output",
          "model_name": "OutputModel",
          "model_module_version": "1.0.0",
          "state": {
            "_dom_classes": [],
            "_model_module": "@jupyter-widgets/output",
            "_model_module_version": "1.0.0",
            "_model_name": "OutputModel",
            "_view_count": null,
            "_view_module": "@jupyter-widgets/output",
            "_view_module_version": "1.0.0",
            "_view_name": "OutputView",
            "layout": "IPY_MODEL_b81d237cd80b46e2a35d003bb6d4e7c6",
            "msg_id": "",
            "outputs": [
              {
                "output_type": "display_data",
                "data": {
                  "text/html": "\n<div id=\"altair-viz-9e5762f27b6e44baa1e879d5364e7efb\"></div>\n<script type=\"text/javascript\">\n  var VEGA_DEBUG = (typeof VEGA_DEBUG == \"undefined\") ? {} : VEGA_DEBUG;\n  (function(spec, embedOpt){\n    let outputDiv = document.currentScript.previousElementSibling;\n    if (outputDiv.id !== \"altair-viz-9e5762f27b6e44baa1e879d5364e7efb\") {\n      outputDiv = document.getElementById(\"altair-viz-9e5762f27b6e44baa1e879d5364e7efb\");\n    }\n    const paths = {\n      \"vega\": \"https://cdn.jsdelivr.net/npm//vega@5?noext\",\n      \"vega-lib\": \"https://cdn.jsdelivr.net/npm//vega-lib?noext\",\n      \"vega-lite\": \"https://cdn.jsdelivr.net/npm//vega-lite@4.17.0?noext\",\n      \"vega-embed\": \"https://cdn.jsdelivr.net/npm//vega-embed@6?noext\",\n    };\n\n    function maybeLoadScript(lib, version) {\n      var key = `${lib.replace(\"-\", \"\")}_version`;\n      return (VEGA_DEBUG[key] == version) ?\n        Promise.resolve(paths[lib]) :\n        new Promise(function(resolve, reject) {\n          var s = document.createElement('script');\n          document.getElementsByTagName(\"head\")[0].appendChild(s);\n          s.async = true;\n          s.onload = () => {\n            VEGA_DEBUG[key] = version;\n            return resolve(paths[lib]);\n          };\n          s.onerror = () => reject(`Error loading script: ${paths[lib]}`);\n          s.src = paths[lib];\n        });\n    }\n\n    function showError(err) {\n      outputDiv.innerHTML = `<div class=\"error\" style=\"color:red;\">${err}</div>`;\n      throw err;\n    }\n\n    function displayChart(vegaEmbed) {\n      vegaEmbed(outputDiv, spec, embedOpt)\n        .catch(err => showError(`Javascript Error: ${err.message}<br>This usually means there's a typo in your chart specification. See the javascript console for the full traceback.`));\n    }\n\n    if(typeof define === \"function\" && define.amd) {\n      requirejs.config({paths});\n      require([\"vega-embed\"], displayChart, err => showError(`Error loading script: ${err.message}`));\n    } else {\n      maybeLoadScript(\"vega\", \"5\")\n        .then(() => maybeLoadScript(\"vega-lite\", \"4.17.0\"))\n        .then(() => maybeLoadScript(\"vega-embed\", \"6\"))\n        .catch(showError)\n        .then(() => displayChart(vegaEmbed));\n    }\n  })({\"config\": {\"view\": {\"continuousWidth\": 400, \"continuousHeight\": 300}}, \"data\": {\"name\": \"data-ac152665bc0a3ee9112034a5407903e2\"}, \"mark\": \"boxplot\", \"encoding\": {\"y\": {\"field\": \"Hepatitis B Outlierless\", \"scale\": {\"zero\": true}, \"type\": \"quantitative\"}}, \"$schema\": \"https://vega.github.io/schema/vega-lite/v4.17.0.json\", \"datasets\": {\"data-ac152665bc0a3ee9112034a5407903e2\": [{\"Year\": \"2015\", \"Percentage Expenditure\": \"0.0\", \"HIV/AIDS\": 3.6, \"Hepatitis B\": 75.0, \"Percentage Expenditure Outlierless\": null, \"Hepatitis B Outlierless\": 75.0}, {\"Year\": \"2014\", \"Percentage Expenditure\": \"922.0507313\", \"HIV/AIDS\": 3.7, \"Hepatitis B\": 8.0, \"Percentage Expenditure Outlierless\": 922.0507313, \"Hepatitis B Outlierless\": null}, {\"Year\": \"2013\", \"Percentage Expenditure\": \"978.5905287\", \"HIV/AIDS\": 4.5, \"Hepatitis B\": 7.0, \"Percentage Expenditure Outlierless\": 978.5905287, \"Hepatitis B Outlierless\": null}, {\"Year\": \"2012\", \"Percentage Expenditure\": \"1089.954838\", \"HIV/AIDS\": 7.6, \"Hepatitis B\": 68.0, \"Percentage Expenditure Outlierless\": 1089.954838, \"Hepatitis B Outlierless\": 68.0}, {\"Year\": \"2011\", \"Percentage Expenditure\": \"123.753335\", \"HIV/AIDS\": 8.5, \"Hepatitis B\": 76.0, \"Percentage Expenditure Outlierless\": null, \"Hepatitis B Outlierless\": 76.0}, {\"Year\": \"2010\", \"Percentage Expenditure\": \"1038.885632\", \"HIV/AIDS\": 11.0, \"Hepatitis B\": 71.0, \"Percentage Expenditure Outlierless\": 1038.885632, \"Hepatitis B Outlierless\": 71.0}, {\"Year\": \"2009\", \"Percentage Expenditure\": \"782.5987144\", \"HIV/AIDS\": 19.0, \"Hepatitis B\": 74.0, \"Percentage Expenditure Outlierless\": 782.5987144, \"Hepatitis B Outlierless\": 74.0}, {\"Year\": \"2008\", \"Percentage Expenditure\": \"780.0336423\", \"HIV/AIDS\": 23.5, \"Hepatitis B\": 76.0, \"Percentage Expenditure Outlierless\": 780.0336423, \"Hepatitis B Outlierless\": 76.0}, {\"Year\": \"2007\", \"Percentage Expenditure\": \"805.490079\", \"HIV/AIDS\": 26.4, \"Hepatitis B\": 83.0, \"Percentage Expenditure Outlierless\": 805.490079, \"Hepatitis B Outlierless\": 83.0}, {\"Year\": \"2006\", \"Percentage Expenditure\": \"732.1255305\", \"HIV/AIDS\": 28.1, \"Hepatitis B\": 83.0, \"Percentage Expenditure Outlierless\": 732.1255305, \"Hepatitis B Outlierless\": 83.0}, {\"Year\": \"2005\", \"Percentage Expenditure\": \"709.3170967\", \"HIV/AIDS\": 29.5, \"Hepatitis B\": 79.0, \"Percentage Expenditure Outlierless\": 709.3170967, \"Hepatitis B Outlierless\": 79.0}, {\"Year\": \"2004\", \"Percentage Expenditure\": \"622.043809\", \"HIV/AIDS\": 29.7, \"Hepatitis B\": 76.0, \"Percentage Expenditure Outlierless\": 622.043809, \"Hepatitis B Outlierless\": 76.0}, {\"Year\": \"2003\", \"Percentage Expenditure\": \"519.1563781\", \"HIV/AIDS\": 28.9, \"Hepatitis B\": 71.0, \"Percentage Expenditure Outlierless\": 519.1563781, \"Hepatitis B Outlierless\": 71.0}, {\"Year\": \"2002\", \"Percentage Expenditure\": \"346.5316007\", \"HIV/AIDS\": 26.6, \"Hepatitis B\": 72.0, \"Percentage Expenditure Outlierless\": 346.5316007, \"Hepatitis B Outlierless\": 72.0}, {\"Year\": \"2001\", \"Percentage Expenditure\": \"365.2585722\", \"HIV/AIDS\": 24.0, \"Hepatitis B\": 72.0, \"Percentage Expenditure Outlierless\": 365.2585722, \"Hepatitis B Outlierless\": 72.0}, {\"Year\": \"2000\", \"Percentage Expenditure\": \"45.96380839\", \"HIV/AIDS\": 21.3, \"Hepatitis B\": 73.0, \"Percentage Expenditure Outlierless\": 45.96380839, \"Hepatitis B Outlierless\": 73.0}]}}, {\"mode\": \"vega-lite\"});\n</script>",
                  "text/plain": "alt.Chart(...)"
                },
                "metadata": {}
              }
            ]
          }
        },
        "67fe2608fe814b16a7fa4cdc1db33948": {
          "model_module": "@jupyter-widgets/output",
          "model_name": "OutputModel",
          "model_module_version": "1.0.0",
          "state": {
            "_dom_classes": [],
            "_model_module": "@jupyter-widgets/output",
            "_model_module_version": "1.0.0",
            "_model_name": "OutputModel",
            "_view_count": null,
            "_view_module": "@jupyter-widgets/output",
            "_view_module_version": "1.0.0",
            "_view_name": "OutputView",
            "layout": "IPY_MODEL_911ea0fc690b4815b5ff4575d6969ac5",
            "msg_id": "",
            "outputs": [
              {
                "output_type": "display_data",
                "data": {
                  "text/html": "\n<div id=\"altair-viz-5050633744864df680fa9daa2b14e6c3\"></div>\n<script type=\"text/javascript\">\n  var VEGA_DEBUG = (typeof VEGA_DEBUG == \"undefined\") ? {} : VEGA_DEBUG;\n  (function(spec, embedOpt){\n    let outputDiv = document.currentScript.previousElementSibling;\n    if (outputDiv.id !== \"altair-viz-5050633744864df680fa9daa2b14e6c3\") {\n      outputDiv = document.getElementById(\"altair-viz-5050633744864df680fa9daa2b14e6c3\");\n    }\n    const paths = {\n      \"vega\": \"https://cdn.jsdelivr.net/npm//vega@5?noext\",\n      \"vega-lib\": \"https://cdn.jsdelivr.net/npm//vega-lib?noext\",\n      \"vega-lite\": \"https://cdn.jsdelivr.net/npm//vega-lite@4.17.0?noext\",\n      \"vega-embed\": \"https://cdn.jsdelivr.net/npm//vega-embed@6?noext\",\n    };\n\n    function maybeLoadScript(lib, version) {\n      var key = `${lib.replace(\"-\", \"\")}_version`;\n      return (VEGA_DEBUG[key] == version) ?\n        Promise.resolve(paths[lib]) :\n        new Promise(function(resolve, reject) {\n          var s = document.createElement('script');\n          document.getElementsByTagName(\"head\")[0].appendChild(s);\n          s.async = true;\n          s.onload = () => {\n            VEGA_DEBUG[key] = version;\n            return resolve(paths[lib]);\n          };\n          s.onerror = () => reject(`Error loading script: ${paths[lib]}`);\n          s.src = paths[lib];\n        });\n    }\n\n    function showError(err) {\n      outputDiv.innerHTML = `<div class=\"error\" style=\"color:red;\">${err}</div>`;\n      throw err;\n    }\n\n    function displayChart(vegaEmbed) {\n      vegaEmbed(outputDiv, spec, embedOpt)\n        .catch(err => showError(`Javascript Error: ${err.message}<br>This usually means there's a typo in your chart specification. See the javascript console for the full traceback.`));\n    }\n\n    if(typeof define === \"function\" && define.amd) {\n      requirejs.config({paths});\n      require([\"vega-embed\"], displayChart, err => showError(`Error loading script: ${err.message}`));\n    } else {\n      maybeLoadScript(\"vega\", \"5\")\n        .then(() => maybeLoadScript(\"vega-lite\", \"4.17.0\"))\n        .then(() => maybeLoadScript(\"vega-embed\", \"6\"))\n        .catch(showError)\n        .then(() => displayChart(vegaEmbed));\n    }\n  })({\"config\": {\"view\": {\"continuousWidth\": 400, \"continuousHeight\": 300}}, \"data\": {\"name\": \"data-ac152665bc0a3ee9112034a5407903e2\"}, \"mark\": \"boxplot\", \"encoding\": {\"y\": {\"field\": \"Hepatitis B\", \"scale\": {\"zero\": true}, \"type\": \"quantitative\"}}, \"$schema\": \"https://vega.github.io/schema/vega-lite/v4.17.0.json\", \"datasets\": {\"data-ac152665bc0a3ee9112034a5407903e2\": [{\"Year\": \"2015\", \"Percentage Expenditure\": \"0.0\", \"HIV/AIDS\": 3.6, \"Hepatitis B\": 75.0, \"Percentage Expenditure Outlierless\": null, \"Hepatitis B Outlierless\": 75.0}, {\"Year\": \"2014\", \"Percentage Expenditure\": \"922.0507313\", \"HIV/AIDS\": 3.7, \"Hepatitis B\": 8.0, \"Percentage Expenditure Outlierless\": 922.0507313, \"Hepatitis B Outlierless\": null}, {\"Year\": \"2013\", \"Percentage Expenditure\": \"978.5905287\", \"HIV/AIDS\": 4.5, \"Hepatitis B\": 7.0, \"Percentage Expenditure Outlierless\": 978.5905287, \"Hepatitis B Outlierless\": null}, {\"Year\": \"2012\", \"Percentage Expenditure\": \"1089.954838\", \"HIV/AIDS\": 7.6, \"Hepatitis B\": 68.0, \"Percentage Expenditure Outlierless\": 1089.954838, \"Hepatitis B Outlierless\": 68.0}, {\"Year\": \"2011\", \"Percentage Expenditure\": \"123.753335\", \"HIV/AIDS\": 8.5, \"Hepatitis B\": 76.0, \"Percentage Expenditure Outlierless\": null, \"Hepatitis B Outlierless\": 76.0}, {\"Year\": \"2010\", \"Percentage Expenditure\": \"1038.885632\", \"HIV/AIDS\": 11.0, \"Hepatitis B\": 71.0, \"Percentage Expenditure Outlierless\": 1038.885632, \"Hepatitis B Outlierless\": 71.0}, {\"Year\": \"2009\", \"Percentage Expenditure\": \"782.5987144\", \"HIV/AIDS\": 19.0, \"Hepatitis B\": 74.0, \"Percentage Expenditure Outlierless\": 782.5987144, \"Hepatitis B Outlierless\": 74.0}, {\"Year\": \"2008\", \"Percentage Expenditure\": \"780.0336423\", \"HIV/AIDS\": 23.5, \"Hepatitis B\": 76.0, \"Percentage Expenditure Outlierless\": 780.0336423, \"Hepatitis B Outlierless\": 76.0}, {\"Year\": \"2007\", \"Percentage Expenditure\": \"805.490079\", \"HIV/AIDS\": 26.4, \"Hepatitis B\": 83.0, \"Percentage Expenditure Outlierless\": 805.490079, \"Hepatitis B Outlierless\": 83.0}, {\"Year\": \"2006\", \"Percentage Expenditure\": \"732.1255305\", \"HIV/AIDS\": 28.1, \"Hepatitis B\": 83.0, \"Percentage Expenditure Outlierless\": 732.1255305, \"Hepatitis B Outlierless\": 83.0}, {\"Year\": \"2005\", \"Percentage Expenditure\": \"709.3170967\", \"HIV/AIDS\": 29.5, \"Hepatitis B\": 79.0, \"Percentage Expenditure Outlierless\": 709.3170967, \"Hepatitis B Outlierless\": 79.0}, {\"Year\": \"2004\", \"Percentage Expenditure\": \"622.043809\", \"HIV/AIDS\": 29.7, \"Hepatitis B\": 76.0, \"Percentage Expenditure Outlierless\": 622.043809, \"Hepatitis B Outlierless\": 76.0}, {\"Year\": \"2003\", \"Percentage Expenditure\": \"519.1563781\", \"HIV/AIDS\": 28.9, \"Hepatitis B\": 71.0, \"Percentage Expenditure Outlierless\": 519.1563781, \"Hepatitis B Outlierless\": 71.0}, {\"Year\": \"2002\", \"Percentage Expenditure\": \"346.5316007\", \"HIV/AIDS\": 26.6, \"Hepatitis B\": 72.0, \"Percentage Expenditure Outlierless\": 346.5316007, \"Hepatitis B Outlierless\": 72.0}, {\"Year\": \"2001\", \"Percentage Expenditure\": \"365.2585722\", \"HIV/AIDS\": 24.0, \"Hepatitis B\": 72.0, \"Percentage Expenditure Outlierless\": 365.2585722, \"Hepatitis B Outlierless\": 72.0}, {\"Year\": \"2000\", \"Percentage Expenditure\": \"45.96380839\", \"HIV/AIDS\": 21.3, \"Hepatitis B\": 73.0, \"Percentage Expenditure Outlierless\": 45.96380839, \"Hepatitis B Outlierless\": 73.0}]}}, {\"mode\": \"vega-lite\"});\n</script>",
                  "text/plain": "alt.Chart(...)"
                },
                "metadata": {}
              }
            ]
          }
        },
        "68f5dbe475af431c99177e09e3d56408": {
          "model_module": "@jupyter-widgets/base",
          "model_name": "LayoutModel",
          "model_module_version": "1.2.0",
          "state": {
            "_model_module": "@jupyter-widgets/base",
            "_model_module_version": "1.2.0",
            "_model_name": "LayoutModel",
            "_view_count": null,
            "_view_module": "@jupyter-widgets/base",
            "_view_module_version": "1.2.0",
            "_view_name": "LayoutView",
            "align_content": null,
            "align_items": null,
            "align_self": null,
            "border": null,
            "bottom": null,
            "display": null,
            "flex": null,
            "flex_flow": null,
            "grid_area": "footer",
            "grid_auto_columns": null,
            "grid_auto_flow": null,
            "grid_auto_rows": null,
            "grid_column": null,
            "grid_gap": null,
            "grid_row": null,
            "grid_template_areas": null,
            "grid_template_columns": null,
            "grid_template_rows": null,
            "height": null,
            "justify_content": null,
            "justify_items": null,
            "left": null,
            "margin": null,
            "max_height": null,
            "max_width": null,
            "min_height": null,
            "min_width": null,
            "object_fit": null,
            "object_position": null,
            "order": null,
            "overflow": null,
            "overflow_x": null,
            "overflow_y": null,
            "padding": null,
            "right": null,
            "top": null,
            "visibility": null,
            "width": null
          }
        },
        "a3788d470f8b4e99842bd5892ade0f46": {
          "model_module": "@jupyter-widgets/base",
          "model_name": "LayoutModel",
          "model_module_version": "1.2.0",
          "state": {
            "_model_module": "@jupyter-widgets/base",
            "_model_module_version": "1.2.0",
            "_model_name": "LayoutModel",
            "_view_count": null,
            "_view_module": "@jupyter-widgets/base",
            "_view_module_version": "1.2.0",
            "_view_name": "LayoutView",
            "align_content": null,
            "align_items": null,
            "align_self": null,
            "border": null,
            "bottom": null,
            "display": null,
            "flex": null,
            "flex_flow": null,
            "grid_area": "header",
            "grid_auto_columns": null,
            "grid_auto_flow": null,
            "grid_auto_rows": null,
            "grid_column": null,
            "grid_gap": null,
            "grid_row": null,
            "grid_template_areas": null,
            "grid_template_columns": null,
            "grid_template_rows": null,
            "height": null,
            "justify_content": null,
            "justify_items": null,
            "left": null,
            "margin": null,
            "max_height": null,
            "max_width": null,
            "min_height": null,
            "min_width": null,
            "object_fit": null,
            "object_position": null,
            "order": null,
            "overflow": null,
            "overflow_x": null,
            "overflow_y": null,
            "padding": null,
            "right": null,
            "top": null,
            "visibility": null,
            "width": null
          }
        },
        "6a2d4fafef14412d8ef20ad2b5b2cc25": {
          "model_module": "@jupyter-widgets/base",
          "model_name": "LayoutModel",
          "model_module_version": "1.2.0",
          "state": {
            "_model_module": "@jupyter-widgets/base",
            "_model_module_version": "1.2.0",
            "_model_name": "LayoutModel",
            "_view_count": null,
            "_view_module": "@jupyter-widgets/base",
            "_view_module_version": "1.2.0",
            "_view_name": "LayoutView",
            "align_content": null,
            "align_items": null,
            "align_self": null,
            "border": null,
            "bottom": null,
            "display": null,
            "flex": null,
            "flex_flow": null,
            "grid_area": null,
            "grid_auto_columns": null,
            "grid_auto_flow": null,
            "grid_auto_rows": null,
            "grid_column": null,
            "grid_gap": null,
            "grid_row": null,
            "grid_template_areas": null,
            "grid_template_columns": null,
            "grid_template_rows": null,
            "height": null,
            "justify_content": null,
            "justify_items": null,
            "left": null,
            "margin": null,
            "max_height": null,
            "max_width": null,
            "min_height": null,
            "min_width": null,
            "object_fit": null,
            "object_position": null,
            "order": null,
            "overflow": null,
            "overflow_x": null,
            "overflow_y": null,
            "padding": null,
            "right": null,
            "top": null,
            "visibility": null,
            "width": null
          }
        },
        "f30ab89353664d478917604fe90c739c": {
          "model_module": "@jupyter-widgets/base",
          "model_name": "LayoutModel",
          "model_module_version": "1.2.0",
          "state": {
            "_model_module": "@jupyter-widgets/base",
            "_model_module_version": "1.2.0",
            "_model_name": "LayoutModel",
            "_view_count": null,
            "_view_module": "@jupyter-widgets/base",
            "_view_module_version": "1.2.0",
            "_view_name": "LayoutView",
            "align_content": null,
            "align_items": null,
            "align_self": null,
            "border": null,
            "bottom": null,
            "display": null,
            "flex": null,
            "flex_flow": null,
            "grid_area": null,
            "grid_auto_columns": null,
            "grid_auto_flow": null,
            "grid_auto_rows": null,
            "grid_column": null,
            "grid_gap": null,
            "grid_row": null,
            "grid_template_areas": null,
            "grid_template_columns": null,
            "grid_template_rows": null,
            "height": null,
            "justify_content": null,
            "justify_items": null,
            "left": null,
            "margin": null,
            "max_height": null,
            "max_width": null,
            "min_height": null,
            "min_width": null,
            "object_fit": null,
            "object_position": null,
            "order": null,
            "overflow": null,
            "overflow_x": null,
            "overflow_y": null,
            "padding": null,
            "right": null,
            "top": null,
            "visibility": null,
            "width": null
          }
        },
        "70e3a80f539f4193a7f3bd27d3edf95f": {
          "model_module": "@jupyter-widgets/base",
          "model_name": "LayoutModel",
          "model_module_version": "1.2.0",
          "state": {
            "_model_module": "@jupyter-widgets/base",
            "_model_module_version": "1.2.0",
            "_model_name": "LayoutModel",
            "_view_count": null,
            "_view_module": "@jupyter-widgets/base",
            "_view_module_version": "1.2.0",
            "_view_name": "LayoutView",
            "align_content": null,
            "align_items": null,
            "align_self": null,
            "border": null,
            "bottom": null,
            "display": null,
            "flex": null,
            "flex_flow": null,
            "grid_area": null,
            "grid_auto_columns": null,
            "grid_auto_flow": null,
            "grid_auto_rows": null,
            "grid_column": null,
            "grid_gap": null,
            "grid_row": null,
            "grid_template_areas": null,
            "grid_template_columns": null,
            "grid_template_rows": null,
            "height": null,
            "justify_content": null,
            "justify_items": null,
            "left": null,
            "margin": null,
            "max_height": null,
            "max_width": null,
            "min_height": null,
            "min_width": null,
            "object_fit": null,
            "object_position": null,
            "order": null,
            "overflow": null,
            "overflow_x": null,
            "overflow_y": null,
            "padding": null,
            "right": null,
            "top": null,
            "visibility": null,
            "width": null
          }
        },
        "b81d237cd80b46e2a35d003bb6d4e7c6": {
          "model_module": "@jupyter-widgets/base",
          "model_name": "LayoutModel",
          "model_module_version": "1.2.0",
          "state": {
            "_model_module": "@jupyter-widgets/base",
            "_model_module_version": "1.2.0",
            "_model_name": "LayoutModel",
            "_view_count": null,
            "_view_module": "@jupyter-widgets/base",
            "_view_module_version": "1.2.0",
            "_view_name": "LayoutView",
            "align_content": null,
            "align_items": null,
            "align_self": null,
            "border": null,
            "bottom": null,
            "display": null,
            "flex": null,
            "flex_flow": null,
            "grid_area": null,
            "grid_auto_columns": null,
            "grid_auto_flow": null,
            "grid_auto_rows": null,
            "grid_column": null,
            "grid_gap": null,
            "grid_row": null,
            "grid_template_areas": null,
            "grid_template_columns": null,
            "grid_template_rows": null,
            "height": null,
            "justify_content": null,
            "justify_items": null,
            "left": null,
            "margin": null,
            "max_height": null,
            "max_width": null,
            "min_height": null,
            "min_width": null,
            "object_fit": null,
            "object_position": null,
            "order": null,
            "overflow": null,
            "overflow_x": null,
            "overflow_y": null,
            "padding": null,
            "right": null,
            "top": null,
            "visibility": null,
            "width": null
          }
        },
        "911ea0fc690b4815b5ff4575d6969ac5": {
          "model_module": "@jupyter-widgets/base",
          "model_name": "LayoutModel",
          "model_module_version": "1.2.0",
          "state": {
            "_model_module": "@jupyter-widgets/base",
            "_model_module_version": "1.2.0",
            "_model_name": "LayoutModel",
            "_view_count": null,
            "_view_module": "@jupyter-widgets/base",
            "_view_module_version": "1.2.0",
            "_view_name": "LayoutView",
            "align_content": null,
            "align_items": null,
            "align_self": null,
            "border": null,
            "bottom": null,
            "display": null,
            "flex": null,
            "flex_flow": null,
            "grid_area": null,
            "grid_auto_columns": null,
            "grid_auto_flow": null,
            "grid_auto_rows": null,
            "grid_column": null,
            "grid_gap": null,
            "grid_row": null,
            "grid_template_areas": null,
            "grid_template_columns": null,
            "grid_template_rows": null,
            "height": null,
            "justify_content": null,
            "justify_items": null,
            "left": null,
            "margin": null,
            "max_height": null,
            "max_width": null,
            "min_height": null,
            "min_width": null,
            "object_fit": null,
            "object_position": null,
            "order": null,
            "overflow": null,
            "overflow_x": null,
            "overflow_y": null,
            "padding": null,
            "right": null,
            "top": null,
            "visibility": null,
            "width": null
          }
        },
        "8a613baa7c094a96bd6da27bb55ef010": {
          "model_module": "@jupyter-widgets/controls",
          "model_name": "VBoxModel",
          "model_module_version": "1.5.0",
          "state": {
            "_dom_classes": [
              "widget-interact"
            ],
            "_model_module": "@jupyter-widgets/controls",
            "_model_module_version": "1.5.0",
            "_model_name": "VBoxModel",
            "_view_count": null,
            "_view_module": "@jupyter-widgets/controls",
            "_view_module_version": "1.5.0",
            "_view_name": "VBoxView",
            "box_style": "",
            "children": [
              "IPY_MODEL_c551a1156d294d8e9aefe9726e657556",
              "IPY_MODEL_880af71943fc41b9bb8c97def0ee8b50"
            ],
            "layout": "IPY_MODEL_3b043017d99742cd84eb5076aa2936d3"
          }
        },
        "c551a1156d294d8e9aefe9726e657556": {
          "model_module": "@jupyter-widgets/controls",
          "model_name": "DropdownModel",
          "model_module_version": "1.5.0",
          "state": {
            "_dom_classes": [],
            "_model_module": "@jupyter-widgets/controls",
            "_model_module_version": "1.5.0",
            "_model_name": "DropdownModel",
            "_options_labels": [
              "Netherlands vs South Africa",
              "Portugal vs Brazil",
              "Spain vs Cuba",
              "France vs Haiti",
              "Belgium vs Guatemala"
            ],
            "_view_count": null,
            "_view_module": "@jupyter-widgets/controls",
            "_view_module_version": "1.5.0",
            "_view_name": "DropdownView",
            "description": "user_choice",
            "description_tooltip": null,
            "disabled": false,
            "index": 0,
            "layout": "IPY_MODEL_a88f01d4c5fc4a75860230189e3621df",
            "style": "IPY_MODEL_6e3afc8c053f4a13b394d2853e73c420"
          }
        },
        "880af71943fc41b9bb8c97def0ee8b50": {
          "model_module": "@jupyter-widgets/output",
          "model_name": "OutputModel",
          "model_module_version": "1.0.0",
          "state": {
            "_dom_classes": [],
            "_model_module": "@jupyter-widgets/output",
            "_model_module_version": "1.0.0",
            "_model_name": "OutputModel",
            "_view_count": null,
            "_view_module": "@jupyter-widgets/output",
            "_view_module_version": "1.0.0",
            "_view_name": "OutputView",
            "layout": "IPY_MODEL_24b29ba6467c4366a4773d2691fc7d02",
            "msg_id": "",
            "outputs": [
              {
                "output_type": "display_data",
                "data": {
                  "text/plain": "HBox(children=(Output(), Output()))",
                  "application/vnd.jupyter.widget-view+json": {
                    "version_major": 2,
                    "version_minor": 0,
                    "model_id": "b2953f6f12024239bcc30123e3dee0c1"
                  }
                },
                "metadata": {}
              }
            ]
          }
        },
        "3b043017d99742cd84eb5076aa2936d3": {
          "model_module": "@jupyter-widgets/base",
          "model_name": "LayoutModel",
          "model_module_version": "1.2.0",
          "state": {
            "_model_module": "@jupyter-widgets/base",
            "_model_module_version": "1.2.0",
            "_model_name": "LayoutModel",
            "_view_count": null,
            "_view_module": "@jupyter-widgets/base",
            "_view_module_version": "1.2.0",
            "_view_name": "LayoutView",
            "align_content": null,
            "align_items": null,
            "align_self": null,
            "border": null,
            "bottom": null,
            "display": null,
            "flex": null,
            "flex_flow": null,
            "grid_area": null,
            "grid_auto_columns": null,
            "grid_auto_flow": null,
            "grid_auto_rows": null,
            "grid_column": null,
            "grid_gap": null,
            "grid_row": null,
            "grid_template_areas": null,
            "grid_template_columns": null,
            "grid_template_rows": null,
            "height": null,
            "justify_content": null,
            "justify_items": null,
            "left": null,
            "margin": null,
            "max_height": null,
            "max_width": null,
            "min_height": null,
            "min_width": null,
            "object_fit": null,
            "object_position": null,
            "order": null,
            "overflow": null,
            "overflow_x": null,
            "overflow_y": null,
            "padding": null,
            "right": null,
            "top": null,
            "visibility": null,
            "width": null
          }
        },
        "a88f01d4c5fc4a75860230189e3621df": {
          "model_module": "@jupyter-widgets/base",
          "model_name": "LayoutModel",
          "model_module_version": "1.2.0",
          "state": {
            "_model_module": "@jupyter-widgets/base",
            "_model_module_version": "1.2.0",
            "_model_name": "LayoutModel",
            "_view_count": null,
            "_view_module": "@jupyter-widgets/base",
            "_view_module_version": "1.2.0",
            "_view_name": "LayoutView",
            "align_content": null,
            "align_items": null,
            "align_self": null,
            "border": null,
            "bottom": null,
            "display": null,
            "flex": null,
            "flex_flow": null,
            "grid_area": null,
            "grid_auto_columns": null,
            "grid_auto_flow": null,
            "grid_auto_rows": null,
            "grid_column": null,
            "grid_gap": null,
            "grid_row": null,
            "grid_template_areas": null,
            "grid_template_columns": null,
            "grid_template_rows": null,
            "height": null,
            "justify_content": null,
            "justify_items": null,
            "left": null,
            "margin": null,
            "max_height": null,
            "max_width": null,
            "min_height": null,
            "min_width": null,
            "object_fit": null,
            "object_position": null,
            "order": null,
            "overflow": null,
            "overflow_x": null,
            "overflow_y": null,
            "padding": null,
            "right": null,
            "top": null,
            "visibility": null,
            "width": null
          }
        },
        "6e3afc8c053f4a13b394d2853e73c420": {
          "model_module": "@jupyter-widgets/controls",
          "model_name": "DescriptionStyleModel",
          "model_module_version": "1.5.0",
          "state": {
            "_model_module": "@jupyter-widgets/controls",
            "_model_module_version": "1.5.0",
            "_model_name": "DescriptionStyleModel",
            "_view_count": null,
            "_view_module": "@jupyter-widgets/base",
            "_view_module_version": "1.2.0",
            "_view_name": "StyleView",
            "description_width": ""
          }
        },
        "b2953f6f12024239bcc30123e3dee0c1": {
          "model_module": "@jupyter-widgets/controls",
          "model_name": "HBoxModel",
          "model_module_version": "1.5.0",
          "state": {
            "_dom_classes": [],
            "_model_module": "@jupyter-widgets/controls",
            "_model_module_version": "1.5.0",
            "_model_name": "HBoxModel",
            "_view_count": null,
            "_view_module": "@jupyter-widgets/controls",
            "_view_module_version": "1.5.0",
            "_view_name": "HBoxView",
            "box_style": "",
            "children": [
              "IPY_MODEL_af87a7bb71ce4a9f95288e195374fdb1",
              "IPY_MODEL_af86bd9f1e904113addc4be8a88a6d52"
            ],
            "layout": "IPY_MODEL_bb2ed9df9458418190da7c49cf8ab5f7"
          }
        },
        "24b29ba6467c4366a4773d2691fc7d02": {
          "model_module": "@jupyter-widgets/base",
          "model_name": "LayoutModel",
          "model_module_version": "1.2.0",
          "state": {
            "_model_module": "@jupyter-widgets/base",
            "_model_module_version": "1.2.0",
            "_model_name": "LayoutModel",
            "_view_count": null,
            "_view_module": "@jupyter-widgets/base",
            "_view_module_version": "1.2.0",
            "_view_name": "LayoutView",
            "align_content": null,
            "align_items": null,
            "align_self": null,
            "border": null,
            "bottom": null,
            "display": null,
            "flex": null,
            "flex_flow": null,
            "grid_area": null,
            "grid_auto_columns": null,
            "grid_auto_flow": null,
            "grid_auto_rows": null,
            "grid_column": null,
            "grid_gap": null,
            "grid_row": null,
            "grid_template_areas": null,
            "grid_template_columns": null,
            "grid_template_rows": null,
            "height": null,
            "justify_content": null,
            "justify_items": null,
            "left": null,
            "margin": null,
            "max_height": null,
            "max_width": null,
            "min_height": null,
            "min_width": null,
            "object_fit": null,
            "object_position": null,
            "order": null,
            "overflow": null,
            "overflow_x": null,
            "overflow_y": null,
            "padding": null,
            "right": null,
            "top": null,
            "visibility": null,
            "width": null
          }
        },
        "af87a7bb71ce4a9f95288e195374fdb1": {
          "model_module": "@jupyter-widgets/output",
          "model_name": "OutputModel",
          "model_module_version": "1.0.0",
          "state": {
            "_dom_classes": [],
            "_model_module": "@jupyter-widgets/output",
            "_model_module_version": "1.0.0",
            "_model_name": "OutputModel",
            "_view_count": null,
            "_view_module": "@jupyter-widgets/output",
            "_view_module_version": "1.0.0",
            "_view_name": "OutputView",
            "layout": "IPY_MODEL_27eca55b0e794b5f9e3ae22f202f771d",
            "msg_id": "",
            "outputs": [
              {
                "output_type": "display_data",
                "data": {
                  "text/html": "\n<div id=\"altair-viz-df7e266ee15d407c852b57e5090aa19a\"></div>\n<script type=\"text/javascript\">\n  var VEGA_DEBUG = (typeof VEGA_DEBUG == \"undefined\") ? {} : VEGA_DEBUG;\n  (function(spec, embedOpt){\n    let outputDiv = document.currentScript.previousElementSibling;\n    if (outputDiv.id !== \"altair-viz-df7e266ee15d407c852b57e5090aa19a\") {\n      outputDiv = document.getElementById(\"altair-viz-df7e266ee15d407c852b57e5090aa19a\");\n    }\n    const paths = {\n      \"vega\": \"https://cdn.jsdelivr.net/npm//vega@5?noext\",\n      \"vega-lib\": \"https://cdn.jsdelivr.net/npm//vega-lib?noext\",\n      \"vega-lite\": \"https://cdn.jsdelivr.net/npm//vega-lite@4.17.0?noext\",\n      \"vega-embed\": \"https://cdn.jsdelivr.net/npm//vega-embed@6?noext\",\n    };\n\n    function maybeLoadScript(lib, version) {\n      var key = `${lib.replace(\"-\", \"\")}_version`;\n      return (VEGA_DEBUG[key] == version) ?\n        Promise.resolve(paths[lib]) :\n        new Promise(function(resolve, reject) {\n          var s = document.createElement('script');\n          document.getElementsByTagName(\"head\")[0].appendChild(s);\n          s.async = true;\n          s.onload = () => {\n            VEGA_DEBUG[key] = version;\n            return resolve(paths[lib]);\n          };\n          s.onerror = () => reject(`Error loading script: ${paths[lib]}`);\n          s.src = paths[lib];\n        });\n    }\n\n    function showError(err) {\n      outputDiv.innerHTML = `<div class=\"error\" style=\"color:red;\">${err}</div>`;\n      throw err;\n    }\n\n    function displayChart(vegaEmbed) {\n      vegaEmbed(outputDiv, spec, embedOpt)\n        .catch(err => showError(`Javascript Error: ${err.message}<br>This usually means there's a typo in your chart specification. See the javascript console for the full traceback.`));\n    }\n\n    if(typeof define === \"function\" && define.amd) {\n      requirejs.config({paths});\n      require([\"vega-embed\"], displayChart, err => showError(`Error loading script: ${err.message}`));\n    } else {\n      maybeLoadScript(\"vega\", \"5\")\n        .then(() => maybeLoadScript(\"vega-lite\", \"4.17.0\"))\n        .then(() => maybeLoadScript(\"vega-embed\", \"6\"))\n        .catch(showError)\n        .then(() => displayChart(vegaEmbed));\n    }\n  })({\"config\": {\"view\": {\"continuousWidth\": 400, \"continuousHeight\": 300}}, \"layer\": [{\"mark\": {\"type\": \"circle\", \"opacity\": 0.5}, \"encoding\": {\"x\": {\"field\": \"Year\", \"scale\": {\"zero\": false}, \"type\": \"temporal\"}, \"y\": {\"field\": \"Percentage Expenditure\", \"type\": \"quantitative\"}}}, {\"mark\": \"line\", \"encoding\": {\"x\": {\"field\": \"Year\", \"scale\": {\"zero\": false}, \"type\": \"temporal\"}, \"y\": {\"field\": \"Percentage Expenditure\", \"type\": \"quantitative\"}}, \"transform\": [{\"loess\": \"Percentage Expenditure\", \"on\": \"Year\"}]}], \"data\": {\"name\": \"data-75acae28ec3e6d903fcd74caeb37e925\"}, \"$schema\": \"https://vega.github.io/schema/vega-lite/v4.17.0.json\", \"datasets\": {\"data-75acae28ec3e6d903fcd74caeb37e925\": [{\"Year\": \"2015\", \"Percentage Expenditure\": 0.0}, {\"Year\": \"2014\", \"Percentage Expenditure\": 1491.703605}, {\"Year\": \"2013\", \"Percentage Expenditure\": 1475.030397}, {\"Year\": \"2012\", \"Percentage Expenditure\": 1162.656768}, {\"Year\": \"2011\", \"Percentage Expenditure\": 1047.370244}, {\"Year\": \"2010\", \"Percentage Expenditure\": 1035.621437}, {\"Year\": \"2009\", \"Percentage Expenditure\": 96.8585885}, {\"Year\": \"2008\", \"Percentage Expenditure\": 10873.40554}, {\"Year\": \"2007\", \"Percentage Expenditure\": 9689.732784}, {\"Year\": \"2006\", \"Percentage Expenditure\": 8344.010392}, {\"Year\": \"2005\", \"Percentage Expenditure\": 6577.508136}, {\"Year\": \"2004\", \"Percentage Expenditure\": 5170.130703}, {\"Year\": \"2003\", \"Percentage Expenditure\": 4472.6114}, {\"Year\": \"2002\", \"Percentage Expenditure\": 3455.197053}, {\"Year\": \"2001\", \"Percentage Expenditure\": 3054.515582}, {\"Year\": \"2000\", \"Percentage Expenditure\": 2944.640134}]}}, {\"mode\": \"vega-lite\"});\n</script>",
                  "text/plain": "alt.LayerChart(...)"
                },
                "metadata": {}
              }
            ]
          }
        },
        "af86bd9f1e904113addc4be8a88a6d52": {
          "model_module": "@jupyter-widgets/output",
          "model_name": "OutputModel",
          "model_module_version": "1.0.0",
          "state": {
            "_dom_classes": [],
            "_model_module": "@jupyter-widgets/output",
            "_model_module_version": "1.0.0",
            "_model_name": "OutputModel",
            "_view_count": null,
            "_view_module": "@jupyter-widgets/output",
            "_view_module_version": "1.0.0",
            "_view_name": "OutputView",
            "layout": "IPY_MODEL_51d7b1cbcb50472b914720397309f597",
            "msg_id": "",
            "outputs": [
              {
                "output_type": "display_data",
                "data": {
                  "text/html": "\n<div id=\"altair-viz-20bc5bc8e6ab4fdc91755d02514ddcd8\"></div>\n<script type=\"text/javascript\">\n  var VEGA_DEBUG = (typeof VEGA_DEBUG == \"undefined\") ? {} : VEGA_DEBUG;\n  (function(spec, embedOpt){\n    let outputDiv = document.currentScript.previousElementSibling;\n    if (outputDiv.id !== \"altair-viz-20bc5bc8e6ab4fdc91755d02514ddcd8\") {\n      outputDiv = document.getElementById(\"altair-viz-20bc5bc8e6ab4fdc91755d02514ddcd8\");\n    }\n    const paths = {\n      \"vega\": \"https://cdn.jsdelivr.net/npm//vega@5?noext\",\n      \"vega-lib\": \"https://cdn.jsdelivr.net/npm//vega-lib?noext\",\n      \"vega-lite\": \"https://cdn.jsdelivr.net/npm//vega-lite@4.17.0?noext\",\n      \"vega-embed\": \"https://cdn.jsdelivr.net/npm//vega-embed@6?noext\",\n    };\n\n    function maybeLoadScript(lib, version) {\n      var key = `${lib.replace(\"-\", \"\")}_version`;\n      return (VEGA_DEBUG[key] == version) ?\n        Promise.resolve(paths[lib]) :\n        new Promise(function(resolve, reject) {\n          var s = document.createElement('script');\n          document.getElementsByTagName(\"head\")[0].appendChild(s);\n          s.async = true;\n          s.onload = () => {\n            VEGA_DEBUG[key] = version;\n            return resolve(paths[lib]);\n          };\n          s.onerror = () => reject(`Error loading script: ${paths[lib]}`);\n          s.src = paths[lib];\n        });\n    }\n\n    function showError(err) {\n      outputDiv.innerHTML = `<div class=\"error\" style=\"color:red;\">${err}</div>`;\n      throw err;\n    }\n\n    function displayChart(vegaEmbed) {\n      vegaEmbed(outputDiv, spec, embedOpt)\n        .catch(err => showError(`Javascript Error: ${err.message}<br>This usually means there's a typo in your chart specification. See the javascript console for the full traceback.`));\n    }\n\n    if(typeof define === \"function\" && define.amd) {\n      requirejs.config({paths});\n      require([\"vega-embed\"], displayChart, err => showError(`Error loading script: ${err.message}`));\n    } else {\n      maybeLoadScript(\"vega\", \"5\")\n        .then(() => maybeLoadScript(\"vega-lite\", \"4.17.0\"))\n        .then(() => maybeLoadScript(\"vega-embed\", \"6\"))\n        .catch(showError)\n        .then(() => displayChart(vegaEmbed));\n    }\n  })({\"config\": {\"view\": {\"continuousWidth\": 400, \"continuousHeight\": 300}}, \"layer\": [{\"mark\": {\"type\": \"circle\", \"opacity\": 0.5}, \"encoding\": {\"x\": {\"field\": \"Year\", \"scale\": {\"zero\": false}, \"type\": \"temporal\"}, \"y\": {\"field\": \"Percentage Expenditure\", \"type\": \"quantitative\"}}}, {\"mark\": \"line\", \"encoding\": {\"x\": {\"field\": \"Year\", \"scale\": {\"zero\": false}, \"type\": \"temporal\"}, \"y\": {\"field\": \"Percentage Expenditure\", \"type\": \"quantitative\"}}, \"transform\": [{\"loess\": \"Percentage Expenditure\", \"on\": \"Year\"}]}], \"data\": {\"name\": \"data-7d3b9af5c0fc348ec393d690888807a5\"}, \"$schema\": \"https://vega.github.io/schema/vega-lite/v4.17.0.json\", \"datasets\": {\"data-7d3b9af5c0fc348ec393d690888807a5\": [{\"Year\": \"2015\", \"Percentage Expenditure\": 0.0}, {\"Year\": \"2014\", \"Percentage Expenditure\": 922.0507313}, {\"Year\": \"2013\", \"Percentage Expenditure\": 978.5905287}, {\"Year\": \"2012\", \"Percentage Expenditure\": 1089.954838}, {\"Year\": \"2011\", \"Percentage Expenditure\": 123.753335}, {\"Year\": \"2010\", \"Percentage Expenditure\": 1038.885632}, {\"Year\": \"2009\", \"Percentage Expenditure\": 782.5987144}, {\"Year\": \"2008\", \"Percentage Expenditure\": 780.0336423}, {\"Year\": \"2007\", \"Percentage Expenditure\": 805.490079}, {\"Year\": \"2006\", \"Percentage Expenditure\": 732.1255305}, {\"Year\": \"2005\", \"Percentage Expenditure\": 709.3170967}, {\"Year\": \"2004\", \"Percentage Expenditure\": 622.043809}, {\"Year\": \"2003\", \"Percentage Expenditure\": 519.1563781}, {\"Year\": \"2002\", \"Percentage Expenditure\": 346.5316007}, {\"Year\": \"2001\", \"Percentage Expenditure\": 365.2585722}, {\"Year\": \"2000\", \"Percentage Expenditure\": 45.96380839}]}}, {\"mode\": \"vega-lite\"});\n</script>",
                  "text/plain": "alt.LayerChart(...)"
                },
                "metadata": {}
              }
            ]
          }
        },
        "bb2ed9df9458418190da7c49cf8ab5f7": {
          "model_module": "@jupyter-widgets/base",
          "model_name": "LayoutModel",
          "model_module_version": "1.2.0",
          "state": {
            "_model_module": "@jupyter-widgets/base",
            "_model_module_version": "1.2.0",
            "_model_name": "LayoutModel",
            "_view_count": null,
            "_view_module": "@jupyter-widgets/base",
            "_view_module_version": "1.2.0",
            "_view_name": "LayoutView",
            "align_content": null,
            "align_items": null,
            "align_self": null,
            "border": null,
            "bottom": null,
            "display": null,
            "flex": null,
            "flex_flow": null,
            "grid_area": null,
            "grid_auto_columns": null,
            "grid_auto_flow": null,
            "grid_auto_rows": null,
            "grid_column": null,
            "grid_gap": null,
            "grid_row": null,
            "grid_template_areas": null,
            "grid_template_columns": null,
            "grid_template_rows": null,
            "height": null,
            "justify_content": null,
            "justify_items": null,
            "left": null,
            "margin": null,
            "max_height": null,
            "max_width": null,
            "min_height": null,
            "min_width": null,
            "object_fit": null,
            "object_position": null,
            "order": null,
            "overflow": null,
            "overflow_x": null,
            "overflow_y": null,
            "padding": null,
            "right": null,
            "top": null,
            "visibility": null,
            "width": null
          }
        },
        "27eca55b0e794b5f9e3ae22f202f771d": {
          "model_module": "@jupyter-widgets/base",
          "model_name": "LayoutModel",
          "model_module_version": "1.2.0",
          "state": {
            "_model_module": "@jupyter-widgets/base",
            "_model_module_version": "1.2.0",
            "_model_name": "LayoutModel",
            "_view_count": null,
            "_view_module": "@jupyter-widgets/base",
            "_view_module_version": "1.2.0",
            "_view_name": "LayoutView",
            "align_content": null,
            "align_items": null,
            "align_self": null,
            "border": null,
            "bottom": null,
            "display": null,
            "flex": null,
            "flex_flow": null,
            "grid_area": null,
            "grid_auto_columns": null,
            "grid_auto_flow": null,
            "grid_auto_rows": null,
            "grid_column": null,
            "grid_gap": null,
            "grid_row": null,
            "grid_template_areas": null,
            "grid_template_columns": null,
            "grid_template_rows": null,
            "height": null,
            "justify_content": null,
            "justify_items": null,
            "left": null,
            "margin": null,
            "max_height": null,
            "max_width": null,
            "min_height": null,
            "min_width": null,
            "object_fit": null,
            "object_position": null,
            "order": null,
            "overflow": null,
            "overflow_x": null,
            "overflow_y": null,
            "padding": null,
            "right": null,
            "top": null,
            "visibility": null,
            "width": null
          }
        },
        "51d7b1cbcb50472b914720397309f597": {
          "model_module": "@jupyter-widgets/base",
          "model_name": "LayoutModel",
          "model_module_version": "1.2.0",
          "state": {
            "_model_module": "@jupyter-widgets/base",
            "_model_module_version": "1.2.0",
            "_model_name": "LayoutModel",
            "_view_count": null,
            "_view_module": "@jupyter-widgets/base",
            "_view_module_version": "1.2.0",
            "_view_name": "LayoutView",
            "align_content": null,
            "align_items": null,
            "align_self": null,
            "border": null,
            "bottom": null,
            "display": null,
            "flex": null,
            "flex_flow": null,
            "grid_area": null,
            "grid_auto_columns": null,
            "grid_auto_flow": null,
            "grid_auto_rows": null,
            "grid_column": null,
            "grid_gap": null,
            "grid_row": null,
            "grid_template_areas": null,
            "grid_template_columns": null,
            "grid_template_rows": null,
            "height": null,
            "justify_content": null,
            "justify_items": null,
            "left": null,
            "margin": null,
            "max_height": null,
            "max_width": null,
            "min_height": null,
            "min_width": null,
            "object_fit": null,
            "object_position": null,
            "order": null,
            "overflow": null,
            "overflow_x": null,
            "overflow_y": null,
            "padding": null,
            "right": null,
            "top": null,
            "visibility": null,
            "width": null
          }
        }
      }
    }
  },
  "cells": [
    {
      "cell_type": "markdown",
      "metadata": {
        "id": "view-in-github",
        "colab_type": "text"
      },
      "source": [
        "<a href=\"https://colab.research.google.com/github/Peiprjs/voila/blob/main/STD_indicator_S%26R_healthcare_SA_NL.ipynb\" target=\"_parent\"><img src=\"https://colab.research.google.com/assets/colab-badge.svg\" alt=\"Open In Colab\"/></a>"
      ]
    },
    {
      "cell_type": "markdown",
      "source": [
        "# Sexually transmitted diseases as indicators of sexual and reproductive healthcare in South Africa and the Netherlands\n",
        "#### A project by Ellie Petrova (i6326413) and Mar Roca (i6351071)\n",
        "\n",
        "---\n",
        "> Has South Africa improved its treatment of pregnant and fertile people who are HIV-positive between 2000 and 2015, leading to less child deaths? Have Hepatitis-B vaccinations (Hep-B can be transmitted sexually) in 1-year-olds increased in that timeframe? Does increased healthcare spending correlate with lower HIV/AIDS deaths in newborns and children, as well as Hepatitis-B vaccinations in 1-year-olds?\n",
        "\n",
        "> How does the death rate of 0-4 year-olds due to HIV/AIDS compare between the Netherlands and an ex-Dutch colony (South Africa)? Is it related to healthcare spending?"
      ],
      "metadata": {
        "id": "KLzIaEvKBt_s"
      }
    },
    {
      "cell_type": "code",
      "source": [
        "import numpy as np\n",
        "import pandas as pd\n",
        "import altair as alt\n",
        "import ipywidgets as widgets\n",
        "from ipywidgets import interact, Layout, GridspecLayout, AppLayout, TwoByTwoLayout\n",
        "\n",
        "# This imports the required dependencies"
      ],
      "metadata": {
        "id": "ETx6aujL59HQ"
      },
      "execution_count": 1,
      "outputs": []
    },
    {
      "cell_type": "code",
      "source": [
        "healthFactors = pd.read_csv('https://raw.githubusercontent.com/NHameleers/dtz2025-datasets/master/CountryHealthFactors.csv')\n",
        "healthFactors = healthFactors.rename(columns=lambda x: x.strip().title())\n",
        "healthFactors = healthFactors.rename(columns={\"Hiv/Aids\": \"HIV/AIDS\", \"Gdp\": \"GDP\", \"Bmi\": \"BMI\"})\n",
        "# This imports the CSV with the dataset and strips leading and trailing whitespaces in the indexes. It also changes all indexes into the Title format (first letter of each word capitalised) for style and uniformity. HIV/AIDS, BMI and GDP are kept as exemptions due to being made up of initials.\n",
        "hf_SouthAfrica = healthFactors.loc[healthFactors.Country == \"South Africa\", ['Year', 'Percentage Expenditure', 'HIV/AIDS', 'Hepatitis B']]\n",
        "hf_Netherlands = healthFactors.loc[healthFactors.Country == \"Netherlands\", ['Year', 'Percentage Expenditure', 'HIV/AIDS', 'Hepatitis B']]\n",
        "# This selects only the data that we're interested in: Years, Total expenditure and HIV/AIDS\n",
        "# from rows which Country column is equal to South Africa and the Netherlands respectively"
      ],
      "metadata": {
        "id": "qEf-8m00C5bG"
      },
      "execution_count": 2,
      "outputs": []
    },
    {
      "cell_type": "code",
      "source": [
        "def make_scatter(dataframe, varX, varY, typeX):\n",
        "  dataframe[varX] = dataframe[varX].astype(str)\n",
        "  # We need to perform this type conversion because of Altair being weird with years. According to the documentation, we must define it as string and specify the variable type as temporal\n",
        "  scatter = alt.Chart(dataframe).mark_circle(opacity=0.5).encode(\n",
        "    alt.X(varX, type= typeX, scale=alt.Scale(zero=False)),\n",
        "    alt.Y(varY, type= 'quantitative'),)\n",
        "  # This first part draws the dots in the scatter plot\n",
        "  scatter_w_loess = scatter + scatter.transform_loess(varX, varY).mark_line()\n",
        "  # This second part draws a LOESS (LOcally Estimated Scatterplot Smoothing) line, which makes seeing the evolution easier.\n",
        "  display(scatter_w_loess)\n",
        "# This first class defines how to make a scatter plot with LOESS very easily, simply passing to the class a dataframe, the x-variable and the y-variable indexes.\n",
        "\n",
        "def make_boxplot(dataframe, var):\n",
        "  boxplot = alt.Chart(dataframe).mark_boxplot().encode(\n",
        "    alt.Y(var, type = 'quantitative', scale=alt.Scale(zero=True))\n",
        "  )\n",
        "  display(boxplot)"
      ],
      "metadata": {
        "id": "0oAU6gW6UMzy"
      },
      "execution_count": 3,
      "outputs": []
    },
    {
      "cell_type": "markdown",
      "source": [
        "We start off by importing all the necessary packages, and loading the CSV containing the health factors data. This file needs to be parsed using Pandas, and some indexes must be corrected. We strip leading and trailing spaces, as well as converting all indexes to a Title format (first letter of each word is capitalised) for stylistic and standardisation reasons, except for acronyms.\n",
        "We also select the variables that we are interested in studying: Year, Percentage Expenditure and HIV/AIDS in the rows in which the country is South Africa or Netherlands. Finally, we set up some Classes that we will need to use frequently."
      ],
      "metadata": {
        "id": "PKo0LA7QNx8z"
      }
    },
    {
      "cell_type": "code",
      "source": [
        "print(f\"The datasets have both the same shape: {hf_SouthAfrica.shape[0]} rows and {hf_SouthAfrica.shape[1]} colums\")\n",
        "print(f\"The data that we have was collected between {hf_SouthAfrica.Year.min()} and {hf_Netherlands.Year.max()}\")"
      ],
      "metadata": {
        "id": "ZYOil9hwdk2I",
        "colab": {
          "base_uri": "https://localhost:8080/"
        },
        "outputId": "c43436b6-a36b-47f6-dd4b-736d2a3addc0"
      },
      "execution_count": 4,
      "outputs": [
        {
          "output_type": "stream",
          "name": "stdout",
          "text": [
            "The datasets have both the same shape: 16 rows and 4 colums\n",
            "The data that we have was collected between 2000 and 2015\n"
          ]
        }
      ]
    },
    {
      "cell_type": "markdown",
      "source": [
        "By running `hf_SouthAfrica.shape` or `hf_Netherlands.shape` we get the shapes of the dataframes resulting from isolating the data that we are interested in. We can observe that both of the resulting frames have a shape of **16x3**: **16** rows and **3** columns. By running `hf_SouthAfrica.Year.min()` or `hf_SouthAfrica.Year.max()` we can find out between what years we have the data from: **2000** to **2015**"
      ],
      "metadata": {
        "id": "SF23EHfCdWnu"
      }
    },
    {
      "cell_type": "markdown",
      "source": [
        "# In South Africa throughout the years (2000-2015) - Mar Roca\n"
      ],
      "metadata": {
        "id": "XC7ZdAxvCStq"
      }
    },
    {
      "cell_type": "markdown",
      "source": [
        "### Introduction\n",
        "> Has South Africa improved its treatment of pregnant and fertile people who are HIV-positive between 2000 and 2015, leading to less child deaths? Does increased healthcare spending correlate with lower HIV/AIDS deaths in newborns and children?\n",
        "\n",
        "We will try to answer these questions basing us on percentage of GDP/capita spent on healthcare, the per-mille deaths of children aged 0-4 attributed to HIV/AIDS, and the percentage of 1-year-olds vaccinated against Hepatitis-B. We believe these is the best variable we have available to determine the quality of sexual and reproductive healthcare, especially when it comes to sexually-transmitted diseases, as the parents can transfer HIV to their children, but only if they are HIV-Positive, therefore, not receiving antiretroviral treatment that would turn them HIV-Indetectable, and therefore HIV-Intransmittable (in the case of per-mille HIV/AIDS deaths of 0-4 year-olds); and a more robust healthcare system with good public conscientisation of the need for vaccinations (in the case of Hepatitis-B).\n",
        "\n",
        "We hypothesize that we will see some sort of negative correlation between expenditure and HIV/AIDS deaths in newborns and children, because with more healthcare spending will come more testing availability (we may see a small increase of **REPORTED** HIV/AIDS deaths in newborns as healthcare spending increases, due to the increased availability of testing), as well as better access to antiretrovirals, which can turn a previously HIV-positive into an HIV-indetectable, meaning that HIV can no longer be transmitted, yet still lays dormant in the patient's body. We also hypothesize that HIV/AIDS deaths in children aged 0-4 will decrease as years pass, but that healthcare spending will increase. We also hope to see a similar trend with Hepatitis-B vaccinations for 1-year-olds: increasing vaccinations as expenditure and years increase."
      ],
      "metadata": {
        "id": "p5GubZHzZCPn"
      }
    },
    {
      "cell_type": "code",
      "source": [
        "print(hf_SouthAfrica.loc[hf_SouthAfrica.isna().values])"
      ],
      "metadata": {
        "id": "1XGD6IfvTW6K",
        "colab": {
          "base_uri": "https://localhost:8080/"
        },
        "outputId": "a38953a5-2544-42d1-82ad-a11cebb90f45"
      },
      "execution_count": 5,
      "outputs": [
        {
          "output_type": "stream",
          "name": "stdout",
          "text": [
            "Empty DataFrame\n",
            "Columns: [Year, Percentage Expenditure, HIV/AIDS, Hepatitis B]\n",
            "Index: []\n"
          ]
        }
      ]
    },
    {
      "cell_type": "markdown",
      "source": [
        "The singular line of code above allows us to find in the entire dataframe of data that we selected the instances in which there's a NaN. We can see that in our selected portion of data, there is no missing values, as it returns an empty dataframe."
      ],
      "metadata": {
        "id": "DBgRmANPVw3L"
      }
    },
    {
      "cell_type": "markdown",
      "source": [
        "## Statistical analysis"
      ],
      "metadata": {
        "id": "-nQPozKppnGH"
      }
    },
    {
      "cell_type": "markdown",
      "source": [
        "The first step in any statistical analysis is to graph the variables we're interested in studying, to see if there is and (in case there is) what kind of relationship the two variables follow.\n",
        "So, we will start by generating graphs using Altair. The next step will be to calculate some descriptive statistics."
      ],
      "metadata": {
        "id": "76AxuUrR16Um"
      }
    },
    {
      "cell_type": "code",
      "execution_count": 6,
      "metadata": {
        "id": "qbZ1SBOhTfKN",
        "colab": {
          "base_uri": "https://localhost:8080/",
          "height": 719,
          "referenced_widgets": [
            "fbcebd1ed0664438b3a4aa0e254cceb6",
            "df2ed83c354b4f9e8d06e1a001281791",
            "4fbb6822f543458f9054c90af8e2a655",
            "9c2a401827ee446694147634ca360b0a",
            "b5e48499ad434201a3ef205427f3ac06",
            "ccd9aac220cb4470be4a060a75031d6a",
            "eeed85d4af9845cb8b05fd9befc1f2ac",
            "d1a489c74b5d4f0baba7a3f6026c9eef",
            "4686fad219004c08845a3cbab02b67bb",
            "cbb7305a189c4df2b14de48a8293b123",
            "66a38d41cbee4ccf86e638b65bc4d6a8",
            "d421937280c64f7894e85aedc590200d"
          ]
        },
        "outputId": "469744a6-3d02-483f-c6f1-d0a89a4f0cf4"
      },
      "outputs": [
        {
          "output_type": "display_data",
          "data": {
            "text/plain": [
              "GridspecLayout(children=(Output(layout=Layout(grid_area='widget001')), Output(layout=Layout(grid_area='widget0…"
            ],
            "application/vnd.jupyter.widget-view+json": {
              "version_major": 2,
              "version_minor": 0,
              "model_id": "fbcebd1ed0664438b3a4aa0e254cceb6"
            }
          },
          "metadata": {}
        }
      ],
      "source": [
        "grid = GridspecLayout(2, 3)\n",
        "\n",
        "graph_HIV_Year = widgets.Output()\n",
        "with graph_HIV_Year:\n",
        "  make_scatter(hf_SouthAfrica, \"Year\", \"HIV/AIDS\", 'temporal')\n",
        "grid[0,0] = graph_HIV_Year\n",
        "\n",
        "graph_HEP_Year = widgets.Output()\n",
        "with graph_HEP_Year:\n",
        "  make_scatter(hf_SouthAfrica, \"Year\", \"Hepatitis B\", 'temporal')\n",
        "grid[0,1] = graph_HEP_Year\n",
        "\n",
        "graph_Expend_Year = widgets.Output()\n",
        "with graph_Expend_Year:\n",
        "  make_scatter(hf_SouthAfrica, \"Year\", \"Percentage Expenditure\", 'temporal')\n",
        "grid[0,2] = graph_Expend_Year\n",
        "\n",
        "graph_HIV_Expend = widgets.Output()\n",
        "with graph_HIV_Expend:\n",
        "  make_scatter(hf_SouthAfrica, \"Percentage Expenditure\", \"HIV/AIDS\", 'quantitative')\n",
        "grid[1,0] = graph_HIV_Expend\n",
        "\n",
        "graph_HEP_Expend = widgets.Output()\n",
        "with graph_HEP_Expend:\n",
        "  make_scatter(hf_SouthAfrica, \"Percentage Expenditure\", \"Hepatitis B\", 'quantitative')\n",
        "grid[1,1] = graph_HEP_Expend\n",
        "# This first section defines all the graphs we want to plot, and organises them in a grid. Now we will call said grid.\n",
        "\n",
        "grid"
      ]
    },
    {
      "cell_type": "markdown",
      "source": [
        "The code above generates XY scatterplots for the variables that we are interested in, which show that:\n",
        "- Except for an increase before 2004, HIV deaths in children aged 0 to 4 steadily decreased since 2004 and seem to have plateau'd at below 5 per 1000 live births.\n",
        "- There seems to be two outliers in the percentage expenditure. We can see one in 2011, when South Africa *only* spent a bit over 100% of its GDP per capita, and in 2015, where it was reported at 0. We can assume that the data for 2015 is missing, and so the percentage calculation returned 0.\n",
        "- HIV deaths seemed to increase with percentage expenditure, until the expenditure reached a certain limit, at which point the cases seem to drop significantly.\n",
        "- Except for the case of two outliers, it would seem as though vaccinations of 1-year-olds have been kept uniformly high between 70% and 80%. We were unable to find information online as to why this sudden 2-year drop might have been caused, so we will assume it was due to some sort of informatic or bureaucratic mishap.\n",
        "\n",
        "We will compute new columns out of those colums we found to have contained outliers, excluding the outlying values. They will appear as `NaN`, so they will be ignored when we perform descriptive statistics using `Pandas.describe()` or graphing using `Altair.Chart()`. We will then make graphs out of this new dataframe."
      ],
      "metadata": {
        "id": "GlEobL2bxUsw"
      }
    },
    {
      "cell_type": "code",
      "source": [
        "hf_SouthAfrica[\"Percentage Expenditure Outlierless\"] = hf_SouthAfrica.loc[(hf_SouthAfrica[\"Year\"] != \"2011\") & (hf_SouthAfrica[\"Year\"] != \"2015\"), \"Percentage Expenditure\"]\n",
        "hf_SouthAfrica[\"Hepatitis B Outlierless\"] = hf_SouthAfrica.loc[(hf_SouthAfrica[\"Year\"] != \"2013\") & (hf_SouthAfrica[\"Year\"] != \"2014\"), \"Hepatitis B\"]\n",
        "# We use these line of code to remove the datapoints which we considered outliers.\n",
        "\n",
        "graph_Expend_Year_O = widgets.Output()\n",
        "with graph_Expend_Year_O:\n",
        "  make_scatter(hf_SouthAfrica, \"Year\", \"Percentage Expenditure Outlierless\", 'temporal')\n",
        "\n",
        "graph_HIV_Expend_O = widgets.Output()\n",
        "with graph_HIV_Expend_O:\n",
        "  make_scatter(hf_SouthAfrica, \"Percentage Expenditure Outlierless\", \"HIV/AIDS\", 'quantitative')\n",
        "\n",
        "graph_HEP_Expend_O = widgets.Output()\n",
        "with graph_HEP_Expend_O:\n",
        "  make_scatter(hf_SouthAfrica, \"Percentage Expenditure Outlierless\", \"Hepatitis B Outlierless\", 'quantitative')\n",
        "\n",
        "widgets.HBox([graph_Expend_Year_O, graph_HIV_Expend_O, graph_HEP_Expend_O])"
      ],
      "metadata": {
        "id": "gEHYGu9zna7U",
        "colab": {
          "base_uri": "https://localhost:8080/",
          "height": 368,
          "referenced_widgets": [
            "3da8452da0204bcaae40be19f57afcfa",
            "c29bedef78a54230b20a804d1db9ed78",
            "14b237961b00418984d2b576caffa855",
            "26a074c2caf44e4f9409dd6ef656c1db",
            "2d3238da53d949b1abb3fed4add74d81",
            "b5ef40f9d516470d80f59af9221e51db",
            "f9b4e8fe019c49bbb5972cb433bf6786",
            "ab105b5f951d47698d1e94d38c235cf2"
          ]
        },
        "outputId": "9a9e94fd-4538-43b8-f141-ce3e0f42df66"
      },
      "execution_count": 7,
      "outputs": [
        {
          "output_type": "display_data",
          "data": {
            "text/plain": [
              "HBox(children=(Output(), Output(), Output()))"
            ],
            "application/vnd.jupyter.widget-view+json": {
              "version_major": 2,
              "version_minor": 0,
              "model_id": "3da8452da0204bcaae40be19f57afcfa"
            }
          },
          "metadata": {}
        }
      ]
    },
    {
      "cell_type": "markdown",
      "source": [
        "In this new graph we can observe how expenditure on healthcare (as a percentage of GDP per capita) has been slowly increasing since 2000, with a small decline after 2012.\n",
        "We can also observe in the Percentage Expenditure vs HIV/AIDS deaths graph where outliers have been removed, that there is actually a gradual increase as healthcare expenditure increases, and an immediate drop-off when it increases after a certain point.\n",
        "\n",
        "\n",
        "We will now perform a descriptive statistics analysis on our data."
      ],
      "metadata": {
        "id": "C3xunki4rLQV"
      }
    },
    {
      "cell_type": "code",
      "source": [
        "hf_SouthAfrica[\"Percentage Expenditure Outlierless\"] = hf_SouthAfrica[\"Percentage Expenditure Outlierless\"].astype('float64') # Had to fix Percentage Expenditure AND Percentage Expenditure Outlierless somehow being an object and not a float64\n",
        "\n",
        "table = widgets.Output()\n",
        "with table:\n",
        "  display(hf_SouthAfrica.describe())\n",
        "\n",
        "box_HIV = widgets.Output()\n",
        "with box_HIV:\n",
        "  make_boxplot(hf_SouthAfrica, 'HIV/AIDS')\n",
        "\n",
        "box_PEO = widgets.Output()\n",
        "with box_PEO:\n",
        "  make_boxplot(hf_SouthAfrica, 'Percentage Expenditure Outlierless')\n",
        "\n",
        "box_PE = widgets.Output()\n",
        "with box_PE:\n",
        "  make_boxplot(hf_SouthAfrica, 'Percentage Expenditure')\n",
        "\n",
        "box_HEPBO = widgets.Output()\n",
        "with box_HEPBO:\n",
        "  make_boxplot(hf_SouthAfrica, 'Hepatitis B Outlierless')\n",
        "\n",
        "box_HEPB = widgets.Output()\n",
        "with box_HEPB:\n",
        "  make_boxplot(hf_SouthAfrica, 'Hepatitis B')\n",
        "\n",
        "AppLayout(header=table, footer=widgets.HBox([box_PEO, box_PE, box_HIV, box_HEPBO, box_HEPB]))\n"
      ],
      "metadata": {
        "id": "ZiY986-Z9PlB",
        "colab": {
          "base_uri": "https://localhost:8080/",
          "height": 665,
          "referenced_widgets": [
            "ab34eeb6f3e74f0085522349ca8ad006",
            "35981289a04d454398c3804630f8234f",
            "e7125ed0c43b43378282dd84d6c5039d",
            "107b1283fd69460c890b0c376e4d8510",
            "9c07ec4ab2004eb691e3652ad9c0509b",
            "a50fd18b81104dfc951764dc0d387017",
            "7b15b740d8814e529450ead142ed5679",
            "d625fde6a00f4bff88ecc6d446f1cbbd",
            "67fe2608fe814b16a7fa4cdc1db33948",
            "68f5dbe475af431c99177e09e3d56408",
            "a3788d470f8b4e99842bd5892ade0f46",
            "6a2d4fafef14412d8ef20ad2b5b2cc25",
            "f30ab89353664d478917604fe90c739c",
            "70e3a80f539f4193a7f3bd27d3edf95f",
            "b81d237cd80b46e2a35d003bb6d4e7c6",
            "911ea0fc690b4815b5ff4575d6969ac5"
          ]
        },
        "outputId": "529e41fe-cd4e-4b40-b76b-3fd4e7b3acff"
      },
      "execution_count": 8,
      "outputs": [
        {
          "output_type": "display_data",
          "data": {
            "text/plain": [
              "AppLayout(children=(Output(layout=Layout(grid_area='header')), HBox(children=(Output(), Output(), Output(), Ou…"
            ],
            "application/vnd.jupyter.widget-view+json": {
              "version_major": 2,
              "version_minor": 0,
              "model_id": "ab34eeb6f3e74f0085522349ca8ad006"
            }
          },
          "metadata": {}
        }
      ]
    },
    {
      "cell_type": "markdown",
      "source": [
        "We can see from the descriptive statistics table above that Percentage Expenditure had two less valid values, as we removed two clear outliers. We can also see at a glance from looking at the boxplots that HIV/AIDS deaths in children aged 0-4 that in the time period we studied, there was a big range in numbers, though the median was quite high, indicating that any change happened late in the period, giving it a negative skew.\n",
        "\n",
        "We can also see how removing the outliers affected the Percentage Expenditures, both Outliar-y and Outliar-less. We can also see that expenditure is quite consistent, and is skewed negatively as well.\n",
        "\n",
        "In the case of Hepatitis B, we can see how we were able to remove the outliers from 2013 and 2014, as Altair marked them on the boxplot with two circles. Another circle appears on the outlierless computed variable, but that is not unexpected, and it's not as extreme an outlier as the two values we removed."
      ],
      "metadata": {
        "id": "o46zKR_rTpQ_"
      }
    },
    {
      "cell_type": "markdown",
      "source": [
        "## Conclusions"
      ],
      "metadata": {
        "id": "UsaaX2aGoEKT"
      }
    },
    {
      "cell_type": "markdown",
      "source": [
        "Even though our sample size was relatively small (we only had 15 years worth of data to look at) we can reach three main conclusions:\n",
        "- South Africa has been steadily increasing the percentage of its GDP per capita it spends on healthcare\n",
        "- South Africa has had a relatively high and stable rate of vaccination against Hepatitis B\n",
        "- It would appear as though increased healthcare spending leads to less cases of early death due to HIV/AIDS.\n",
        "\n",
        "From these three basic points we can infer that:\n",
        "- South Africa has been improving its healthcare in general\n",
        "- South Africa has been improving its sexual and reproductive health, at least when it comes to STD treatments.\n",
        "- South Africa probably has more HIV-Indetectable patients now than in the year 2000.\n",
        "- South Africa has a stable and adequate, yet improvable, vaccine distribution and administration system.\n",
        "\n",
        "Of course, the data will probably have changed in the past few years, due to technological developments, pandemics, politics...\n",
        "It would have also been interesting to be able to track HIV/AIDS and healthcare spending along a longer period of time, and it would have also been interesting to have data about specific healthcare sectors' spending."
      ],
      "metadata": {
        "id": "A3Vo__N2pvaF"
      }
    },
    {
      "cell_type": "markdown",
      "source": [
        "# Comparing South Africa and The Netherlands in [year] - Ellie Petrova\n",
        "\n"
      ],
      "metadata": {
        "id": "kIC51T5WCpiT"
      }
    },
    {
      "cell_type": "code",
      "source": [
        "def make_scatter_country(country):\n",
        "  hf_Country = healthFactors.loc[healthFactors.Country == country, ['Year', 'Percentage Expenditure']]\n",
        "  hf_Country[\"Year\"] = hf_Country[\"Year\"].astype(str)\n",
        "  # We need to perform this type conversion because of Altair being weird with years. According to the documentation, we must define it as string and specify the variable type as temporal\n",
        "  scatter = alt.Chart(hf_Country).mark_circle(opacity=0.5).encode(\n",
        "    alt.X(\"Year\", type= 'temporal', scale=alt.Scale(zero=False)),\n",
        "    alt.Y(\"Percentage Expenditure\", type= 'quantitative'),)\n",
        "  # This first part draws the dots in the scatter plot\n",
        "  scatter_w_loess = scatter + scatter.transform_loess(\"Year\", \"Percentage Expenditure\").mark_line()\n",
        "  # This second part draws a LOESS (LOcally Estimated Scatterplot Smoothing) line, which makes seeing the evolution easier.\n",
        "  display(scatter_w_loess)\n",
        "# This first class defines how to make a scatter plot with LOESS very easily, simply passing to the class a dataframe, the x-variable and the y-variable indexes.\n",
        "\n",
        "def generate_graph_pair(user_choice):\n",
        "  if user_choice == \"NLvSA\": # NETHERLANDS VS SOUTH AFRICA\n",
        "    graph_A = widgets.Output()\n",
        "    with graph_A:\n",
        "      make_scatter_country(\"Netherlands\")\n",
        "    graph_B = widgets.Output()\n",
        "    with graph_B:\n",
        "      make_scatter_country(\"South Africa\")\n",
        "    display(widgets.HBox([graph_A, graph_B]))\n",
        "  if user_choice == \"PTvBR\": # PORTUGAL VS BRAZIL\n",
        "    graph_A = widgets.Output()\n",
        "    with graph_A:\n",
        "      make_scatter_country(\"Portugal\")\n",
        "    graph_B = widgets.Output()\n",
        "    with graph_B:\n",
        "      make_scatter_country(\"Brazil\")\n",
        "    display(widgets.HBox([graph_A, graph_B]))\n",
        "  if user_choice == \"ESvCU\": # SPAIN VS CUBA\n",
        "    graph_A = widgets.Output()\n",
        "    with graph_A:\n",
        "      make_scatter_country(\"Spain\")\n",
        "    graph_B = widgets.Output()\n",
        "    with graph_B:\n",
        "      make_scatter_country(\"Cuba\")\n",
        "    display(widgets.HBox([graph_A, graph_B]))\n",
        "  if user_choice == \"FRvHA\": # FRANCE VS HAITI\n",
        "    graph_A = widgets.Output()\n",
        "    with graph_A:\n",
        "      make_scatter_country(\"France\")\n",
        "    graph_B = widgets.Output()\n",
        "    with graph_B:\n",
        "      make_scatter_country(\"Haiti\")\n",
        "    display(widgets.HBox([graph_A, graph_B]))\n",
        "  if user_choice == \"BEvGT\": # FRANCE VS HAITI\n",
        "    graph_A = widgets.Output()\n",
        "    with graph_A:\n",
        "      make_scatter_country(\"Belgium\")\n",
        "    graph_B = widgets.Output()\n",
        "    with graph_B:\n",
        "      make_scatter_country(\"Guatemala\")\n",
        "    display(widgets.HBox([graph_A, graph_B]))"
      ],
      "metadata": {
        "id": "0iGXk03DDtLD"
      },
      "execution_count": 9,
      "outputs": []
    },
    {
      "cell_type": "code",
      "source": [
        "interact(generate_graph_pair,\n",
        "         user_choice=[('Netherlands vs South Africa', 'NLvSA'),\n",
        "                      ('Portugal vs Brazil', 'PTvBR'),\n",
        "                      ('Spain vs Cuba', 'ESvCU'),\n",
        "                      ('France vs Haiti', 'FRvHA'),\n",
        "                      ('Belgium vs Guatemala', 'BEvGT')],)"
      ],
      "metadata": {
        "id": "AE4JsZ2jCy3b",
        "colab": {
          "base_uri": "https://localhost:8080/",
          "height": 487,
          "referenced_widgets": [
            "8a613baa7c094a96bd6da27bb55ef010",
            "c551a1156d294d8e9aefe9726e657556",
            "880af71943fc41b9bb8c97def0ee8b50",
            "3b043017d99742cd84eb5076aa2936d3",
            "a88f01d4c5fc4a75860230189e3621df",
            "6e3afc8c053f4a13b394d2853e73c420",
            "b2953f6f12024239bcc30123e3dee0c1",
            "24b29ba6467c4366a4773d2691fc7d02",
            "af87a7bb71ce4a9f95288e195374fdb1",
            "af86bd9f1e904113addc4be8a88a6d52",
            "bb2ed9df9458418190da7c49cf8ab5f7",
            "27eca55b0e794b5f9e3ae22f202f771d",
            "51d7b1cbcb50472b914720397309f597"
          ]
        },
        "outputId": "7c0d2eea-58fc-4f34-9467-aeb4dcd16e94"
      },
      "execution_count": 10,
      "outputs": [
        {
          "output_type": "display_data",
          "data": {
            "text/plain": [
              "interactive(children=(Dropdown(description='user_choice', options=(('Netherlands vs South Africa', 'NLvSA'), (…"
            ],
            "application/vnd.jupyter.widget-view+json": {
              "version_major": 2,
              "version_minor": 0,
              "model_id": "8a613baa7c094a96bd6da27bb55ef010"
            }
          },
          "metadata": {}
        },
        {
          "output_type": "execute_result",
          "data": {
            "text/plain": [
              "<function __main__.generate_graph_pair(user_choice)>"
            ],
            "text/html": [
              "<div style=\"max-width:800px; border: 1px solid var(--colab-border-color);\"><style>\n",
              "      pre.function-repr-contents {\n",
              "        overflow-x: auto;\n",
              "        padding: 8px 12px;\n",
              "        max-height: 500px;\n",
              "      }\n",
              "\n",
              "      pre.function-repr-contents.function-repr-contents-collapsed {\n",
              "        cursor: pointer;\n",
              "        max-height: 100px;\n",
              "      }\n",
              "    </style>\n",
              "    <pre style=\"white-space: initial; background:\n",
              "         var(--colab-secondary-surface-color); padding: 8px 12px;\n",
              "         border-bottom: 1px solid var(--colab-border-color);\"><b>generate_graph_pair</b><br/>def generate_graph_pair(user_choice)</pre><pre class=\"function-repr-contents function-repr-contents-collapsed\" style=\"\"><a class=\"filepath\" style=\"display:none\" href=\"#\">/content/&lt;ipython-input-9-006059ac7533&gt;</a>&lt;no docstring&gt;</pre></div>"
            ]
          },
          "metadata": {},
          "execution_count": 10
        }
      ]
    }
  ]
}